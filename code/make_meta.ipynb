{
 "cells": [
  {
   "cell_type": "code",
   "execution_count": 1,
   "metadata": {
    "vscode": {
     "languageId": "r"
    }
   },
   "outputs": [],
   "source": [
    "setwd(\"/Users/rebecca/sudmant/analyses/myotis\")\n",
    "\n",
    "meta <- data.frame(\n",
    "    Field_Name = c(\n",
    "      \"Myotis-Auriculus\", \n",
    "      \"Myotis-Californicus\", \n",
    "      \"Myotis-Evotis\",\n",
    "      \"Myotis-Lucifugus\", \n",
    "      \"Myotis-Occultus\", \n",
    "      \"Myotis-Thysanodes\", \n",
    "      \"Myotis-Velifer\", \n",
    "      \"Myotis-Volans\", \n",
    "      \"Myotis-Yumanensis\"\n",
    "    ),\n",
    "    Abbr = c(\"mMyoAui\", \"mMyoCai\", \"mMyoEvo\",\n",
    "           \"mMyoLuc\", \"mMyoOcc\", \"mMyoThy\",\n",
    "           \"mMyoVel\", \"mMyoVol\", \"mMyoYum\")\n",
    "    )\n",
    "\n",
    "write.csv(meta, file = \"data/myotis_meta.csv\", row.names = FALSE, quote = FALSE)\n"
   ]
  }
 ],
 "metadata": {
  "kernelspec": {
   "display_name": "R",
   "language": "R",
   "name": "ir"
  },
  "language_info": {
   "codemirror_mode": "r",
   "file_extension": ".r",
   "mimetype": "text/x-r-source",
   "name": "R",
   "pygments_lexer": "r",
   "version": "4.3.2"
  }
 },
 "nbformat": 4,
 "nbformat_minor": 2
}
