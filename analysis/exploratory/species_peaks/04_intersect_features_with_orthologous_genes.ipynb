{
 "cells": [
  {
   "cell_type": "code",
   "execution_count": 1,
   "metadata": {
    "vscode": {
     "languageId": "r"
    }
   },
   "outputs": [
    {
     "name": "stderr",
     "output_type": "stream",
     "text": [
      "\n",
      "Attaching package: 'dplyr'\n",
      "\n",
      "\n",
      "The following objects are masked from 'package:stats':\n",
      "\n",
      "    filter, lag\n",
      "\n",
      "\n",
      "The following objects are masked from 'package:base':\n",
      "\n",
      "    intersect, setdiff, setequal, union\n",
      "\n",
      "\n",
      "\n",
      "Attaching package: 'data.table'\n",
      "\n",
      "\n",
      "The following objects are masked from 'package:dplyr':\n",
      "\n",
      "    between, first, last\n",
      "\n",
      "\n"
     ]
    }
   ],
   "source": [
    "setwd(\"/Users/rebecca/sudmant/analyses/myotis/analysis/exploratory/species_peaks\")\n",
    "\n",
    "library(dplyr)\n",
    "library(data.table)\n",
    "\n",
    "myo_meta <- read.csv(\"/Users/rebecca/sudmant/analyses/myotis/data/myotis_meta.csv\")"
   ]
  },
  {
   "cell_type": "code",
   "execution_count": 2,
   "metadata": {
    "vscode": {
     "languageId": "r"
    }
   },
   "outputs": [],
   "source": [
    "ortho_table <- fread(\"/Users/rebecca/sudmant/analyses/myotis/data/ortholog_mapping.csv\", data.table = FALSE)\n",
    "yum_col <- grep(\"^yum\", colnames(ortho_table))\n",
    "ortho_table[,yum_col] <- gsub(\"SCAF\", \"SUPER\", ortho_table[,yum_col]) \n",
    "colnames(ortho_table)[1:3] <- c(\"ENSEMBL\", \"SYMBOL\", \"Myotis_Alias\")"
   ]
  },
  {
   "cell_type": "code",
   "execution_count": 3,
   "metadata": {
    "vscode": {
     "languageId": "r"
    }
   },
   "outputs": [],
   "source": [
    "## Intersect gene peaks with orthologous genes for each species\n",
    "\n",
    "for (i in seq_along(myo_meta$Abbr)) {\n",
    "  \n",
    "  spec_id <- tolower(gsub(\"Myotis-\", \"\", myo_meta$Field_Name[i]))\n",
    "  \n",
    "  file_path <- list.files(path = \"results/data\", \n",
    "                          pattern = paste0(myo_meta$Abbr[i], \"_genes_5000.*_peaks.tsv\"),\n",
    "                          full.names = TRUE)\n",
    "  peaks <- fread(file_path, data.table = FALSE)\n",
    "  peaks <- peaks[peaks$V3 == \"gene\",] ## Subset to gene row for a given feature\n",
    "  colnames(peaks)[9] <- \"Gene\"\n",
    "  ## Parse gene names\n",
    "  peaks$Gene <- sapply(strsplit(peaks$Gene, \";\", fixed = TRUE), \"[\", 1)                                        \n",
    "  peaks$Gene <- gsub(\".*=\", paste0(spec_id, \"_\"), peaks$Gene) \n",
    "  peaks <- peaks %>%\n",
    "    dplyr::group_by(Gene) %>%\n",
    "    dplyr::reframe(\n",
    "      Peak_ID = paste(unique(V13), collapse = \", \")\n",
    "    )\n",
    "    \n",
    "  ## Annotate peak genes with orthologous genes\n",
    "  spec_col <- grep(paste0(spec_id, \"_ID\"), colnames(ortho_table))\n",
    "  spec_ortho_table <- ortho_table[,c(1:3, spec_col),]\n",
    "  colnames(spec_ortho_table)[4] <- \"Gene\"\n",
    "  spec_ortho_table <- spec_ortho_table[spec_ortho_table$Gene %in% peaks$Gene,]\n",
    "  peak_orthos <- merge(peaks, spec_ortho_table, by = \"Gene\", all.x = TRUE, sort = FALSE)\n",
    "  \n",
    "  ## Include peak status in the output\n",
    "  peak_orthos$Peak <- TRUE\n",
    "  peak_orthos$Peak[peak_orthos$Peak_ID == \".\"] <- FALSE\n",
    "  peak_orthos <- peak_orthos %>% dplyr::select(-Peak_ID)\n",
    "  \n",
    "  fwrite(peak_orthos, file = gsub(\".tsv\", \"_orthologs.csv\", file_path))\n",
    "  \n",
    "}"
   ]
  },
  {
   "cell_type": "code",
   "execution_count": 7,
   "metadata": {
    "vscode": {
     "languageId": "r"
    }
   },
   "outputs": [],
   "source": [
    "## Intersect exon peaks with orthologous genes for each species\n",
    "\n",
    "for (i in seq_along(myo_meta$Abbr)) {\n",
    "  \n",
    "  spec_id <- tolower(gsub(\"Myotis-\", \"\", myo_meta$Field_Name[i]))\n",
    "  \n",
    "  file_path <- list.files(path = \"results/data\", \n",
    "                          pattern = paste0(myo_meta$Abbr[i], \"_genes_exon1.*_peaks.tsv\"),\n",
    "                          full.names = TRUE)\n",
    "  peaks <- fread(file_path, data.table = FALSE)\n",
    "  colnames(peaks)[9] <- \"Gene\"\n",
    "  ## Parse gene names\n",
    "  peaks$Gene <- sapply(strsplit(peaks$Gene, \";\"), \"[\", 2)\n",
    "  peaks$Gene <- gsub(\"model\", \"TU\", peaks$Gene)\n",
    "  peaks$Gene <- gsub(\".*=\", paste0(spec_id, \"_\"), peaks$Gene)\n",
    "  peaks <- peaks %>%\n",
    "    dplyr::group_by(Gene) %>%\n",
    "    dplyr::reframe(\n",
    "      Peak_ID = paste(unique(V13), collapse = \", \")\n",
    "    )\n",
    "    \n",
    "  ## Annotate peak genes with orthologous genes\n",
    "  spec_col <- grep(paste0(spec_id, \"_ID\"), colnames(ortho_table))\n",
    "  spec_ortho_table <- ortho_table[,c(1:3, spec_col),]\n",
    "  colnames(spec_ortho_table)[4] <- \"Gene\"\n",
    "  spec_ortho_table <- spec_ortho_table[spec_ortho_table$Gene %in% peaks$Gene,]\n",
    "  peak_orthos <- merge(peaks, spec_ortho_table, by = \"Gene\", all.x = TRUE, sort = FALSE)\n",
    "  \n",
    "  ## Include peak status in the output\n",
    "  peak_orthos$Peak <- TRUE\n",
    "  peak_orthos$Peak[peak_orthos$Peak_ID == \".\"] <- FALSE\n",
    "  peak_orthos <- peak_orthos %>% dplyr::select(-Peak_ID)\n",
    "  \n",
    "  fwrite(peak_orthos, file = gsub(\".tsv\", \"_orthologs.csv\", file_path))\n",
    "  \n",
    "}"
   ]
  },
  {
   "cell_type": "code",
   "execution_count": null,
   "metadata": {
    "vscode": {
     "languageId": "r"
    }
   },
   "outputs": [],
   "source": []
  }
 ],
 "metadata": {
  "kernelspec": {
   "display_name": "R",
   "language": "R",
   "name": "ir"
  },
  "language_info": {
   "codemirror_mode": "r",
   "file_extension": ".r",
   "mimetype": "text/x-r-source",
   "name": "R",
   "pygments_lexer": "r",
   "version": "4.3.2"
  }
 },
 "nbformat": 4,
 "nbformat_minor": 2
}
