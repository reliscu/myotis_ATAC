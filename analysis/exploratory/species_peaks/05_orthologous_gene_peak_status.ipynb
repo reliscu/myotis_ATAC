{
 "cells": [
  {
   "cell_type": "code",
   "execution_count": 2,
   "metadata": {
    "vscode": {
     "languageId": "r"
    }
   },
   "outputs": [
    {
     "name": "stderr",
     "output_type": "stream",
     "text": [
      "\n",
      "Attaching package: 'dplyr'\n",
      "\n",
      "\n",
      "The following objects are masked from 'package:stats':\n",
      "\n",
      "    filter, lag\n",
      "\n",
      "\n",
      "The following objects are masked from 'package:base':\n",
      "\n",
      "    intersect, setdiff, setequal, union\n",
      "\n",
      "\n",
      "\n",
      "Attaching package: 'data.table'\n",
      "\n",
      "\n",
      "The following objects are masked from 'package:dplyr':\n",
      "\n",
      "    between, first, last\n",
      "\n",
      "\n"
     ]
    }
   ],
   "source": [
    "setwd(\"/Users/rebecca/sudmant/analyses/myotis/analysis/exploratory/species_peaks\")\n",
    "\n",
    "library(dplyr)\n",
    "library(scales)\n",
    "library(ggplot2)\n",
    "library(data.table)\n",
    "\n",
    "myo_meta <- read.csv(\"/Users/rebecca/sudmant/analyses/myotis/data/myotis_meta.csv\")\n",
    "\n",
    "## Get differential peak status between species in orthologous genes"
   ]
  },
  {
   "cell_type": "code",
   "execution_count": 3,
   "metadata": {
    "vscode": {
     "languageId": "r"
    }
   },
   "outputs": [
    {
     "data": {
      "text/html": [
       "<strong>pdf:</strong> 2"
      ],
      "text/latex": [
       "\\textbf{pdf:} 2"
      ],
      "text/markdown": [
       "**pdf:** 2"
      ],
      "text/plain": [
       "pdf \n",
       "  2 "
      ]
     },
     "metadata": {},
     "output_type": "display_data"
    }
   ],
   "source": [
    "## Plot # of orthologous genes by peak status:\n",
    "\n",
    "peak_ortho_files <- list.files(path = \"results/data\", \n",
    "                               pattern = \"genes_5000.*orthologs_v2\",\n",
    "                               full.names = TRUE)\n",
    "\n",
    "peak_gene_list <- lapply(seq_along(myo_meta$Abbr), function(i) {\n",
    "  peak_ortho <- fread(peak_ortho_files[grep(myo_meta$Abbr[i], peak_ortho_files)], data.table = FALSE)\n",
    "  df <- peak_ortho %>%\n",
    "      dplyr::filter(Myotis_Alias != \"\") %>%\n",
    "      dplyr::group_by(Myotis_Alias) %>%\n",
    "      dplyr::reframe(Peak = paste(unique(Peak), collapse = \", \")) %>%\n",
    "      dplyr::mutate(\n",
    "        Peak = ifelse(grepl(\",\", Peak), TRUE, Peak),\n",
    "        Species = myo_meta$Field_Name[i]\n",
    "      )\n",
    "  return(df)\n",
    "})\n",
    "df <- do.call(rbind, peak_gene_list)\n",
    "\n",
    "df <- df %>%\n",
    "  dplyr::group_by(Species, Peak) %>%\n",
    "  dplyr::reframe(\n",
    "    No.Genes = n()\n",
    "  )\n",
    "  \n",
    "x_order <- df %>%\n",
    "  dplyr::filter(Peak == TRUE) %>%\n",
    "  dplyr::group_by(Species) %>%\n",
    "  dplyr::reframe(n = sum(No.Genes)) %>%\n",
    "  dplyr::arrange(desc(n))\n",
    "  \n",
    "df$Species <- factor(df$Species, levels = x_order$Species)\n",
    "\n",
    "pdf(file = paste0(\"results/figures/gene_peak_status_barplot.pdf\"), width = 7, height = 6)\n",
    "\n",
    "ggplot(df, aes(x = Species, y = No.Genes, fill = Peak)) +\n",
    "  geom_bar(stat = \"identity\") +\n",
    "  theme_minimal() +\n",
    "  theme(axis.title.x = element_blank(),\n",
    "        axis.text.x = element_text(angle = 45, hjust = 1),\n",
    "        axis.title.y = element_text(margin = margin(r = 15)),\n",
    "        panel.grid = element_blank(),\n",
    "        plot.margin = unit(c(1, 1, 1, 1), \"cm\")) +\n",
    "  labs(title = \"Genes with orthologs\") +\n",
    "  ylab(\"# genes\") +\n",
    "  scale_y_continuous(labels = comma)\n",
    "  \n",
    "  dev.off()"
   ]
  },
  {
   "cell_type": "code",
   "execution_count": 5,
   "metadata": {
    "vscode": {
     "languageId": "r"
    }
   },
   "outputs": [
    {
     "data": {
      "text/html": [
       "13774"
      ],
      "text/latex": [
       "13774"
      ],
      "text/markdown": [
       "13774"
      ],
      "text/plain": [
       "[1] 13774"
      ]
     },
     "metadata": {},
     "output_type": "display_data"
    }
   ],
   "source": [
    "## Get genes shared between all species:\n",
    "\n",
    "gene_list <- lapply(seq_along(myo_meta$Abbr), function(i) {\n",
    "  peak_ortho <- fread(peak_ortho_files[grep(myo_meta$Abbr[i], peak_ortho_files)], data.table = FALSE)\n",
    "  return(unique(peak_ortho$Myotis_Alias[peak_ortho$Myotis_Alias != \"\"]))\n",
    "})\n",
    "\n",
    "shared_genes <- Reduce(intersect, gene_list)\n",
    "length(shared_genes)"
   ]
  },
  {
   "cell_type": "code",
   "execution_count": 6,
   "metadata": {
    "vscode": {
     "languageId": "r"
    }
   },
   "outputs": [],
   "source": [
    "## Get peak status of shared genes:\n",
    "\n",
    "gene_peak_list <- lapply(seq_along(myo_meta$Abbr), function(i) {\n",
    "  peak_ortho <- fread(peak_ortho_files[grep(myo_meta$Abbr[i], peak_ortho_files)], data.table = FALSE)\n",
    "  peak_ortho <- peak_ortho %>%\n",
    "    dplyr::filter(Myotis_Alias %in% shared_genes) %>%\n",
    "    dplyr::group_by(Myotis_Alias) %>%\n",
    "    dplyr::reframe(Peak = ifelse(\n",
    "      sum(Peak) > 0, TRUE, FALSE\n",
    "    ))\n",
    "  return(unique(peak_ortho$Myotis_Alias[peak_ortho$Peak == TRUE]))\n",
    "})\n",
    "names(gene_peak_list) <- myo_meta$Field_Name\n",
    "\n",
    "spec_peak_status <- as.data.frame.matrix(table(stack(gene_peak_list)))"
   ]
  },
  {
   "cell_type": "code",
   "execution_count": null,
   "metadata": {
    "vscode": {
     "languageId": "r"
    }
   },
   "outputs": [],
   "source": [
    "## Cluster species by their peak status:\n",
    "\n",
    "library(ComplexHeatmap)\n",
    "\n",
    "cor_mat <- cor(spec_peak_status)\n",
    "diag(cor_mat) <- NA\n",
    "\n",
    "n_genes <- nrow(spec_peak_status)\n",
    "\n",
    "plot_title <- paste(\"Peak status over\", comma(n_genes), \"shared orthologous genes\")\n",
    "\n",
    "pdf(file = paste0(\"results/figures/gene_peak_status_correlation_heatmap.pdf\"), width = 11, height = 9)\n",
    "\n",
    "print(\n",
    "  ComplexHeatmap::Heatmap(name = \"Peak status correlation\", \n",
    "                          column_title = plot_title,\n",
    "                          matrix = cor_mat, \n",
    "                          clustering_method_rows = \"average\",\n",
    "                          clustering_method_columns = \"average\",\n",
    "                          column_names_rot = 45)\n",
    ")\n",
    "\n",
    "dev.off()\n",
    "\n",
    "pdf(file = paste0(\"results/figures/gene_peak_status_heatmap.pdf\"), width = 9, height = 9)\n",
    "\n",
    "print(\n",
    "  ComplexHeatmap::Heatmap(name = \"Peak status\", \n",
    "                          column_title = plot_title,\n",
    "                          matrix = spec_peak_status, \n",
    "                          clustering_method_rows = \"average\",\n",
    "                          clustering_method_columns = \"average\",\n",
    "                          show_row_names = FALSE,\n",
    "                          column_names_rot = 45)\n",
    ")\n",
    "\n",
    "dev.off()"
   ]
  },
  {
   "cell_type": "code",
   "execution_count": null,
   "metadata": {
    "vscode": {
     "languageId": "r"
    }
   },
   "outputs": [],
   "source": []
  }
 ],
 "metadata": {
  "kernelspec": {
   "display_name": "R",
   "language": "R",
   "name": "ir"
  },
  "language_info": {
   "codemirror_mode": "r",
   "file_extension": ".r",
   "mimetype": "text/x-r-source",
   "name": "R",
   "pygments_lexer": "r",
   "version": "4.3.2"
  }
 },
 "nbformat": 4,
 "nbformat_minor": 2
}
