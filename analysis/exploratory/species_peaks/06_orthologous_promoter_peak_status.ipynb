{
 "cells": [
  {
   "cell_type": "code",
   "execution_count": 2,
   "metadata": {
    "vscode": {
     "languageId": "r"
    }
   },
   "outputs": [],
   "source": [
    "setwd(\"/Users/rebecca/sudmant/analyses/myotis/analysis/exploratory/species_peaks\")\n",
    "\n",
    "library(dplyr)\n",
    "library(scales)\n",
    "library(data.table)\n",
    "\n",
    "myo_meta <- read.csv(\"/Users/rebecca/sudmant/analyses/myotis/data/myotis_meta.csv\")\n",
    "\n",
    "## Get differential peak status between species in orthologous gene promoters present in ALL species"
   ]
  },
  {
   "cell_type": "code",
   "execution_count": 3,
   "metadata": {
    "vscode": {
     "languageId": "r"
    }
   },
   "outputs": [],
   "source": [
    "shared_genes <- read.csv(\"results/data/shared_genes.csv\")"
   ]
  },
  {
   "cell_type": "code",
   "execution_count": 12,
   "metadata": {
    "vscode": {
     "languageId": "r"
    }
   },
   "outputs": [],
   "source": [
    "# Get peak status in promoters of shared genes:\n",
    "\n",
    "peak_ortho_files <- list.files(path = \"results/data\", \n",
    "                               pattern = \"exon1_5000.*orthologs\",\n",
    "                               full.names = TRUE)\n",
    "\n",
    "promoter_peak_list <- lapply(seq_along(myo_meta$Abbr), function(i) {\n",
    "  peak_ortho <- fread(peak_ortho_files[grep(myo_meta$Abbr[i], peak_ortho_files)], data.table = FALSE)\n",
    "  peak_ortho <- peak_ortho %>%\n",
    "    dplyr::filter(SYMBOL %in% shared_genes$Gene) %>%\n",
    "    dplyr::group_by(SYMBOL) %>%\n",
    "    dplyr::reframe(Peak = ifelse(\n",
    "      sum(Peak) > 1, TRUE, FALSE\n",
    "    ))\n",
    "  return(unique(peak_ortho$SYMBOL[peak_ortho$Peak == TRUE]))\n",
    "})\n",
    "names(promoter_peak_list) <- myo_meta$Field_Name\n",
    "\n",
    "spec_peak_status <- as.data.frame.matrix(table(stack(promoter_peak_list)))"
   ]
  },
  {
   "cell_type": "code",
   "execution_count": 14,
   "metadata": {
    "vscode": {
     "languageId": "r"
    }
   },
   "outputs": [
    {
     "data": {
      "text/html": [
       "<strong>pdf:</strong> 2"
      ],
      "text/latex": [
       "\\textbf{pdf:} 2"
      ],
      "text/markdown": [
       "**pdf:** 2"
      ],
      "text/plain": [
       "pdf \n",
       "  2 "
      ]
     },
     "metadata": {},
     "output_type": "display_data"
    },
    {
     "name": "stderr",
     "output_type": "stream",
     "text": [
      "Warning message:\n",
      "\"The input is a data frame-like object, convert it to a matrix.\"\n"
     ]
    },
    {
     "data": {
      "text/html": [
       "<strong>pdf:</strong> 2"
      ],
      "text/latex": [
       "\\textbf{pdf:} 2"
      ],
      "text/markdown": [
       "**pdf:** 2"
      ],
      "text/plain": [
       "pdf \n",
       "  2 "
      ]
     },
     "metadata": {},
     "output_type": "display_data"
    }
   ],
   "source": [
    "## Cluster species by their peak status:\n",
    "\n",
    "library(ComplexHeatmap)\n",
    "\n",
    "cor_mat <- cor(spec_peak_status)\n",
    "diag(cor_mat) <- NA\n",
    "\n",
    "n_genes <- nrow(spec_peak_status)\n",
    "\n",
    "plot_title <- paste(\"Peak promoter status over\", comma(n_genes), \"shared orthologous genes\")\n",
    "\n",
    "pdf(file = paste0(\"results/figures/promoter_peak_status_correlation_heatmap.pdf\"), width = 11, height = 9)\n",
    "\n",
    "print(\n",
    "  ComplexHeatmap::Heatmap(name = \"Peak status correlation\", \n",
    "                          column_title = plot_title,\n",
    "                          matrix = cor_mat, \n",
    "                          clustering_method_rows = \"average\",\n",
    "                          clustering_method_columns = \"average\",\n",
    "                          column_names_rot = 45)\n",
    ")\n",
    "\n",
    "dev.off()\n",
    "\n",
    "pdf(file = paste0(\"results/figures/promoter_peak_status_heatmap.pdf\"), width = 9, height = 9)\n",
    "\n",
    "print(\n",
    "  ComplexHeatmap::Heatmap(name = \"Peak status\", \n",
    "                          column_title = plot_title,\n",
    "                          matrix = spec_peak_status, \n",
    "                          clustering_method_rows = \"average\",\n",
    "                          clustering_method_columns = \"average\",\n",
    "                          show_row_names = FALSE,\n",
    "                          column_names_rot = 45)\n",
    ")\n",
    "\n",
    "dev.off()"
   ]
  },
  {
   "cell_type": "code",
   "execution_count": 132,
   "metadata": {
    "vscode": {
     "languageId": "r"
    }
   },
   "outputs": [],
   "source": [
    "## What promoters have peaks in ALL species?\n",
    "\n",
    "shared_peaks <- rownames(spec_peak_status)[rowSums(spec_peak_status) == ncol(spec_peak_status)]\n",
    "shared_peaks_df <- data.frame(Gene = shared_peaks)\n",
    "write.csv(shared_peaks_df, file = \"results/data/shared_promoters_shared_peaks.csv\", row.names = FALSE)\n",
    "\n",
    "## What genes have peaks in N-1 species?\n",
    "\n",
    "semi_shared_peaks <- rownames(spec_peak_status)[rowSums(spec_peak_status) == (ncol(spec_peak_status)-1)]\n",
    "## Which species is missing a peak in these genes?\n",
    "semi_shared_spec <- unlist(lapply(semi_shared_peaks, function(gene) {\n",
    "  spec_col <- which(\n",
    "    as.logical(spec_peak_status[rownames(spec_peak_status) == gene,]) == FALSE\n",
    "  )\n",
    "  colnames(spec_peak_status)[spec_col]\n",
    "}))\n",
    "names(semi_shared_spec) <- semi_shared_peaks\n",
    "semi_shared_df <- data.frame(Gene = semi_shared_peaks, \n",
    "                             Species = semi_shared_spec, \n",
    "                             row.names = NULL)\n",
    "\n",
    "write.csv(semi_shared_df, file = \"results/data/shared_promoters_semi_shared_peaks.csv\", row.names = FALSE)\n",
    "\n",
    "## What genes peaks in just 1 species?\n",
    "\n",
    "private_peaks <- rownames(spec_peak_status)[rowSums(spec_peak_status) == 1]\n",
    "## What species is asssociated with each private gene?\n",
    "private_spec <- unlist(lapply(private_peaks, function(gene) {\n",
    "  spec_col <- which(\n",
    "    as.logical(spec_peak_status[rownames(spec_peak_status) == gene,])\n",
    "  )\n",
    "  colnames(spec_peak_status)[spec_col]\n",
    "}))\n",
    "names(private_spec) <- private_peaks\n",
    "private_df <- data.frame(Gene = private_peaks, \n",
    "                         Species = private_spec, \n",
    "                         row.names = NULL)\n",
    "\n",
    "write.csv(private_df, file = \"results/data/shared_promoters_private_peaks.csv\", row.names = FALSE)"
   ]
  },
  {
   "cell_type": "code",
   "execution_count": null,
   "metadata": {
    "vscode": {
     "languageId": "r"
    }
   },
   "outputs": [],
   "source": []
  }
 ],
 "metadata": {
  "kernelspec": {
   "display_name": "R",
   "language": "R",
   "name": "ir"
  },
  "language_info": {
   "codemirror_mode": "r",
   "file_extension": ".r",
   "mimetype": "text/x-r-source",
   "name": "R",
   "pygments_lexer": "r",
   "version": "4.3.2"
  }
 },
 "nbformat": 4,
 "nbformat_minor": 2
}
