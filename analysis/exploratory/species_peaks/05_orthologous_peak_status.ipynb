{
 "cells": [
  {
   "cell_type": "code",
   "execution_count": 74,
   "metadata": {
    "vscode": {
     "languageId": "r"
    }
   },
   "outputs": [],
   "source": [
    "setwd(\"/Users/rebecca/sudmant/analyses/myotis/analysis/exploratory/species_peaks\")\n",
    "\n",
    "library(dplyr)\n",
    "library(data.table)\n",
    "\n",
    "myo_meta <- read.csv(\"/Users/rebecca/sudmant/analyses/myotis/data/myotis_meta.csv\")"
   ]
  },
  {
   "cell_type": "code",
   "execution_count": 13,
   "metadata": {
    "vscode": {
     "languageId": "r"
    }
   },
   "outputs": [],
   "source": [
    "## Get differential peak status between species in orthologous genes present in ALL species\n",
    "\n",
    "peak_ortho_files <- list.files(path = \"results/data\", \n",
    "                               pattern = \"genes_5000.*orthologs\",\n",
    "                               full.names = TRUE)\n",
    "\n",
    "## Get list of genes present in all species:\n",
    "\n",
    "gene_list <- lapply(seq_along(myo_meta$Abbr), function(i) {\n",
    "  peak_ortho <- fread(peak_ortho_files[grep(myo_meta$Abbr[i], peak_ortho_files)], data.table = FALSE)\n",
    "  return(unique(peak_ortho$SYMBOL[peak_ortho$SYMBOL != \"\"]))\n",
    "})\n",
    "shared_genes <- Reduce(intersect, gene_list)\n",
    "\n",
    "## Get peak status of shared genes:\n",
    "\n",
    "gene_peak_list <- lapply(seq_along(myo_meta$Abbr), function(i) {\n",
    "  peak_ortho <- fread(peak_ortho_files[grep(myo_meta$Abbr[i], peak_ortho_files)], data.table = FALSE)\n",
    "  peak_ortho <- peak_ortho %>%\n",
    "    dplyr::filter(SYMBOL %in% shared_genes) %>%\n",
    "    dplyr::group_by(SYMBOL) %>%\n",
    "    dplyr::reframe(Peak = ifelse(\n",
    "      sum(Peak) > 1, TRUE, FALSE\n",
    "    ))\n",
    "  return(unique(peak_ortho$SYMBOL[peak_ortho$Peak == TRUE]))\n",
    "})\n",
    "names(gene_peak_list) <- myo_meta$Field_Name\n",
    "\n",
    "spec_peak_status <- as.data.frame.matrix(table(stack(gene_peak_list)))"
   ]
  },
  {
   "cell_type": "code",
   "execution_count": 75,
   "metadata": {
    "vscode": {
     "languageId": "r"
    }
   },
   "outputs": [],
   "source": [
    "## What genes have peaks in ALL species?\n",
    "\n",
    "shared_peaks <- rownames(spec_peak_status)[rowSums(spec_peak_status) == ncol(spec_peak_status)]\n",
    "shared_peaks_df <- data.frame(Gene = shared_peaks)\n",
    "write.csv(shared_peaks_df, file = \"results/data/shared_genes_shared_peaks.csv\"))\n",
    "\n",
    "## What genes have peaks in N-1 species?\n",
    "\n",
    "semi_shared_peaks <- rownames(spec_peak_status)[rowSums(spec_peak_status) == (ncol(spec_peak_status)-1)]\n",
    "\n",
    "## Which species is missing a peak in these genes?\n",
    "semi_shared_spec <- unlist(lapply(semi_shared_peaks, function(gene) {\n",
    "  spec_col <- which(\n",
    "    as.logical(spec_peak_status[rownames(spec_peak_status) == gene,]) == FALSE\n",
    "  )\n",
    "  colnames(spec_peak_status)[spec_col]\n",
    "}))\n",
    "names(semi_shared_spec) <- semi_shared_peaks\n",
    "semi_shared_df <- data.frame(Gene = semi_shared_peaks, \n",
    "                             Species = semi_shared_spec, \n",
    "                             row.names = NULL)\n",
    "write.csv(semi_shared_df, file = \"results/data/shared_genes_semi_shared_peaks.csv\"))\n",
    "\n",
    "## What genes have private peaks (i.e. peaks in just one species)?\n",
    "\n",
    "private_peaks <- rownames(spec_peak_status)[rowSums(spec_peak_status) == 1]\n",
    "\n",
    "## What species is asssociated with each private genes?\n",
    "private_spec <- unlist(lapply(private_peaks, function(gene) {\n",
    "  spec_col <- which(\n",
    "    as.logical(spec_peak_status[rownames(spec_peak_status) == gene,])\n",
    "  )\n",
    "  colnames(spec_peak_status)[spec_col]\n",
    "}))\n",
    "names(private_spec) <- private_peaks\n",
    "private_df <- data.frame(Gene = private_peaks, \n",
    "                         Species = private_spec, \n",
    "                         row.names = NULL)\n",
    "write.csv(private_df, file = \"results/data/shared_genes_private_peaks.csv\"))\n"
   ]
  },
  {
   "cell_type": "code",
   "execution_count": 82,
   "metadata": {
    "vscode": {
     "languageId": "r"
    }
   },
   "outputs": [
    {
     "data": {
      "text/html": [
       "<table class=\"dataframe\">\n",
       "<caption>A data.frame: 6 x 2</caption>\n",
       "<thead>\n",
       "\t<tr><th></th><th scope=col>Gene</th><th scope=col>Species</th></tr>\n",
       "\t<tr><th></th><th scope=col>&lt;chr&gt;</th><th scope=col>&lt;chr&gt;</th></tr>\n",
       "</thead>\n",
       "<tbody>\n",
       "\t<tr><th scope=row>ABCA13</th><td>ABCA13 </td><td>Myotis-Velifer     </td></tr>\n",
       "\t<tr><th scope=row>ADRM1</th><td>ADRM1  </td><td>Myotis-Volans      </td></tr>\n",
       "\t<tr><th scope=row>ALDOA</th><td>ALDOA  </td><td>Myotis-Velifer     </td></tr>\n",
       "\t<tr><th scope=row>ANKRD17</th><td>ANKRD17</td><td>Myotis-Volans      </td></tr>\n",
       "\t<tr><th scope=row>ARFGEF1</th><td>ARFGEF1</td><td>Myotis-Californicus</td></tr>\n",
       "\t<tr><th scope=row>ARG2</th><td>ARG2   </td><td>Myotis-Thysanodes  </td></tr>\n",
       "</tbody>\n",
       "</table>\n"
      ],
      "text/latex": [
       "A data.frame: 6 x 2\n",
       "\\begin{tabular}{r|ll}\n",
       "  & Gene & Species\\\\\n",
       "  & <chr> & <chr>\\\\\n",
       "\\hline\n",
       "\tABCA13 & ABCA13  & Myotis-Velifer     \\\\\n",
       "\tADRM1 & ADRM1   & Myotis-Volans      \\\\\n",
       "\tALDOA & ALDOA   & Myotis-Velifer     \\\\\n",
       "\tANKRD17 & ANKRD17 & Myotis-Volans      \\\\\n",
       "\tARFGEF1 & ARFGEF1 & Myotis-Californicus\\\\\n",
       "\tARG2 & ARG2    & Myotis-Thysanodes  \\\\\n",
       "\\end{tabular}\n"
      ],
      "text/markdown": [
       "\n",
       "A data.frame: 6 x 2\n",
       "\n",
       "| <!--/--> | Gene &lt;chr&gt; | Species &lt;chr&gt; |\n",
       "|---|---|---|\n",
       "| ABCA13 | ABCA13  | Myotis-Velifer      |\n",
       "| ADRM1 | ADRM1   | Myotis-Volans       |\n",
       "| ALDOA | ALDOA   | Myotis-Velifer      |\n",
       "| ANKRD17 | ANKRD17 | Myotis-Volans       |\n",
       "| ARFGEF1 | ARFGEF1 | Myotis-Californicus |\n",
       "| ARG2 | ARG2    | Myotis-Thysanodes   |\n",
       "\n"
      ],
      "text/plain": [
       "        Gene    Species            \n",
       "ABCA13  ABCA13  Myotis-Velifer     \n",
       "ADRM1   ADRM1   Myotis-Volans      \n",
       "ALDOA   ALDOA   Myotis-Velifer     \n",
       "ANKRD17 ANKRD17 Myotis-Volans      \n",
       "ARFGEF1 ARFGEF1 Myotis-Californicus\n",
       "ARG2    ARG2    Myotis-Thysanodes  "
      ]
     },
     "metadata": {},
     "output_type": "display_data"
    }
   ],
   "source": [
    "## Cluster species by their peak status:\n",
    "private_df <- data.frame(Gene = private_peaks, Species = private_spec)\n",
    "\n",
    "head(private_df)"
   ]
  },
  {
   "cell_type": "code",
   "execution_count": null,
   "metadata": {
    "vscode": {
     "languageId": "r"
    }
   },
   "outputs": [],
   "source": []
  }
 ],
 "metadata": {
  "kernelspec": {
   "display_name": "R",
   "language": "R",
   "name": "ir"
  },
  "language_info": {
   "codemirror_mode": "r",
   "file_extension": ".r",
   "mimetype": "text/x-r-source",
   "name": "R",
   "pygments_lexer": "r",
   "version": "4.3.2"
  }
 },
 "nbformat": 4,
 "nbformat_minor": 2
}
