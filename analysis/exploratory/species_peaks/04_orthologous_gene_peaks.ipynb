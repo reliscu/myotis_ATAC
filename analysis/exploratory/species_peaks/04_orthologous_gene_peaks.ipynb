{
 "cells": [
  {
   "cell_type": "code",
   "execution_count": 31,
   "metadata": {
    "vscode": {
     "languageId": "r"
    }
   },
   "outputs": [
    {
     "name": "stderr",
     "output_type": "stream",
     "text": [
      "\n",
      "Attaching package: 'dplyr'\n",
      "\n",
      "\n",
      "The following objects are masked from 'package:data.table':\n",
      "\n",
      "    between, first, last\n",
      "\n",
      "\n",
      "The following objects are masked from 'package:stats':\n",
      "\n",
      "    filter, lag\n",
      "\n",
      "\n",
      "The following objects are masked from 'package:base':\n",
      "\n",
      "    intersect, setdiff, setequal, union\n",
      "\n",
      "\n"
     ]
    }
   ],
   "source": [
    "setwd(\"/Users/rebecca/sudmant/analyses/myotis/analysis/exploratory/species_peaks\")\n",
    "\n",
    "library(dplyr)\n",
    "library(data.table)\n",
    "\n",
    "myo_meta <- read.csv(\"/Users/rebecca/sudmant/analyses/myotis/data/myotis_meta.csv\")\n",
    "ortho_table <- fread(\"/Users/rebecca/sudmant/analyses/myotis/data/ortholog_mapping.csv\", data.table = FALSE)\n",
    "yum_col <- grep(\"^yum\", colnames(ortho_table))\n",
    "ortho_table[,yum_col] <- gsub(\"SCAF\", \"SUPER\", ortho_table[,yum_col]) \n",
    "colnames(ortho_table)[1:3] <- c(\"ENSEMBL\", \"SYMBOL\", \"Myotis_Alias\")"
   ]
  },
  {
   "cell_type": "code",
   "execution_count": null,
   "metadata": {
    "vscode": {
     "languageId": "r"
    }
   },
   "outputs": [],
   "source": [
    "## Get peak status of species' orthologous genes:\n",
    "\n",
    "for (i in seq_along(myo_meta$Abbr)) {\n",
    "  \n",
    "  spec_id <- tolower(gsub(\"Myotis-\", \"\", myo_meta$Field_Name[i]))\n",
    "  file_path <- list.files(path = \"results/data\", \n",
    "                          pattern = paste0(myo_meta$Abbr[i], \"_genes_5000\"),\n",
    "                          full.names = TRUE)\n",
    "  peaks <- fread(file_path, data.table = FALSE)\n",
    "  peaks <- peaks[peaks$V3 == \"gene\",]\n",
    "  colnames(peaks)[9] <- \"Gene\"\n",
    "  peaks$Gene <- sapply(strsplit(peaks$Gene, \";\", fixed = TRUE), \"[\", 1)                                        \n",
    "  peaks$Gene <- gsub(\".*=\", paste0(spec_id, \"_\"), peaks$Gene) \n",
    "  peaks <- peaks %>%\n",
    "    dplyr::group_by(Gene) %>%\n",
    "    dplyr::reframe(\n",
    "      Peak_ID = paste(unique(V13), collapse = \", \")\n",
    "    )\n",
    "    \n",
    "  ## Intersect species 1 features with orthologous genes\n",
    "  spec_col <- grep(paste0(spec_id, \"_ID\"), colnames(ortho_table))\n",
    "  spec_ortho_table <- ortho_table[,c(1:3, spec_col),]\n",
    "  colnames(spec_ortho_table)[4] <- \"Gene\"\n",
    "  spec_ortho_table <- spec_ortho_table[spec_ortho_table$Gene %in% peaks$Gene,]\n",
    "  peak_orthos <- merge(peaks, spec_ortho_table, by = \"Gene\", all.x = TRUE, sort = FALSE)\n",
    "  \n",
    "  fwrite(peak_orthos, file = gsub(\".csv\", \"_orthologs.csv\", file_path))\n",
    "  \n",
    "}"
   ]
  },
  {
   "cell_type": "code",
   "execution_count": null,
   "metadata": {
    "vscode": {
     "languageId": "r"
    }
   },
   "outputs": [],
   "source": [
    "## Get list of orthologous genes present in all species, irrespective of peak status\n",
    "\n",
    "## Get overlap of genes that have peaks:"
   ]
  },
  {
   "cell_type": "code",
   "execution_count": null,
   "metadata": {
    "vscode": {
     "languageId": "r"
    }
   },
   "outputs": [],
   "source": [
    "## Comparison of peaks in orthologous genes between 2 species:\n",
    "\n",
    "for (i in seq_along(myo_meta$Abbr)) {\n",
    "  \n",
    "  peaks1 <- fread(list.files(path = \"results/data\", \n",
    "                             pattern = paste0(myo_meta$Abbr[i], \"_genes_5000.*orthologs\"),\n",
    "                             full.names = TRUE), data.table = FALSE)\n",
    "    \n",
    "  peak_cor_list <- lapply(seq_along(myo_meta$Abbr)[-i], function(j) {\n",
    "    \n",
    "    peaks2 <- fread(list.files(path = \"results/data\", \n",
    "                               pattern = paste0(myo_meta$Abbr[i], \"_genes_5000.*orthologs\"),\n",
    "                               full.names = TRUE), data.table = FALSE)\n",
    "    \n",
    "    ## Align features between species\n",
    "    peaks1 <- peaks1[peaks1$Myotis_Alias %in% peaks2$Myotis_Alias,]\n",
    "    peaks2 <- peaks2[peaks2$Myotis_Alias %in% peaks1$Myotis_Alias,]\n",
    "    peaks1 <- peaks1[match(peaks2$Myotis_Alias, peaks1$Myotis_Alias),]\n",
    "    peaks1$Peak <- TRUE\n",
    "    peaks1$Peak[peaks1$Peak_ID == \".\"] <- FALSE\n",
    "    peaks2$Peak <- TRUE\n",
    "    peaks2$Peak[peaks2$Peak_ID == \".\"] <- FALSE\n",
    "    \n",
    "    return(cor(peaks1$Peak, peaks2$Peak))\n",
    "    \n",
    "  })\n",
    "  \n",
    "}"
   ]
  },
  {
   "cell_type": "code",
   "execution_count": null,
   "metadata": {
    "vscode": {
     "languageId": "r"
    }
   },
   "outputs": [],
   "source": []
  }
 ],
 "metadata": {
  "kernelspec": {
   "display_name": "R",
   "language": "R",
   "name": "ir"
  },
  "language_info": {
   "codemirror_mode": "r",
   "file_extension": ".r",
   "mimetype": "text/x-r-source",
   "name": "R",
   "pygments_lexer": "r",
   "version": "4.3.2"
  }
 },
 "nbformat": 4,
 "nbformat_minor": 2
}
