{
 "cells": [
  {
   "cell_type": "code",
   "execution_count": 2,
   "metadata": {
    "vscode": {
     "languageId": "r"
    }
   },
   "outputs": [
    {
     "name": "stderr",
     "output_type": "stream",
     "text": [
      "\n",
      "Attaching package: 'dplyr'\n",
      "\n",
      "\n",
      "The following objects are masked from 'package:stats':\n",
      "\n",
      "    filter, lag\n",
      "\n",
      "\n",
      "The following objects are masked from 'package:base':\n",
      "\n",
      "    intersect, setdiff, setequal, union\n",
      "\n",
      "\n",
      "\n",
      "Attaching package: 'data.table'\n",
      "\n",
      "\n",
      "The following objects are masked from 'package:dplyr':\n",
      "\n",
      "    between, first, last\n",
      "\n",
      "\n"
     ]
    }
   ],
   "source": [
    "setwd(\"/Users/rebecca/sudmant/analyses/myotis/analysis/exploratory/species_individual_peaks\")\n",
    "\n",
    "library(dplyr)\n",
    "library(scales)\n",
    "library(ggplot2)\n",
    "library(data.table)\n",
    "\n",
    "myo_meta <- read.csv(\"/Users/rebecca/sudmant/analyses/myotis/data/myotis_meta.csv\")\n",
    "\n",
    "## Get differential peak status between species in orthologous genes present in ALL species"
   ]
  },
  {
   "cell_type": "code",
   "execution_count": 24,
   "metadata": {
    "vscode": {
     "languageId": "r"
    }
   },
   "outputs": [],
   "source": [
    "## Get # of genes with peaks in all species:\n",
    "\n",
    "peak_ortho_files <- list.files(path = \"results/data\", \n",
    "                               pattern = \"genes_5000.*orthologs\",\n",
    "                               full.names = TRUE)\n",
    "\n",
    "peak_gene_list <- lapply(seq_along(myo_meta$Abbr), function(i) {\n",
    "  file_paths <- peak_ortho_files[grep(myo_meta$Abbr[i], peak_ortho_files)]\n",
    "  indv_list <- lapply(seq_along(file_paths), function(j) {\n",
    "    indv_peak_ortho <- fread(file_paths[j], data.table = FALSE)\n",
    "    indv_id <- sapply(strsplit(file_paths[j], \"_\"), \"[\", 2)\n",
    "    df <- indv_peak_ortho %>%\n",
    "      dplyr::filter(Myotis_Alias != \"\") %>%\n",
    "      dplyr::group_by(Myotis_Alias) %>%\n",
    "      dplyr::reframe(Peak = paste(unique(Peak), collapse = \", \")) %>%\n",
    "      dplyr::mutate(\n",
    "        Peak = ifelse(grepl(\",\", Peak), TRUE, Peak),\n",
    "        Species = myo_meta$Field_Name[i],\n",
    "        Individual = indv_id\n",
    "      )\n",
    "    return(df)\n",
    "  })\n",
    "  return(do.call(rbind, indv_list))\n",
    "})\n",
    "df <- do.call(rbind, peak_gene_list)\n",
    "\n",
    "df <- df %>%\n",
    "  dplyr::group_by(Species, Individual, Peak) %>%\n",
    "  dplyr::reframe(\n",
    "    No.Genes = n()\n",
    "  )\n",
    "  \n",
    "x_order <- df %>%\n",
    "  dplyr::filter(Peak == TRUE) %>%\n",
    "  dplyr::group_by(Species) %>%\n",
    "  dplyr::reframe(n = sum(No.Genes)) %>%\n",
    "  dplyr::arrange(desc(n))\n",
    "  \n",
    "df$Species <- factor(df$Species, levels = x_order$Species)\n",
    "\n",
    "ggplot(df, aes(x = Individual, y = No.Genes, fill = Peak)) +\n",
    "  geom_bar(stat = \"identity\") +\n",
    "  theme_minimal() +\n",
    "  theme(axis.title.x = element_blank(),\n",
    "        axis.text.x = element_text(angle = 45, hjust = 1),\n",
    "        axis.title.y = element_text(margin = margin(r = 15)),\n",
    "        panel.grid = element_blank(),\n",
    "        plot.margin = unit(c(1, 1, 1, 1), \"cm\")) +\n",
    "  labs(title = \"Orthologous genes\") +\n",
    "  xlab(\"Individual\") + ylab(\"# genes\") +\n",
    "  scale_y_continuous(labels = comma) +\n",
    "  facet_wrap(. ~ Species, scales = \"free_x\")"
   ]
  },
  {
   "cell_type": "code",
   "execution_count": 28,
   "metadata": {
    "vscode": {
     "languageId": "r"
    }
   },
   "outputs": [
    {
     "data": {
      "text/html": [
       "13774"
      ],
      "text/latex": [
       "13774"
      ],
      "text/markdown": [
       "13774"
      ],
      "text/plain": [
       "[1] 13774"
      ]
     },
     "metadata": {},
     "output_type": "display_data"
    }
   ],
   "source": [
    "## Get genes shared between all species:\n",
    "\n",
    "gene_list <- lapply(seq_along(peak_ortho_files), function(i) {\n",
    "  peak_ortho <- fread(peak_ortho_files[i], data.table = FALSE)\n",
    "  return(unique(peak_ortho$Myotis_Alias[peak_ortho$Myotis_Alias != \"\"]))\n",
    "})\n",
    "\n",
    "shared_genes <- Reduce(intersect, gene_list)\n",
    "length(shared_genes)"
   ]
  },
  {
   "cell_type": "code",
   "execution_count": 37,
   "metadata": {
    "vscode": {
     "languageId": "r"
    }
   },
   "outputs": [],
   "source": [
    "## Get peak status of shared genes:\n",
    "\n",
    "gene_peak_list <- lapply(seq_along(peak_ortho_files), function(i) {\n",
    "  peak_ortho <- fread(peak_ortho_files[i], data.table = FALSE)\n",
    "  peak_ortho <- peak_ortho %>%\n",
    "    dplyr::filter(Myotis_Alias %in% shared_genes) %>%\n",
    "    dplyr::group_by(Myotis_Alias) %>%\n",
    "    dplyr::reframe(Peak = ifelse(\n",
    "      sum(Peak) > 0, TRUE, FALSE\n",
    "    ))\n",
    "  return(unique(peak_ortho$Myotis_Alias[peak_ortho$Peak == TRUE]))\n",
    "})\n",
    "names(gene_peak_list) <- sapply(strsplit(sapply(strsplit(peak_ortho_files, \"/\"), \"[\", 3), \"_\"), function(x) paste(x[1:2], collapse = \" \"))\n",
    "\n",
    "spec_peak_status <- as.data.frame.matrix(table(stack(gene_peak_list)))"
   ]
  },
  {
   "cell_type": "code",
   "execution_count": 69,
   "metadata": {
    "vscode": {
     "languageId": "r"
    }
   },
   "outputs": [],
   "source": [
    "## Cluster species by their peak status:\n",
    "\n",
    "library(RColorBrewer)\n",
    "library(ComplexHeatmap)\n",
    "\n",
    "cor_mat <- cor(spec_peak_status)\n",
    "diag(cor_mat) <- NA\n",
    "\n",
    "n_genes <- nrow(spec_peak_status)\n",
    "\n",
    "plot_title <- paste(\"Peak status over\", comma(n_genes), \"shared orthologous genes\")\n",
    "\n",
    "meta_df <- data.frame(\n",
    "  Species = sapply(strsplit(colnames(cor_mat), \" \"), \"[\", 1)\n",
    ")\n",
    "rownames(meta_df) <- colnames(cor_mat)                                                      \n",
    "                                                       \n",
    "colors <- brewer.pal(n_distinct(meta_df$Species), \"Paired\")\n",
    "names(colors) <- unique(meta_df$Species)\n",
    "meta_cols <- list(Species = colors)\n",
    "                            \n",
    "col_anno <- HeatmapAnnotation(df = meta_df, col = meta_cols)  # Row annotation\n",
    "row_anno <- HeatmapAnnotation(df = meta_df, col = meta_cols, which = \"row\", show_legend = FALSE, show_annotation_name = FALSE)  # Row annotation"
   ]
  },
  {
   "cell_type": "code",
   "execution_count": null,
   "metadata": {
    "vscode": {
     "languageId": "r"
    }
   },
   "outputs": [],
   "source": [
    "## Plot peak status heatmap\n",
    "\n",
    "pdf(file = paste0(\"results/figures/gene_peak_status_heatmap.pdf\"), width = 9, height = 9)\n",
    "\n",
    "print(\n",
    "  ComplexHeatmap::Heatmap(name = \"Peak status\", \n",
    "                          column_title = plot_title,\n",
    "                          matrix = spec_peak_status, \n",
    "                          clustering_method_rows = \"average\",\n",
    "                          clustering_method_columns = \"average\",\n",
    "                          show_row_names = FALSE,\n",
    "                          top_annotation = col_anno,\n",
    "                          column_names_rot = 45)\n",
    ")\n",
    "\n",
    "dev.off()"
   ]
  },
  {
   "cell_type": "code",
   "execution_count": 85,
   "metadata": {
    "vscode": {
     "languageId": "r"
    }
   },
   "outputs": [
    {
     "data": {
      "text/html": [
       "<strong>pdf:</strong> 2"
      ],
      "text/latex": [
       "\\textbf{pdf:} 2"
      ],
      "text/markdown": [
       "**pdf:** 2"
      ],
      "text/plain": [
       "pdf \n",
       "  2 "
      ]
     },
     "metadata": {},
     "output_type": "display_data"
    },
    {
     "name": "stderr",
     "output_type": "stream",
     "text": [
      "Warning message:\n",
      "\"The input is a data frame-like object, convert it to a matrix.\"\n",
      "`use_raster` is automatically set to TRUE for a matrix with more than\n",
      "2000 rows. You can control `use_raster` argument by explicitly setting\n",
      "TRUE/FALSE to it.\n",
      "\n",
      "Set `ht_opt$message = FALSE` to turn off this message.\n",
      "\n",
      "'magick' package is suggested to install to give better rasterization.\n",
      "\n",
      "Set `ht_opt$message = FALSE` to turn off this message.\n",
      "\n"
     ]
    },
    {
     "data": {
      "text/html": [
       "<strong>pdf:</strong> 2"
      ],
      "text/latex": [
       "\\textbf{pdf:} 2"
      ],
      "text/markdown": [
       "**pdf:** 2"
      ],
      "text/plain": [
       "pdf \n",
       "  2 "
      ]
     },
     "metadata": {},
     "output_type": "display_data"
    }
   ],
   "source": [
    "## Plot peak status correlation heatmap\n",
    "\n",
    "pdf(file = paste0(\"results/figures/gene_peak_status_correlation_heatmap.pdf\"), width = 12, height = 9)\n",
    "\n",
    "print(\n",
    "  ComplexHeatmap::Heatmap(name = \"Peak status correlation\", \n",
    "                          \n",
    "                          column_title = plot_title,\n",
    "                          matrix = cor_mat, \n",
    "                          clustering_method_rows = \"average\",\n",
    "                          clustering_method_columns = \"average\",\n",
    "                          top_annotation = col_anno,\n",
    "                          left_annotation = row_anno)\n",
    ")\n",
    "\n",
    "dev.off()\n"
   ]
  },
  {
   "cell_type": "code",
   "execution_count": null,
   "metadata": {
    "vscode": {
     "languageId": "r"
    }
   },
   "outputs": [],
   "source": []
  }
 ],
 "metadata": {
  "kernelspec": {
   "display_name": "R",
   "language": "R",
   "name": "ir"
  },
  "language_info": {
   "codemirror_mode": "r",
   "file_extension": ".r",
   "mimetype": "text/x-r-source",
   "name": "R",
   "pygments_lexer": "r",
   "version": "4.3.2"
  }
 },
 "nbformat": 4,
 "nbformat_minor": 2
}
