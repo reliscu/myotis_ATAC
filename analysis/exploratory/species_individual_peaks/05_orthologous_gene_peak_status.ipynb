{
 "cells": [
  {
   "cell_type": "code",
   "execution_count": 3,
   "metadata": {
    "vscode": {
     "languageId": "r"
    }
   },
   "outputs": [],
   "source": [
    "setwd(\"/Users/rebecca/sudmant/analyses/myotis/analysis/exploratory/species_individual_peaks\")\n",
    "\n",
    "library(GSA)\n",
    "library(dplyr)\n",
    "library(scales)\n",
    "library(qvalue)\n",
    "library(ggplot2)\n",
    "library(data.table)\n",
    "\n",
    "source(\"/Users/rebecca/sudmant/analyses/myotis/code/fisher_test.R\")\n",
    "\n",
    "myo_meta <- read.csv(\"/Users/rebecca/sudmant/analyses/myotis/data/myotis_meta.csv\")\n",
    "\n",
    "## Get differential peak status between species in orthologous genes present in ALL species\n",
    "\n",
    "peak_ortho_files <- list.files(path = \"results/data\", \n",
    "                               pattern = \"genes_5000.*orthologs\",\n",
    "                               full.names = TRUE)"
   ]
  },
  {
   "cell_type": "code",
   "execution_count": 24,
   "metadata": {
    "vscode": {
     "languageId": "r"
    }
   },
   "outputs": [],
   "source": [
    "## Plot # of genes (with orthologs) per species:\n",
    "\n",
    "peak_gene_list <- lapply(seq_along(myo_meta$Abbr), function(i) {\n",
    "  file_paths <- peak_ortho_files[grep(myo_meta$Abbr[i], peak_ortho_files)]\n",
    "  indv_list <- lapply(seq_along(file_paths), function(j) {\n",
    "    indv_peak_ortho <- fread(file_paths[j], data.table = FALSE)\n",
    "    indv_id <- sapply(strsplit(file_paths[j], \"_\"), \"[\", 2)\n",
    "    df <- indv_peak_ortho %>%\n",
    "      dplyr::filter(Myotis_Alias != \"\") %>%\n",
    "      dplyr::group_by(Myotis_Alias) %>%\n",
    "      dplyr::reframe(Peak = paste(unique(Peak), collapse = \", \")) %>%\n",
    "      dplyr::mutate(\n",
    "        Peak = ifelse(grepl(\",\", Peak), TRUE, Peak),\n",
    "        Species = myo_meta$Field_Name[i],\n",
    "        Individual = indv_id\n",
    "      )\n",
    "    return(df)\n",
    "  })\n",
    "  return(do.call(rbind, indv_list))\n",
    "})\n",
    "df <- do.call(rbind, peak_gene_list)\n",
    "\n",
    "df <- df %>%\n",
    "  dplyr::group_by(Species, Individual, Peak) %>%\n",
    "  dplyr::reframe(\n",
    "    No.Genes = n()\n",
    "  )\n",
    "  \n",
    "x_order <- df %>%\n",
    "  dplyr::filter(Peak == TRUE) %>%\n",
    "  dplyr::group_by(Species) %>%\n",
    "  dplyr::reframe(n = sum(No.Genes)) %>%\n",
    "  dplyr::arrange(desc(n))\n",
    "  \n",
    "df$Species <- factor(df$Species, levels = x_order$Species)\n",
    "\n",
    "ggplot(df, aes(x = Individual, y = No.Genes, fill = Peak)) +\n",
    "  geom_bar(stat = \"identity\") +\n",
    "  theme_minimal() +\n",
    "  theme(axis.title.x = element_blank(),\n",
    "        axis.text.x = element_text(angle = 45, hjust = 1),\n",
    "        axis.title.y = element_text(margin = margin(r = 15)),\n",
    "        panel.grid = element_blank(),\n",
    "        plot.margin = unit(c(1, 1, 1, 1), \"cm\")) +\n",
    "  labs(title = \"Orthologous genes\") +\n",
    "  xlab(\"Individual\") + ylab(\"# genes\") +\n",
    "  scale_y_continuous(labels = comma) +\n",
    "  facet_wrap(. ~ Species, scales = \"free_x\")"
   ]
  },
  {
   "cell_type": "code",
   "execution_count": 4,
   "metadata": {
    "vscode": {
     "languageId": "r"
    }
   },
   "outputs": [
    {
     "data": {
      "text/html": [
       "13774"
      ],
      "text/latex": [
       "13774"
      ],
      "text/markdown": [
       "13774"
      ],
      "text/plain": [
       "[1] 13774"
      ]
     },
     "metadata": {},
     "output_type": "display_data"
    }
   ],
   "source": [
    "## Get genes shared between all species:\n",
    "\n",
    "gene_list <- lapply(seq_along(peak_ortho_files), function(i) {\n",
    "  peak_ortho <- fread(peak_ortho_files[i], data.table = FALSE)\n",
    "  return(unique(peak_ortho$Myotis_Alias[peak_ortho$Myotis_Alias != \"\"]))\n",
    "})\n",
    "\n",
    "shared_genes <- Reduce(intersect, gene_list)\n",
    "length(shared_genes)"
   ]
  },
  {
   "cell_type": "code",
   "execution_count": 5,
   "metadata": {
    "vscode": {
     "languageId": "r"
    }
   },
   "outputs": [],
   "source": [
    "## Get peak status of shared genes:\n",
    "\n",
    "gene_peak_list <- lapply(seq_along(peak_ortho_files), function(i) {\n",
    "  peak_ortho <- fread(peak_ortho_files[i], data.table = FALSE)\n",
    "  peak_ortho <- peak_ortho %>%\n",
    "    dplyr::filter(Myotis_Alias %in% shared_genes) %>%\n",
    "    dplyr::group_by(Myotis_Alias) %>%\n",
    "    dplyr::reframe(Peak = ifelse(\n",
    "      sum(Peak) > 0, TRUE, FALSE\n",
    "    ))\n",
    "  return(unique(peak_ortho$Myotis_Alias[peak_ortho$Peak == TRUE]))\n",
    "})\n",
    "names(gene_peak_list) <- sapply(strsplit(sapply(strsplit(peak_ortho_files, \"/\"), \"[\", 3), \"_\"), function(x) paste(x[1:2], collapse = \" \"))\n",
    "\n",
    "spec_peak_status <- as.data.frame.matrix(table(stack(gene_peak_list)))"
   ]
  },
  {
   "cell_type": "code",
   "execution_count": 7,
   "metadata": {
    "vscode": {
     "languageId": "r"
    }
   },
   "outputs": [],
   "source": [
    "## Plot species peak status:\n",
    "\n",
    "library(RColorBrewer)\n",
    "library(ComplexHeatmap)\n",
    "\n",
    "cor_mat <- cor(spec_peak_status)\n",
    "diag(cor_mat) <- NA\n",
    "\n",
    "n_genes <- nrow(spec_peak_status)\n",
    "plot_title <- paste(\"Peak status over\", comma(n_genes), \"shared orthologous genes\")\n",
    "\n",
    "meta_df <- data.frame(\n",
    "  Species = sapply(strsplit(colnames(cor_mat), \" \"), \"[\", 1),\n",
    "  row.names = colnames(cor_mat)\n",
    ")\n",
    "                                                       \n",
    "colors <- brewer.pal(n_distinct(meta_df$Species), \"Paired\")\n",
    "names(colors) <- unique(meta_df$Species)\n",
    "meta_cols <- list(Species = colors)\n",
    "                            \n",
    "col_anno <- HeatmapAnnotation(df = meta_df, col = meta_cols)\n",
    "row_anno <- HeatmapAnnotation(df = meta_df, col = meta_cols, which = \"row\", \n",
    "                              show_legend = FALSE, show_annotation_name = FALSE) "
   ]
  },
  {
   "cell_type": "code",
   "execution_count": null,
   "metadata": {
    "vscode": {
     "languageId": "r"
    }
   },
   "outputs": [],
   "source": [
    "## Plot peak status heatmap\n",
    "\n",
    "# Note: this takes a few minuts to plot\n",
    "\n",
    "pdf(file = paste0(\"results/figures/gene_peak_status_heatmap.pdf\"), width = 9, height = 9)\n",
    "\n",
    "draw(\n",
    "  ComplexHeatmap::Heatmap(name = \"Peak status\", \n",
    "                          column_title = plot_title,\n",
    "                          matrix = spec_peak_status, \n",
    "                          clustering_method_rows = \"average\",\n",
    "                          clustering_method_columns = \"average\",\n",
    "                          show_row_names = FALSE,\n",
    "                          top_annotation = col_anno,\n",
    "                          column_names_rot = 45),\n",
    "  padding = unit(c(1, 1, 1, 1), \"cm\")\n",
    ")\n",
    "\n",
    "dev.off()"
   ]
  },
  {
   "cell_type": "code",
   "execution_count": null,
   "metadata": {
    "vscode": {
     "languageId": "r"
    }
   },
   "outputs": [],
   "source": [
    "## Plot peak status correlation heatmap\n",
    "\n",
    "pdf(file = paste0(\"results/figures/gene_peak_status_correlation_heatmap.pdf\"), width = 12, height = 9)\n",
    "\n",
    "draw(\n",
    "  ComplexHeatmap::Heatmap(name = \"Peak status correlation\", \n",
    "                          column_title = plot_title,\n",
    "                          matrix = cor_mat, \n",
    "                          clustering_method_rows = \"average\",\n",
    "                          clustering_method_columns = \"average\",\n",
    "                          top_annotation = col_anno,\n",
    "                          left_annotation = row_anno),\n",
    "  padding = unit(c(1, 1, 1, 1), \"cm\")\n",
    ")\n",
    "\n",
    "dev.off()"
   ]
  },
  {
   "cell_type": "code",
   "execution_count": 44,
   "metadata": {
    "vscode": {
     "languageId": "r"
    }
   },
   "outputs": [],
   "source": [
    "## Cluster genes based on peak status:\n",
    "\n",
    "gene_dist <- dist(spec_peak_status, method = \"euclidean\")\n",
    "gene_status_dendro <- hclust(gene_dist, method = \"average\")\n",
    "\n",
    "sil_scores <- lapply(2:10, function(k) {\n",
    "  clusters <- cutree(gene_status_dendro, k = k)\n",
    "  ss <- cluster::silhouette(clusters, gene_dist)\n",
    "  return(mean(ss[,3]))\n",
    "})\n",
    "\n",
    "max_k <- which.max(unlist(sil_scores)) + 1\n",
    "clusters <- cutree(gene_status_dendro, k = max_k)"
   ]
  },
  {
   "cell_type": "code",
   "execution_count": 43,
   "metadata": {
    "vscode": {
     "languageId": "r"
    }
   },
   "outputs": [
    {
     "data": {
      "text/html": [
       "<strong>pdf:</strong> 2"
      ],
      "text/latex": [
       "\\textbf{pdf:} 2"
      ],
      "text/markdown": [
       "**pdf:** 2"
      ],
      "text/plain": [
       "pdf \n",
       "  2 "
      ]
     },
     "metadata": {},
     "output_type": "display_data"
    }
   ],
   "source": [
    "## Visualize clusters:\n",
    "\n",
    "# Note: this takes a few minuts to plot\n",
    "\n",
    "## Column annotations (species):\n",
    "meta_col_df <- data.frame(\n",
    "  Species = sapply(strsplit(colnames(cor_mat), \" \"), \"[\", 1),\n",
    "  row.names = colnames(spec_peak_status)\n",
    ")\n",
    "spec_colors <- brewer.pal(n_distinct(meta_col_df$Species), \"Paired\")\n",
    "names(spec_colors) <- unique(meta_col_df$Species)\n",
    "meta_col_cols <- list(Species = spec_colors)\n",
    "col_anno <- HeatmapAnnotation(df = meta_col_df, col = meta_col_cols)\n",
    "\n",
    "## Row annotations (gene clusters):\n",
    "meta_row_df <- data.frame(Cluster = clusters, \n",
    "                          row.names = rownames(spec_peak_status))\n",
    "clust_colors <- brewer.pal(n_distinct(meta_row_df$Cluster), \"Set2\")[1:n_distinct(meta_row_df$Cluster)]\n",
    "names(clust_colors) <- unique(meta_row_df$Cluster)\n",
    "meta_row_cols <- list(Cluster = clust_colors)\n",
    "row_anno <- HeatmapAnnotation(\n",
    "  df = meta_row_df, col = meta_row_cols, which = \"row\",\n",
    "  show_annotation_name = TRUE\n",
    ") \n",
    "\n",
    "pdf(file = paste0(\"results/figures/gene_peak_status_gene_clusters_heatmap.pdf\"), width = 12, height = 9)\n",
    "\n",
    "draw(\n",
    "  ComplexHeatmap::Heatmap(name = \"Peak status\", \n",
    "                          column_title = plot_title,\n",
    "                          matrix = spec_peak_status, \n",
    "                          clustering_method_rows = \"average\",\n",
    "                          clustering_method_columns = \"average\",\n",
    "                          show_row_names = FALSE,\n",
    "                          top_annotation = col_anno,\n",
    "                          right_annotation = row_anno),\n",
    "   padding = unit(c(1, 1, 1, 1), \"cm\")\n",
    ")\n",
    "\n",
    "dev.off()"
   ]
  },
  {
   "cell_type": "code",
   "execution_count": 51,
   "metadata": {
    "vscode": {
     "languageId": "r"
    }
   },
   "outputs": [],
   "source": [
    "## What human homologs are associated with the genes in each cluster?\n",
    "\n",
    "ortho_table <- fread(\"/Users/rebecca/sudmant/analyses/myotis/data/ortholog_mapping.csv\", data.table = FALSE)\n",
    "yum_col <- grep(\"^yum\", colnames(ortho_table))\n",
    "ortho_table[,yum_col] <- gsub(\"SCAF\", \"SUPER\", ortho_table[,yum_col]) \n",
    "colnames(ortho_table)[1:3] <- c(\"ENSEMBL\", \"SYMBOL\", \"Myotis_Alias\")\n",
    "\n",
    "clust_alias_list <- tapply(names(clusters), clusters, \"[\")\n",
    "clust_symbol_list <- lapply(clust_alias_list, function(cluster) {\n",
    "  genes <- unique(ortho_table$SYMBOL[ortho_table$Myotis_Alias %in% cluster])  \n",
    "  return(genes[!grepl(\"^ENS\", genes)])\n",
    "})\n",
    "\n",
    "all_genes <- ortho_table$SYMBOL[ortho_table$Myotis_Alias %in% shared_genes]\n",
    "all_genes <- all_genes[!grepl(\"^ENS\", all_genes)]"
   ]
  },
  {
   "cell_type": "code",
   "execution_count": null,
   "metadata": {
    "vscode": {
     "languageId": "r"
    }
   },
   "outputs": [],
   "source": [
    "## Run enrichment analysis on genes in each cluster:\n",
    "\n",
    "## Load in Broad gene sets:\n",
    "gsc <- GSA.read.gmt(\"/Users/rebecca/sudmant/analyses/myotis/data/genesets/msigdb_v2023.2.Hs_GMTs/msigdb.v2023.2.Hs.symbols.gmt\")\n",
    "sets <- gsc$genesets\n",
    "names(sets) <- gsc$geneset.names"
   ]
  },
  {
   "cell_type": "code",
   "execution_count": 61,
   "metadata": {
    "vscode": {
     "languageId": "r"
    }
   },
   "outputs": [],
   "source": [
    "cluster_enrichments <- lapply(clust_symbol_list, function(clust_genes) {\n",
    "  clust_enrich <- sort(unlist(lapply(sets, fisher_test,\n",
    "                                     mod = clust_genes,\n",
    "                                     all = all_genes)))\n",
    "  return(data.frame(Set = names(clust_enrich), \n",
    "                    Pval = clust_enrich,\n",
    "                    Qval = qvalue(clust_enrich)$qvalues,\n",
    "                    row.names = NULL))\n",
    "})"
   ]
  },
  {
   "cell_type": "code",
   "execution_count": 62,
   "metadata": {
    "vscode": {
     "languageId": "r"
    }
   },
   "outputs": [
    {
     "data": {
      "text/html": [
       "<dl>\n",
       "\t<dt>$`1`</dt>\n",
       "\t\t<dd><table class=\"dataframe\">\n",
       "<caption>A data.frame: 10 x 3</caption>\n",
       "<thead>\n",
       "\t<tr><th></th><th scope=col>Set</th><th scope=col>Pval</th><th scope=col>Qval</th></tr>\n",
       "\t<tr><th></th><th scope=col>&lt;chr&gt;</th><th scope=col>&lt;dbl&gt;</th><th scope=col>&lt;dbl&gt;</th></tr>\n",
       "</thead>\n",
       "<tbody>\n",
       "\t<tr><th scope=row>1</th><td>HP_ABNORMAL_HEART_MORPHOLOGY                </td><td>8.651672e-25</td><td>1.514291e-20</td></tr>\n",
       "\t<tr><th scope=row>2</th><td>HP_ABNORMALITY_OF_THE_HAND                  </td><td>1.410192e-24</td><td>1.514291e-20</td></tr>\n",
       "\t<tr><th scope=row>3</th><td>HP_ABNORMALITY_OF_LIMB_BONE                 </td><td>1.891373e-24</td><td>1.514291e-20</td></tr>\n",
       "\t<tr><th scope=row>4</th><td>HP_DECREASED_HEAD_CIRCUMFERENCE             </td><td>5.104438e-24</td><td>3.065076e-20</td></tr>\n",
       "\t<tr><th scope=row>5</th><td>HP_ABNORMAL_FACIAL_SKELETON_MORPHOLOGY      </td><td>8.167602e-24</td><td>3.923538e-20</td></tr>\n",
       "\t<tr><th scope=row>6</th><td>ZSCAN30_TARGET_GENES                        </td><td>2.555576e-23</td><td>1.023036e-19</td></tr>\n",
       "\t<tr><th scope=row>7</th><td>HP_ABNORMAL_NASAL_MORPHOLOGY                </td><td>4.497310e-23</td><td>1.543150e-19</td></tr>\n",
       "\t<tr><th scope=row>8</th><td>HP_APLASIA_HYPOPLASIA_INVOLVING_THE_SKELETON</td><td>6.880185e-23</td><td>2.065682e-19</td></tr>\n",
       "\t<tr><th scope=row>9</th><td>HP_ABNORMALITY_OF_SPEECH_OR_VOCALIZATION    </td><td>9.356796e-23</td><td>2.497111e-19</td></tr>\n",
       "\t<tr><th scope=row>10</th><td>HP_ABNORMALITY_OF_THE_VERTEBRAL_COLUMN      </td><td>2.748313e-22</td><td>6.601149e-19</td></tr>\n",
       "</tbody>\n",
       "</table>\n",
       "</dd>\n",
       "\t<dt>$`2`</dt>\n",
       "\t\t<dd><table class=\"dataframe\">\n",
       "<caption>A data.frame: 10 x 3</caption>\n",
       "<thead>\n",
       "\t<tr><th></th><th scope=col>Set</th><th scope=col>Pval</th><th scope=col>Qval</th></tr>\n",
       "\t<tr><th></th><th scope=col>&lt;chr&gt;</th><th scope=col>&lt;dbl&gt;</th><th scope=col>&lt;dbl&gt;</th></tr>\n",
       "</thead>\n",
       "<tbody>\n",
       "\t<tr><th scope=row>1</th><td>GOBP_DEFENSE_RESPONSE_TO_BACTERIUM               </td><td>1.232525e-20</td><td>4.258373e-16</td></tr>\n",
       "\t<tr><th scope=row>2</th><td>REACTOME_ANTIMICROBIAL_PEPTIDES                  </td><td>4.382997e-19</td><td>5.528481e-15</td></tr>\n",
       "\t<tr><th scope=row>3</th><td>REACTOME_BETA_DEFENSINS                          </td><td>4.800417e-19</td><td>5.528481e-15</td></tr>\n",
       "\t<tr><th scope=row>4</th><td>REACTOME_DEFENSINS                               </td><td>9.011074e-19</td><td>7.783315e-15</td></tr>\n",
       "\t<tr><th scope=row>5</th><td>GOBP_ANTIMICROBIAL_HUMORAL_RESPONSE              </td><td>8.592829e-18</td><td>5.937645e-14</td></tr>\n",
       "\t<tr><th scope=row>6</th><td>REACTOME_GPCR_LIGAND_BINDING                     </td><td>6.368462e-17</td><td>3.187535e-13</td></tr>\n",
       "\t<tr><th scope=row>7</th><td>GOBP_SENSORY_PERCEPTION_OF_CHEMICAL_STIMULUS     </td><td>6.458102e-17</td><td>3.187535e-13</td></tr>\n",
       "\t<tr><th scope=row>8</th><td>GOBP_HUMORAL_IMMUNE_RESPONSE                     </td><td>8.129530e-17</td><td>3.510941e-13</td></tr>\n",
       "\t<tr><th scope=row>9</th><td>GOMF_G_PROTEIN_COUPLED_RECEPTOR_ACTIVITY         </td><td>1.351508e-16</td><td>5.188289e-13</td></tr>\n",
       "\t<tr><th scope=row>10</th><td>GOBP_G_PROTEIN_COUPLED_RECEPTOR_SIGNALING_PATHWAY</td><td>1.856127e-15</td><td>6.412920e-12</td></tr>\n",
       "</tbody>\n",
       "</table>\n",
       "</dd>\n",
       "</dl>\n"
      ],
      "text/latex": [
       "\\begin{description}\n",
       "\\item[\\$`1`] A data.frame: 10 x 3\n",
       "\\begin{tabular}{r|lll}\n",
       "  & Set & Pval & Qval\\\\\n",
       "  & <chr> & <dbl> & <dbl>\\\\\n",
       "\\hline\n",
       "\t1 & HP\\_ABNORMAL\\_HEART\\_MORPHOLOGY                 & 8.651672e-25 & 1.514291e-20\\\\\n",
       "\t2 & HP\\_ABNORMALITY\\_OF\\_THE\\_HAND                   & 1.410192e-24 & 1.514291e-20\\\\\n",
       "\t3 & HP\\_ABNORMALITY\\_OF\\_LIMB\\_BONE                  & 1.891373e-24 & 1.514291e-20\\\\\n",
       "\t4 & HP\\_DECREASED\\_HEAD\\_CIRCUMFERENCE              & 5.104438e-24 & 3.065076e-20\\\\\n",
       "\t5 & HP\\_ABNORMAL\\_FACIAL\\_SKELETON\\_MORPHOLOGY       & 8.167602e-24 & 3.923538e-20\\\\\n",
       "\t6 & ZSCAN30\\_TARGET\\_GENES                         & 2.555576e-23 & 1.023036e-19\\\\\n",
       "\t7 & HP\\_ABNORMAL\\_NASAL\\_MORPHOLOGY                 & 4.497310e-23 & 1.543150e-19\\\\\n",
       "\t8 & HP\\_APLASIA\\_HYPOPLASIA\\_INVOLVING\\_THE\\_SKELETON & 6.880185e-23 & 2.065682e-19\\\\\n",
       "\t9 & HP\\_ABNORMALITY\\_OF\\_SPEECH\\_OR\\_VOCALIZATION     & 9.356796e-23 & 2.497111e-19\\\\\n",
       "\t10 & HP\\_ABNORMALITY\\_OF\\_THE\\_VERTEBRAL\\_COLUMN       & 2.748313e-22 & 6.601149e-19\\\\\n",
       "\\end{tabular}\n",
       "\n",
       "\\item[\\$`2`] A data.frame: 10 x 3\n",
       "\\begin{tabular}{r|lll}\n",
       "  & Set & Pval & Qval\\\\\n",
       "  & <chr> & <dbl> & <dbl>\\\\\n",
       "\\hline\n",
       "\t1 & GOBP\\_DEFENSE\\_RESPONSE\\_TO\\_BACTERIUM                & 1.232525e-20 & 4.258373e-16\\\\\n",
       "\t2 & REACTOME\\_ANTIMICROBIAL\\_PEPTIDES                   & 4.382997e-19 & 5.528481e-15\\\\\n",
       "\t3 & REACTOME\\_BETA\\_DEFENSINS                           & 4.800417e-19 & 5.528481e-15\\\\\n",
       "\t4 & REACTOME\\_DEFENSINS                                & 9.011074e-19 & 7.783315e-15\\\\\n",
       "\t5 & GOBP\\_ANTIMICROBIAL\\_HUMORAL\\_RESPONSE               & 8.592829e-18 & 5.937645e-14\\\\\n",
       "\t6 & REACTOME\\_GPCR\\_LIGAND\\_BINDING                      & 6.368462e-17 & 3.187535e-13\\\\\n",
       "\t7 & GOBP\\_SENSORY\\_PERCEPTION\\_OF\\_CHEMICAL\\_STIMULUS      & 6.458102e-17 & 3.187535e-13\\\\\n",
       "\t8 & GOBP\\_HUMORAL\\_IMMUNE\\_RESPONSE                      & 8.129530e-17 & 3.510941e-13\\\\\n",
       "\t9 & GOMF\\_G\\_PROTEIN\\_COUPLED\\_RECEPTOR\\_ACTIVITY          & 1.351508e-16 & 5.188289e-13\\\\\n",
       "\t10 & GOBP\\_G\\_PROTEIN\\_COUPLED\\_RECEPTOR\\_SIGNALING\\_PATHWAY & 1.856127e-15 & 6.412920e-12\\\\\n",
       "\\end{tabular}\n",
       "\n",
       "\\end{description}\n"
      ],
      "text/markdown": [
       "$`1`\n",
       ":   \n",
       "A data.frame: 10 x 3\n",
       "\n",
       "| <!--/--> | Set &lt;chr&gt; | Pval &lt;dbl&gt; | Qval &lt;dbl&gt; |\n",
       "|---|---|---|---|\n",
       "| 1 | HP_ABNORMAL_HEART_MORPHOLOGY                 | 8.651672e-25 | 1.514291e-20 |\n",
       "| 2 | HP_ABNORMALITY_OF_THE_HAND                   | 1.410192e-24 | 1.514291e-20 |\n",
       "| 3 | HP_ABNORMALITY_OF_LIMB_BONE                  | 1.891373e-24 | 1.514291e-20 |\n",
       "| 4 | HP_DECREASED_HEAD_CIRCUMFERENCE              | 5.104438e-24 | 3.065076e-20 |\n",
       "| 5 | HP_ABNORMAL_FACIAL_SKELETON_MORPHOLOGY       | 8.167602e-24 | 3.923538e-20 |\n",
       "| 6 | ZSCAN30_TARGET_GENES                         | 2.555576e-23 | 1.023036e-19 |\n",
       "| 7 | HP_ABNORMAL_NASAL_MORPHOLOGY                 | 4.497310e-23 | 1.543150e-19 |\n",
       "| 8 | HP_APLASIA_HYPOPLASIA_INVOLVING_THE_SKELETON | 6.880185e-23 | 2.065682e-19 |\n",
       "| 9 | HP_ABNORMALITY_OF_SPEECH_OR_VOCALIZATION     | 9.356796e-23 | 2.497111e-19 |\n",
       "| 10 | HP_ABNORMALITY_OF_THE_VERTEBRAL_COLUMN       | 2.748313e-22 | 6.601149e-19 |\n",
       "\n",
       "\n",
       "$`2`\n",
       ":   \n",
       "A data.frame: 10 x 3\n",
       "\n",
       "| <!--/--> | Set &lt;chr&gt; | Pval &lt;dbl&gt; | Qval &lt;dbl&gt; |\n",
       "|---|---|---|---|\n",
       "| 1 | GOBP_DEFENSE_RESPONSE_TO_BACTERIUM                | 1.232525e-20 | 4.258373e-16 |\n",
       "| 2 | REACTOME_ANTIMICROBIAL_PEPTIDES                   | 4.382997e-19 | 5.528481e-15 |\n",
       "| 3 | REACTOME_BETA_DEFENSINS                           | 4.800417e-19 | 5.528481e-15 |\n",
       "| 4 | REACTOME_DEFENSINS                                | 9.011074e-19 | 7.783315e-15 |\n",
       "| 5 | GOBP_ANTIMICROBIAL_HUMORAL_RESPONSE               | 8.592829e-18 | 5.937645e-14 |\n",
       "| 6 | REACTOME_GPCR_LIGAND_BINDING                      | 6.368462e-17 | 3.187535e-13 |\n",
       "| 7 | GOBP_SENSORY_PERCEPTION_OF_CHEMICAL_STIMULUS      | 6.458102e-17 | 3.187535e-13 |\n",
       "| 8 | GOBP_HUMORAL_IMMUNE_RESPONSE                      | 8.129530e-17 | 3.510941e-13 |\n",
       "| 9 | GOMF_G_PROTEIN_COUPLED_RECEPTOR_ACTIVITY          | 1.351508e-16 | 5.188289e-13 |\n",
       "| 10 | GOBP_G_PROTEIN_COUPLED_RECEPTOR_SIGNALING_PATHWAY | 1.856127e-15 | 6.412920e-12 |\n",
       "\n",
       "\n",
       "\n",
       "\n"
      ],
      "text/plain": [
       "$`1`\n",
       "                                            Set         Pval         Qval\n",
       "1                  HP_ABNORMAL_HEART_MORPHOLOGY 8.651672e-25 1.514291e-20\n",
       "2                    HP_ABNORMALITY_OF_THE_HAND 1.410192e-24 1.514291e-20\n",
       "3                   HP_ABNORMALITY_OF_LIMB_BONE 1.891373e-24 1.514291e-20\n",
       "4               HP_DECREASED_HEAD_CIRCUMFERENCE 5.104438e-24 3.065076e-20\n",
       "5        HP_ABNORMAL_FACIAL_SKELETON_MORPHOLOGY 8.167602e-24 3.923538e-20\n",
       "6                          ZSCAN30_TARGET_GENES 2.555576e-23 1.023036e-19\n",
       "7                  HP_ABNORMAL_NASAL_MORPHOLOGY 4.497310e-23 1.543150e-19\n",
       "8  HP_APLASIA_HYPOPLASIA_INVOLVING_THE_SKELETON 6.880185e-23 2.065682e-19\n",
       "9      HP_ABNORMALITY_OF_SPEECH_OR_VOCALIZATION 9.356796e-23 2.497111e-19\n",
       "10       HP_ABNORMALITY_OF_THE_VERTEBRAL_COLUMN 2.748313e-22 6.601149e-19\n",
       "\n",
       "$`2`\n",
       "                                                 Set         Pval         Qval\n",
       "1                 GOBP_DEFENSE_RESPONSE_TO_BACTERIUM 1.232525e-20 4.258373e-16\n",
       "2                    REACTOME_ANTIMICROBIAL_PEPTIDES 4.382997e-19 5.528481e-15\n",
       "3                            REACTOME_BETA_DEFENSINS 4.800417e-19 5.528481e-15\n",
       "4                                 REACTOME_DEFENSINS 9.011074e-19 7.783315e-15\n",
       "5                GOBP_ANTIMICROBIAL_HUMORAL_RESPONSE 8.592829e-18 5.937645e-14\n",
       "6                       REACTOME_GPCR_LIGAND_BINDING 6.368462e-17 3.187535e-13\n",
       "7       GOBP_SENSORY_PERCEPTION_OF_CHEMICAL_STIMULUS 6.458102e-17 3.187535e-13\n",
       "8                       GOBP_HUMORAL_IMMUNE_RESPONSE 8.129530e-17 3.510941e-13\n",
       "9           GOMF_G_PROTEIN_COUPLED_RECEPTOR_ACTIVITY 1.351508e-16 5.188289e-13\n",
       "10 GOBP_G_PROTEIN_COUPLED_RECEPTOR_SIGNALING_PATHWAY 1.856127e-15 6.412920e-12\n"
      ]
     },
     "metadata": {},
     "output_type": "display_data"
    }
   ],
   "source": [
    "lapply(cluster_enrichments, head, 10)"
   ]
  },
  {
   "cell_type": "code",
   "execution_count": null,
   "metadata": {
    "vscode": {
     "languageId": "r"
    }
   },
   "outputs": [],
   "source": []
  }
 ],
 "metadata": {
  "kernelspec": {
   "display_name": "R",
   "language": "R",
   "name": "ir"
  },
  "language_info": {
   "codemirror_mode": "r",
   "file_extension": ".r",
   "mimetype": "text/x-r-source",
   "name": "R",
   "pygments_lexer": "r",
   "version": "4.3.2"
  }
 },
 "nbformat": 4,
 "nbformat_minor": 2
}
