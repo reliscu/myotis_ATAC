{
 "cells": [
  {
   "cell_type": "code",
   "execution_count": 6,
   "metadata": {
    "vscode": {
     "languageId": "r"
    }
   },
   "outputs": [],
   "source": [
    "setwd(\"/Users/rebecca/sudmant/analyses/myotis/analysis/exploratory/species_individual_peaks\")\n",
    "\n",
    "library(dplyr)\n",
    "library(data.table)\n",
    "\n",
    "myo_meta <- read.csv(\"/Users/rebecca/sudmant/analyses/myotis/data/myotis_meta.csv\")\n",
    "\n",
    "peak_dir <- \"/Users/rebecca/sudmant/analyses/myotis/data/ATAC-seq/genes\""
   ]
  },
  {
   "cell_type": "code",
   "execution_count": 7,
   "metadata": {
    "vscode": {
     "languageId": "r"
    }
   },
   "outputs": [],
   "source": [
    "for (i in seq_along(myo_meta$Abbr)) {\n",
    "  if (grepl(\"Thy\", myo_meta$Abbr[i])) {\n",
    "      peaks <- fread(file.path(peak_dir, myo_meta$Field_Name[i], \"All.individual.samples.peak.annotation_patched.tsv\"), data.table = FALSE)\n",
    "  } else {\n",
    "      peaks <- fread(file.path(peak_dir, myo_meta$Field_Name[i], \"All.individual.samples.peak.annotation.txt\"), data.table = FALSE)\n",
    "      peaks <- peaks[,c(3:6, 1:2)]\n",
    "  }\n",
    "  peaks$Chr <- gsub(\"SCAF\", \"SUPER\", peaks$Chr)\n",
    "  lapply(unique(peaks$SampleID), function(sample_id) {\n",
    "    indv_peaks <- peaks[grep(sample_id, peaks$SampleID),]\n",
    "    fwrite(indv_peaks, file = paste0(\"results/data/\", myo_meta$Abbr[i], \"_\", sample_id, \"_peaks.tsv\"), sep = \"\\t\", quote = FALSE)\n",
    "  })\n",
    "}"
   ]
  }
 ],
 "metadata": {
  "kernelspec": {
   "display_name": "R",
   "language": "R",
   "name": "ir"
  },
  "language_info": {
   "codemirror_mode": "r",
   "file_extension": ".r",
   "mimetype": "text/x-r-source",
   "name": "R",
   "pygments_lexer": "r",
   "version": "4.3.2"
  }
 },
 "nbformat": 4,
 "nbformat_minor": 2
}
