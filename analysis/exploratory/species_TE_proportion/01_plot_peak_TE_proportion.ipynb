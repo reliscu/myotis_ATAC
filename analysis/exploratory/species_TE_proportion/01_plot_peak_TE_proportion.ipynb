{
 "cells": [
  {
   "cell_type": "code",
   "execution_count": 19,
   "metadata": {
    "vscode": {
     "languageId": "r"
    }
   },
   "outputs": [],
   "source": [
    "setwd(\"/Users/rebecca/sudmant/analyses/myotis/analysis/exploratory/species_TE_proportion\")\n",
    "\n",
    "library(dplyr)\n",
    "library(scales)\n",
    "library(ggplot2)\n",
    "library(data.table)\n",
    "\n",
    "myo_meta <- read.csv(\"/Users/rebecca/sudmant/analyses/myotis/data/myotis_meta.csv\")"
   ]
  },
  {
   "cell_type": "code",
   "execution_count": 13,
   "metadata": {
    "vscode": {
     "languageId": "r"
    }
   },
   "outputs": [],
   "source": [
    "## Plot proportion of peaks in TEs\n",
    "\n",
    "frac_peaks_list <- lapply(seq_along(myo_meta$Abbr), function(i) {\n",
    "  \n",
    "  peak_features <- fread(\n",
    "    file.path(\"results/data\", paste0(myo_meta$Abbr[i], \"_peaks_TEs.tsv\")),\n",
    "    data.table = FALSE\n",
    "  )\n",
    "  peak_features$Type <- peak_features$V11\n",
    "  peak_features$Type[grep(\"^DNA\", peak_features$Type)] <- \"DNA\"\n",
    "  peak_features$Type[grep(\"^SINE\", peak_features$Type)] <- \"SINE\"\n",
    "  peak_features$Type[grep(\"^LINE\", peak_features$Type)] <- \"LINE\"\n",
    "  peak_features$Type[grep(\"^LTR\", peak_features$Type)] <- \"LTR\"\n",
    "  peak_features$Type[grep(\"^Simple\", peak_features$Type)] <- \"Simple repeat\"\n",
    "  peak_features$Type[grep(\"Unknown\", peak_features$Type)] <- \"Unknown\"\n",
    "  peak_features$Type[grep(\"RNA\", peak_features$Type)] <- \"rRNA/tRNA/snRNA\"\n",
    "  peak_features$Type[grep(\"^Sat\", peak_features$Type)] <- \"Other\"\n",
    "  peak_features$Type[grep(\"^Retro\", peak_features$Type)] <- \"Other\"\n",
    "  peak_features$Type[peak_features$Type == \".\"] <- \"NA\"\n",
    "  peak_features$Type <- gsub(\"_\", \" \", peak_features$Type)\n",
    "  \n",
    "  df <- peak_features %>%\n",
    "    dplyr::mutate(TE = ifelse(Type == \"NA\", FALSE, TRUE)) %>%\n",
    "    dplyr::group_by(V4) %>%\n",
    "    dplyr::reframe(\n",
    "      TE = unique(TE),\n",
    "      Type = paste(unique(Type), collapse = \", \")\n",
    "    ) %>%\n",
    "    dplyr::mutate(\n",
    "      Type = ifelse(grepl(\",\", Type), \"Unknown\", Type)\n",
    "    ) %>%\n",
    "    dplyr::group_by(TE, Type) %>%\n",
    "    dplyr::reframe(No.Peaks = n()) %>%\n",
    "    dplyr::mutate(Species = myo_meta$Field_Name[i])\n",
    "  \n",
    "  return(df)\n",
    "  \n",
    "})"
   ]
  },
  {
   "cell_type": "code",
   "execution_count": 20,
   "metadata": {
    "vscode": {
     "languageId": "r"
    }
   },
   "outputs": [
    {
     "data": {
      "text/html": [
       "<strong>pdf:</strong> 2"
      ],
      "text/latex": [
       "\\textbf{pdf:} 2"
      ],
      "text/markdown": [
       "**pdf:** 2"
      ],
      "text/plain": [
       "pdf \n",
       "  2 "
      ]
     },
     "metadata": {},
     "output_type": "display_data"
    }
   ],
   "source": [
    "df <- do.call(rbind, frac_peaks_list)\n",
    "\n",
    "df <- df %>%\n",
    "  dplyr::mutate(\n",
    "    TE = ifelse(Type == \"Simple repeat\", FALSE, TE)\n",
    "  ) %>%\n",
    "  dplyr::group_by(Species) %>%\n",
    "  dplyr::mutate(Frac_Peaks = No.Peaks/sum(No.Peaks))\n",
    "  \n",
    "pdf(\"results/figures/peak_TE_proportion.pdf\", width = 8, height = 6)\n",
    "\n",
    "x_order <- df %>%\n",
    "  dplyr::filter(TE == TRUE) %>%\n",
    "  dplyr::group_by(Species) %>%\n",
    "  dplyr::summarise(n = sum(Frac_Peaks)) %>%\n",
    "  dplyr::arrange(desc(n))\n",
    "  \n",
    "df$Species <- factor(df$Species, levels = x_order$Species)\n",
    "  \n",
    "print(\n",
    "  ggplot(df, aes(x = Species, y = Frac_Peaks, fill = TE, color = TE)) +\n",
    "    geom_bar(stat = \"identity\") +\n",
    "    theme_minimal() +\n",
    "    theme(axis.title.x = element_blank(),\n",
    "          axis.text.x = element_text(angle = 45, hjust = 1),\n",
    "          axis.title.y = element_text(margin = margin(r = 15)),\n",
    "          plot.margin = unit(c(1, 1, 1, 1), \"cm\")) +\n",
    "    labs(title = \"Proportion of peaks in transposable elements\") +\n",
    "    ylab(\"Proportion\") \n",
    ")\n",
    "\n",
    "## Stratify by TE type:\n",
    "\n",
    "df_type <- df %>%\n",
    "  dplyr::filter(TE == TRUE) %>%\n",
    "  dplyr::group_by(Species) %>%\n",
    "  dplyr::mutate(Frac_Peaks = No.Peaks/sum(No.Peaks))\n",
    "  \n",
    "x_order <- df_type %>%\n",
    "  dplyr::group_by(Type) %>%\n",
    "  dplyr::reframe(n = mean(Frac_Peaks)) %>%\n",
    "  dplyr::arrange(desc(n))\n",
    "\n",
    "df_type$Type <- factor(df_type$Type, levels = x_order$Type)\n",
    "\n",
    "print(\n",
    "  ggplot(df_type, aes(x = Type, y = Frac_Peaks)) +\n",
    "    geom_bar(stat = \"identity\") +\n",
    "    theme_minimal() +\n",
    "    theme(axis.title.x = element_blank(),\n",
    "          axis.text.x = element_text(angle = 45, hjust = 1, size = 7),\n",
    "          axis.title.y = element_text(margin = margin(r = 15)),\n",
    "          panel.grid = element_blank(),\n",
    "          plot.margin = unit(c(1, 3, 1, 3), \"cm\")) +\n",
    "    labs(title = \"Proportion of peaks in classes of transposable elements\") +\n",
    "    ylab(\"Proportion\") +\n",
    "    facet_wrap(. ~ Species)\n",
    ")\n",
    "\n",
    "x_order <- df_type %>%\n",
    "  dplyr::group_by(Type) %>%\n",
    "  dplyr::reframe(n = sum(No.Peaks)) %>%\n",
    "  dplyr::arrange(desc(n))\n",
    "\n",
    "df_type$Type <- factor(df_type$Type, levels = x_order$Type)\n",
    "\n",
    "print(\n",
    "  ggplot(df_type, aes(x = Type, y = No.Peaks)) +\n",
    "    geom_bar(stat = \"identity\") +\n",
    "    theme_minimal() +\n",
    "    theme(axis.title.x = element_blank(),\n",
    "          axis.text.x = element_text(angle = 45, hjust = 1, size = 7),\n",
    "          axis.title.y = element_text(margin = margin(r = 15)),\n",
    "          panel.grid = element_blank(),\n",
    "          plot.margin = unit(c(1, 3, 1, 3), \"cm\")) +\n",
    "    labs(title = \"# of peaks in classes of transposable elements\") +\n",
    "    ylab(\"# peaks\") + scale_y_continuous(labels = comma) +\n",
    "    facet_wrap(. ~ Species)\n",
    ")\n",
    "\n",
    "dev.off()"
   ]
  },
  {
   "cell_type": "code",
   "execution_count": null,
   "metadata": {
    "vscode": {
     "languageId": "r"
    }
   },
   "outputs": [],
   "source": []
  }
 ],
 "metadata": {
  "kernelspec": {
   "display_name": "R",
   "language": "R",
   "name": "ir"
  },
  "language_info": {
   "codemirror_mode": "r",
   "file_extension": ".r",
   "mimetype": "text/x-r-source",
   "name": "R",
   "pygments_lexer": "r",
   "version": "4.3.2"
  }
 },
 "nbformat": 4,
 "nbformat_minor": 2
}
