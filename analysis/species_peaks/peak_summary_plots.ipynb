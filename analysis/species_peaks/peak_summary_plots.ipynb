{
 "cells": [
  {
   "cell_type": "code",
   "execution_count": 87,
   "metadata": {
    "vscode": {
     "languageId": "r"
    }
   },
   "outputs": [],
   "source": [
    "setwd(\"/Users/rebecca/sudmant/analyses/myotis/analysis/species_peaks\")\n",
    "\n",
    "library(scales)\n",
    "library(dplyr)\n",
    "library(ggplot2)\n",
    "library(data.table)\n",
    "\n",
    "myo_meta <- read.csv(\"/Users/rebecca/sudmant/analyses/myotis/data/myotis_meta.csv\")"
   ]
  },
  {
   "cell_type": "code",
   "execution_count": 90,
   "metadata": {
    "vscode": {
     "languageId": "r"
    }
   },
   "outputs": [
    {
     "data": {
      "text/html": [
       "<strong>pdf:</strong> 2"
      ],
      "text/latex": [
       "\\textbf{pdf:} 2"
      ],
      "text/markdown": [
       "**pdf:** 2"
      ],
      "text/plain": [
       "pdf \n",
       "  2 "
      ]
     },
     "metadata": {},
     "output_type": "display_data"
    }
   ],
   "source": [
    "peak_files <- list.files(path = \"resources\", pattern = \"TEs\", full.names = TRUE)\n",
    "\n",
    "pdf(\"results/peaks_TE_types.pdf\", width = 8, height = 6)\n",
    "\n",
    "frac_TEs_list <- lapply(seq_along(myo_meta$Abbr), function(i) {\n",
    "\n",
    "  peak_features <- fread(\n",
    "    peak_files[grep(myo_meta$Abbr[i], peak_files)], \n",
    "    data.table = FALSE\n",
    "  )\n",
    "\n",
    "  peak_features$Type <- peak_features$V11\n",
    "  peak_features$Type[grep(\"^DNA\", peak_features$Type)] <- \"DNA\"\n",
    "  peak_features$Type[grep(\"^SINE\", peak_features$Type)] <- \"SINE\"\n",
    "  peak_features$Type[grep(\"^LINE\", peak_features$Type)] <- \"LINE\"\n",
    "  peak_features$Type[grep(\"^LTR\", peak_features$Type)] <- \"LTR\"\n",
    "  peak_features$Type[grep(\"^Simple\", peak_features$Type)] <- \"Simple repeat\"\n",
    "  peak_features$Type[grep(\"Unknown\", peak_features$Type)] <- \"Unknown\"\n",
    "  peak_features$Type[grep(\"RNA\", peak_features$Type)] <- \"rRNA/tRNA/snRNA\"\n",
    "  peak_features$Type[grep(\"^Sat\", peak_features$Type)] <- \"Other\"\n",
    "  peak_features$Type[grep(\"^Retro\", peak_features$Type)] <- \"Other\"\n",
    "  peak_features$Type <- gsub(\"_\", \" \", peak_features$Type)\n",
    "  \n",
    "  peak_type <- peak_features %>%\n",
    "    dplyr::filter(Type != \".\") %>%\n",
    "    dplyr::group_by(V4) %>%\n",
    "    dplyr::reframe(\n",
    "      Type = unique(Type)\n",
    "    ) \n",
    "  \n",
    "  x_order <- peak_type %>%\n",
    "    dplyr::group_by(Type) %>%\n",
    "    dplyr::reframe(n = n()) %>%\n",
    "    dplyr::arrange(desc(n))\n",
    "    \n",
    "  peak_type$Type <- factor(peak_type$Type, levels = x_order$Type) \n",
    "  \n",
    "  print(\n",
    "    ggplot(peak_type, aes(x = Type)) +\n",
    "    geom_bar() +\n",
    "    theme_minimal() +\n",
    "    theme(axis.title.x = element_blank(),\n",
    "          axis.text.x = element_text(angle = 45, hjust = 1),\n",
    "          axis.title.y = element_blank(),\n",
    "          plot.margin = unit(c(1, 1, 1, 1), \"cm\")) +\n",
    "    labs(title = myo_meta$Field_Name[i], \n",
    "         subtitle = \"Transposable elements in accessible regions\") +\n",
    "    scale_y_continuous(labels = comma) \n",
    "  )\n",
    "  \n",
    "  ## Within DNA subtypes:\n",
    "  peak_type <- peak_features %>%\n",
    "    dplyr::filter(grepl(\"DNA\", V11)) %>%\n",
    "    dplyr::group_by(V4) %>%\n",
    "    dplyr::reframe(\n",
    "      Type = unique(V11)\n",
    "    ) \n",
    "  \n",
    "  x_order <- peak_type %>%\n",
    "    dplyr::group_by(Type) %>%\n",
    "    dplyr::reframe(n = n()) %>%\n",
    "    dplyr::arrange(desc(n))\n",
    "    \n",
    "  peak_type$Type <- factor(peak_type$Type, levels = x_order$Type) \n",
    "  \n",
    "  print(\n",
    "    ggplot(peak_type, aes(x = Type)) +\n",
    "    geom_bar() +\n",
    "    theme_minimal() +\n",
    "    theme(axis.title.x = element_blank(),\n",
    "          axis.text.x = element_text(angle = 45, hjust = 1),\n",
    "          axis.title.y = element_blank(),\n",
    "          plot.margin = unit(c(1, 1, 1, 1), \"cm\")) +\n",
    "    labs(title = myo_meta$Field_Name[i], \n",
    "         subtitle = \"DNA transposable elements in accessible regions\") +\n",
    "    scale_y_continuous(labels = comma)\n",
    "  )\n",
    "  \n",
    "  uniq_peaks <- peak_features %>%\n",
    "    dplyr::mutate(TE = ifelse(V10 == \".\", FALSE, TRUE)) %>%\n",
    "    dplyr::group_by(V4) %>%\n",
    "    dplyr::reframe(TE = unique(TE))\n",
    "  \n",
    "  return(sum(uniq_peaks$TE == TRUE)/nrow(uniq_peaks))\n",
    "  \n",
    "})\n",
    "\n",
    "dev.off()"
   ]
  },
  {
   "cell_type": "code",
   "execution_count": 91,
   "metadata": {
    "vscode": {
     "languageId": "r"
    }
   },
   "outputs": [
    {
     "data": {
      "text/html": [
       "<ol>\n",
       "\t<li>0.876179271834823</li>\n",
       "\t<li>0.893690675600223</li>\n",
       "\t<li>0.880693097239819</li>\n",
       "\t<li>0.901722756806472</li>\n",
       "\t<li>0.890169803078354</li>\n",
       "\t<li>0.84539508056258</li>\n",
       "\t<li>0.892663781696848</li>\n",
       "\t<li>0.895528272133363</li>\n",
       "\t<li>0.894046394522314</li>\n",
       "</ol>\n"
      ],
      "text/latex": [
       "\\begin{enumerate}\n",
       "\\item 0.876179271834823\n",
       "\\item 0.893690675600223\n",
       "\\item 0.880693097239819\n",
       "\\item 0.901722756806472\n",
       "\\item 0.890169803078354\n",
       "\\item 0.84539508056258\n",
       "\\item 0.892663781696848\n",
       "\\item 0.895528272133363\n",
       "\\item 0.894046394522314\n",
       "\\end{enumerate}\n"
      ],
      "text/markdown": [
       "1. 0.876179271834823\n",
       "2. 0.893690675600223\n",
       "3. 0.880693097239819\n",
       "4. 0.901722756806472\n",
       "5. 0.890169803078354\n",
       "6. 0.84539508056258\n",
       "7. 0.892663781696848\n",
       "8. 0.895528272133363\n",
       "9. 0.894046394522314\n",
       "\n",
       "\n"
      ],
      "text/plain": [
       "[[1]]\n",
       "[1] 0.8761793\n",
       "\n",
       "[[2]]\n",
       "[1] 0.8936907\n",
       "\n",
       "[[3]]\n",
       "[1] 0.8806931\n",
       "\n",
       "[[4]]\n",
       "[1] 0.9017228\n",
       "\n",
       "[[5]]\n",
       "[1] 0.8901698\n",
       "\n",
       "[[6]]\n",
       "[1] 0.8453951\n",
       "\n",
       "[[7]]\n",
       "[1] 0.8926638\n",
       "\n",
       "[[8]]\n",
       "[1] 0.8955283\n",
       "\n",
       "[[9]]\n",
       "[1] 0.8940464\n"
      ]
     },
     "metadata": {},
     "output_type": "display_data"
    }
   ],
   "source": [
    "frac_TEs_list"
   ]
  }
 ],
 "metadata": {
  "kernelspec": {
   "display_name": "R",
   "language": "R",
   "name": "ir"
  },
  "language_info": {
   "codemirror_mode": "r",
   "file_extension": ".r",
   "mimetype": "text/x-r-source",
   "name": "R",
   "pygments_lexer": "r",
   "version": "4.3.2"
  }
 },
 "nbformat": 4,
 "nbformat_minor": 2
}
