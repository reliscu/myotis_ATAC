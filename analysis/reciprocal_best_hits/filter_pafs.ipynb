{
 "cells": [
  {
   "cell_type": "code",
   "execution_count": 47,
   "metadata": {
    "vscode": {
     "languageId": "r"
    }
   },
   "outputs": [],
   "source": [
    "setwd(\"/Users/rebecca/sudmant/analyses/myotis\")\n",
    "source(\"renv/activate.R\")"
   ]
  },
  {
   "cell_type": "code",
   "execution_count": 48,
   "metadata": {
    "vscode": {
     "languageId": "r"
    }
   },
   "outputs": [],
   "source": [
    "setwd(\"/Users/rebecca/sudmant/analyses/myotis/analysis/reciprocal_best_hits\")\n",
    "\n",
    "library(pafr)\n",
    "library(dplyr)\n",
    "library(data.table)\n",
    "\n",
    "myo_meta  <- read.csv(\"../../data/myotis_meta.csv\")\n",
    "\n",
    "spec1 <- myo_meta$Abbr[1]\n",
    "spec2 <- myo_meta$Abbr[2]\n",
    "\n",
    "spec1_paf <- fread(\n",
    "    list.files(\"data\", pattern = paste0(\"^\", spec1, \".*\", spec2), full.names = TRUE), \n",
    "    data.table = FALSE\n",
    "    )\n",
    "spec2_paf <- fread(\n",
    "    list.files(\"data\", pattern = paste0(\"^\", spec2, \".*\", spec1), full.names = TRUE),\n",
    "    data.table = FALSE\n",
    ")\n",
    "## Find reciprocal matches:\n",
    "colnames(spec1_paf) <- colnames(spec2_paf) <- c(\n",
    "    \"Qname\", \"Qlen\", \"Qstart\", \"Qend\",\n",
    "    \"Strand\", \"Tname\", \"Tlen\", \"Tstart\", \"Tend\",\n",
    "    \"Nmatch\", \"AliLen\", \"Mapq\", \"ID\"\n",
    ")\n",
    "        \n",
    "# for (spec1 in seq_along(myo_meta$Abbr)) {\n",
    "#     for (spec2 in seq_along(myo_meta$Abbr)) {\n",
    "#         spec1_paf <- read_paf(\n",
    "#             list.files(file.path(\"data\", pattern = paste0(\"^\", spec1, \".*\", spec2)))\n",
    "#             )\n",
    "#          spec2_paf <- read_paf(\n",
    "#              list.files(file.path(\"data\", pattern = paste0(\"^\", spec2, \".*\", spec1)))\n",
    "#          )\n",
    "#         ## Find reciprocal matches:\n",
    "#         colnames(spec1_paf) <- colnames(spec2_paf) <- c(\n",
    "#              \"Qname\", \"Qlen\", \"Qstart\", \"Qend\",\n",
    "#             \"Strand\", \"Tname\", \"Tlen\", \"Tstart\", \"Tend\",\n",
    "#             \"Nmatch\", \"AliLen\", \"Mapq\", \"ID\"\n",
    "#             )\n",
    "        \n",
    "#     }\n",
    "# }"
   ]
  },
  {
   "cell_type": "code",
   "execution_count": null,
   "metadata": {
    "vscode": {
     "languageId": "r"
    }
   },
   "outputs": [],
   "source": []
  }
 ],
 "metadata": {
  "kernelspec": {
   "display_name": "R",
   "language": "R",
   "name": "ir"
  },
  "language_info": {
   "codemirror_mode": "r",
   "file_extension": ".r",
   "mimetype": "text/x-r-source",
   "name": "R",
   "pygments_lexer": "r",
   "version": "4.3.2"
  }
 },
 "nbformat": 4,
 "nbformat_minor": 2
}
