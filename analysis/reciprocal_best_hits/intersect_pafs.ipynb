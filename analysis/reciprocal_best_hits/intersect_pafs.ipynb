{
 "cells": [
  {
   "cell_type": "code",
   "execution_count": 39,
   "metadata": {
    "vscode": {
     "languageId": "r"
    }
   },
   "outputs": [],
   "source": [
    "setwd(\"/Users/rebecca/sudmant/analyses/myotis\")\n",
    "source(\"renv/activate.R\")"
   ]
  },
  {
   "cell_type": "code",
   "execution_count": 40,
   "metadata": {
    "vscode": {
     "languageId": "r"
    }
   },
   "outputs": [],
   "source": [
    "setwd(\"/Users/rebecca/sudmant/analyses/myotis/analysis/reciprocal_best_hits\")\n",
    "\n",
    "library(dplyr)\n",
    "library(NanoBAC)\n",
    "library(data.table)\n",
    "library(GenomicRanges)\n",
    "\n",
    "myo_meta  <- read.csv(\"../../data/myotis_meta.csv\")"
   ]
  },
  {
   "cell_type": "code",
   "execution_count": 32,
   "metadata": {
    "vscode": {
     "languageId": "r"
    }
   },
   "outputs": [],
   "source": [
    "spec1 <- myo_meta$Abbr[1]\n",
    "spec2 <- myo_meta$Abbr[2]\n",
    "\n",
    "spec1_paf <- fread(\n",
    "    list.files(\"data\", pattern = paste0(\"^\", spec1, \".*\", spec2), full.names = TRUE), \n",
    "    skip = 3, data.table = FALSE\n",
    "    )\n",
    "spec2_paf <- fread(\n",
    "    list.files(\"data\", pattern = paste0(\"^\", spec2, \".*\", spec1), full.names = TRUE),\n",
    "    skip = 3, data.table = FALSE\n",
    ")\n",
    "\n",
    "colnames(spec1_paf) <- colnames(spec2_paf) <- c(\n",
    "    \"query_name\", \"query_length\", \"query_start\",\n",
    "    \"query_end\", \"strand\", \"target_name\", \"target_length\",\n",
    "    \"target_start\", \"target_end\", \"map_match\", \"map_length\",\n",
    "    \"map_quality\"\n",
    ")\n",
    "## Find reciprocal matches:\n",
    "# colnames(spec1_paf) <- colnames(spec2_paf) <- c(\n",
    "#     \"Qname\", \"Qlen\", \"Qstart\", \"Qend\",\n",
    "#     \"Strand\", \"Tname\", \"Tlen\", \"Tstart\", \"Tend\",\n",
    "#     \"Nmatch\", \"AliLen\", \"Mapq\", \"ID\"\n",
    "# )\n",
    "        \n",
    "# for (spec1 in seq_along(myo_meta$Abbr)) {\n",
    "#     for (spec2 in seq_along(myo_meta$Abbr)) {\n",
    "#         spec1_paf <- read_paf(\n",
    "#             list.files(file.path(\"data\", pattern = paste0(\"^\", spec1, \".*\", spec2)))\n",
    "#             )\n",
    "#          spec2_paf <- read_paf(\n",
    "#              list.files(file.path(\"data\", pattern = paste0(\"^\", spec2, \".*\", spec1)))\n",
    "#          )\n",
    "#         ## Find reciprocal matches:\n",
    "#         colnames(spec1_paf) <- colnames(spec2_paf) <- c(\n",
    "#              \"Qname\", \"Qlen\", \"Qstart\", \"Qend\",\n",
    "#             \"Strand\", \"Tname\", \"Tlen\", \"Tstart\", \"Tend\",\n",
    "#             \"Nmatch\", \"AliLen\", \"Mapq\", \"ID\"\n",
    "#             )\n",
    "        \n",
    "#     }\n",
    "# }\n",
    "\n",
    "\n",
    "\n",
    "\n",
    "\n"
   ]
  },
  {
   "cell_type": "code",
   "execution_count": 44,
   "metadata": {
    "vscode": {
     "languageId": "r"
    }
   },
   "outputs": [
    {
     "data": {
      "text/plain": [
       "GRanges object with 6 ranges and 7 metadata columns:\n",
       "                 seqnames            ranges strand |            ReadName\n",
       "                    <Rle>         <IRanges>  <Rle> |         <character>\n",
       "  [1] mMyoAui1.0.SUPER__1   3453707-4165946      + | mMyoCai1.0.SUPER__1\n",
       "  [2] mMyoAui1.0.SUPER__1   4289627-5503974      + | mMyoCai1.0.SUPER__1\n",
       "  [3] mMyoAui1.0.SUPER__1  5775850-10061158      - | mMyoCai1.0.SUPER__1\n",
       "  [4] mMyoAui1.0.SUPER__1 10140659-11195931      + | mMyoCai1.0.SUPER__1\n",
       "  [5] mMyoAui1.0.SUPER__1 11413552-76959936      - | mMyoCai1.0.SUPER__1\n",
       "  [6] mMyoAui1.0.SUPER__1 77127056-77381949      - | mMyoCai1.0.SUPER__1\n",
       "      ReadLength query_start query_end map_match map_length map_quality\n",
       "       <integer>   <integer> <integer> <integer>  <integer>   <integer>\n",
       "  [1]  234393516   232195000 232890000      6964     712239          15\n",
       "  [2]  234393516   230495000 231685000     11638    1214347          14\n",
       "  [3]  234393516   225990000 230280000     41675    4290000          15\n",
       "  [4]  234393516   224980000 226025000     10193    1055272          15\n",
       "  [5]  234393516   158860000 224965000    652166   66105000          16\n",
       "  [6]  234393516   158290000 158550000      2472     260000          12\n",
       "  -------\n",
       "  seqinfo: 33 sequences from an unspecified genome"
      ]
     },
     "metadata": {},
     "output_type": "display_data"
    }
   ],
   "source": [
    "spec1_gr <- paf2gr(spec1_paf[,-ncol(spec1_paf)])\n",
    "head(spec1_gr)"
   ]
  }
 ],
 "metadata": {
  "kernelspec": {
   "display_name": "R",
   "language": "R",
   "name": "ir"
  },
  "language_info": {
   "codemirror_mode": "r",
   "file_extension": ".r",
   "mimetype": "text/x-r-source",
   "name": "R",
   "pygments_lexer": "r",
   "version": "4.3.2"
  }
 },
 "nbformat": 4,
 "nbformat_minor": 2
}
