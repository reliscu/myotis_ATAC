{
 "cells": [
  {
   "cell_type": "code",
   "execution_count": 187,
   "metadata": {
    "vscode": {
     "languageId": "r"
    }
   },
   "outputs": [],
   "source": [
    "setwd(\"/Users/rebecca/sudmant/analyses/myotis/analysis/reciprocal_best_hits\")\n",
    "\n",
    "library(pafr)\n",
    "library(dplyr)\n",
    "library(stringr)\n",
    "library(data.table)\n",
    "\n",
    "options(scipen = 100, digits = 10)\n",
    "\n",
    "myo_meta <- read.csv(\"../../data/myotis_meta.csv\")"
   ]
  },
  {
   "cell_type": "code",
   "execution_count": 207,
   "metadata": {
    "vscode": {
     "languageId": "r"
    }
   },
   "outputs": [],
   "source": [
    "i = 1\n",
    "j = 2\n",
    "\n",
    "working_paf1 <- read_paf(file.path(\"resources/pafs\", intersect(\n",
    "  list.files(path = \"resources/pafs\", pattern = paste0(\"^\", myo_meta$Abbr[j])),\n",
    "  list.files(path = \"resources/pafs\", pattern = paste0(\"_\", myo_meta$Abbr[i]))\n",
    ")))\n",
    "\n",
    "working_paf2 <- read_paf(file.path(\"resources/pafs\", intersect(\n",
    "  list.files(path = \"resources/pafs\", pattern = paste0(\"^\", myo_meta$Abbr[i])),\n",
    "  list.files(path = \"resources/pafs\", pattern = paste0(\"_\", myo_meta$Abbr[j]))\n",
    ")))\n",
    "\n",
    "## Get intersection of a species' sequences when they are target vs. the query:\n",
    "\n",
    "spec1_bed <- fread(file.path(\"resources/beds\", paste0(\n",
    "  myo_meta$Abbr[j], \"_vs_\", myo_meta$Abbr[i], \"_positions_intersect.bed\"\n",
    ")), data.table = FALSE)\n",
    "\n",
    "spec2_bed <- fread(file.path(\"resources/beds\", paste0(\n",
    "  myo_meta$Abbr[i], \"_vs_\", myo_meta$Abbr[j], \"_positions_intersect.bed\"\n",
    ")), data.table = FALSE)"
   ]
  },
  {
   "cell_type": "code",
   "execution_count": 208,
   "metadata": {
    "vscode": {
     "languageId": "r"
    }
   },
   "outputs": [],
   "source": [
    "## Subset to intersections that appeared when a species was both target and query (for both species):\n",
    "\n",
    "## Make sequence identifiers unique:\n",
    "spec1_bed$id <- paste(str_extract(spec1_bed$V1, pattern = \"SUPER.*\"), as.character(spec1_bed$V7), as.character(spec1_bed$V15))\n",
    "spec2_bed$id <- paste(str_extract(spec2_bed$V1, pattern = \"SUPER.*\"), as.character(spec2_bed$V15), as.character(spec2_bed$V7))\n",
    "\n",
    "## Subset each species' bed files to shared sequences\n",
    "spec1_bed <- spec1_bed[spec1_bed$id %in% spec2_bed$id,]\n",
    "spec2_bed <- spec2_bed[spec2_bed$id %in% spec1_bed$id,]\n",
    "\n",
    "## Subset PAF files to these sequences:\n",
    "working_paf1 <- working_paf1[as.character(working_paf1$id) %in% as.character(spec1_bed$V7),]\n",
    "working_paf2 <- working_paf2[as.character(working_paf2$id) %in% as.character(spec2_bed$V7),]\n",
    "\n",
    "# spec2_bed <- spec2_bed[order(spec2_bed$id),]\n",
    "# spec1_bed <- spec1_bed[order(spec1_bed$id),]"
   ]
  },
  {
   "cell_type": "code",
   "execution_count": 210,
   "metadata": {
    "vscode": {
     "languageId": "r"
    }
   },
   "outputs": [],
   "source": [
    "## PAF 1: Put intersecting positions in target and query columns:\n",
    "spec1_target_matches <- match(as.character(spec1_bed$V7), as.character(working_paf1$id))\n",
    "spec2_query_matches <- match(as.character(spec2_bed$V15), as.character(working_paf1$id))\n",
    "\n",
    "working_paf1_repl <- working_paf1\n",
    "working_paf1_repl$tstart[spec1_target_matches] <- spec1_bed$V2\n",
    "working_paf1_repl$tend[spec1_target_matches] <- spec1_bed$V3\n",
    "working_paf1_repl$qstart[spec2_query_matches] <- spec2_bed$V2\n",
    "working_paf1_repl$qend[spec2_query_matches] <- spec2_bed$V3"
   ]
  },
  {
   "cell_type": "code",
   "execution_count": 217,
   "metadata": {
    "vscode": {
     "languageId": "r"
    }
   },
   "outputs": [],
   "source": [
    "## PAF 2: Put intersecting positions in target and query columns:\n",
    "spec2_target_matches <- match(as.character(spec2_bed$V7), as.character(working_paf2$id))\n",
    "spec1_query_matches <- match(as.character(spec1_bed$V15), as.character(working_paf2$id))\n",
    "\n",
    "working_paf2_repl <- working_paf2\n",
    "working_paf2_repl$tstart[spec2_target_matches] <- spec2_bed$V2\n",
    "working_paf2_repl$tend[spec2_target_matches] <- spec2_bed$V3\n",
    "working_paf2_repl$qstart[spec1_query_matches] <- spec1_bed$V2\n",
    "working_paf2_repl$qend[spec1_query_matches] <- spec1_bed$V3"
   ]
  },
  {
   "cell_type": "code",
   "execution_count": null,
   "metadata": {
    "vscode": {
     "languageId": "r"
    }
   },
   "outputs": [],
   "source": [
    "## How does PAF 1 compare to PAF 2?\n",
    "\n"
   ]
  },
  {
   "cell_type": "code",
   "execution_count": null,
   "metadata": {
    "vscode": {
     "languageId": "r"
    }
   },
   "outputs": [],
   "source": [
    "for (i in seq_along(myo_meta$Abbr)) {\n",
    "  \n",
    "  for (j in seq_along(myo_meta$Abbr)) {\n",
    "\n",
    "    if (i != j) {\n",
    "\n",
    "      working_paf1 <- read_paf(file.path(\"resources/pafs\", intersect(\n",
    "        list.files(path = \"resources/pafs\", pattern = paste0(\"^\", myo_meta$Abbr[j])),\n",
    "        list.files(path = \"resources/pafs\", pattern = paste0(\"_\", myo_meta$Abbr[i]))\n",
    "      )))\n",
    "\n",
    "      working_paf2 <- read_paf(file.path(\"resources/pafs\", intersect(\n",
    "        list.files(path = \"resources/pafs\", pattern = paste0(\"^\", myo_meta$Abbr[i])),\n",
    "        list.files(path = \"resources/pafs\", pattern = paste0(\"_\", myo_meta$Abbr[j]))\n",
    "      )))\n",
    "\n",
    "      spec1_query <- working_paf1 %>%\n",
    "        dplyr::select(\n",
    "          qname, qstart, qend, strand,\n",
    "          nmatch, alen, mapq, id\n",
    "        )\n",
    "\n",
    "      spec1_target <- working_paf2 %>%\n",
    "        dplyr::select(\n",
    "          tname, tstart, tend,\n",
    "          nmatch, alen, mapq, id\n",
    "        )\n",
    "      \n",
    "    }\n",
    "  }\n",
    "}"
   ]
  }
 ],
 "metadata": {
  "kernelspec": {
   "display_name": "R",
   "language": "R",
   "name": "ir"
  },
  "language_info": {
   "codemirror_mode": "r",
   "file_extension": ".r",
   "mimetype": "text/x-r-source",
   "name": "R",
   "pygments_lexer": "r",
   "version": "4.3.2"
  }
 },
 "nbformat": 4,
 "nbformat_minor": 2
}
