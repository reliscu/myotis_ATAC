{
 "cells": [
  {
   "cell_type": "code",
   "execution_count": 62,
   "metadata": {
    "vscode": {
     "languageId": "r"
    }
   },
   "outputs": [],
   "source": [
    "setwd(\"/Users/rebecca/sudmant/analyses/myotis/analysis/reciprocal_best_hits/01_get_best_hits\")\n",
    "\n",
    "library(pafr)\n",
    "library(dplyr, verbose = FALSE)\n",
    "library(stringr)\n",
    "library(data.table)\n",
    "\n",
    "options(scipen = 100, digits = 10)\n",
    "myo_meta <- read.csv(\"../../../data/myotis_meta.csv\")"
   ]
  },
  {
   "cell_type": "code",
   "execution_count": 65,
   "metadata": {
    "tags": [],
    "vscode": {
     "languageId": "r"
    }
   },
   "outputs": [
    {
     "name": "stdout",
     "output_type": "stream",
     "text": [
      "[1] \"mMyoAui vs. mMyoCai\"\n",
      "[1] \"mMyoAui vs. mMyoEvo\"\n",
      "[1] \"mMyoAui vs. mMyoLuc\"\n",
      "[1] \"mMyoAui vs. mMyoOcc\"\n",
      "[1] \"mMyoAui vs. mMyoThy\"\n",
      "[1] \"mMyoAui vs. mMyoVel\"\n",
      "[1] \"mMyoAui vs. mMyoVol\"\n",
      "[1] \"mMyoAui vs. mMyoYum\"\n",
      "[1] \"mMyoCai vs. mMyoEvo\"\n",
      "[1] \"mMyoCai vs. mMyoLuc\"\n",
      "[1] \"mMyoCai vs. mMyoOcc\"\n",
      "[1] \"mMyoCai vs. mMyoThy\"\n",
      "[1] \"mMyoCai vs. mMyoVel\"\n",
      "[1] \"mMyoCai vs. mMyoVol\"\n",
      "[1] \"mMyoCai vs. mMyoYum\"\n",
      "[1] \"mMyoEvo vs. mMyoLuc\"\n",
      "[1] \"mMyoEvo vs. mMyoOcc\"\n",
      "[1] \"mMyoEvo vs. mMyoThy\"\n",
      "[1] \"mMyoEvo vs. mMyoVel\"\n",
      "[1] \"mMyoEvo vs. mMyoVol\"\n",
      "[1] \"mMyoEvo vs. mMyoYum\"\n",
      "[1] \"mMyoLuc vs. mMyoOcc\"\n",
      "[1] \"mMyoLuc vs. mMyoThy\"\n",
      "[1] \"mMyoLuc vs. mMyoVel\"\n",
      "[1] \"mMyoLuc vs. mMyoVol\"\n",
      "[1] \"mMyoLuc vs. mMyoYum\"\n",
      "[1] \"mMyoOcc vs. mMyoThy\"\n",
      "[1] \"mMyoOcc vs. mMyoVel\"\n",
      "[1] \"mMyoOcc vs. mMyoVol\"\n",
      "[1] \"mMyoOcc vs. mMyoYum\"\n",
      "[1] \"mMyoThy vs. mMyoVel\"\n",
      "[1] \"mMyoThy vs. mMyoVol\"\n",
      "[1] \"mMyoThy vs. mMyoYum\"\n",
      "[1] \"mMyoVel vs. mMyoVol\"\n",
      "[1] \"mMyoVel vs. mMyoYum\"\n",
      "[1] \"mMyoVol vs. mMyoYum\"\n"
     ]
    }
   ],
   "source": [
    "for (i in seq_along(myo_meta$Abbr)) {\n",
    "  \n",
    "  for (j in seq_along(myo_meta$Abbr)) {\n",
    "\n",
    "    if (i < j) {\n",
    "\n",
    "      print(paste(myo_meta$Abbr[i], \"vs.\", myo_meta$Abbr[j]))\n",
    "\n",
    "      working_paf1 <- read_paf(file.path(\"resources/pafs\", intersect(\n",
    "        list.files(path = \"resources/pafs\", pattern = paste0(\"^\", myo_meta$Abbr[j])),\n",
    "        list.files(path = \"resources/pafs\", pattern = paste0(\"_\", myo_meta$Abbr[i]))\n",
    "      )))\n",
    "\n",
    "      working_paf2 <- read_paf(file.path(\"resources/pafs\", intersect(\n",
    "        list.files(path = \"resources/pafs\", pattern = paste0(\"^\", myo_meta$Abbr[i])),\n",
    "        list.files(path = \"resources/pafs\", pattern = paste0(\"_\", myo_meta$Abbr[j]))\n",
    "      )))\n",
    "\n",
    "      spec1_intersect <- fread(file.path(\"resources/beds\", paste0(\n",
    "        myo_meta$Abbr[j], \"_vs_\", myo_meta$Abbr[i], \"_positions_intersect.bed\"\n",
    "      )), data.table = FALSE)\n",
    "\n",
    "      spec2_intersect <- fread(file.path(\"resources/beds\", paste0(\n",
    "        myo_meta$Abbr[i], \"_vs_\", myo_meta$Abbr[j], \"_positions_intersect.bed\"\n",
    "      )), data.table = FALSE)\n",
    "\n",
    "      working_paf1$qname <- gsub(\"SCAF\", \"SUPER\", working_paf1$qname)\n",
    "      working_paf2$qname <- gsub(\"SCAF\", \"SUPER\", working_paf2$qname)\n",
    "      working_paf1$tname <- gsub(\"SCAF\", \"SUPER\", working_paf1$tname)\n",
    "      working_paf2$tname <- gsub(\"SCAF\", \"SUPER\", working_paf2$tname)\n",
    "      spec1_intersect$V1 <- gsub(\"SCAF\", \"SUPER\", spec1_intersect$V1)\n",
    "      spec1_intersect$V8 <- gsub(\"SCAF\", \"SUPER\", spec1_intersect$V8)\n",
    "      spec2_intersect$V1 <- gsub(\"SCAF\", \"SUPER\", spec2_intersect$V1)\n",
    "      spec2_intersect$V8 <- gsub(\"SCAF\", \"SUPER\", spec2_intersect$V8)\n",
    "\n",
    "      working_paf1$Id <- with(working_paf1, paste(qstart, qend, tstart, tend, id, sep = \"_\"))      \n",
    "      working_paf2$Id <- with(working_paf2, paste(qstart, qend, tstart, tend, id, sep = \"_\"))   \n",
    "\n",
    "      ## Insert new sequences into original PAF files:\n",
    "\n",
    "      target_inds <- match(working_paf1$Id, spec1_intersect$V8)\n",
    "      working_paf1$tstart <- spec1_intersect$V2[target_inds]\n",
    "      working_paf1$tend <- spec1_intersect$V3[target_inds]\n",
    "      query_inds <- match(working_paf1$Id, spec2_intersect$V17)\n",
    "      working_paf1$qstart <- spec2_intersect$V2[query_inds]\n",
    "      working_paf1$qend <- spec2_intersect$V3[query_inds]\n",
    "\n",
    "      target_inds <- match(working_paf2$Id, spec2_intersect$V8)\n",
    "      working_paf2$tstart <- spec2_intersect$V2[target_inds]\n",
    "      working_paf2$tend <- spec2_intersect$V3[target_inds]\n",
    "      query_inds <- match(working_paf2$Id, spec1_intersect$V17)\n",
    "      working_paf2$qstart <- spec1_intersect$V2[query_inds]\n",
    "      working_paf2$qend <- spec1_intersect$V3[query_inds]\n",
    "\n",
    "      working_paf1 <- working_paf1[!is.na(working_paf1$tstart),]\n",
    "      working_paf2 <- working_paf2[!is.na(working_paf2$tstart),]\n",
    "\n",
    "      ## Subset to hits found in both directions:\n",
    "\n",
    "      working_paf1 <- working_paf1[with(working_paf1, paste(qstart, qend, tstart, tend)) %in% with(working_paf2, paste(tstart, tend, qstart, qend)),]\n",
    "      working_paf2 <- working_paf2[with(working_paf2, paste(qstart, qend, tstart, tend)) %in% with(working_paf1, paste(tstart, tend, qstart, qend)),]\n",
    "      working_paf2 <- working_paf2[match(with(working_paf1, paste(tstart, tend, qstart, qend)), with(working_paf2, paste(qstart, qend, tstart, tend))),]\n",
    "      working_paf1 <- working_paf1[match(with(working_paf2, paste(tstart, tend, qstart, qend)), with(working_paf1, paste(qstart, qend, tstart, tend))),]\n",
    "\n",
    "      ## Save results:\n",
    "      \n",
    "      working_paf1$qname <- as.character(working_paf1$qname)\n",
    "      working_paf2$qname <- as.character(working_paf2$qname)\n",
    "      working_paf1$qname <- gsub(\"#\", \".\", working_paf1$qname, fixed = TRUE)\n",
    "      working_paf2$qname <- gsub(\"#\", \".\", working_paf2$qname, fixed = TRUE)\n",
    "\n",
    "      write.csv(working_paf1, file = paste0(\n",
    "        \"results/\", myo_meta$Abbr[i], \"_vs_\", myo_meta$Abbr[j], \"_best_hits.csv\"\n",
    "      ), row.names = FALSE, quote = FALSE)\n",
    "\n",
    "      write.csv(working_paf2, file = paste0(\n",
    "        \"results/\", myo_meta$Abbr[j], \"_vs_\", myo_meta$Abbr[i], \"_best_hits.csv\"\n",
    "      ), row.names = FALSE, quote = FALSE)\n",
    "\n",
    "    }\n",
    "  }\n",
    "}"
   ]
  },
  {
   "cell_type": "code",
   "execution_count": null,
   "metadata": {
    "vscode": {
     "languageId": "r"
    }
   },
   "outputs": [],
   "source": []
  },
  {
   "cell_type": "code",
   "execution_count": null,
   "metadata": {
    "vscode": {
     "languageId": "r"
    }
   },
   "outputs": [],
   "source": []
  }
 ],
 "metadata": {
  "kernelspec": {
   "display_name": "R",
   "language": "R",
   "name": "ir"
  },
  "language_info": {
   "codemirror_mode": "r",
   "file_extension": ".r",
   "mimetype": "text/x-r-source",
   "name": "R",
   "pygments_lexer": "r",
   "version": "4.3.2"
  }
 },
 "nbformat": 4,
 "nbformat_minor": 2
}
