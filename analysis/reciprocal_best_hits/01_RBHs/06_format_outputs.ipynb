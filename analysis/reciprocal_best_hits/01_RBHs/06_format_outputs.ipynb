{
 "cells": [
  {
   "cell_type": "code",
   "execution_count": 1,
   "metadata": {
    "vscode": {
     "languageId": "r"
    }
   },
   "outputs": [],
   "source": [
    "setwd(\"/Users/rebecca/sudmant/analyses/myotis/analysis/reciprocal_best_hits/01_RBHs/results/data\")\n",
    "\n",
    "library(data.table)"
   ]
  },
  {
   "cell_type": "code",
   "execution_count": 4,
   "metadata": {
    "vscode": {
     "languageId": "r"
    }
   },
   "outputs": [],
   "source": [
    "## Add column names to best hit peak data for clarity\n",
    "\n",
    "for (peak_file in list.files(pattern = \"peaks.tsv\")) {\n",
    "\n",
    "  peaks <- fread(peak_file, data.table = FALSE)\n",
    "  peaks <- peaks[,-5]\n",
    "  colnames(peaks) <- c(\n",
    "    \"Chr\", \"Peak_RBH_Start\", \"Peak_RBH_End\", \n",
    "    \"Peak_ID\", \"RBH_Start\", \"RBH_End\"\n",
    "  )\n",
    "  fwrite(peaks, file = gsub(\".tsv\", \"_header.csv\", peak_file))\n",
    "\n",
    "}\n",
    "\n",
    "for (peak_file in list.files(pattern = \"genes_5000.*tsv\")) {\n",
    "\n",
    "  peaks <- fread(peak_file, data.table = FALSE)\n",
    "  peaks <- peaks[,-c(5, 8:10, 13, 15)]\n",
    "  colnames(peaks) <- c(\n",
    "    \"Chr\", \"Peak_RBH_Start\", \"Peak_RBH_End\", \n",
    "    \"Peak_ID\", \"RBH_Start\", \"RBH_End\", \n",
    "    \"Gene_Start\", \"Gene_End\", \"Strand\", \"Gene\"\n",
    "  )\n",
    "  fwrite(peaks, file = gsub(\".tsv\", \"_header.csv\", peak_file))\n",
    "\n",
    "}\n",
    "\n",
    "for (peak_file in list.files(pattern = \"exon1_5000.*tsv\")) {\n",
    "\n",
    "  peaks <- fread(peak_file, data.table = FALSE)\n",
    "  peaks <- peaks[,-c(5, 8:10, 13, 15)]\n",
    "  colnames(peaks) <- c(\n",
    "    \"Chr\", \"Peak_RBH_Start\", \"Peak_RBH_End\", \n",
    "    \"Peak_ID\", \"RBH_Start\", \"RBH_End\",\n",
    "    \"Exon_Start\", \"Exon_End\", \"Strand\", \"Gene\"\n",
    "  )\n",
    "  fwrite(peaks, file = gsub(\".tsv\", \"_header.csv\", peak_file))\n",
    "\n",
    "}\n",
    "\n",
    "for (peak_file in list.files(pattern = \"TEs.tsv\")) {\n",
    "\n",
    "  peaks <- fread(peak_file, data.table = FALSE)\n",
    "  peaks <- peaks[,-c(5, 8)]\n",
    "  colnames(peaks) <- c(\n",
    "    \"Chr\", \"Peak_RBH_Start\", \"Peak_RBH_End\", \n",
    "    \"Peak_ID\", \"RBH_Start\", \"RBH_End\",\n",
    "    \"TE_Start\", \"TE_End\", \"Score\", \"Divergence\", \n",
    "    \"Repeat_Name\", \"Class\"\n",
    "  )\n",
    "  fwrite(peaks, file = gsub(\".tsv\", \"_header.csv\", peak_file))\n",
    "\n",
    "}"
   ]
  }
 ],
 "metadata": {
  "kernelspec": {
   "display_name": "R",
   "language": "R",
   "name": "ir"
  },
  "language_info": {
   "codemirror_mode": "r",
   "file_extension": ".r",
   "mimetype": "text/x-r-source",
   "name": "R",
   "pygments_lexer": "r",
   "version": "4.3.2"
  }
 },
 "nbformat": 4,
 "nbformat_minor": 2
}
