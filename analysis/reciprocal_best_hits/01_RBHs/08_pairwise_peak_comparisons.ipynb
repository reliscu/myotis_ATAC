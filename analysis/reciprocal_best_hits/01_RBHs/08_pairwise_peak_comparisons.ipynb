{
 "cells": [
  {
   "cell_type": "code",
   "execution_count": 36,
   "metadata": {
    "vscode": {
     "languageId": "r"
    }
   },
   "outputs": [],
   "source": [
    "setwd(\"/Users/rebecca/sudmant/analyses/myotis/analysis/reciprocal_best_hits/01_RBHs\")\n",
    "\n",
    "library(data.table)\n",
    "\n",
    "myo_meta <- read.csv(\"/Users/rebecca/sudmant/analyses/myotis/data/myotis_meta.csv\")"
   ]
  },
  {
   "cell_type": "code",
   "execution_count": 42,
   "metadata": {
    "vscode": {
     "languageId": "r"
    }
   },
   "outputs": [],
   "source": [
    "for (i in seq_along(myo_meta$Abbr)) {\n",
    "  \n",
    "  for(j in seq_along(myo_meta$Abbr)) {\n",
    "  \n",
    "    if (i != j) {\n",
    "      \n",
    "      spec1_genes <- fread(list.files(\n",
    "        path = \"results/data\", \n",
    "        pattern = paste0(myo_meta$Abbr[i], \"_vs_\", myo_meta$Abbr[j], \".*genes_5000.*orthologs.csv\"),\n",
    "        full.names = TRUE\n",
    "      ), data.table = FALSE)\n",
    "\n",
    "      spec1_rbhs <- fread(list.files(\n",
    "        path = \"results/data\", \n",
    "        pattern = paste0(myo_meta$Abbr[i], \"_vs_\", myo_meta$Abbr[j], \"_RBHs.csv\"),\n",
    "        full.names = TRUE\n",
    "      ), data.table = FALSE)\n",
    "\n",
    "      spec1_rbhs$ID <- with(spec1_rbhs, paste(Spec_Chr, Spec_Start, Spec_End))\n",
    "      spec1_genes$ID <- with(spec1_genes, paste(Chr, RBH_Start, RBH_End))\n",
    "      \n",
    "      # spec1_genes$Peak <- \"Peak\"\n",
    "      # spec1_genes$Peak[!spec1_genes$ID %in% spec1_rbhs$ID] <- \"No peak\"\n",
    "      \n",
    "      if (sum(!spec1_genes$ID %in% spec1_rbhs$ID) > 0) {\n",
    "        print(paste(i, j))\n",
    "      }\n",
    "\n",
    "    \n",
    "    }\n",
    "    \n",
    "  }\n",
    "  \n",
    "}"
   ]
  },
  {
   "cell_type": "markdown",
   "metadata": {},
   "source": [
    "## It looks like ALL reciprocal regions with orthologous genes have peaks"
   ]
  },
  {
   "cell_type": "markdown",
   "metadata": {},
   "source": []
  }
 ],
 "metadata": {
  "kernelspec": {
   "display_name": "R",
   "language": "R",
   "name": "ir"
  },
  "language_info": {
   "codemirror_mode": "r",
   "file_extension": ".r",
   "mimetype": "text/x-r-source",
   "name": "R",
   "pygments_lexer": "r",
   "version": "4.3.2"
  }
 },
 "nbformat": 4,
 "nbformat_minor": 2
}
