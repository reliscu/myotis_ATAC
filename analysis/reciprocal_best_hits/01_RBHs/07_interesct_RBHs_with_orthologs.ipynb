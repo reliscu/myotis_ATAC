{
 "cells": [
  {
   "cell_type": "code",
   "execution_count": 1,
   "metadata": {
    "vscode": {
     "languageId": "r"
    }
   },
   "outputs": [],
   "source": [
    "setwd(\"/Users/rebecca/sudmant/analyses/myotis/analysis/reciprocal_best_hits/01_RBHs\")\n",
    "\n",
    "library(data.table)\n",
    "\n",
    "myo_meta <- read.csv(\"/Users/rebecca/sudmant/analyses/myotis/data/myotis_meta.csv\")\n",
    "ortho_table <- fread(\"/Users/rebecca/sudmant/analyses/myotis/data/ortholog_mapping.csv\", data.table = FALSE)\n",
    "yum_col <- grep(\"^yum\", colnames(ortho_table))\n",
    "ortho_table[,yum_col] <- gsub(\"SCAF\", \"SUPER\", ortho_table[,yum_col]) \n",
    "colnames(ortho_table)[1:3] <- c(\"ENSEMBL\", \"SYMBOL\", \"Myotis_Alias\")"
   ]
  },
  {
   "cell_type": "code",
   "execution_count": 2,
   "metadata": {
    "vscode": {
     "languageId": "r"
    }
   },
   "outputs": [],
   "source": [
    "## Intersect RBH peaks with orthologous genes\n",
    "\n",
    "for (i in seq_along(1:nrow(myo_meta))) {\n",
    "\n",
    "  spec_id <- tolower(gsub(\"Myotis-\", \"\", myo_meta$Field_Name[i]))\n",
    "  peak_files <- list.files(path = \"results/data\", \n",
    "                           pattern = paste0(\"^\", myo_meta$Abbr[i], \".*_genes.*_5000.*.csv\"),\n",
    "                           full.names = TRUE)\n",
    "  \n",
    "  for(j in seq_along(peak_files)) {\n",
    "\n",
    "    ## Parse gene column:\n",
    "    \n",
    "    peaks <- fread(peak_files[j], data.table = FALSE)\n",
    "    \n",
    "    if (grepl(\"exon\", peak_files[j])) {\n",
    "      \n",
    "      peaks$Gene <- sapply(strsplit(peaks$Gene, \";\"), \"[\", 2)\n",
    "      peaks$Gene <- gsub(\"model\", \"TU\", peaks$Gene)\n",
    "      \n",
    "    } else {\n",
    "      peaks$Gene <- sapply(strsplit(peaks$Gene, \";\", fixed = TRUE), \"[\", 1)\n",
    "    }                                             \n",
    "    peaks$Gene <- gsub(\".*=\", paste0(spec_id, \"_\"), peaks$Gene)    \n",
    "                                                       \n",
    "    ## Intersect best hit genes with orthologous genes:\n",
    "    spec_col <- grep(paste0(spec_id, \"_ID\"), colnames(ortho_table))\n",
    "    spec_ortho_table <- ortho_table[,c(1:3, spec_col),]\n",
    "    colnames(spec_ortho_table)[4] <- \"Gene\"\n",
    "    spec_ortho_table <- spec_ortho_table[spec_ortho_table$Gene %in% peaks$Gene,]\n",
    "    peak_orthos <- merge(peaks, spec_ortho_table, by = \"Gene\", all.x = TRUE, sort = FALSE)\n",
    "    \n",
    "    fwrite(peak_orthos, file = gsub(\".csv\", \"_orthologs.csv\", peak_files[j]))\n",
    "\n",
    "  }\n",
    "\n",
    "}                                "
   ]
  },
  {
   "cell_type": "code",
   "execution_count": null,
   "metadata": {
    "vscode": {
     "languageId": "r"
    }
   },
   "outputs": [],
   "source": []
  }
 ],
 "metadata": {
  "kernelspec": {
   "display_name": "R",
   "language": "R",
   "name": "ir"
  },
  "language_info": {
   "codemirror_mode": "r",
   "file_extension": ".r",
   "mimetype": "text/x-r-source",
   "name": "R",
   "pygments_lexer": "r",
   "version": "4.3.2"
  }
 },
 "nbformat": 4,
 "nbformat_minor": 2
}
