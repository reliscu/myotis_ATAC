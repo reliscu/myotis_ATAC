{
 "cells": [
  {
   "cell_type": "code",
   "execution_count": 17,
   "metadata": {
    "vscode": {
     "languageId": "r"
    }
   },
   "outputs": [],
   "source": [
    "setwd(\"/Users/rebecca/sudmant/analyses/myotis/analysis/reciprocal_best_hits/01_get_best_hits/results\")\n",
    "\n",
    "library(pafr)\n",
    "library(dplyr)\n",
    "library(data.table)\n",
    "library(GenomicRanges)\n",
    "\n",
    "myo_meta <- read.csv(\"/Users/rebecca/sudmant/analyses/myotis/data/myotis_meta.csv\")"
   ]
  },
  {
   "cell_type": "code",
   "execution_count": 18,
   "metadata": {
    "vscode": {
     "languageId": "r"
    }
   },
   "outputs": [
    {
     "name": "stdout",
     "output_type": "stream",
     "text": [
      "[1] \"mMyoAui\"\n",
      "[1] \"mMyoCai\"\n",
      "[1] \"mMyoEvo\"\n",
      "[1] \"mMyoLuc\"\n",
      "[1] \"mMyoOcc\"\n",
      "[1] \"mMyoThy\"\n",
      "[1] \"mMyoVel\"\n",
      "[1] \"mMyoVol\"\n",
      "[1] \"mMyoYum\"\n"
     ]
    }
   ],
   "source": [
    "for (i in seq_along(myo_meta$Abbr)) {\n",
    "  \n",
    "  spec1 <- myo_meta$Abbr[i]\n",
    "  print(spec1)\n",
    "  \n",
    "  spec1_rbhs <- list.files(pattern = paste0(\"^\", spec1, \".*csv$\"), \n",
    "                           full.names = TRUE)\n",
    "  \n",
    "  spec1_ranges_list <- lapply(myo_meta$Abbr[-i], function(spec2) {\n",
    "    spec1_vs_spec2 <- fread(\n",
    "      spec1_rbhs[grep(spec2, spec1_rbhs)], data.table = FALSE\n",
    "    )\n",
    "    spec1_vs_spec2 <- spec1_vs_spec2 %>%\n",
    "      dplyr::select(Spec1_Chr, Spec1_Start, Spec1_End)\n",
    "    spec1_ranges <- makeGRangesFromDataFrame(spec1_vs_spec2)\n",
    "  })\n",
    "  \n",
    "  spec1_ucrs <- as.data.frame(suppressWarnings(\n",
    "    Reduce(GenomicRanges::intersect, spec1_ranges_list)\n",
    "  ))      \n",
    "  \n",
    "  write.table(spec1_ucrs,\n",
    "              file = paste0(\"../02_UCRs/resources/\", spec1, \"_ultra_conserved_regions.bed\"), \n",
    "              col.names = FALSE, row.names = FALSE, quote = FALSE,\n",
    "              sep = \"\\t\")                                 \n",
    "  \n",
    "}"
   ]
  }
 ],
 "metadata": {
  "kernelspec": {
   "display_name": "R",
   "language": "R",
   "name": "ir"
  },
  "language_info": {
   "codemirror_mode": "r",
   "file_extension": ".r",
   "mimetype": "text/x-r-source",
   "name": "R",
   "pygments_lexer": "r",
   "version": "4.3.2"
  }
 },
 "nbformat": 4,
 "nbformat_minor": 2
}
