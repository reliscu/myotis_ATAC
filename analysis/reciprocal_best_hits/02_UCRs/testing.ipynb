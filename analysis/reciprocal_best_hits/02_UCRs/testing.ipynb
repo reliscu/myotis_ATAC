{
 "cells": [
  {
   "cell_type": "code",
   "execution_count": 11,
   "metadata": {
    "vscode": {
     "languageId": "r"
    }
   },
   "outputs": [
    {
     "name": "stderr",
     "output_type": "stream",
     "text": [
      "\n",
      "Attaching package: 'dplyr'\n",
      "\n",
      "\n",
      "The following objects are masked from 'package:GenomicRanges':\n",
      "\n",
      "    intersect, setdiff, union\n",
      "\n",
      "\n",
      "The following object is masked from 'package:GenomeInfoDb':\n",
      "\n",
      "    intersect\n",
      "\n",
      "\n",
      "The following objects are masked from 'package:IRanges':\n",
      "\n",
      "    collapse, desc, intersect, setdiff, slice, union\n",
      "\n",
      "\n",
      "The following objects are masked from 'package:S4Vectors':\n",
      "\n",
      "    first, intersect, rename, setdiff, setequal, union\n",
      "\n",
      "\n",
      "The following objects are masked from 'package:BiocGenerics':\n",
      "\n",
      "    combine, intersect, setdiff, union\n",
      "\n",
      "\n",
      "The following objects are masked from 'package:data.table':\n",
      "\n",
      "    between, first, last\n",
      "\n",
      "\n",
      "The following objects are masked from 'package:stats':\n",
      "\n",
      "    filter, lag\n",
      "\n",
      "\n",
      "The following objects are masked from 'package:base':\n",
      "\n",
      "    intersect, setdiff, setequal, union\n",
      "\n",
      "\n"
     ]
    }
   ],
   "source": [
    "setwd(\"/Users/rebecca/sudmant/analyses/myotis/analysis/reciprocal_best_hits/02_UCRs\")\n",
    "\n",
    "library(dplyr)\n",
    "library(data.table)\n",
    "library(GenomicRanges)"
   ]
  },
  {
   "cell_type": "markdown",
   "metadata": {},
   "source": [
    "## Not all UCRs are present in pairwise RBHs... what's going on?"
   ]
  },
  {
   "cell_type": "code",
   "execution_count": 31,
   "metadata": {
    "vscode": {
     "languageId": "r"
    }
   },
   "outputs": [],
   "source": [
    "aui_consv <- fread(\"results/data/mMyoAui_UCRs.bed\", data.table=F)\n",
    "colnames(aui_consv) <- c(\"seqnames\", \"start\", \"end\", \"width\", \"strand\")\n",
    "aui_consv_ranges <- makeGRangesFromDataFrame(aui_consv)\n",
    "\n",
    "aui_vs_cai_hits <- fread(\"../01_RBHs/results/data/mMyoAui_vs_mMyoCai_RBHs.csv\", data.table=F)\n",
    "cai_vs_aui_hits <- fread(\"../01_RBHs/results/data/mMyoCai_vs_mMyoAui_RBHs.csv\", data.table=F)\n",
    "\n",
    "aui_vs_cai_hits <- aui_vs_cai_hits %>%\n",
    "  dplyr::mutate(\n",
    "    seqnames = Spec_Chr,\n",
    "    start = Spec_Start,\n",
    "    end = Spec_End\n",
    "  ) \n",
    "      \n",
    "aui_vs_cai_ranges <- makeGRangesFromDataFrame(aui_vs_cai_hits, keep.extra.columns = TRUE, ignore.strand = TRUE)"
   ]
  },
  {
   "cell_type": "code",
   "execution_count": 19,
   "metadata": {
    "vscode": {
     "languageId": "r"
    }
   },
   "outputs": [
    {
     "name": "stderr",
     "output_type": "stream",
     "text": [
      "Warning message in .merge_two_Seqinfo_objects(x, y):\n",
      "\"Each of the 2 combined objects has sequence levels not in the other:\n",
      "  - in 'x': SUPER__20\n",
      "  - in 'y': SUPER__23\n",
      "  Make sure to always combine/compare objects based on the same reference\n",
      "  genome (use suppressWarnings() to suppress this warning).\"\n"
     ]
    }
   ],
   "source": [
    "evo_vs_cai_intersect <- GenomicRanges::intersect(aui_vs_cai_ranges, aui_vs_evo_ranges)\n",
    "\n"
   ]
  },
  {
   "cell_type": "code",
   "execution_count": 24,
   "metadata": {
    "vscode": {
     "languageId": "r"
    }
   },
   "outputs": [],
   "source": [
    "evo_vs_cai_intersect <- as.data.frame(evo_vs_cai_intersect)"
   ]
  },
  {
   "cell_type": "code",
   "execution_count": 34,
   "metadata": {
    "vscode": {
     "languageId": "r"
    }
   },
   "outputs": [
    {
     "data": {
      "text/html": [
       "<table class=\"dataframe\">\n",
       "<caption>A data.frame: 3 x 5</caption>\n",
       "<thead>\n",
       "\t<tr><th></th><th scope=col>seqnames</th><th scope=col>start</th><th scope=col>end</th><th scope=col>width</th><th scope=col>strand</th></tr>\n",
       "\t<tr><th></th><th scope=col>&lt;fct&gt;</th><th scope=col>&lt;int&gt;</th><th scope=col>&lt;int&gt;</th><th scope=col>&lt;int&gt;</th><th scope=col>&lt;fct&gt;</th></tr>\n",
       "</thead>\n",
       "<tbody>\n",
       "\t<tr><th scope=row>57</th><td>SUPER__21</td><td> 8008608</td><td>11755000</td><td>3746393</td><td>*</td></tr>\n",
       "\t<tr><th scope=row>58</th><td>SUPER__21</td><td>16180802</td><td>16470000</td><td> 289199</td><td>*</td></tr>\n",
       "\t<tr><th scope=row>59</th><td>SUPER__21</td><td>16697976</td><td>16794232</td><td>  96257</td><td>*</td></tr>\n",
       "</tbody>\n",
       "</table>\n"
      ],
      "text/latex": [
       "A data.frame: 3 x 5\n",
       "\\begin{tabular}{r|lllll}\n",
       "  & seqnames & start & end & width & strand\\\\\n",
       "  & <fct> & <int> & <int> & <int> & <fct>\\\\\n",
       "\\hline\n",
       "\t57 & SUPER\\_\\_21 &  8008608 & 11755000 & 3746393 & *\\\\\n",
       "\t58 & SUPER\\_\\_21 & 16180802 & 16470000 &  289199 & *\\\\\n",
       "\t59 & SUPER\\_\\_21 & 16697976 & 16794232 &   96257 & *\\\\\n",
       "\\end{tabular}\n"
      ],
      "text/markdown": [
       "\n",
       "A data.frame: 3 x 5\n",
       "\n",
       "| <!--/--> | seqnames &lt;fct&gt; | start &lt;int&gt; | end &lt;int&gt; | width &lt;int&gt; | strand &lt;fct&gt; |\n",
       "|---|---|---|---|---|---|\n",
       "| 57 | SUPER__21 |  8008608 | 11755000 | 3746393 | * |\n",
       "| 58 | SUPER__21 | 16180802 | 16470000 |  289199 | * |\n",
       "| 59 | SUPER__21 | 16697976 | 16794232 |   96257 | * |\n",
       "\n"
      ],
      "text/plain": [
       "   seqnames  start    end      width   strand\n",
       "57 SUPER__21  8008608 11755000 3746393 *     \n",
       "58 SUPER__21 16180802 16470000  289199 *     \n",
       "59 SUPER__21 16697976 16794232   96257 *     "
      ]
     },
     "metadata": {},
     "output_type": "display_data"
    }
   ],
   "source": [
    "evo_vs_cai_intersect[grep(\"SUPER__21\", evo_vs_cai_intersect$seqnames),]"
   ]
  },
  {
   "cell_type": "code",
   "execution_count": 29,
   "metadata": {
    "vscode": {
     "languageId": "r"
    }
   },
   "outputs": [
    {
     "data": {
      "text/html": [
       "<table class=\"dataframe\">\n",
       "<caption>A data.frame: 6 x 12</caption>\n",
       "<thead>\n",
       "\t<tr><th scope=col>Spec1_Subj_ID</th><th scope=col>Spec1_Query_ID</th><th scope=col>Spec_Chr</th><th scope=col>Spec_Start</th><th scope=col>Spec_End</th><th scope=col>Spec2_Subj_ID</th><th scope=col>Paf2_Mapq</th><th scope=col>Spec2_Query_ID</th><th scope=col>Paf1_Mapq</th><th scope=col>seqnames</th><th scope=col>start</th><th scope=col>end</th></tr>\n",
       "\t<tr><th scope=col>&lt;chr&gt;</th><th scope=col>&lt;chr&gt;</th><th scope=col>&lt;chr&gt;</th><th scope=col>&lt;int&gt;</th><th scope=col>&lt;int&gt;</th><th scope=col>&lt;chr&gt;</th><th scope=col>&lt;int&gt;</th><th scope=col>&lt;chr&gt;</th><th scope=col>&lt;int&gt;</th><th scope=col>&lt;chr&gt;</th><th scope=col>&lt;int&gt;</th><th scope=col>&lt;int&gt;</th></tr>\n",
       "</thead>\n",
       "<tbody>\n",
       "\t<tr><td>mMyoAui1.0.SUPER__21 8008608 11755934 598 </td><td>mMyoAui1.0.SUPER__21 1990136 11755000 626 </td><td>SUPER__21</td><td> 8008608</td><td>11755000</td><td>mMyoCai1.0.SUPER__21 14060926 23869050 626</td><td>7</td><td>mMyoCai1.0.SUPER__21 14060000 17805000 598</td><td>7</td><td>SUPER__21</td><td> 8008608</td><td>11755000</td></tr>\n",
       "\t<tr><td>mMyoAui1.0.SUPER__21 12132317 12269556 495</td><td>mMyoAui1.0.SUPER__21 12130248 12285000 471</td><td>SUPER__21</td><td>12132317</td><td>12269556</td><td>mMyoCai1.0.SUPER__21 13555434 13717056 471</td><td>4</td><td>mMyoCai1.0.SUPER__21 13576632 13715000 495</td><td>4</td><td>SUPER__21</td><td>12132317</td><td>12269556</td></tr>\n",
       "\t<tr><td>mMyoAui1.0.SUPER__21 13623822 13725965 517</td><td>mMyoAui1.0.SUPER__21 13617304 13725000 469</td><td>SUPER__21</td><td>13623822</td><td>13725000</td><td>mMyoCai1.0.SUPER__21 12783519 12875758 469</td><td>4</td><td>mMyoCai1.0.SUPER__21 12790000 12876656 517</td><td>4</td><td>SUPER__21</td><td>13623822</td><td>13725000</td></tr>\n",
       "\t<tr><td>mMyoAui1.0.SUPER__21 13725677 13823691 512</td><td>mMyoAui1.0.SUPER__21 13725768 13790000 470</td><td>SUPER__21</td><td>13725768</td><td>13790000</td><td>mMyoCai1.0.SUPER__21 12952122 13019532 470</td><td>7</td><td>mMyoCai1.0.SUPER__21 12952048 13045000 512</td><td>4</td><td>SUPER__21</td><td>13725768</td><td>13790000</td></tr>\n",
       "\t<tr><td>mMyoAui1.0.SUPER__21 16180802 16639887 508</td><td>mMyoAui1.0.SUPER__21 16175000 16470000 487</td><td>SUPER__21</td><td>16180802</td><td>16470000</td><td>mMyoCai1.0.SUPER__21 9342554 9649709 487  </td><td>6</td><td>mMyoCai1.0.SUPER__21 9215000 9645000 508  </td><td>5</td><td>SUPER__21</td><td>16180802</td><td>16470000</td></tr>\n",
       "\t<tr><td>mMyoAui1.0.SUPER__21 16697888 16800215 457</td><td>mMyoAui1.0.SUPER__21 16697976 16794232 486</td><td>SUPER__21</td><td>16697976</td><td>16794232</td><td>mMyoCai1.0.SUPER__21 9110638 9213294 486  </td><td>5</td><td>mMyoCai1.0.SUPER__21 9105000 9213336 457  </td><td>6</td><td>SUPER__21</td><td>16697976</td><td>16794232</td></tr>\n",
       "</tbody>\n",
       "</table>\n"
      ],
      "text/latex": [
       "A data.frame: 6 x 12\n",
       "\\begin{tabular}{llllllllllll}\n",
       " Spec1\\_Subj\\_ID & Spec1\\_Query\\_ID & Spec\\_Chr & Spec\\_Start & Spec\\_End & Spec2\\_Subj\\_ID & Paf2\\_Mapq & Spec2\\_Query\\_ID & Paf1\\_Mapq & seqnames & start & end\\\\\n",
       " <chr> & <chr> & <chr> & <int> & <int> & <chr> & <int> & <chr> & <int> & <chr> & <int> & <int>\\\\\n",
       "\\hline\n",
       "\t mMyoAui1.0.SUPER\\_\\_21 8008608 11755934 598  & mMyoAui1.0.SUPER\\_\\_21 1990136 11755000 626  & SUPER\\_\\_21 &  8008608 & 11755000 & mMyoCai1.0.SUPER\\_\\_21 14060926 23869050 626 & 7 & mMyoCai1.0.SUPER\\_\\_21 14060000 17805000 598 & 7 & SUPER\\_\\_21 &  8008608 & 11755000\\\\\n",
       "\t mMyoAui1.0.SUPER\\_\\_21 12132317 12269556 495 & mMyoAui1.0.SUPER\\_\\_21 12130248 12285000 471 & SUPER\\_\\_21 & 12132317 & 12269556 & mMyoCai1.0.SUPER\\_\\_21 13555434 13717056 471 & 4 & mMyoCai1.0.SUPER\\_\\_21 13576632 13715000 495 & 4 & SUPER\\_\\_21 & 12132317 & 12269556\\\\\n",
       "\t mMyoAui1.0.SUPER\\_\\_21 13623822 13725965 517 & mMyoAui1.0.SUPER\\_\\_21 13617304 13725000 469 & SUPER\\_\\_21 & 13623822 & 13725000 & mMyoCai1.0.SUPER\\_\\_21 12783519 12875758 469 & 4 & mMyoCai1.0.SUPER\\_\\_21 12790000 12876656 517 & 4 & SUPER\\_\\_21 & 13623822 & 13725000\\\\\n",
       "\t mMyoAui1.0.SUPER\\_\\_21 13725677 13823691 512 & mMyoAui1.0.SUPER\\_\\_21 13725768 13790000 470 & SUPER\\_\\_21 & 13725768 & 13790000 & mMyoCai1.0.SUPER\\_\\_21 12952122 13019532 470 & 7 & mMyoCai1.0.SUPER\\_\\_21 12952048 13045000 512 & 4 & SUPER\\_\\_21 & 13725768 & 13790000\\\\\n",
       "\t mMyoAui1.0.SUPER\\_\\_21 16180802 16639887 508 & mMyoAui1.0.SUPER\\_\\_21 16175000 16470000 487 & SUPER\\_\\_21 & 16180802 & 16470000 & mMyoCai1.0.SUPER\\_\\_21 9342554 9649709 487   & 6 & mMyoCai1.0.SUPER\\_\\_21 9215000 9645000 508   & 5 & SUPER\\_\\_21 & 16180802 & 16470000\\\\\n",
       "\t mMyoAui1.0.SUPER\\_\\_21 16697888 16800215 457 & mMyoAui1.0.SUPER\\_\\_21 16697976 16794232 486 & SUPER\\_\\_21 & 16697976 & 16794232 & mMyoCai1.0.SUPER\\_\\_21 9110638 9213294 486   & 5 & mMyoCai1.0.SUPER\\_\\_21 9105000 9213336 457   & 6 & SUPER\\_\\_21 & 16697976 & 16794232\\\\\n",
       "\\end{tabular}\n"
      ],
      "text/markdown": [
       "\n",
       "A data.frame: 6 x 12\n",
       "\n",
       "| Spec1_Subj_ID &lt;chr&gt; | Spec1_Query_ID &lt;chr&gt; | Spec_Chr &lt;chr&gt; | Spec_Start &lt;int&gt; | Spec_End &lt;int&gt; | Spec2_Subj_ID &lt;chr&gt; | Paf2_Mapq &lt;int&gt; | Spec2_Query_ID &lt;chr&gt; | Paf1_Mapq &lt;int&gt; | seqnames &lt;chr&gt; | start &lt;int&gt; | end &lt;int&gt; |\n",
       "|---|---|---|---|---|---|---|---|---|---|---|---|\n",
       "| mMyoAui1.0.SUPER__21 8008608 11755934 598  | mMyoAui1.0.SUPER__21 1990136 11755000 626  | SUPER__21 |  8008608 | 11755000 | mMyoCai1.0.SUPER__21 14060926 23869050 626 | 7 | mMyoCai1.0.SUPER__21 14060000 17805000 598 | 7 | SUPER__21 |  8008608 | 11755000 |\n",
       "| mMyoAui1.0.SUPER__21 12132317 12269556 495 | mMyoAui1.0.SUPER__21 12130248 12285000 471 | SUPER__21 | 12132317 | 12269556 | mMyoCai1.0.SUPER__21 13555434 13717056 471 | 4 | mMyoCai1.0.SUPER__21 13576632 13715000 495 | 4 | SUPER__21 | 12132317 | 12269556 |\n",
       "| mMyoAui1.0.SUPER__21 13623822 13725965 517 | mMyoAui1.0.SUPER__21 13617304 13725000 469 | SUPER__21 | 13623822 | 13725000 | mMyoCai1.0.SUPER__21 12783519 12875758 469 | 4 | mMyoCai1.0.SUPER__21 12790000 12876656 517 | 4 | SUPER__21 | 13623822 | 13725000 |\n",
       "| mMyoAui1.0.SUPER__21 13725677 13823691 512 | mMyoAui1.0.SUPER__21 13725768 13790000 470 | SUPER__21 | 13725768 | 13790000 | mMyoCai1.0.SUPER__21 12952122 13019532 470 | 7 | mMyoCai1.0.SUPER__21 12952048 13045000 512 | 4 | SUPER__21 | 13725768 | 13790000 |\n",
       "| mMyoAui1.0.SUPER__21 16180802 16639887 508 | mMyoAui1.0.SUPER__21 16175000 16470000 487 | SUPER__21 | 16180802 | 16470000 | mMyoCai1.0.SUPER__21 9342554 9649709 487   | 6 | mMyoCai1.0.SUPER__21 9215000 9645000 508   | 5 | SUPER__21 | 16180802 | 16470000 |\n",
       "| mMyoAui1.0.SUPER__21 16697888 16800215 457 | mMyoAui1.0.SUPER__21 16697976 16794232 486 | SUPER__21 | 16697976 | 16794232 | mMyoCai1.0.SUPER__21 9110638 9213294 486   | 5 | mMyoCai1.0.SUPER__21 9105000 9213336 457   | 6 | SUPER__21 | 16697976 | 16794232 |\n",
       "\n"
      ],
      "text/plain": [
       "  Spec1_Subj_ID                             \n",
       "1 mMyoAui1.0.SUPER__21 8008608 11755934 598 \n",
       "2 mMyoAui1.0.SUPER__21 12132317 12269556 495\n",
       "3 mMyoAui1.0.SUPER__21 13623822 13725965 517\n",
       "4 mMyoAui1.0.SUPER__21 13725677 13823691 512\n",
       "5 mMyoAui1.0.SUPER__21 16180802 16639887 508\n",
       "6 mMyoAui1.0.SUPER__21 16697888 16800215 457\n",
       "  Spec1_Query_ID                             Spec_Chr  Spec_Start Spec_End\n",
       "1 mMyoAui1.0.SUPER__21 1990136 11755000 626  SUPER__21  8008608   11755000\n",
       "2 mMyoAui1.0.SUPER__21 12130248 12285000 471 SUPER__21 12132317   12269556\n",
       "3 mMyoAui1.0.SUPER__21 13617304 13725000 469 SUPER__21 13623822   13725000\n",
       "4 mMyoAui1.0.SUPER__21 13725768 13790000 470 SUPER__21 13725768   13790000\n",
       "5 mMyoAui1.0.SUPER__21 16175000 16470000 487 SUPER__21 16180802   16470000\n",
       "6 mMyoAui1.0.SUPER__21 16697976 16794232 486 SUPER__21 16697976   16794232\n",
       "  Spec2_Subj_ID                              Paf2_Mapq\n",
       "1 mMyoCai1.0.SUPER__21 14060926 23869050 626 7        \n",
       "2 mMyoCai1.0.SUPER__21 13555434 13717056 471 4        \n",
       "3 mMyoCai1.0.SUPER__21 12783519 12875758 469 4        \n",
       "4 mMyoCai1.0.SUPER__21 12952122 13019532 470 7        \n",
       "5 mMyoCai1.0.SUPER__21 9342554 9649709 487   6        \n",
       "6 mMyoCai1.0.SUPER__21 9110638 9213294 486   5        \n",
       "  Spec2_Query_ID                             Paf1_Mapq seqnames  start   \n",
       "1 mMyoCai1.0.SUPER__21 14060000 17805000 598 7         SUPER__21  8008608\n",
       "2 mMyoCai1.0.SUPER__21 13576632 13715000 495 4         SUPER__21 12132317\n",
       "3 mMyoCai1.0.SUPER__21 12790000 12876656 517 4         SUPER__21 13623822\n",
       "4 mMyoCai1.0.SUPER__21 12952048 13045000 512 4         SUPER__21 13725768\n",
       "5 mMyoCai1.0.SUPER__21 9215000 9645000 508   5         SUPER__21 16180802\n",
       "6 mMyoCai1.0.SUPER__21 9105000 9213336 457   6         SUPER__21 16697976\n",
       "  end     \n",
       "1 11755000\n",
       "2 12269556\n",
       "3 13725000\n",
       "4 13790000\n",
       "5 16470000\n",
       "6 16794232"
      ]
     },
     "metadata": {},
     "output_type": "display_data"
    }
   ],
   "source": [
    "aui_vs_cai_hits[grep(\"SUPER__21\", aui_vs_cai_hits$Spec_Chr),] %>% arrange(start)"
   ]
  },
  {
   "cell_type": "code",
   "execution_count": 33,
   "metadata": {
    "vscode": {
     "languageId": "r"
    }
   },
   "outputs": [
    {
     "data": {
      "text/html": [
       "<table class=\"dataframe\">\n",
       "<caption>A data.frame: 7 x 9</caption>\n",
       "<thead>\n",
       "\t<tr><th scope=col>Spec2_Query_ID</th><th scope=col>Spec2_Subj_ID</th><th scope=col>Spec_Chr</th><th scope=col>Spec_Start</th><th scope=col>Spec_End</th><th scope=col>Spec1_Query_ID</th><th scope=col>Paf2_Mapq</th><th scope=col>Spec1_Subj_ID</th><th scope=col>Paf1_Mapq</th></tr>\n",
       "\t<tr><th scope=col>&lt;chr&gt;</th><th scope=col>&lt;chr&gt;</th><th scope=col>&lt;chr&gt;</th><th scope=col>&lt;int&gt;</th><th scope=col>&lt;int&gt;</th><th scope=col>&lt;chr&gt;</th><th scope=col>&lt;int&gt;</th><th scope=col>&lt;chr&gt;</th><th scope=col>&lt;int&gt;</th></tr>\n",
       "</thead>\n",
       "<tbody>\n",
       "\t<tr><td>mMyoCai1.0.SUPER__21 9105000 9213336 457  </td><td>mMyoCai1.0.SUPER__21 9110638 9213294 486  </td><td>SUPER__21</td><td> 9110638</td><td> 9213294</td><td>mMyoAui1.0.SUPER__21 16697976 16794232 486 </td><td>5</td><td>mMyoAui1.0.SUPER__21 16697888 16800215 457 </td><td>6</td></tr>\n",
       "\t<tr><td>mMyoCai1.0.SUPER__21 9215000 9645000 508  </td><td>mMyoCai1.0.SUPER__21 9342554 9649709 487  </td><td>SUPER__21</td><td> 9342554</td><td> 9645000</td><td>mMyoAui1.0.SUPER__21 16175000 16470000 487 </td><td>6</td><td>mMyoAui1.0.SUPER__21 16180802 16639887 508 </td><td>5</td></tr>\n",
       "\t<tr><td>mMyoCai1.0.SUPER__21 12790000 12876656 517</td><td>mMyoCai1.0.SUPER__21 12783519 12875758 469</td><td>SUPER__21</td><td>12790000</td><td>12875758</td><td>mMyoAui1.0.SUPER__21 13617304 13725000 469 </td><td>4</td><td>mMyoAui1.0.SUPER__21 13623822 13725965 517 </td><td>4</td></tr>\n",
       "\t<tr><td>mMyoCai1.0.SUPER__21 12952048 13045000 512</td><td>mMyoCai1.0.SUPER__21 12952122 13019532 470</td><td>SUPER__21</td><td>12952122</td><td>13019532</td><td>mMyoAui1.0.SUPER__21 13725768 13790000 470 </td><td>7</td><td>mMyoAui1.0.SUPER__21 13725677 13823691 512 </td><td>4</td></tr>\n",
       "\t<tr><td>mMyoCai1.0.SUPER__21 13576632 13715000 495</td><td>mMyoCai1.0.SUPER__21 13555434 13717056 471</td><td>SUPER__21</td><td>13576632</td><td>13715000</td><td>mMyoAui1.0.SUPER__21 12130248 12285000 471 </td><td>4</td><td>mMyoAui1.0.SUPER__21 12132317 12269556 495 </td><td>4</td></tr>\n",
       "\t<tr><td>mMyoCai1.0.SUPER__21 14060000 17805000 598</td><td>mMyoCai1.0.SUPER__21 14060926 23869050 626</td><td>SUPER__21</td><td>14060926</td><td>17805000</td><td>mMyoAui1.0.SUPER__21 1990136 11755000 626  </td><td>7</td><td>mMyoAui1.0.SUPER__21 8008608 11755934 598  </td><td>7</td></tr>\n",
       "\t<tr><td>mMyoCai1.0.SUPER__21 23936752 24070000 488</td><td>mMyoCai1.0.SUPER__21 23936735 24071004 212</td><td>SUPER__21</td><td>23936752</td><td>24070000</td><td>mMyoAui1.0.SUPER__6 110330000 110464360 212</td><td>8</td><td>mMyoAui1.0.SUPER__6 110331053 110464343 488</td><td>8</td></tr>\n",
       "</tbody>\n",
       "</table>\n"
      ],
      "text/latex": [
       "A data.frame: 7 x 9\n",
       "\\begin{tabular}{lllllllll}\n",
       " Spec2\\_Query\\_ID & Spec2\\_Subj\\_ID & Spec\\_Chr & Spec\\_Start & Spec\\_End & Spec1\\_Query\\_ID & Paf2\\_Mapq & Spec1\\_Subj\\_ID & Paf1\\_Mapq\\\\\n",
       " <chr> & <chr> & <chr> & <int> & <int> & <chr> & <int> & <chr> & <int>\\\\\n",
       "\\hline\n",
       "\t mMyoCai1.0.SUPER\\_\\_21 9105000 9213336 457   & mMyoCai1.0.SUPER\\_\\_21 9110638 9213294 486   & SUPER\\_\\_21 &  9110638 &  9213294 & mMyoAui1.0.SUPER\\_\\_21 16697976 16794232 486  & 5 & mMyoAui1.0.SUPER\\_\\_21 16697888 16800215 457  & 6\\\\\n",
       "\t mMyoCai1.0.SUPER\\_\\_21 9215000 9645000 508   & mMyoCai1.0.SUPER\\_\\_21 9342554 9649709 487   & SUPER\\_\\_21 &  9342554 &  9645000 & mMyoAui1.0.SUPER\\_\\_21 16175000 16470000 487  & 6 & mMyoAui1.0.SUPER\\_\\_21 16180802 16639887 508  & 5\\\\\n",
       "\t mMyoCai1.0.SUPER\\_\\_21 12790000 12876656 517 & mMyoCai1.0.SUPER\\_\\_21 12783519 12875758 469 & SUPER\\_\\_21 & 12790000 & 12875758 & mMyoAui1.0.SUPER\\_\\_21 13617304 13725000 469  & 4 & mMyoAui1.0.SUPER\\_\\_21 13623822 13725965 517  & 4\\\\\n",
       "\t mMyoCai1.0.SUPER\\_\\_21 12952048 13045000 512 & mMyoCai1.0.SUPER\\_\\_21 12952122 13019532 470 & SUPER\\_\\_21 & 12952122 & 13019532 & mMyoAui1.0.SUPER\\_\\_21 13725768 13790000 470  & 7 & mMyoAui1.0.SUPER\\_\\_21 13725677 13823691 512  & 4\\\\\n",
       "\t mMyoCai1.0.SUPER\\_\\_21 13576632 13715000 495 & mMyoCai1.0.SUPER\\_\\_21 13555434 13717056 471 & SUPER\\_\\_21 & 13576632 & 13715000 & mMyoAui1.0.SUPER\\_\\_21 12130248 12285000 471  & 4 & mMyoAui1.0.SUPER\\_\\_21 12132317 12269556 495  & 4\\\\\n",
       "\t mMyoCai1.0.SUPER\\_\\_21 14060000 17805000 598 & mMyoCai1.0.SUPER\\_\\_21 14060926 23869050 626 & SUPER\\_\\_21 & 14060926 & 17805000 & mMyoAui1.0.SUPER\\_\\_21 1990136 11755000 626   & 7 & mMyoAui1.0.SUPER\\_\\_21 8008608 11755934 598   & 7\\\\\n",
       "\t mMyoCai1.0.SUPER\\_\\_21 23936752 24070000 488 & mMyoCai1.0.SUPER\\_\\_21 23936735 24071004 212 & SUPER\\_\\_21 & 23936752 & 24070000 & mMyoAui1.0.SUPER\\_\\_6 110330000 110464360 212 & 8 & mMyoAui1.0.SUPER\\_\\_6 110331053 110464343 488 & 8\\\\\n",
       "\\end{tabular}\n"
      ],
      "text/markdown": [
       "\n",
       "A data.frame: 7 x 9\n",
       "\n",
       "| Spec2_Query_ID &lt;chr&gt; | Spec2_Subj_ID &lt;chr&gt; | Spec_Chr &lt;chr&gt; | Spec_Start &lt;int&gt; | Spec_End &lt;int&gt; | Spec1_Query_ID &lt;chr&gt; | Paf2_Mapq &lt;int&gt; | Spec1_Subj_ID &lt;chr&gt; | Paf1_Mapq &lt;int&gt; |\n",
       "|---|---|---|---|---|---|---|---|---|\n",
       "| mMyoCai1.0.SUPER__21 9105000 9213336 457   | mMyoCai1.0.SUPER__21 9110638 9213294 486   | SUPER__21 |  9110638 |  9213294 | mMyoAui1.0.SUPER__21 16697976 16794232 486  | 5 | mMyoAui1.0.SUPER__21 16697888 16800215 457  | 6 |\n",
       "| mMyoCai1.0.SUPER__21 9215000 9645000 508   | mMyoCai1.0.SUPER__21 9342554 9649709 487   | SUPER__21 |  9342554 |  9645000 | mMyoAui1.0.SUPER__21 16175000 16470000 487  | 6 | mMyoAui1.0.SUPER__21 16180802 16639887 508  | 5 |\n",
       "| mMyoCai1.0.SUPER__21 12790000 12876656 517 | mMyoCai1.0.SUPER__21 12783519 12875758 469 | SUPER__21 | 12790000 | 12875758 | mMyoAui1.0.SUPER__21 13617304 13725000 469  | 4 | mMyoAui1.0.SUPER__21 13623822 13725965 517  | 4 |\n",
       "| mMyoCai1.0.SUPER__21 12952048 13045000 512 | mMyoCai1.0.SUPER__21 12952122 13019532 470 | SUPER__21 | 12952122 | 13019532 | mMyoAui1.0.SUPER__21 13725768 13790000 470  | 7 | mMyoAui1.0.SUPER__21 13725677 13823691 512  | 4 |\n",
       "| mMyoCai1.0.SUPER__21 13576632 13715000 495 | mMyoCai1.0.SUPER__21 13555434 13717056 471 | SUPER__21 | 13576632 | 13715000 | mMyoAui1.0.SUPER__21 12130248 12285000 471  | 4 | mMyoAui1.0.SUPER__21 12132317 12269556 495  | 4 |\n",
       "| mMyoCai1.0.SUPER__21 14060000 17805000 598 | mMyoCai1.0.SUPER__21 14060926 23869050 626 | SUPER__21 | 14060926 | 17805000 | mMyoAui1.0.SUPER__21 1990136 11755000 626   | 7 | mMyoAui1.0.SUPER__21 8008608 11755934 598   | 7 |\n",
       "| mMyoCai1.0.SUPER__21 23936752 24070000 488 | mMyoCai1.0.SUPER__21 23936735 24071004 212 | SUPER__21 | 23936752 | 24070000 | mMyoAui1.0.SUPER__6 110330000 110464360 212 | 8 | mMyoAui1.0.SUPER__6 110331053 110464343 488 | 8 |\n",
       "\n"
      ],
      "text/plain": [
       "  Spec2_Query_ID                            \n",
       "1 mMyoCai1.0.SUPER__21 9105000 9213336 457  \n",
       "2 mMyoCai1.0.SUPER__21 9215000 9645000 508  \n",
       "3 mMyoCai1.0.SUPER__21 12790000 12876656 517\n",
       "4 mMyoCai1.0.SUPER__21 12952048 13045000 512\n",
       "5 mMyoCai1.0.SUPER__21 13576632 13715000 495\n",
       "6 mMyoCai1.0.SUPER__21 14060000 17805000 598\n",
       "7 mMyoCai1.0.SUPER__21 23936752 24070000 488\n",
       "  Spec2_Subj_ID                              Spec_Chr  Spec_Start Spec_End\n",
       "1 mMyoCai1.0.SUPER__21 9110638 9213294 486   SUPER__21  9110638    9213294\n",
       "2 mMyoCai1.0.SUPER__21 9342554 9649709 487   SUPER__21  9342554    9645000\n",
       "3 mMyoCai1.0.SUPER__21 12783519 12875758 469 SUPER__21 12790000   12875758\n",
       "4 mMyoCai1.0.SUPER__21 12952122 13019532 470 SUPER__21 12952122   13019532\n",
       "5 mMyoCai1.0.SUPER__21 13555434 13717056 471 SUPER__21 13576632   13715000\n",
       "6 mMyoCai1.0.SUPER__21 14060926 23869050 626 SUPER__21 14060926   17805000\n",
       "7 mMyoCai1.0.SUPER__21 23936735 24071004 212 SUPER__21 23936752   24070000\n",
       "  Spec1_Query_ID                              Paf2_Mapq\n",
       "1 mMyoAui1.0.SUPER__21 16697976 16794232 486  5        \n",
       "2 mMyoAui1.0.SUPER__21 16175000 16470000 487  6        \n",
       "3 mMyoAui1.0.SUPER__21 13617304 13725000 469  4        \n",
       "4 mMyoAui1.0.SUPER__21 13725768 13790000 470  7        \n",
       "5 mMyoAui1.0.SUPER__21 12130248 12285000 471  4        \n",
       "6 mMyoAui1.0.SUPER__21 1990136 11755000 626   7        \n",
       "7 mMyoAui1.0.SUPER__6 110330000 110464360 212 8        \n",
       "  Spec1_Subj_ID                               Paf1_Mapq\n",
       "1 mMyoAui1.0.SUPER__21 16697888 16800215 457  6        \n",
       "2 mMyoAui1.0.SUPER__21 16180802 16639887 508  5        \n",
       "3 mMyoAui1.0.SUPER__21 13623822 13725965 517  4        \n",
       "4 mMyoAui1.0.SUPER__21 13725677 13823691 512  4        \n",
       "5 mMyoAui1.0.SUPER__21 12132317 12269556 495  4        \n",
       "6 mMyoAui1.0.SUPER__21 8008608 11755934 598   7        \n",
       "7 mMyoAui1.0.SUPER__6 110331053 110464343 488 8        "
      ]
     },
     "metadata": {},
     "output_type": "display_data"
    }
   ],
   "source": [
    "cai_vs_aui_hits[grep(\"SUPER__21\", cai_vs_aui_hits$Spec_Chr),] %>% arrange(Spec_Start)"
   ]
  }
 ],
 "metadata": {
  "kernelspec": {
   "display_name": "R",
   "language": "R",
   "name": "ir"
  },
  "language_info": {
   "codemirror_mode": "r",
   "file_extension": ".r",
   "mimetype": "text/x-r-source",
   "name": "R",
   "pygments_lexer": "r",
   "version": "4.3.2"
  }
 },
 "nbformat": 4,
 "nbformat_minor": 2
}
