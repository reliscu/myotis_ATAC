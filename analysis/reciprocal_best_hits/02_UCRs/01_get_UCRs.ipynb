{
 "cells": [
  {
   "cell_type": "code",
   "execution_count": 2,
   "metadata": {
    "vscode": {
     "languageId": "r"
    }
   },
   "outputs": [],
   "source": [
    "setwd(\"/Users/rebecca/sudmant/analyses/myotis/analysis/reciprocal_best_hits/01_RBHs/results/data\")\n",
    "\n",
    "library(pafr)\n",
    "library(dplyr)\n",
    "library(data.table)\n",
    "library(GenomicRanges)\n",
    "\n",
    "myo_meta <- read.csv(\"/Users/rebecca/sudmant/analyses/myotis/data/myotis_meta.csv\")"
   ]
  },
  {
   "cell_type": "code",
   "execution_count": 3,
   "metadata": {
    "vscode": {
     "languageId": "r"
    }
   },
   "outputs": [],
   "source": [
    "overlap_ranges = function(x, y) {\n",
    "  rv = x\n",
    "  start(rv) = max(start(x), start(y))\n",
    "  end(rv) = min(end(x), end(y))\n",
    "  return(rv)\n",
    "  ## Ref: https://bioinformatics.stackexchange.com/questions/874/intersection-of-two-genomic-ranges-to-keep-metadata\n",
    "}"
   ]
  },
  {
   "cell_type": "code",
   "execution_count": 4,
   "metadata": {
    "vscode": {
     "languageId": "r"
    }
   },
   "outputs": [],
   "source": [
    "## Get UCRs for each species:\n",
    "\n",
    "for (i in seq_along(myo_meta$Abbr)) {\n",
    "  \n",
    "  spec1 <- myo_meta$Abbr[i]\n",
    "  spec1_rbhs_files <- list.files(pattern = paste0(\"^\", spec1, \".*_RBHs.csv\"), \n",
    "                                 full.names = TRUE)\n",
    "  \n",
    "      \n",
    "  ## Load in all RBHs for the working species:\n",
    "    \n",
    "  spec1_ranges_list <- lapply(myo_meta$Abbr[-i], function(spec2) {\n",
    "\n",
    "    spec1_rbhs <- fread(spec1_rbhs_files[grep(spec2, spec1_rbhs_files)], \n",
    "                        data.table = FALSE)\n",
    "    spec1_rbhs <- spec1_rbhs %>%\n",
    "      dplyr::mutate(\n",
    "        seqnames = Spec_Chr,\n",
    "        start = Spec_Start,\n",
    "        end = Spec_End\n",
    "      ) %>%\n",
    "      dplyr::select(seqnames, start, end)\n",
    "    return(makeGRangesFromDataFrame(spec1_rbhs))\n",
    "    \n",
    "  })\n",
    "  \n",
    "  ## Take the intersection of all of these regions:\n",
    "  spec1_ucrs <- as.data.frame(suppressWarnings(\n",
    "    Reduce(GenomicRanges::intersect, spec1_ranges_list)\n",
    "  ))      \n",
    "  \n",
    "  write.table(spec1_ucrs,\n",
    "              file = paste0(\"../../../02_UCRs/results/data/\", spec1, \"_UCRs.bed\"), \n",
    "              col.names = FALSE, row.names = FALSE, quote = FALSE,\n",
    "              sep = \"\\t\")                                 \n",
    "  \n",
    "}"
   ]
  },
  {
   "cell_type": "code",
   "execution_count": 5,
   "metadata": {
    "vscode": {
     "languageId": "r"
    }
   },
   "outputs": [],
   "source": [
    "## Map UCRs from each species to all other species:\n",
    "\n",
    "for (i in seq_along(myo_meta$Abbr)) {\n",
    "\n",
    "  for (j in seq_along(myo_meta$Abbr)) {\n",
    "    \n",
    "    if (i < j) {\n",
    "      \n",
    "      spec1 <- myo_meta$Abbr[i]\n",
    "      spec2 <- myo_meta$Abbr[j]\n",
    "\n",
    "      ## Intersect RBHs with UCRs from species 1:\n",
    "\n",
    "      spec1_rbhs <- fread(paste0(spec1, \"_vs_\", spec2, \"_RBHs.csv\"), data.table = FALSE)\n",
    "\n",
    "      spec1_rbhs <- spec1_rbhs %>%\n",
    "        dplyr::mutate(\n",
    "          ID = paste(\n",
    "            Spec1_Query_ID, Spec1_Subj_ID, \n",
    "            Spec2_Query_ID, Spec2_Subj_ID\n",
    "          ),\n",
    "          seqnames = Spec_Chr,\n",
    "          start = Spec_Start,\n",
    "          end = Spec_End\n",
    "        ) %>%\n",
    "        dplyr::select(seqnames, start, end, ID)\n",
    "        \n",
    "      spec1_ucrs <- fread(paste0(\"../../../02_UCRs/results/data/\", spec1, \"_UCRs.bed\"), data.table = FALSE)\n",
    "      colnames(spec1_ucrs) <- c(\"seqnames\", \"start\", \"end\", \"width\", \"strand\")\n",
    "\n",
    "      spec1_rbhs_ranges <- makeGRangesFromDataFrame(spec1_rbhs, keep.extra.columns = TRUE, ignore.strand = TRUE)\n",
    "      spec1_ucrs_ranges <- makeGRangesFromDataFrame(spec1_ucrs, ignore.strand = TRUE)\n",
    "\n",
    "      o <- findOverlaps(query = spec1_rbhs_ranges, subject = spec1_ucrs_ranges)\n",
    "      grl1 <- split(spec1_rbhs_ranges[queryHits(o)], 1:length(o))\n",
    "      grl2 <- split(spec1_ucrs_ranges[subjectHits(o)], 1:length(o))\n",
    "      spec1_intersect <- unlist(mendoapply(overlap_ranges, grl1, y=grl2))\n",
    "\n",
    "      spec1_df <- data.frame(Spec1_Chr = spec1_intersect@seqnames,\n",
    "                             Spec1_Start = spec1_intersect@ranges@start,\n",
    "                             Width = spec1_intersect@ranges@width,\n",
    "                             spec1_intersect@elementMetadata)\n",
    "\n",
    "      spec1_df <- spec1_df %>%\n",
    "        dplyr::mutate(Spec1_End = Spec1_Start + Width-1) %>%\n",
    "        dplyr::select(-Width)\n",
    "\n",
    "      ## Intersect RBHs with UCRs from species 2:\n",
    "\n",
    "      spec2_rbhs <- fread(paste0(spec2, \"_vs_\", spec1, \"_RBHs.csv\"), data.table = FALSE)\n",
    "\n",
    "      spec2_rbhs <- spec2_rbhs %>%\n",
    "        dplyr::mutate(\n",
    "          ID = paste(\n",
    "            Spec1_Query_ID, Spec1_Subj_ID, \n",
    "            Spec2_Query_ID, Spec2_Subj_ID\n",
    "          ),\n",
    "          seqnames = Spec_Chr,\n",
    "          start = Spec_Start,\n",
    "          end = Spec_End\n",
    "        ) %>%\n",
    "        dplyr::select(seqnames, start, end, ID)\n",
    "\n",
    "      spec2_ucrs <- fread(paste0(\"../../../02_UCRs/results/data/\", spec2, \"_UCRs.bed\"), data.table = FALSE)\n",
    "      colnames(spec2_ucrs) <- c(\"seqnames\", \"start\", \"end\", \"width\", \"strand\")\n",
    "\n",
    "      spec2_rbhs_ranges <- makeGRangesFromDataFrame(spec2_rbhs, keep.extra.columns = TRUE, ignore.strand = TRUE)\n",
    "      spec2_ucrs_ranges <- makeGRangesFromDataFrame(spec2_ucrs, ignore.strand = TRUE)\n",
    "\n",
    "      o <- findOverlaps(query = spec2_rbhs_ranges, subject = spec2_ucrs_ranges)\n",
    "      grl1 <- split(spec2_rbhs_ranges[queryHits(o)], 1:length(o))\n",
    "      grl2 <- split(spec2_ucrs_ranges[subjectHits(o)], 1:length(o))\n",
    "      spec2_intersect <- unlist(mendoapply(overlap_ranges, grl1, y=grl2))\n",
    "\n",
    "      spec2_df <- data.frame(Spec2_Chr = spec2_intersect@seqnames,\n",
    "                             Spec2_Start = spec2_intersect@ranges@start,\n",
    "                             Width = spec2_intersect@ranges@width,\n",
    "                             spec2_intersect@elementMetadata)\n",
    "\n",
    "      spec2_df <- spec2_df %>%\n",
    "        dplyr::mutate(Spec2_End = Spec2_Start + Width-1) %>%\n",
    "        dplyr::select(-Width)\n",
    "\n",
    "      ## Get mapping between UCRs for species 1 and species 2:\n",
    "\n",
    "      pairwise_ucrs <- merge(spec1_df, spec2_df, by = \"ID\")\n",
    "      \n",
    "      if (nrow(pairwise_ucrs) > 0) {\n",
    "        \n",
    "        colnames(pairwise_ucrs) <- gsub(\"Spec1\", spec1, colnames(pairwise_ucrs))\n",
    "        colnames(pairwise_ucrs) <- gsub(\"Spec2\", spec2, colnames(pairwise_ucrs))\n",
    "\n",
    "        ## Save\n",
    "        fwrite(pairwise_ucrs[,-1], file = paste0(\"../../../02_UCRs/results/data/\", spec1, \"_vs_\", spec2, \"_UCRs.csv\"))\n",
    "        fwrite(pairwise_ucrs[,-1], file = paste0(\"../../../02_UCRs/results/data/\", spec2, \"_vs_\", spec1, \"_UCRs.csv\"))\n",
    "\n",
    "      }\n",
    "     \n",
    "    }\n",
    "    \n",
    "  }\n",
    "  \n",
    "}\n"
   ]
  },
  {
   "cell_type": "code",
   "execution_count": null,
   "metadata": {
    "vscode": {
     "languageId": "r"
    }
   },
   "outputs": [],
   "source": []
  }
 ],
 "metadata": {
  "kernelspec": {
   "display_name": "R",
   "language": "R",
   "name": "ir"
  },
  "language_info": {
   "codemirror_mode": "r",
   "file_extension": ".r",
   "mimetype": "text/x-r-source",
   "name": "R",
   "pygments_lexer": "r",
   "version": "4.3.2"
  }
 },
 "nbformat": 4,
 "nbformat_minor": 2
}
