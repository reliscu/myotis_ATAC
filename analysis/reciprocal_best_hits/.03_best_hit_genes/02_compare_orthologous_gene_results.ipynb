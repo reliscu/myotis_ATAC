{
 "cells": [
  {
   "cell_type": "code",
   "execution_count": 4,
   "metadata": {
    "vscode": {
     "languageId": "r"
    }
   },
   "outputs": [],
   "source": [
    "setwd(\"/Users/rebecca/sudmant/analyses/myotis/analysis/reciprocal_best_hits/02_annotate_best_hits\")\n",
    "\n",
    "library(dplyr, verbose = FALSE)\n",
    "library(pafr)\n",
    "library(tidyr)\n",
    "library(data.table)\n",
    "\n",
    "spec_genes <- fread(\"/Users/rebecca/sudmant/analyses/myotis/data/ortholog_mapping.csv\", data.table = FALSE)"
   ]
  },
  {
   "cell_type": "code",
   "execution_count": 5,
   "metadata": {
    "vscode": {
     "languageId": "r"
    }
   },
   "outputs": [
    {
     "data": {
      "text/html": [
       "2421"
      ],
      "text/latex": [
       "2421"
      ],
      "text/markdown": [
       "2421"
      ],
      "text/plain": [
       "[1] 2421"
      ]
     },
     "metadata": {},
     "output_type": "display_data"
    }
   ],
   "source": [
    "## Compare makeup of orthologous genes between species reciprocal regions:\n",
    "\n",
    "spec1_hits <- fread(\"resources/best_hits/mMyoAui_vs_mMyoCai_best_hits_genes_orthologs_only.csv\", data.table = FALSE)\n",
    "spec2_hits <- fread(\"resources/best_hits/mMyoCai_vs_mMyoAui_best_hits_genes_orthologs_only.csv\", data.table = FALSE)\n",
    "spec_hit_intersect <- intersect(unique(spec1_hits$myotis_ali_fn), unique(spec2_hits$myotis_ali_fn))\n",
    "n_distinct(spec_hit_intersect)"
   ]
  },
  {
   "cell_type": "code",
   "execution_count": 6,
   "metadata": {
    "vscode": {
     "languageId": "r"
    }
   },
   "outputs": [
    {
     "data": {
      "text/html": [
       "18490"
      ],
      "text/latex": [
       "18490"
      ],
      "text/markdown": [
       "18490"
      ],
      "text/plain": [
       "[1] 18490"
      ]
     },
     "metadata": {},
     "output_type": "display_data"
    }
   ],
   "source": [
    "## Compare makeup of orthologous genes between species found another way:\n",
    "\n",
    "spec_genes <- fread(\"/Users/rebecca/sudmant/analyses/myotis/data/ortholog_mapping.csv\", data.table = FALSE)\n",
    "spec_genes <- spec_genes[c(1:6, grep(\"auriculus|californicus\", colnames(spec_genes)))]\n",
    "spec_genes <- spec_genes[!(spec_genes$auriculus_ID %in% \"NA\" | spec_genes$californicus_ID %in% \"NA\")  ,]\n",
    "\n",
    "n_distinct(spec_genes$myotis_ali_fn)"
   ]
  },
  {
   "cell_type": "code",
   "execution_count": 7,
   "metadata": {
    "vscode": {
     "languageId": "r"
    }
   },
   "outputs": [
    {
     "data": {
      "text/html": [
       "2421"
      ],
      "text/latex": [
       "2421"
      ],
      "text/markdown": [
       "2421"
      ],
      "text/plain": [
       "[1] 2421"
      ]
     },
     "metadata": {},
     "output_type": "display_data"
    }
   ],
   "source": [
    "sum(spec_hit_intersect %in% spec_genes$myotis_ali_fn)"
   ]
  },
  {
   "cell_type": "code",
   "execution_count": 8,
   "metadata": {
    "vscode": {
     "languageId": "r"
    }
   },
   "outputs": [
    {
     "data": {
      "text/html": [
       "<table class=\"dataframe\">\n",
       "<caption>A data.frame: 6 x 8</caption>\n",
       "<thead>\n",
       "\t<tr><th></th><th scope=col>human_ID</th><th scope=col>human_gene_name</th><th scope=col>myotis_ali_fn</th><th scope=col>nb_myotis_sp</th><th scope=col>velifer_human_onetoone</th><th scope=col>velifer_human_strongblast</th><th scope=col>auriculus_ID</th><th scope=col>californicus_ID</th></tr>\n",
       "\t<tr><th></th><th scope=col>&lt;chr&gt;</th><th scope=col>&lt;chr&gt;</th><th scope=col>&lt;chr&gt;</th><th scope=col>&lt;int&gt;</th><th scope=col>&lt;lgl&gt;</th><th scope=col>&lt;lgl&gt;</th><th scope=col>&lt;chr&gt;</th><th scope=col>&lt;chr&gt;</th></tr>\n",
       "</thead>\n",
       "<tbody>\n",
       "\t<tr><th scope=row>3</th><td>ENSG00000000419.1</td><td>DPM1    </td><td>gene_3 </td><td>10</td><td> TRUE</td><td>FALSE</td><td>auriculus_evm.TU.SUPER__9.1131</td><td>ENST00000371588.18-reg_1032-ENSG00000000419.0</td></tr>\n",
       "\t<tr><th scope=row>5</th><td>ENSG00000000457.1</td><td>SCYL3   </td><td>gene_5 </td><td>10</td><td> TRUE</td><td> TRUE</td><td>auriculus_evm.TU.SUPER__19.475</td><td>californicus_evm.TU.SUPER__19.1477           </td></tr>\n",
       "\t<tr><th scope=row>6</th><td>ENSG00000000460.1</td><td>C1orf112</td><td>gene_6 </td><td>10</td><td> TRUE</td><td> TRUE</td><td>auriculus_evm.TU.SUPER__19.476</td><td>californicus_evm.TU.SUPER__19.1476           </td></tr>\n",
       "\t<tr><th scope=row>10</th><td>ENSG00000000971.3</td><td>CFH     </td><td>gene_10</td><td>10</td><td>FALSE</td><td> TRUE</td><td>auriculus_evm.TU.SUPER__22.287</td><td>californicus_evm.TU.SUPER__22.246            </td></tr>\n",
       "\t<tr><th scope=row>11</th><td>ENSG00000001036.1</td><td>FUCA2   </td><td>gene_11</td><td>10</td><td> TRUE</td><td> TRUE</td><td>auriculus_evm.TU.SUPER__7.351 </td><td>californicus_evm.TU.SUPER__7.347             </td></tr>\n",
       "\t<tr><th scope=row>12</th><td>ENSG00000001084.1</td><td>GCLC    </td><td>gene_12</td><td>10</td><td> TRUE</td><td> TRUE</td><td>auriculus_evm.TU.SUPER__7.739 </td><td>californicus_evm.TU.SUPER__7.726             </td></tr>\n",
       "</tbody>\n",
       "</table>\n"
      ],
      "text/latex": [
       "A data.frame: 6 x 8\n",
       "\\begin{tabular}{r|llllllll}\n",
       "  & human\\_ID & human\\_gene\\_name & myotis\\_ali\\_fn & nb\\_myotis\\_sp & velifer\\_human\\_onetoone & velifer\\_human\\_strongblast & auriculus\\_ID & californicus\\_ID\\\\\n",
       "  & <chr> & <chr> & <chr> & <int> & <lgl> & <lgl> & <chr> & <chr>\\\\\n",
       "\\hline\n",
       "\t3 & ENSG00000000419.1 & DPM1     & gene\\_3  & 10 &  TRUE & FALSE & auriculus\\_evm.TU.SUPER\\_\\_9.1131 & ENST00000371588.18-reg\\_1032-ENSG00000000419.0\\\\\n",
       "\t5 & ENSG00000000457.1 & SCYL3    & gene\\_5  & 10 &  TRUE &  TRUE & auriculus\\_evm.TU.SUPER\\_\\_19.475 & californicus\\_evm.TU.SUPER\\_\\_19.1477           \\\\\n",
       "\t6 & ENSG00000000460.1 & C1orf112 & gene\\_6  & 10 &  TRUE &  TRUE & auriculus\\_evm.TU.SUPER\\_\\_19.476 & californicus\\_evm.TU.SUPER\\_\\_19.1476           \\\\\n",
       "\t10 & ENSG00000000971.3 & CFH      & gene\\_10 & 10 & FALSE &  TRUE & auriculus\\_evm.TU.SUPER\\_\\_22.287 & californicus\\_evm.TU.SUPER\\_\\_22.246            \\\\\n",
       "\t11 & ENSG00000001036.1 & FUCA2    & gene\\_11 & 10 &  TRUE &  TRUE & auriculus\\_evm.TU.SUPER\\_\\_7.351  & californicus\\_evm.TU.SUPER\\_\\_7.347             \\\\\n",
       "\t12 & ENSG00000001084.1 & GCLC     & gene\\_12 & 10 &  TRUE &  TRUE & auriculus\\_evm.TU.SUPER\\_\\_7.739  & californicus\\_evm.TU.SUPER\\_\\_7.726             \\\\\n",
       "\\end{tabular}\n"
      ],
      "text/markdown": [
       "\n",
       "A data.frame: 6 x 8\n",
       "\n",
       "| <!--/--> | human_ID &lt;chr&gt; | human_gene_name &lt;chr&gt; | myotis_ali_fn &lt;chr&gt; | nb_myotis_sp &lt;int&gt; | velifer_human_onetoone &lt;lgl&gt; | velifer_human_strongblast &lt;lgl&gt; | auriculus_ID &lt;chr&gt; | californicus_ID &lt;chr&gt; |\n",
       "|---|---|---|---|---|---|---|---|---|\n",
       "| 3 | ENSG00000000419.1 | DPM1     | gene_3  | 10 |  TRUE | FALSE | auriculus_evm.TU.SUPER__9.1131 | ENST00000371588.18-reg_1032-ENSG00000000419.0 |\n",
       "| 5 | ENSG00000000457.1 | SCYL3    | gene_5  | 10 |  TRUE |  TRUE | auriculus_evm.TU.SUPER__19.475 | californicus_evm.TU.SUPER__19.1477            |\n",
       "| 6 | ENSG00000000460.1 | C1orf112 | gene_6  | 10 |  TRUE |  TRUE | auriculus_evm.TU.SUPER__19.476 | californicus_evm.TU.SUPER__19.1476            |\n",
       "| 10 | ENSG00000000971.3 | CFH      | gene_10 | 10 | FALSE |  TRUE | auriculus_evm.TU.SUPER__22.287 | californicus_evm.TU.SUPER__22.246             |\n",
       "| 11 | ENSG00000001036.1 | FUCA2    | gene_11 | 10 |  TRUE |  TRUE | auriculus_evm.TU.SUPER__7.351  | californicus_evm.TU.SUPER__7.347              |\n",
       "| 12 | ENSG00000001084.1 | GCLC     | gene_12 | 10 |  TRUE |  TRUE | auriculus_evm.TU.SUPER__7.739  | californicus_evm.TU.SUPER__7.726              |\n",
       "\n"
      ],
      "text/plain": [
       "   human_ID          human_gene_name myotis_ali_fn nb_myotis_sp\n",
       "3  ENSG00000000419.1 DPM1            gene_3        10          \n",
       "5  ENSG00000000457.1 SCYL3           gene_5        10          \n",
       "6  ENSG00000000460.1 C1orf112        gene_6        10          \n",
       "10 ENSG00000000971.3 CFH             gene_10       10          \n",
       "11 ENSG00000001036.1 FUCA2           gene_11       10          \n",
       "12 ENSG00000001084.1 GCLC            gene_12       10          \n",
       "   velifer_human_onetoone velifer_human_strongblast\n",
       "3   TRUE                  FALSE                    \n",
       "5   TRUE                   TRUE                    \n",
       "6   TRUE                   TRUE                    \n",
       "10 FALSE                   TRUE                    \n",
       "11  TRUE                   TRUE                    \n",
       "12  TRUE                   TRUE                    \n",
       "   auriculus_ID                   californicus_ID                              \n",
       "3  auriculus_evm.TU.SUPER__9.1131 ENST00000371588.18-reg_1032-ENSG00000000419.0\n",
       "5  auriculus_evm.TU.SUPER__19.475 californicus_evm.TU.SUPER__19.1477           \n",
       "6  auriculus_evm.TU.SUPER__19.476 californicus_evm.TU.SUPER__19.1476           \n",
       "10 auriculus_evm.TU.SUPER__22.287 californicus_evm.TU.SUPER__22.246            \n",
       "11 auriculus_evm.TU.SUPER__7.351  californicus_evm.TU.SUPER__7.347             \n",
       "12 auriculus_evm.TU.SUPER__7.739  californicus_evm.TU.SUPER__7.726             "
      ]
     },
     "metadata": {},
     "output_type": "display_data"
    }
   ],
   "source": [
    "head(spec_genes[!spec_genes$myotis_ali_fn %in% spec_hit_intersect,])"
   ]
  },
  {
   "cell_type": "code",
   "execution_count": 9,
   "metadata": {
    "vscode": {
     "languageId": "r"
    }
   },
   "outputs": [
    {
     "data": {
      "text/html": [
       "<table class=\"dataframe\">\n",
       "<caption>A data.frame: 2 x 9</caption>\n",
       "<thead>\n",
       "\t<tr><th></th><th scope=col>V1</th><th scope=col>V2</th><th scope=col>V3</th><th scope=col>V4</th><th scope=col>V5</th><th scope=col>V6</th><th scope=col>V7</th><th scope=col>V8</th><th scope=col>V9</th></tr>\n",
       "\t<tr><th></th><th scope=col>&lt;chr&gt;</th><th scope=col>&lt;chr&gt;</th><th scope=col>&lt;chr&gt;</th><th scope=col>&lt;int&gt;</th><th scope=col>&lt;int&gt;</th><th scope=col>&lt;chr&gt;</th><th scope=col>&lt;chr&gt;</th><th scope=col>&lt;chr&gt;</th><th scope=col>&lt;chr&gt;</th></tr>\n",
       "</thead>\n",
       "<tbody>\n",
       "\t<tr><th scope=row>169494</th><td>SUPER__4</td><td>EVM</td><td>gene</td><td>87358994</td><td>87390675</td><td>.</td><td>+</td><td>.</td><td>ID=evm.TU.SUPER__4.1008;Name=EVM prediction SUPER__4.1008                               </td></tr>\n",
       "\t<tr><th scope=row>169495</th><td>SUPER__4</td><td>EVM</td><td>mRNA</td><td>87358994</td><td>87390675</td><td>.</td><td>+</td><td>.</td><td>ID=evm.model.SUPER__4.1008;Parent=evm.TU.SUPER__4.1008;Name=EVM prediction SUPER__4.1008</td></tr>\n",
       "</tbody>\n",
       "</table>\n"
      ],
      "text/latex": [
       "A data.frame: 2 x 9\n",
       "\\begin{tabular}{r|lllllllll}\n",
       "  & V1 & V2 & V3 & V4 & V5 & V6 & V7 & V8 & V9\\\\\n",
       "  & <chr> & <chr> & <chr> & <int> & <int> & <chr> & <chr> & <chr> & <chr>\\\\\n",
       "\\hline\n",
       "\t169494 & SUPER\\_\\_4 & EVM & gene & 87358994 & 87390675 & . & + & . & ID=evm.TU.SUPER\\_\\_4.1008;Name=EVM prediction SUPER\\_\\_4.1008                               \\\\\n",
       "\t169495 & SUPER\\_\\_4 & EVM & mRNA & 87358994 & 87390675 & . & + & . & ID=evm.model.SUPER\\_\\_4.1008;Parent=evm.TU.SUPER\\_\\_4.1008;Name=EVM prediction SUPER\\_\\_4.1008\\\\\n",
       "\\end{tabular}\n"
      ],
      "text/markdown": [
       "\n",
       "A data.frame: 2 x 9\n",
       "\n",
       "| <!--/--> | V1 &lt;chr&gt; | V2 &lt;chr&gt; | V3 &lt;chr&gt; | V4 &lt;int&gt; | V5 &lt;int&gt; | V6 &lt;chr&gt; | V7 &lt;chr&gt; | V8 &lt;chr&gt; | V9 &lt;chr&gt; |\n",
       "|---|---|---|---|---|---|---|---|---|---|\n",
       "| 169494 | SUPER__4 | EVM | gene | 87358994 | 87390675 | . | + | . | ID=evm.TU.SUPER__4.1008;Name=EVM prediction SUPER__4.1008                                |\n",
       "| 169495 | SUPER__4 | EVM | mRNA | 87358994 | 87390675 | . | + | . | ID=evm.model.SUPER__4.1008;Parent=evm.TU.SUPER__4.1008;Name=EVM prediction SUPER__4.1008 |\n",
       "\n"
      ],
      "text/plain": [
       "       V1       V2  V3   V4       V5       V6 V7 V8\n",
       "169494 SUPER__4 EVM gene 87358994 87390675 .  +  . \n",
       "169495 SUPER__4 EVM mRNA 87358994 87390675 .  +  . \n",
       "       V9                                                                                      \n",
       "169494 ID=evm.TU.SUPER__4.1008;Name=EVM prediction SUPER__4.1008                               \n",
       "169495 ID=evm.model.SUPER__4.1008;Parent=evm.TU.SUPER__4.1008;Name=EVM prediction SUPER__4.1008"
      ]
     },
     "metadata": {},
     "output_type": "display_data"
    }
   ],
   "source": [
    "## Where is gene_16 in Auriculus genome?\n",
    "\n",
    "auric_gene <- \"evm.TU.SUPER__4.1008\"\n",
    "auric_genome <- fread(\"/Users/rebecca/sudmant/analyses/myotis/data/genomes/bat_genomes/gff_final_curated/mMyoAui1_finalAnnotation.gff3\", data.table = FALSE, skip = 1)\n",
    "auric_genome[grep(auric_gene, auric_genome$V9),]"
   ]
  },
  {
   "cell_type": "code",
   "execution_count": 10,
   "metadata": {
    "vscode": {
     "languageId": "r"
    }
   },
   "outputs": [
    {
     "data": {
      "text/html": [
       "<table class=\"dataframe\">\n",
       "<caption>A data.frame: 2 x 9</caption>\n",
       "<thead>\n",
       "\t<tr><th></th><th scope=col>V1</th><th scope=col>V2</th><th scope=col>V3</th><th scope=col>V4</th><th scope=col>V5</th><th scope=col>V6</th><th scope=col>V7</th><th scope=col>V8</th><th scope=col>V9</th></tr>\n",
       "\t<tr><th></th><th scope=col>&lt;chr&gt;</th><th scope=col>&lt;chr&gt;</th><th scope=col>&lt;chr&gt;</th><th scope=col>&lt;int&gt;</th><th scope=col>&lt;int&gt;</th><th scope=col>&lt;chr&gt;</th><th scope=col>&lt;chr&gt;</th><th scope=col>&lt;chr&gt;</th><th scope=col>&lt;chr&gt;</th></tr>\n",
       "</thead>\n",
       "<tbody>\n",
       "\t<tr><th scope=row>182633</th><td>SUPER__4</td><td>EVM</td><td>gene</td><td>88158666</td><td>88182283</td><td>.</td><td>+</td><td>.</td><td>ID=evm.TU.SUPER__4.1036;Name=EVM prediction SUPER__4.1036                               </td></tr>\n",
       "\t<tr><th scope=row>182634</th><td>SUPER__4</td><td>EVM</td><td>mRNA</td><td>88158666</td><td>88182283</td><td>.</td><td>+</td><td>.</td><td>ID=evm.model.SUPER__4.1036;Parent=evm.TU.SUPER__4.1036;Name=EVM prediction SUPER__4.1036</td></tr>\n",
       "</tbody>\n",
       "</table>\n"
      ],
      "text/latex": [
       "A data.frame: 2 x 9\n",
       "\\begin{tabular}{r|lllllllll}\n",
       "  & V1 & V2 & V3 & V4 & V5 & V6 & V7 & V8 & V9\\\\\n",
       "  & <chr> & <chr> & <chr> & <int> & <int> & <chr> & <chr> & <chr> & <chr>\\\\\n",
       "\\hline\n",
       "\t182633 & SUPER\\_\\_4 & EVM & gene & 88158666 & 88182283 & . & + & . & ID=evm.TU.SUPER\\_\\_4.1036;Name=EVM prediction SUPER\\_\\_4.1036                               \\\\\n",
       "\t182634 & SUPER\\_\\_4 & EVM & mRNA & 88158666 & 88182283 & . & + & . & ID=evm.model.SUPER\\_\\_4.1036;Parent=evm.TU.SUPER\\_\\_4.1036;Name=EVM prediction SUPER\\_\\_4.1036\\\\\n",
       "\\end{tabular}\n"
      ],
      "text/markdown": [
       "\n",
       "A data.frame: 2 x 9\n",
       "\n",
       "| <!--/--> | V1 &lt;chr&gt; | V2 &lt;chr&gt; | V3 &lt;chr&gt; | V4 &lt;int&gt; | V5 &lt;int&gt; | V6 &lt;chr&gt; | V7 &lt;chr&gt; | V8 &lt;chr&gt; | V9 &lt;chr&gt; |\n",
       "|---|---|---|---|---|---|---|---|---|---|\n",
       "| 182633 | SUPER__4 | EVM | gene | 88158666 | 88182283 | . | + | . | ID=evm.TU.SUPER__4.1036;Name=EVM prediction SUPER__4.1036                                |\n",
       "| 182634 | SUPER__4 | EVM | mRNA | 88158666 | 88182283 | . | + | . | ID=evm.model.SUPER__4.1036;Parent=evm.TU.SUPER__4.1036;Name=EVM prediction SUPER__4.1036 |\n",
       "\n"
      ],
      "text/plain": [
       "       V1       V2  V3   V4       V5       V6 V7 V8\n",
       "182633 SUPER__4 EVM gene 88158666 88182283 .  +  . \n",
       "182634 SUPER__4 EVM mRNA 88158666 88182283 .  +  . \n",
       "       V9                                                                                      \n",
       "182633 ID=evm.TU.SUPER__4.1036;Name=EVM prediction SUPER__4.1036                               \n",
       "182634 ID=evm.model.SUPER__4.1036;Parent=evm.TU.SUPER__4.1036;Name=EVM prediction SUPER__4.1036"
      ]
     },
     "metadata": {},
     "output_type": "display_data"
    }
   ],
   "source": [
    "## Where is gene_16 in Californiacus genome?\n",
    "\n",
    "calif_gene <- \"evm.TU.SUPER__4.1036\"\n",
    "calif_genome <- fread(\"/Users/rebecca/sudmant/analyses/myotis/data/genomes/bat_genomes/gff_final_curated/mMyoCai1_finalAnnotation.gff3\", data.table = FALSE, skip = 1)\n",
    "calif_genome[grep(calif_gene, calif_genome$V9),]"
   ]
  },
  {
   "cell_type": "code",
   "execution_count": null,
   "metadata": {
    "vscode": {
     "languageId": "r"
    }
   },
   "outputs": [],
   "source": [
    "## Does this region appear as a hit in the Californicus --> Auriculus PAF?"
   ]
  },
  {
   "cell_type": "code",
   "execution_count": 13,
   "metadata": {
    "vscode": {
     "languageId": "r"
    }
   },
   "outputs": [
    {
     "data": {
      "text/html": [
       "<table class=\"dataframe\">\n",
       "<caption>A pafr: 1 x 20</caption>\n",
       "<thead>\n",
       "\t<tr><th></th><th scope=col>qname</th><th scope=col>qlen</th><th scope=col>qstart</th><th scope=col>qend</th><th scope=col>strand</th><th scope=col>tname</th><th scope=col>tlen</th><th scope=col>tstart</th><th scope=col>tend</th><th scope=col>nmatch</th><th scope=col>alen</th><th scope=col>mapq</th><th scope=col>gi</th><th scope=col>bi</th><th scope=col>md</th><th scope=col>wt</th><th scope=col>pt</th><th scope=col>aa</th><th scope=col>ap</th><th scope=col>cg</th></tr>\n",
       "\t<tr><th></th><th scope=col>&lt;chr&gt;</th><th scope=col>&lt;dbl&gt;</th><th scope=col>&lt;dbl&gt;</th><th scope=col>&lt;dbl&gt;</th><th scope=col>&lt;chr&gt;</th><th scope=col>&lt;chr&gt;</th><th scope=col>&lt;dbl&gt;</th><th scope=col>&lt;dbl&gt;</th><th scope=col>&lt;dbl&gt;</th><th scope=col>&lt;dbl&gt;</th><th scope=col>&lt;dbl&gt;</th><th scope=col>&lt;dbl&gt;</th><th scope=col>&lt;dbl&gt;</th><th scope=col>&lt;dbl&gt;</th><th scope=col>&lt;dbl&gt;</th><th scope=col>&lt;dbl&gt;</th><th scope=col>&lt;dbl&gt;</th><th scope=col>&lt;dbl&gt;</th><th scope=col>&lt;dbl&gt;</th><th scope=col>&lt;chr&gt;</th></tr>\n",
       "</thead>\n",
       "<tbody>\n",
       "\t<tr><th scope=row>735</th><td>mMyoCai1.0.SUPER__4</td><td>126198552</td><td>84885000</td><td>86298120</td><td>+</td><td>mMyoAui1.0.SUPER__4</td><td>125946359</td><td>84262536</td><td>85608306</td><td>1150523</td><td>1413120</td><td>6</td><td>NA</td><td>NA</td><td>NA</td><td>NA</td><td>NA</td><td>NA</td><td>44931</td><td>NA</td></tr>\n",
       "</tbody>\n",
       "</table>\n"
      ],
      "text/latex": [
       "A pafr: 1 x 20\n",
       "\\begin{tabular}{r|llllllllllllllllllll}\n",
       "  & qname & qlen & qstart & qend & strand & tname & tlen & tstart & tend & nmatch & alen & mapq & gi & bi & md & wt & pt & aa & ap & cg\\\\\n",
       "  & <chr> & <dbl> & <dbl> & <dbl> & <chr> & <chr> & <dbl> & <dbl> & <dbl> & <dbl> & <dbl> & <dbl> & <dbl> & <dbl> & <dbl> & <dbl> & <dbl> & <dbl> & <dbl> & <chr>\\\\\n",
       "\\hline\n",
       "\t735 & mMyoCai1.0.SUPER\\_\\_4 & 126198552 & 84885000 & 86298120 & + & mMyoAui1.0.SUPER\\_\\_4 & 125946359 & 84262536 & 85608306 & 1150523 & 1413120 & 6 & NA & NA & NA & NA & NA & NA & 44931 & NA\\\\\n",
       "\\end{tabular}\n"
      ],
      "text/markdown": [
       "\n",
       "A pafr: 1 x 20\n",
       "\n",
       "| <!--/--> | qname &lt;chr&gt; | qlen &lt;dbl&gt; | qstart &lt;dbl&gt; | qend &lt;dbl&gt; | strand &lt;chr&gt; | tname &lt;chr&gt; | tlen &lt;dbl&gt; | tstart &lt;dbl&gt; | tend &lt;dbl&gt; | nmatch &lt;dbl&gt; | alen &lt;dbl&gt; | mapq &lt;dbl&gt; | gi &lt;dbl&gt; | bi &lt;dbl&gt; | md &lt;dbl&gt; | wt &lt;dbl&gt; | pt &lt;dbl&gt; | aa &lt;dbl&gt; | ap &lt;dbl&gt; | cg &lt;chr&gt; |\n",
       "|---|---|---|---|---|---|---|---|---|---|---|---|---|---|---|---|---|---|---|---|---|\n",
       "| 735 | mMyoCai1.0.SUPER__4 | 126198552 | 84885000 | 86298120 | + | mMyoAui1.0.SUPER__4 | 125946359 | 84262536 | 85608306 | 1150523 | 1413120 | 6 | NA | NA | NA | NA | NA | NA | 44931 | NA |\n",
       "\n"
      ],
      "text/plain": [
       "    qname               qlen      qstart   qend     strand tname              \n",
       "735 mMyoCai1.0.SUPER__4 126198552 84885000 86298120 +      mMyoAui1.0.SUPER__4\n",
       "    tlen      tstart   tend     nmatch  alen    mapq gi bi md wt pt aa ap    cg\n",
       "735 125946359 84262536 85608306 1150523 1413120 6    NA NA NA NA NA NA 44931 NA"
      ]
     },
     "metadata": {},
     "output_type": "display_data"
    }
   ],
   "source": [
    "auric_paf <- read_paf(\"../01_get_best_hits/resources/pafs/mMyoAui1.cleaned.hapheader_mMyoCai1.cleaned.hapheader.exact.paf\")\n",
    "auric_paf <- auric_paf[grep(\"SUPER__4$\", auric_paf$tname),]\n",
    "auric_paf <- auric_paf[order(auric_paf$tstart),]\n",
    "auric_paf[auric_paf$tstart >= 84e6,][2,]"
   ]
  },
  {
   "cell_type": "code",
   "execution_count": 14,
   "metadata": {
    "vscode": {
     "languageId": "r"
    }
   },
   "outputs": [
    {
     "data": {
      "text/html": [
       "<table class=\"dataframe\">\n",
       "<caption>A pafr: 1 x 20</caption>\n",
       "<thead>\n",
       "\t<tr><th></th><th scope=col>qname</th><th scope=col>qlen</th><th scope=col>qstart</th><th scope=col>qend</th><th scope=col>strand</th><th scope=col>tname</th><th scope=col>tlen</th><th scope=col>tstart</th><th scope=col>tend</th><th scope=col>nmatch</th><th scope=col>alen</th><th scope=col>mapq</th><th scope=col>gi</th><th scope=col>bi</th><th scope=col>md</th><th scope=col>wt</th><th scope=col>pt</th><th scope=col>aa</th><th scope=col>ap</th><th scope=col>cg</th></tr>\n",
       "\t<tr><th></th><th scope=col>&lt;chr&gt;</th><th scope=col>&lt;dbl&gt;</th><th scope=col>&lt;dbl&gt;</th><th scope=col>&lt;dbl&gt;</th><th scope=col>&lt;chr&gt;</th><th scope=col>&lt;chr&gt;</th><th scope=col>&lt;dbl&gt;</th><th scope=col>&lt;dbl&gt;</th><th scope=col>&lt;dbl&gt;</th><th scope=col>&lt;dbl&gt;</th><th scope=col>&lt;dbl&gt;</th><th scope=col>&lt;dbl&gt;</th><th scope=col>&lt;dbl&gt;</th><th scope=col>&lt;dbl&gt;</th><th scope=col>&lt;dbl&gt;</th><th scope=col>&lt;dbl&gt;</th><th scope=col>&lt;dbl&gt;</th><th scope=col>&lt;dbl&gt;</th><th scope=col>&lt;dbl&gt;</th><th scope=col>&lt;chr&gt;</th></tr>\n",
       "</thead>\n",
       "<tbody>\n",
       "\t<tr><th scope=row>783</th><td>mMyoAui1.0.SUPER__4</td><td>125946359</td><td>84261536</td><td>85608352</td><td>+</td><td>mMyoCai1.0.SUPER__4</td><td>126198552</td><td>84884019</td><td>86298125</td><td>1151298</td><td>1414106</td><td>6</td><td>NA</td><td>NA</td><td>NA</td><td>NA</td><td>NA</td><td>NA</td><td>14561</td><td>NA</td></tr>\n",
       "</tbody>\n",
       "</table>\n"
      ],
      "text/latex": [
       "A pafr: 1 x 20\n",
       "\\begin{tabular}{r|llllllllllllllllllll}\n",
       "  & qname & qlen & qstart & qend & strand & tname & tlen & tstart & tend & nmatch & alen & mapq & gi & bi & md & wt & pt & aa & ap & cg\\\\\n",
       "  & <chr> & <dbl> & <dbl> & <dbl> & <chr> & <chr> & <dbl> & <dbl> & <dbl> & <dbl> & <dbl> & <dbl> & <dbl> & <dbl> & <dbl> & <dbl> & <dbl> & <dbl> & <dbl> & <chr>\\\\\n",
       "\\hline\n",
       "\t783 & mMyoAui1.0.SUPER\\_\\_4 & 125946359 & 84261536 & 85608352 & + & mMyoCai1.0.SUPER\\_\\_4 & 126198552 & 84884019 & 86298125 & 1151298 & 1414106 & 6 & NA & NA & NA & NA & NA & NA & 14561 & NA\\\\\n",
       "\\end{tabular}\n"
      ],
      "text/markdown": [
       "\n",
       "A pafr: 1 x 20\n",
       "\n",
       "| <!--/--> | qname &lt;chr&gt; | qlen &lt;dbl&gt; | qstart &lt;dbl&gt; | qend &lt;dbl&gt; | strand &lt;chr&gt; | tname &lt;chr&gt; | tlen &lt;dbl&gt; | tstart &lt;dbl&gt; | tend &lt;dbl&gt; | nmatch &lt;dbl&gt; | alen &lt;dbl&gt; | mapq &lt;dbl&gt; | gi &lt;dbl&gt; | bi &lt;dbl&gt; | md &lt;dbl&gt; | wt &lt;dbl&gt; | pt &lt;dbl&gt; | aa &lt;dbl&gt; | ap &lt;dbl&gt; | cg &lt;chr&gt; |\n",
       "|---|---|---|---|---|---|---|---|---|---|---|---|---|---|---|---|---|---|---|---|---|\n",
       "| 783 | mMyoAui1.0.SUPER__4 | 125946359 | 84261536 | 85608352 | + | mMyoCai1.0.SUPER__4 | 126198552 | 84884019 | 86298125 | 1151298 | 1414106 | 6 | NA | NA | NA | NA | NA | NA | 14561 | NA |\n",
       "\n"
      ],
      "text/plain": [
       "    qname               qlen      qstart   qend     strand tname              \n",
       "783 mMyoAui1.0.SUPER__4 125946359 84261536 85608352 +      mMyoCai1.0.SUPER__4\n",
       "    tlen      tstart   tend     nmatch  alen    mapq gi bi md wt pt aa ap    cg\n",
       "783 126198552 84884019 86298125 1151298 1414106 6    NA NA NA NA NA NA 14561 NA"
      ]
     },
     "metadata": {},
     "output_type": "display_data"
    }
   ],
   "source": [
    "## Does this region appear as a hit in the Auriculus --> Californicus PAF?\n",
    "calif_paf <- read_paf(\"../01_get_best_hits/resources/pafs/mMyoCai1.cleaned.hapheader_mMyoAui1.cleaned.hapheader.exact.paf\")\n",
    "calif_paf <- calif_paf[grep(\"SUPER__4$\", calif_paf$tname),]\n",
    "calif_paf <- calif_paf[order(calif_paf$tstart),]\n",
    "calif_paf[calif_paf$tstart >= 84e6,][2,]"
   ]
  },
  {
   "cell_type": "code",
   "execution_count": 15,
   "metadata": {
    "vscode": {
     "languageId": "r"
    }
   },
   "outputs": [
    {
     "data": {
      "text/html": [
       "<table class=\"dataframe\">\n",
       "<caption>A data.frame: 12 x 13</caption>\n",
       "<thead>\n",
       "\t<tr><th></th><th scope=col>qname</th><th scope=col>qlen</th><th scope=col>qstart</th><th scope=col>qend</th><th scope=col>strand</th><th scope=col>tname</th><th scope=col>tlen</th><th scope=col>tstart</th><th scope=col>tend</th><th scope=col>nmatch</th><th scope=col>alen</th><th scope=col>mapq</th><th scope=col>Id</th></tr>\n",
       "\t<tr><th></th><th scope=col>&lt;chr&gt;</th><th scope=col>&lt;int&gt;</th><th scope=col>&lt;int&gt;</th><th scope=col>&lt;int&gt;</th><th scope=col>&lt;chr&gt;</th><th scope=col>&lt;chr&gt;</th><th scope=col>&lt;int&gt;</th><th scope=col>&lt;int&gt;</th><th scope=col>&lt;int&gt;</th><th scope=col>&lt;int&gt;</th><th scope=col>&lt;int&gt;</th><th scope=col>&lt;int&gt;</th><th scope=col>&lt;chr&gt;</th></tr>\n",
       "</thead>\n",
       "<tbody>\n",
       "\t<tr><th scope=row>46</th><td>mMyoAui1.0.SUPER__4</td><td>125946359</td><td> 84262536</td><td> 85608306</td><td>+</td><td>mMyoCai1.0.SUPER__4</td><td>126198552</td><td> 84885000</td><td> 86298120</td><td>1151298</td><td>1414106</td><td> 6</td><td>84261536_85608352_84884019_86298125    </td></tr>\n",
       "\t<tr><th scope=row>42</th><td>mMyoAui1.0.SUPER__4</td><td>125946359</td><td> 89361121</td><td> 89480230</td><td>-</td><td>mMyoCai1.0.SUPER__4</td><td>126198552</td><td> 90100000</td><td> 90225000</td><td> 123406</td><td> 135139</td><td>10</td><td>89360464_89489744_90090522_90225661    </td></tr>\n",
       "\t<tr><th scope=row>44</th><td>mMyoAui1.0.SUPER__4</td><td>125946359</td><td> 98215000</td><td> 98601432</td><td>+</td><td>mMyoCai1.0.SUPER__4</td><td>126198552</td><td> 99095611</td><td> 99449532</td><td> 296138</td><td> 386432</td><td> 5</td><td>98215000_98601432_99095611_99449532    </td></tr>\n",
       "\t<tr><th scope=row>41</th><td>mMyoAui1.0.SUPER__4</td><td>125946359</td><td> 98682432</td><td> 98735000</td><td>+</td><td>mMyoCai1.0.SUPER__4</td><td>126198552</td><td> 99646293</td><td> 99693763</td><td>  39787</td><td>  52568</td><td> 5</td><td>98682432_98735000_99646293_99693763    </td></tr>\n",
       "\t<tr><th scope=row>38</th><td>mMyoAui1.0.SUPER__4</td><td>125946359</td><td> 98615000</td><td> 98679768</td><td>+</td><td>mMyoCai1.0.SUPER__4</td><td>126198552</td><td> 99774597</td><td> 99837089</td><td>  53910</td><td>  64768</td><td> 6</td><td>98615000_98679768_99774597_99837089    </td></tr>\n",
       "\t<tr><th scope=row>40</th><td>mMyoAui1.0.SUPER__4</td><td>125946359</td><td> 98787048</td><td> 98911901</td><td>+</td><td>mMyoCai1.0.SUPER__4</td><td>126198552</td><td>100020819</td><td>100125000</td><td>  87630</td><td> 132952</td><td> 4</td><td>98787048_98920000_100020819_100133115  </td></tr>\n",
       "\t<tr><th scope=row>48</th><td>mMyoAui1.0.SUPER__4</td><td>125946359</td><td> 99053026</td><td>100204304</td><td>+</td><td>mMyoCai1.0.SUPER__4</td><td>126198552</td><td>100185384</td><td>101299708</td><td>1000650</td><td>1154176</td><td> 7</td><td>99050128_100204304_100183027_101299708 </td></tr>\n",
       "\t<tr><th scope=row>49</th><td>mMyoAui1.0.SUPER__4</td><td>125946359</td><td>100760000</td><td>100998672</td><td>+</td><td>mMyoCai1.0.SUPER__4</td><td>126198552</td><td>101919641</td><td>102145000</td><td> 211166</td><td> 239232</td><td> 8</td><td>100760000_100999232_101919641_102145560</td></tr>\n",
       "\t<tr><th scope=row>50</th><td>mMyoAui1.0.SUPER__4</td><td>125946359</td><td>101005617</td><td>101148672</td><td>+</td><td>mMyoCai1.0.SUPER__4</td><td>126198552</td><td>102210000</td><td>102355000</td><td> 128373</td><td> 146705</td><td> 7</td><td>101005256_101150000_102209639_102356344</td></tr>\n",
       "\t<tr><th scope=row>52</th><td>mMyoAui1.0.SUPER__4</td><td>125946359</td><td>101156042</td><td>101416561</td><td>-</td><td>mMyoCai1.0.SUPER__4</td><td>126198552</td><td>102360000</td><td>102589232</td><td> 175274</td><td> 269744</td><td> 3</td><td>101150000_101419744_102356444_102594965</td></tr>\n",
       "\t<tr><th scope=row>53</th><td>mMyoAui1.0.SUPER__4</td><td>125946359</td><td>111591880</td><td>111709145</td><td>+</td><td>mMyoCai1.0.SUPER__4</td><td>126198552</td><td>112836580</td><td>112954286</td><td> 101902</td><td> 122368</td><td> 6</td><td>111591880_111714248_112836580_112954286</td></tr>\n",
       "\t<tr><th scope=row>59</th><td>mMyoAui1.0.SUPER__4</td><td>125946359</td><td>111818680</td><td>116368056</td><td>+</td><td>mMyoCai1.0.SUPER__4</td><td>126198552</td><td>112960469</td><td>117410606</td><td>4144585</td><td>4549376</td><td> 9</td><td>111818680_116368056_112960469_117410606</td></tr>\n",
       "</tbody>\n",
       "</table>\n"
      ],
      "text/latex": [
       "A data.frame: 12 x 13\n",
       "\\begin{tabular}{r|lllllllllllll}\n",
       "  & qname & qlen & qstart & qend & strand & tname & tlen & tstart & tend & nmatch & alen & mapq & Id\\\\\n",
       "  & <chr> & <int> & <int> & <int> & <chr> & <chr> & <int> & <int> & <int> & <int> & <int> & <int> & <chr>\\\\\n",
       "\\hline\n",
       "\t46 & mMyoAui1.0.SUPER\\_\\_4 & 125946359 &  84262536 &  85608306 & + & mMyoCai1.0.SUPER\\_\\_4 & 126198552 &  84885000 &  86298120 & 1151298 & 1414106 &  6 & 84261536\\_85608352\\_84884019\\_86298125    \\\\\n",
       "\t42 & mMyoAui1.0.SUPER\\_\\_4 & 125946359 &  89361121 &  89480230 & - & mMyoCai1.0.SUPER\\_\\_4 & 126198552 &  90100000 &  90225000 &  123406 &  135139 & 10 & 89360464\\_89489744\\_90090522\\_90225661    \\\\\n",
       "\t44 & mMyoAui1.0.SUPER\\_\\_4 & 125946359 &  98215000 &  98601432 & + & mMyoCai1.0.SUPER\\_\\_4 & 126198552 &  99095611 &  99449532 &  296138 &  386432 &  5 & 98215000\\_98601432\\_99095611\\_99449532    \\\\\n",
       "\t41 & mMyoAui1.0.SUPER\\_\\_4 & 125946359 &  98682432 &  98735000 & + & mMyoCai1.0.SUPER\\_\\_4 & 126198552 &  99646293 &  99693763 &   39787 &   52568 &  5 & 98682432\\_98735000\\_99646293\\_99693763    \\\\\n",
       "\t38 & mMyoAui1.0.SUPER\\_\\_4 & 125946359 &  98615000 &  98679768 & + & mMyoCai1.0.SUPER\\_\\_4 & 126198552 &  99774597 &  99837089 &   53910 &   64768 &  6 & 98615000\\_98679768\\_99774597\\_99837089    \\\\\n",
       "\t40 & mMyoAui1.0.SUPER\\_\\_4 & 125946359 &  98787048 &  98911901 & + & mMyoCai1.0.SUPER\\_\\_4 & 126198552 & 100020819 & 100125000 &   87630 &  132952 &  4 & 98787048\\_98920000\\_100020819\\_100133115  \\\\\n",
       "\t48 & mMyoAui1.0.SUPER\\_\\_4 & 125946359 &  99053026 & 100204304 & + & mMyoCai1.0.SUPER\\_\\_4 & 126198552 & 100185384 & 101299708 & 1000650 & 1154176 &  7 & 99050128\\_100204304\\_100183027\\_101299708 \\\\\n",
       "\t49 & mMyoAui1.0.SUPER\\_\\_4 & 125946359 & 100760000 & 100998672 & + & mMyoCai1.0.SUPER\\_\\_4 & 126198552 & 101919641 & 102145000 &  211166 &  239232 &  8 & 100760000\\_100999232\\_101919641\\_102145560\\\\\n",
       "\t50 & mMyoAui1.0.SUPER\\_\\_4 & 125946359 & 101005617 & 101148672 & + & mMyoCai1.0.SUPER\\_\\_4 & 126198552 & 102210000 & 102355000 &  128373 &  146705 &  7 & 101005256\\_101150000\\_102209639\\_102356344\\\\\n",
       "\t52 & mMyoAui1.0.SUPER\\_\\_4 & 125946359 & 101156042 & 101416561 & - & mMyoCai1.0.SUPER\\_\\_4 & 126198552 & 102360000 & 102589232 &  175274 &  269744 &  3 & 101150000\\_101419744\\_102356444\\_102594965\\\\\n",
       "\t53 & mMyoAui1.0.SUPER\\_\\_4 & 125946359 & 111591880 & 111709145 & + & mMyoCai1.0.SUPER\\_\\_4 & 126198552 & 112836580 & 112954286 &  101902 &  122368 &  6 & 111591880\\_111714248\\_112836580\\_112954286\\\\\n",
       "\t59 & mMyoAui1.0.SUPER\\_\\_4 & 125946359 & 111818680 & 116368056 & + & mMyoCai1.0.SUPER\\_\\_4 & 126198552 & 112960469 & 117410606 & 4144585 & 4549376 &  9 & 111818680\\_116368056\\_112960469\\_117410606\\\\\n",
       "\\end{tabular}\n"
      ],
      "text/markdown": [
       "\n",
       "A data.frame: 12 x 13\n",
       "\n",
       "| <!--/--> | qname &lt;chr&gt; | qlen &lt;int&gt; | qstart &lt;int&gt; | qend &lt;int&gt; | strand &lt;chr&gt; | tname &lt;chr&gt; | tlen &lt;int&gt; | tstart &lt;int&gt; | tend &lt;int&gt; | nmatch &lt;int&gt; | alen &lt;int&gt; | mapq &lt;int&gt; | Id &lt;chr&gt; |\n",
       "|---|---|---|---|---|---|---|---|---|---|---|---|---|---|\n",
       "| 46 | mMyoAui1.0.SUPER__4 | 125946359 |  84262536 |  85608306 | + | mMyoCai1.0.SUPER__4 | 126198552 |  84885000 |  86298120 | 1151298 | 1414106 |  6 | 84261536_85608352_84884019_86298125     |\n",
       "| 42 | mMyoAui1.0.SUPER__4 | 125946359 |  89361121 |  89480230 | - | mMyoCai1.0.SUPER__4 | 126198552 |  90100000 |  90225000 |  123406 |  135139 | 10 | 89360464_89489744_90090522_90225661     |\n",
       "| 44 | mMyoAui1.0.SUPER__4 | 125946359 |  98215000 |  98601432 | + | mMyoCai1.0.SUPER__4 | 126198552 |  99095611 |  99449532 |  296138 |  386432 |  5 | 98215000_98601432_99095611_99449532     |\n",
       "| 41 | mMyoAui1.0.SUPER__4 | 125946359 |  98682432 |  98735000 | + | mMyoCai1.0.SUPER__4 | 126198552 |  99646293 |  99693763 |   39787 |   52568 |  5 | 98682432_98735000_99646293_99693763     |\n",
       "| 38 | mMyoAui1.0.SUPER__4 | 125946359 |  98615000 |  98679768 | + | mMyoCai1.0.SUPER__4 | 126198552 |  99774597 |  99837089 |   53910 |   64768 |  6 | 98615000_98679768_99774597_99837089     |\n",
       "| 40 | mMyoAui1.0.SUPER__4 | 125946359 |  98787048 |  98911901 | + | mMyoCai1.0.SUPER__4 | 126198552 | 100020819 | 100125000 |   87630 |  132952 |  4 | 98787048_98920000_100020819_100133115   |\n",
       "| 48 | mMyoAui1.0.SUPER__4 | 125946359 |  99053026 | 100204304 | + | mMyoCai1.0.SUPER__4 | 126198552 | 100185384 | 101299708 | 1000650 | 1154176 |  7 | 99050128_100204304_100183027_101299708  |\n",
       "| 49 | mMyoAui1.0.SUPER__4 | 125946359 | 100760000 | 100998672 | + | mMyoCai1.0.SUPER__4 | 126198552 | 101919641 | 102145000 |  211166 |  239232 |  8 | 100760000_100999232_101919641_102145560 |\n",
       "| 50 | mMyoAui1.0.SUPER__4 | 125946359 | 101005617 | 101148672 | + | mMyoCai1.0.SUPER__4 | 126198552 | 102210000 | 102355000 |  128373 |  146705 |  7 | 101005256_101150000_102209639_102356344 |\n",
       "| 52 | mMyoAui1.0.SUPER__4 | 125946359 | 101156042 | 101416561 | - | mMyoCai1.0.SUPER__4 | 126198552 | 102360000 | 102589232 |  175274 |  269744 |  3 | 101150000_101419744_102356444_102594965 |\n",
       "| 53 | mMyoAui1.0.SUPER__4 | 125946359 | 111591880 | 111709145 | + | mMyoCai1.0.SUPER__4 | 126198552 | 112836580 | 112954286 |  101902 |  122368 |  6 | 111591880_111714248_112836580_112954286 |\n",
       "| 59 | mMyoAui1.0.SUPER__4 | 125946359 | 111818680 | 116368056 | + | mMyoCai1.0.SUPER__4 | 126198552 | 112960469 | 117410606 | 4144585 | 4549376 |  9 | 111818680_116368056_112960469_117410606 |\n",
       "\n"
      ],
      "text/plain": [
       "   qname               qlen      qstart    qend      strand tname              \n",
       "46 mMyoAui1.0.SUPER__4 125946359  84262536  85608306 +      mMyoCai1.0.SUPER__4\n",
       "42 mMyoAui1.0.SUPER__4 125946359  89361121  89480230 -      mMyoCai1.0.SUPER__4\n",
       "44 mMyoAui1.0.SUPER__4 125946359  98215000  98601432 +      mMyoCai1.0.SUPER__4\n",
       "41 mMyoAui1.0.SUPER__4 125946359  98682432  98735000 +      mMyoCai1.0.SUPER__4\n",
       "38 mMyoAui1.0.SUPER__4 125946359  98615000  98679768 +      mMyoCai1.0.SUPER__4\n",
       "40 mMyoAui1.0.SUPER__4 125946359  98787048  98911901 +      mMyoCai1.0.SUPER__4\n",
       "48 mMyoAui1.0.SUPER__4 125946359  99053026 100204304 +      mMyoCai1.0.SUPER__4\n",
       "49 mMyoAui1.0.SUPER__4 125946359 100760000 100998672 +      mMyoCai1.0.SUPER__4\n",
       "50 mMyoAui1.0.SUPER__4 125946359 101005617 101148672 +      mMyoCai1.0.SUPER__4\n",
       "52 mMyoAui1.0.SUPER__4 125946359 101156042 101416561 -      mMyoCai1.0.SUPER__4\n",
       "53 mMyoAui1.0.SUPER__4 125946359 111591880 111709145 +      mMyoCai1.0.SUPER__4\n",
       "59 mMyoAui1.0.SUPER__4 125946359 111818680 116368056 +      mMyoCai1.0.SUPER__4\n",
       "   tlen      tstart    tend      nmatch  alen    mapq\n",
       "46 126198552  84885000  86298120 1151298 1414106  6  \n",
       "42 126198552  90100000  90225000  123406  135139 10  \n",
       "44 126198552  99095611  99449532  296138  386432  5  \n",
       "41 126198552  99646293  99693763   39787   52568  5  \n",
       "38 126198552  99774597  99837089   53910   64768  6  \n",
       "40 126198552 100020819 100125000   87630  132952  4  \n",
       "48 126198552 100185384 101299708 1000650 1154176  7  \n",
       "49 126198552 101919641 102145000  211166  239232  8  \n",
       "50 126198552 102210000 102355000  128373  146705  7  \n",
       "52 126198552 102360000 102589232  175274  269744  3  \n",
       "53 126198552 112836580 112954286  101902  122368  6  \n",
       "59 126198552 112960469 117410606 4144585 4549376  9  \n",
       "   Id                                     \n",
       "46 84261536_85608352_84884019_86298125    \n",
       "42 89360464_89489744_90090522_90225661    \n",
       "44 98215000_98601432_99095611_99449532    \n",
       "41 98682432_98735000_99646293_99693763    \n",
       "38 98615000_98679768_99774597_99837089    \n",
       "40 98787048_98920000_100020819_100133115  \n",
       "48 99050128_100204304_100183027_101299708 \n",
       "49 100760000_100999232_101919641_102145560\n",
       "50 101005256_101150000_102209639_102356344\n",
       "52 101150000_101419744_102356444_102594965\n",
       "53 111591880_111714248_112836580_112954286\n",
       "59 111818680_116368056_112960469_117410606"
      ]
     },
     "metadata": {},
     "output_type": "display_data"
    }
   ],
   "source": [
    "## Why didn't this region show up in my reciprocal hits?\n",
    "\n",
    "auric_best_hits <- fread(\"../01_get_best_hits/results/mMyoAui_vs_mMyoCai_best_hits.csv\", data.table = FALSE)\n",
    "auric_best_hits <- auric_best_hits[grep(\"SUPER__4$\", auric_best_hits$tname),]\n",
    "auric_best_hits <- auric_best_hits[order(auric_best_hits$tstart),]\n",
    "auric_best_hits[auric_best_hits$tstart >= 84e6,]"
   ]
  },
  {
   "cell_type": "code",
   "execution_count": 16,
   "metadata": {
    "vscode": {
     "languageId": "r"
    }
   },
   "outputs": [
    {
     "ename": "ERROR",
     "evalue": "Error in fread(\"../get_best_hits/resources/beds/mMyoAui_vs_mMyoCai_positions_intersect.bed\", : File '../get_best_hits/resources/beds/mMyoAui_vs_mMyoCai_positions_intersect.bed' does not exist or is non-readable. getwd()=='/Users/rebecca/sudmant/analyses/myotis/analysis/reciprocal_best_hits/02_annotate_best_hits'\n",
     "output_type": "error",
     "traceback": [
      "Error in fread(\"../get_best_hits/resources/beds/mMyoAui_vs_mMyoCai_positions_intersect.bed\", : File '../get_best_hits/resources/beds/mMyoAui_vs_mMyoCai_positions_intersect.bed' does not exist or is non-readable. getwd()=='/Users/rebecca/sudmant/analyses/myotis/analysis/reciprocal_best_hits/02_annotate_best_hits'\nTraceback:\n",
      "1. fread(\"../get_best_hits/resources/beds/mMyoAui_vs_mMyoCai_positions_intersect.bed\", \n .     data.table = FALSE)",
      "2. stop(\"File '\", file, \"' does not exist or is non-readable. getwd()=='\", \n .     getwd(), \"'\")"
     ]
    }
   ],
   "source": [
    "auric_intersect <- fread(\"../get_best_hits/resources/beds/mMyoAui_vs_mMyoCai_positions_intersect.bed\", data.table = FALSE)\n"
   ]
  },
  {
   "cell_type": "code",
   "execution_count": 34,
   "metadata": {
    "vscode": {
     "languageId": "r"
    }
   },
   "outputs": [
    {
     "data": {
      "text/html": [
       "<table class=\"dataframe\">\n",
       "<caption>A data.frame: 1 x 15</caption>\n",
       "<thead>\n",
       "\t<tr><th></th><th scope=col>V1</th><th scope=col>V2</th><th scope=col>V3</th><th scope=col>V4</th><th scope=col>V5</th><th scope=col>V6</th><th scope=col>V7</th><th scope=col>V8</th><th scope=col>V9</th><th scope=col>V10</th><th scope=col>V11</th><th scope=col>V12</th><th scope=col>V13</th><th scope=col>V14</th><th scope=col>V15</th></tr>\n",
       "\t<tr><th></th><th scope=col>&lt;chr&gt;</th><th scope=col>&lt;int&gt;</th><th scope=col>&lt;int&gt;</th><th scope=col>&lt;int&gt;</th><th scope=col>&lt;int&gt;</th><th scope=col>&lt;int&gt;</th><th scope=col>&lt;dbl&gt;</th><th scope=col>&lt;chr&gt;</th><th scope=col>&lt;int&gt;</th><th scope=col>&lt;int&gt;</th><th scope=col>&lt;chr&gt;</th><th scope=col>&lt;int&gt;</th><th scope=col>&lt;int&gt;</th><th scope=col>&lt;int&gt;</th><th scope=col>&lt;dbl&gt;</th></tr>\n",
       "</thead>\n",
       "<tbody>\n",
       "\t<tr><th scope=row>452</th><td>mMyoCai1.0.SUPER__3</td><td>159910387</td><td>172329650</td><td>120755</td><td>12419263</td><td>16</td><td>97.4118</td><td>mMyoCai1.0.SUPER__3</td><td>159910000</td><td>172330000</td><td>+</td><td>121408</td><td>12420000</td><td>16</td><td>97.3958</td></tr>\n",
       "</tbody>\n",
       "</table>\n"
      ],
      "text/latex": [
       "A data.frame: 1 x 15\n",
       "\\begin{tabular}{r|lllllllllllllll}\n",
       "  & V1 & V2 & V3 & V4 & V5 & V6 & V7 & V8 & V9 & V10 & V11 & V12 & V13 & V14 & V15\\\\\n",
       "  & <chr> & <int> & <int> & <int> & <int> & <int> & <dbl> & <chr> & <int> & <int> & <chr> & <int> & <int> & <int> & <dbl>\\\\\n",
       "\\hline\n",
       "\t452 & mMyoCai1.0.SUPER\\_\\_3 & 159910387 & 172329650 & 120755 & 12419263 & 16 & 97.4118 & mMyoCai1.0.SUPER\\_\\_3 & 159910000 & 172330000 & + & 121408 & 12420000 & 16 & 97.3958\\\\\n",
       "\\end{tabular}\n"
      ],
      "text/markdown": [
       "\n",
       "A data.frame: 1 x 15\n",
       "\n",
       "| <!--/--> | V1 &lt;chr&gt; | V2 &lt;int&gt; | V3 &lt;int&gt; | V4 &lt;int&gt; | V5 &lt;int&gt; | V6 &lt;int&gt; | V7 &lt;dbl&gt; | V8 &lt;chr&gt; | V9 &lt;int&gt; | V10 &lt;int&gt; | V11 &lt;chr&gt; | V12 &lt;int&gt; | V13 &lt;int&gt; | V14 &lt;int&gt; | V15 &lt;dbl&gt; |\n",
       "|---|---|---|---|---|---|---|---|---|---|---|---|---|---|---|---|\n",
       "| 452 | mMyoCai1.0.SUPER__3 | 159910387 | 172329650 | 120755 | 12419263 | 16 | 97.4118 | mMyoCai1.0.SUPER__3 | 159910000 | 172330000 | + | 121408 | 12420000 | 16 | 97.3958 |\n",
       "\n"
      ],
      "text/plain": [
       "    V1                  V2        V3        V4     V5       V6 V7     \n",
       "452 mMyoCai1.0.SUPER__3 159910387 172329650 120755 12419263 16 97.4118\n",
       "    V8                  V9        V10       V11 V12    V13      V14 V15    \n",
       "452 mMyoCai1.0.SUPER__3 159910000 172330000 +   121408 12420000 16  97.3958"
      ]
     },
     "metadata": {},
     "output_type": "display_data"
    },
    {
     "data": {
      "text/html": [
       "<table class=\"dataframe\">\n",
       "<caption>A data.frame: 1 x 15</caption>\n",
       "<thead>\n",
       "\t<tr><th></th><th scope=col>V1</th><th scope=col>V2</th><th scope=col>V3</th><th scope=col>V4</th><th scope=col>V5</th><th scope=col>V6</th><th scope=col>V7</th><th scope=col>V8</th><th scope=col>V9</th><th scope=col>V10</th><th scope=col>V11</th><th scope=col>V12</th><th scope=col>V13</th><th scope=col>V14</th><th scope=col>V15</th></tr>\n",
       "\t<tr><th></th><th scope=col>&lt;chr&gt;</th><th scope=col>&lt;int&gt;</th><th scope=col>&lt;int&gt;</th><th scope=col>&lt;int&gt;</th><th scope=col>&lt;int&gt;</th><th scope=col>&lt;int&gt;</th><th scope=col>&lt;dbl&gt;</th><th scope=col>&lt;chr&gt;</th><th scope=col>&lt;int&gt;</th><th scope=col>&lt;int&gt;</th><th scope=col>&lt;chr&gt;</th><th scope=col>&lt;int&gt;</th><th scope=col>&lt;int&gt;</th><th scope=col>&lt;int&gt;</th><th scope=col>&lt;dbl&gt;</th></tr>\n",
       "</thead>\n",
       "<tbody>\n",
       "\t<tr><th scope=row>451</th><td>mMyoCai1.0.SUPER__4</td><td>90100000</td><td>90130511</td><td>35625</td><td>3715000</td><td>16</td><td>97.4089</td><td>mMyoCai1.0.SUPER__4</td><td>90100000</td><td>90225000</td><td>-</td><td>1217</td><td>125000</td><td>11</td><td>92.6009</td></tr>\n",
       "</tbody>\n",
       "</table>\n"
      ],
      "text/latex": [
       "A data.frame: 1 x 15\n",
       "\\begin{tabular}{r|lllllllllllllll}\n",
       "  & V1 & V2 & V3 & V4 & V5 & V6 & V7 & V8 & V9 & V10 & V11 & V12 & V13 & V14 & V15\\\\\n",
       "  & <chr> & <int> & <int> & <int> & <int> & <int> & <dbl> & <chr> & <int> & <int> & <chr> & <int> & <int> & <int> & <dbl>\\\\\n",
       "\\hline\n",
       "\t451 & mMyoCai1.0.SUPER\\_\\_4 & 90100000 & 90130511 & 35625 & 3715000 & 16 & 97.4089 & mMyoCai1.0.SUPER\\_\\_4 & 90100000 & 90225000 & - & 1217 & 125000 & 11 & 92.6009\\\\\n",
       "\\end{tabular}\n"
      ],
      "text/markdown": [
       "\n",
       "A data.frame: 1 x 15\n",
       "\n",
       "| <!--/--> | V1 &lt;chr&gt; | V2 &lt;int&gt; | V3 &lt;int&gt; | V4 &lt;int&gt; | V5 &lt;int&gt; | V6 &lt;int&gt; | V7 &lt;dbl&gt; | V8 &lt;chr&gt; | V9 &lt;int&gt; | V10 &lt;int&gt; | V11 &lt;chr&gt; | V12 &lt;int&gt; | V13 &lt;int&gt; | V14 &lt;int&gt; | V15 &lt;dbl&gt; |\n",
       "|---|---|---|---|---|---|---|---|---|---|---|---|---|---|---|---|\n",
       "| 451 | mMyoCai1.0.SUPER__4 | 90100000 | 90130511 | 35625 | 3715000 | 16 | 97.4089 | mMyoCai1.0.SUPER__4 | 90100000 | 90225000 | - | 1217 | 125000 | 11 | 92.6009 |\n",
       "\n"
      ],
      "text/plain": [
       "    V1                  V2       V3       V4    V5      V6 V7     \n",
       "451 mMyoCai1.0.SUPER__4 90100000 90130511 35625 3715000 16 97.4089\n",
       "    V8                  V9       V10      V11 V12  V13    V14 V15    \n",
       "451 mMyoCai1.0.SUPER__4 90100000 90225000 -   1217 125000 11  92.6009"
      ]
     },
     "metadata": {},
     "output_type": "display_data"
    }
   ],
   "source": [
    "calif_intersect <- fread(\"../get_best_hits/resources/beds/mMyoCai_vs_mMyoAui_positions_intersect.bed\", data.table = FALSE)\n",
    "calif_intersect[grep(\"97.3958\", calif_intersect[,ncol(calif_intersect)]),]\n",
    "calif_intersect[grep(\"97.4089\", calif_intersect$V7),]\n"
   ]
  },
  {
   "cell_type": "code",
   "execution_count": null,
   "metadata": {
    "vscode": {
     "languageId": "r"
    }
   },
   "outputs": [],
   "source": []
  }
 ],
 "metadata": {
  "kernelspec": {
   "display_name": "R",
   "language": "R",
   "name": "ir"
  },
  "language_info": {
   "codemirror_mode": "r",
   "file_extension": ".r",
   "mimetype": "text/x-r-source",
   "name": "R",
   "pygments_lexer": "r",
   "version": "4.3.2"
  }
 },
 "nbformat": 4,
 "nbformat_minor": 2
}
