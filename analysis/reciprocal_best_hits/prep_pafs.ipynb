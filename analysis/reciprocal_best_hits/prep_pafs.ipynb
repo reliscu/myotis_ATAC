{
 "cells": [
  {
   "cell_type": "code",
   "execution_count": null,
   "metadata": {
    "vscode": {
     "languageId": "r"
    }
   },
   "outputs": [],
   "source": [
    "setwd(\"/Users/rebecca/sudmant/analyses/myotis/analysis/reciprocal_best_hits\")\n",
    "\n",
    "library(pafr)\n",
    "\n",
    "myo_meta  <- read.csv(\"../../data/myotis_meta.csv\")\n",
    "\n",
    "## When the same query sequence has multiple target hits, select the hit with the most matches\n",
    "\n",
    "for (paf_file in seq_along(list.files(\"data\", pattern=\"paf$\"))) {\n",
    "    working_paf <- read_paf(file.path(\"data\", paf_file))\n",
    "}"
   ]
  }
 ],
 "metadata": {
  "kernelspec": {
   "display_name": "R",
   "language": "R",
   "name": "ir"
  },
  "language_info": {
   "codemirror_mode": "r",
   "file_extension": ".r",
   "mimetype": "text/x-r-source",
   "name": "R",
   "pygments_lexer": "r",
   "version": "4.3.2"
  }
 },
 "nbformat": 4,
 "nbformat_minor": 2
}
