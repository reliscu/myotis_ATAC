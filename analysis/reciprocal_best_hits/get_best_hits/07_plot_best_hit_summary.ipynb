{
 "cells": [
  {
   "cell_type": "code",
   "execution_count": null,
   "metadata": {
    "vscode": {
     "languageId": "r"
    }
   },
   "outputs": [],
   "source": [
    "setwd(\"/Users/rebecca/sudmant/analyses/myotis/analysis/reciprocal_best_hits/get_best_hits\")\n",
    "\n",
    "library(dplyr, verbose = FALSE)\n",
    "library(tidyr)\n",
    "library(scales)\n",
    "library(ggplot2)\n",
    "library(data.table)\n",
    "library(RColorBrewer)\n",
    "\n",
    "myo_meta <- read.csv(\"../../../data/myotis_meta.csv\")"
   ]
  },
  {
   "cell_type": "code",
   "execution_count": null,
   "metadata": {
    "vscode": {
     "languageId": "r"
    }
   },
   "outputs": [],
   "source": [
    "# for (i in seq_along(myo_meta$Abbr)) {\n",
    "#   for (j in seq_along(myo_meta$Abbr)) {\n",
    "#     if (i != j) {\n",
    "     \n",
    "#     }\n",
    "#   }\n",
    "# }"
   ]
  },
  {
   "cell_type": "code",
   "execution_count": null,
   "metadata": {
    "vscode": {
     "languageId": "r"
    }
   },
   "outputs": [],
   "source": [
    "## Plot # reciprocal regions per chromosome\n",
    "\n",
    "recip1_df <- recip1 %>% \n",
    "  dplyr::group_by(Chr) %>%\n",
    "  dplyr::summarise(\n",
    "    No.Recip = n_distinct(Reciprocal_Seq)\n",
    "  )\n",
    "\n",
    "recip1_df$Chr <- factor(recip1_df$Chr, levels = temp$Chr)\n",
    "\n",
    "ggplot(peaks1, aes(x = Chr, y = Reciprocal_Length)) +\n",
    "  geom_boxplot(outlier.shape = NA)"
   ]
  },
  {
   "cell_type": "code",
   "execution_count": null,
   "metadata": {
    "vscode": {
     "languageId": "r"
    }
   },
   "outputs": [],
   "source": [
    "## Plot fraction of genome with reciprocal hits\n",
    "\n"
   ]
  }
 ],
 "metadata": {
  "kernelspec": {
   "display_name": "R",
   "language": "R",
   "name": "ir"
  },
  "language_info": {
   "name": "R"
  }
 },
 "nbformat": 4,
 "nbformat_minor": 2
}
