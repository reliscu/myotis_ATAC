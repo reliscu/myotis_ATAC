{
 "cells": [
  {
   "cell_type": "code",
   "execution_count": 2,
   "metadata": {
    "vscode": {
     "languageId": "r"
    }
   },
   "outputs": [
    {
     "name": "stderr",
     "output_type": "stream",
     "text": [
      "Loading required package: ggplot2\n",
      "\n",
      "\n",
      "Attaching package: 'dplyr'\n",
      "\n",
      "\n",
      "The following objects are masked from 'package:stats':\n",
      "\n",
      "    filter, lag\n",
      "\n",
      "\n",
      "The following objects are masked from 'package:base':\n",
      "\n",
      "    intersect, setdiff, setequal, union\n",
      "\n",
      "\n",
      "\n",
      "Attaching package: 'data.table'\n",
      "\n",
      "\n",
      "The following objects are masked from 'package:dplyr':\n",
      "\n",
      "    between, first, last\n",
      "\n",
      "\n"
     ]
    }
   ],
   "source": [
    "setwd(\"/Users/rebecca/sudmant/analyses/myotis/analysis/reciprocal_best_hits\")\n",
    "\n",
    "library(data.table)\n",
    "\n",
    "options(scipen = 100, digits = 10)"
   ]
  },
  {
   "cell_type": "code",
   "execution_count": 4,
   "metadata": {
    "vscode": {
     "languageId": "r"
    }
   },
   "outputs": [
    {
     "data": {
      "text/html": [
       "<table class=\"dataframe\">\n",
       "<caption>A data.frame: 6 x 14</caption>\n",
       "<thead>\n",
       "\t<tr><th></th><th scope=col>qname</th><th scope=col>qlen</th><th scope=col>qstart</th><th scope=col>qend</th><th scope=col>strand</th><th scope=col>tname</th><th scope=col>tlen</th><th scope=col>tstart</th><th scope=col>tend</th><th scope=col>nmatch</th><th scope=col>alen</th><th scope=col>mapq</th><th scope=col>id</th><th scope=col>seq</th></tr>\n",
       "\t<tr><th></th><th scope=col>&lt;chr&gt;</th><th scope=col>&lt;int&gt;</th><th scope=col>&lt;int&gt;</th><th scope=col>&lt;int&gt;</th><th scope=col>&lt;chr&gt;</th><th scope=col>&lt;chr&gt;</th><th scope=col>&lt;int&gt;</th><th scope=col>&lt;int&gt;</th><th scope=col>&lt;int&gt;</th><th scope=col>&lt;int&gt;</th><th scope=col>&lt;int&gt;</th><th scope=col>&lt;int&gt;</th><th scope=col>&lt;chr&gt;</th><th scope=col>&lt;chr&gt;</th></tr>\n",
       "</thead>\n",
       "<tbody>\n",
       "\t<tr><th scope=row>1</th><td>mMyoAui1.0.SUPER__1</td><td>234041302</td><td>231190000</td><td>234005000</td><td>-</td><td>mMyoCai1.0.SUPER__1</td><td>234393516</td><td>    40112</td><td>  2853759</td><td> 27072</td><td> 2815000</td><td>14</td><td>SUPER__1 96.1676</td><td>40112 2853759 231190000 234005000      </td></tr>\n",
       "\t<tr><th scope=row>2</th><td>mMyoAui1.0.SUPER__1</td><td>234041302</td><td>134425402</td><td>145017357</td><td>-</td><td>mMyoCai1.0.SUPER__1</td><td>234393516</td><td> 89930000</td><td>100645000</td><td>107534</td><td>11004324</td><td>16</td><td>SUPER__1 97.2316</td><td>89930000 100645000 134425402 145017357 </td></tr>\n",
       "\t<tr><th scope=row>3</th><td>mMyoAui1.0.SUPER__1</td><td>234041302</td><td>128165000</td><td>128369965</td><td>+</td><td>mMyoCai1.0.SUPER__1</td><td>234393516</td><td>100626146</td><td>100835000</td><td>  2770</td><td>  285955</td><td>12</td><td>SUPER__1 93.9765</td><td>100626146 100835000 128165000 128369965</td></tr>\n",
       "\t<tr><th scope=row>4</th><td>mMyoAui1.0.SUPER__1</td><td>234041302</td><td>132071355</td><td>133692629</td><td>-</td><td>mMyoCai1.0.SUPER__1</td><td>234393516</td><td>101210000</td><td>102870000</td><td> 17513</td><td> 1811991</td><td>16</td><td>SUPER__1 97.2367</td><td>101210000 102870000 132071355 133692629</td></tr>\n",
       "\t<tr><th scope=row>5</th><td>mMyoAui1.0.SUPER__1</td><td>234041302</td><td>109975000</td><td>128165000</td><td>-</td><td>mMyoCai1.0.SUPER__1</td><td>234393516</td><td>105548557</td><td>123932002</td><td>177394</td><td>18383445</td><td>15</td><td>SUPER__1 97.0886</td><td>105548557 123932002 109975000 128165000</td></tr>\n",
       "\t<tr><th scope=row>6</th><td>mMyoAui1.0.SUPER__1</td><td>234041302</td><td>109140000</td><td>109970000</td><td>-</td><td>mMyoCai1.0.SUPER__1</td><td>234393516</td><td>124083181</td><td>124889135</td><td>  8170</td><td>  830000</td><td>15</td><td>SUPER__1 97.0064</td><td>124083181 124889135 109140000 109970000</td></tr>\n",
       "</tbody>\n",
       "</table>\n"
      ],
      "text/latex": [
       "A data.frame: 6 x 14\n",
       "\\begin{tabular}{r|llllllllllllll}\n",
       "  & qname & qlen & qstart & qend & strand & tname & tlen & tstart & tend & nmatch & alen & mapq & id & seq\\\\\n",
       "  & <chr> & <int> & <int> & <int> & <chr> & <chr> & <int> & <int> & <int> & <int> & <int> & <int> & <chr> & <chr>\\\\\n",
       "\\hline\n",
       "\t1 & mMyoAui1.0.SUPER\\_\\_1 & 234041302 & 231190000 & 234005000 & - & mMyoCai1.0.SUPER\\_\\_1 & 234393516 &     40112 &   2853759 &  27072 &  2815000 & 14 & SUPER\\_\\_1 96.1676 & 40112 2853759 231190000 234005000      \\\\\n",
       "\t2 & mMyoAui1.0.SUPER\\_\\_1 & 234041302 & 134425402 & 145017357 & - & mMyoCai1.0.SUPER\\_\\_1 & 234393516 &  89930000 & 100645000 & 107534 & 11004324 & 16 & SUPER\\_\\_1 97.2316 & 89930000 100645000 134425402 145017357 \\\\\n",
       "\t3 & mMyoAui1.0.SUPER\\_\\_1 & 234041302 & 128165000 & 128369965 & + & mMyoCai1.0.SUPER\\_\\_1 & 234393516 & 100626146 & 100835000 &   2770 &   285955 & 12 & SUPER\\_\\_1 93.9765 & 100626146 100835000 128165000 128369965\\\\\n",
       "\t4 & mMyoAui1.0.SUPER\\_\\_1 & 234041302 & 132071355 & 133692629 & - & mMyoCai1.0.SUPER\\_\\_1 & 234393516 & 101210000 & 102870000 &  17513 &  1811991 & 16 & SUPER\\_\\_1 97.2367 & 101210000 102870000 132071355 133692629\\\\\n",
       "\t5 & mMyoAui1.0.SUPER\\_\\_1 & 234041302 & 109975000 & 128165000 & - & mMyoCai1.0.SUPER\\_\\_1 & 234393516 & 105548557 & 123932002 & 177394 & 18383445 & 15 & SUPER\\_\\_1 97.0886 & 105548557 123932002 109975000 128165000\\\\\n",
       "\t6 & mMyoAui1.0.SUPER\\_\\_1 & 234041302 & 109140000 & 109970000 & - & mMyoCai1.0.SUPER\\_\\_1 & 234393516 & 124083181 & 124889135 &   8170 &   830000 & 15 & SUPER\\_\\_1 97.0064 & 124083181 124889135 109140000 109970000\\\\\n",
       "\\end{tabular}\n"
      ],
      "text/markdown": [
       "\n",
       "A data.frame: 6 x 14\n",
       "\n",
       "| <!--/--> | qname &lt;chr&gt; | qlen &lt;int&gt; | qstart &lt;int&gt; | qend &lt;int&gt; | strand &lt;chr&gt; | tname &lt;chr&gt; | tlen &lt;int&gt; | tstart &lt;int&gt; | tend &lt;int&gt; | nmatch &lt;int&gt; | alen &lt;int&gt; | mapq &lt;int&gt; | id &lt;chr&gt; | seq &lt;chr&gt; |\n",
       "|---|---|---|---|---|---|---|---|---|---|---|---|---|---|---|\n",
       "| 1 | mMyoAui1.0.SUPER__1 | 234041302 | 231190000 | 234005000 | - | mMyoCai1.0.SUPER__1 | 234393516 |     40112 |   2853759 |  27072 |  2815000 | 14 | SUPER__1 96.1676 | 40112 2853759 231190000 234005000       |\n",
       "| 2 | mMyoAui1.0.SUPER__1 | 234041302 | 134425402 | 145017357 | - | mMyoCai1.0.SUPER__1 | 234393516 |  89930000 | 100645000 | 107534 | 11004324 | 16 | SUPER__1 97.2316 | 89930000 100645000 134425402 145017357  |\n",
       "| 3 | mMyoAui1.0.SUPER__1 | 234041302 | 128165000 | 128369965 | + | mMyoCai1.0.SUPER__1 | 234393516 | 100626146 | 100835000 |   2770 |   285955 | 12 | SUPER__1 93.9765 | 100626146 100835000 128165000 128369965 |\n",
       "| 4 | mMyoAui1.0.SUPER__1 | 234041302 | 132071355 | 133692629 | - | mMyoCai1.0.SUPER__1 | 234393516 | 101210000 | 102870000 |  17513 |  1811991 | 16 | SUPER__1 97.2367 | 101210000 102870000 132071355 133692629 |\n",
       "| 5 | mMyoAui1.0.SUPER__1 | 234041302 | 109975000 | 128165000 | - | mMyoCai1.0.SUPER__1 | 234393516 | 105548557 | 123932002 | 177394 | 18383445 | 15 | SUPER__1 97.0886 | 105548557 123932002 109975000 128165000 |\n",
       "| 6 | mMyoAui1.0.SUPER__1 | 234041302 | 109140000 | 109970000 | - | mMyoCai1.0.SUPER__1 | 234393516 | 124083181 | 124889135 |   8170 |   830000 | 15 | SUPER__1 97.0064 | 124083181 124889135 109140000 109970000 |\n",
       "\n"
      ],
      "text/plain": [
       "  qname               qlen      qstart    qend      strand tname              \n",
       "1 mMyoAui1.0.SUPER__1 234041302 231190000 234005000 -      mMyoCai1.0.SUPER__1\n",
       "2 mMyoAui1.0.SUPER__1 234041302 134425402 145017357 -      mMyoCai1.0.SUPER__1\n",
       "3 mMyoAui1.0.SUPER__1 234041302 128165000 128369965 +      mMyoCai1.0.SUPER__1\n",
       "4 mMyoAui1.0.SUPER__1 234041302 132071355 133692629 -      mMyoCai1.0.SUPER__1\n",
       "5 mMyoAui1.0.SUPER__1 234041302 109975000 128165000 -      mMyoCai1.0.SUPER__1\n",
       "6 mMyoAui1.0.SUPER__1 234041302 109140000 109970000 -      mMyoCai1.0.SUPER__1\n",
       "  tlen      tstart    tend      nmatch alen     mapq id              \n",
       "1 234393516     40112   2853759  27072  2815000 14   SUPER__1 96.1676\n",
       "2 234393516  89930000 100645000 107534 11004324 16   SUPER__1 97.2316\n",
       "3 234393516 100626146 100835000   2770   285955 12   SUPER__1 93.9765\n",
       "4 234393516 101210000 102870000  17513  1811991 16   SUPER__1 97.2367\n",
       "5 234393516 105548557 123932002 177394 18383445 15   SUPER__1 97.0886\n",
       "6 234393516 124083181 124889135   8170   830000 15   SUPER__1 97.0064\n",
       "  seq                                    \n",
       "1 40112 2853759 231190000 234005000      \n",
       "2 89930000 100645000 134425402 145017357 \n",
       "3 100626146 100835000 128165000 128369965\n",
       "4 101210000 102870000 132071355 133692629\n",
       "5 105548557 123932002 109975000 128165000\n",
       "6 124083181 124889135 109140000 109970000"
      ]
     },
     "metadata": {},
     "output_type": "display_data"
    }
   ],
   "source": [
    "## Make BEDS\n",
    "\n",
    "dat <- fread(\"results/mMyoAui_vs_mMyoCai_reciprocal_best_hits.csv\", data.table = FALSE)\n",
    "head(dat)"
   ]
  },
  {
   "cell_type": "code",
   "execution_count": null,
   "metadata": {
    "vscode": {
     "languageId": "r"
    }
   },
   "outputs": [],
   "source": [
    "dat <- dat[1, c(1, 3:4)]\n",
    "write.table(dat, file = \"mMyoAui_vs_mMyoCai_hits.bed\", sep = \"\\t\", row.names = FALSE, quote = FALSE, col.names = FALSE)"
   ]
  }
 ],
 "metadata": {
  "kernelspec": {
   "display_name": "R",
   "language": "R",
   "name": "ir"
  },
  "language_info": {
   "codemirror_mode": "r",
   "file_extension": ".r",
   "mimetype": "text/x-r-source",
   "name": "R",
   "pygments_lexer": "r",
   "version": "4.3.2"
  }
 },
 "nbformat": 4,
 "nbformat_minor": 2
}
