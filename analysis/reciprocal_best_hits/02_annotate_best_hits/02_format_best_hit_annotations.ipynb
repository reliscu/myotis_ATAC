{
 "cells": [
  {
   "cell_type": "code",
   "execution_count": 3,
   "metadata": {
    "vscode": {
     "languageId": "r"
    }
   },
   "outputs": [],
   "source": [
    "setwd(\"/Users/rebecca/sudmant/analyses/myotis/analysis/reciprocal_best_hits/02_annotate_best_hits/resources/annotations\")\n",
    "\n",
    "library(data.table)"
   ]
  },
  {
   "cell_type": "code",
   "execution_count": 4,
   "metadata": {
    "vscode": {
     "languageId": "r"
    }
   },
   "outputs": [],
   "source": [
    "## Add column names to annotated best hit data for clarity:\n",
    "\n",
    "for (hit_file in list.files(pattern = \"genes.tsv\", full.names = TRUE)) {\n",
    "\n",
    "  hits <- fread(hit_file, data.table = FALSE)\n",
    "  hits <- hits[, -c(2, 6:8, 10)]\n",
    "  colnames(hits) <- c(\n",
    "    \"Chr\", \"Biotype\", \"Intersect_Start\", \"Intersect_End\",\n",
    "    \"Gene\", \"Reciprocal_Start\", \"Reciprocal_End\"\n",
    "  )\n",
    "  fwrite(hits, file = gsub(\".tsv\", \".csv\", hit_file))\n",
    "\n",
    "}"
   ]
  },
  {
   "cell_type": "code",
   "execution_count": 7,
   "metadata": {
    "vscode": {
     "languageId": "r"
    }
   },
   "outputs": [],
   "source": [
    "for (hit_file in list.files(pattern = \"TEs.tsv\", full.names = TRUE)) {\n",
    "\n",
    "  hits <- fread(hit_file, data.table = FALSE)\n",
    "  hits <- hits[, -c(6, 8)]\n",
    "  colnames(hits) <- c(\n",
    "    \"Chr\", \"Intersect_Start\", \"Intersect_End\",\n",
    "    \"Score\", \"Divergence\", \"Type\",\n",
    "    \"TE_Start\", \"TE_End\"\n",
    "  )\n",
    "  fwrite(hits, file = gsub(\".tsv\", \".csv\", hit_file))\n",
    "\n",
    "}"
   ]
  }
 ],
 "metadata": {
  "kernelspec": {
   "display_name": "R",
   "language": "R",
   "name": "ir"
  },
  "language_info": {
   "codemirror_mode": "r",
   "file_extension": ".r",
   "mimetype": "text/x-r-source",
   "name": "R",
   "pygments_lexer": "r",
   "version": "4.3.2"
  }
 },
 "nbformat": 4,
 "nbformat_minor": 2
}
