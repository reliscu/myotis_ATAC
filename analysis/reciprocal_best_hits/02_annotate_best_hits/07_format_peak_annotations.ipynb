{
 "cells": [
  {
   "cell_type": "code",
   "execution_count": 10,
   "metadata": {
    "vscode": {
     "languageId": "r"
    }
   },
   "outputs": [],
   "source": [
    "setwd(\"/Users/rebecca/sudmant/analyses/myotis/analysis/reciprocal_best_hits/02_annotate_best_hits/resources/peaks\")\n",
    "\n",
    "library(data.table)"
   ]
  },
  {
   "cell_type": "code",
   "execution_count": 11,
   "metadata": {
    "vscode": {
     "languageId": "r"
    }
   },
   "outputs": [],
   "source": [
    "## Add column names to best hit peak data for clarity:\n",
    "\n",
    "for (peak_file in list.files(pattern = \"peaks.tsv\")) {\n",
    "\n",
    "  peaks <- fread(peak_file, data.table = FALSE)\n",
    "  peaks <- peaks[,-c(5)]\n",
    "  colnames(peaks) <- c(\n",
    "    \"Chr\", \"Intersect_Start\", \"Intersect_End\",\n",
    "    \"Peak_ID\", \"Reciprocal_Start\", \"Reciprocal_End\"\n",
    "  )\n",
    "  fwrite(peaks, file = gsub(\".tsv\", \".csv\", peak_file))\n",
    "\n",
    "}"
   ]
  },
  {
   "cell_type": "code",
   "execution_count": 13,
   "metadata": {
    "vscode": {
     "languageId": "r"
    }
   },
   "outputs": [],
   "source": [
    "## Add column names to annotated peak data for clarity:\n",
    "\n",
    "for (peak_file in list.files(pattern = \"genes.tsv\")) {\n",
    "\n",
    "  peaks <- fread(peak_file, data.table = FALSE)\n",
    "  peaks <- peaks[,-c(5, 6, 10, 12)]\n",
    "  colnames(peaks) <- c(\n",
    "    \"Chr\", \"Intersect_Start\", \"Intersect_End\",\n",
    "    \"Peak_ID\", \"Biotype\", \"Gene_Start\", \"Gene_End\", \n",
    "    \"Strand\", \"Gene\"\n",
    "  )\n",
    "  fwrite(peaks, file = gsub(\".tsv\", \".csv\", peak_file))\n",
    "\n",
    "}"
   ]
  },
  {
   "cell_type": "code",
   "execution_count": 14,
   "metadata": {
    "vscode": {
     "languageId": "r"
    }
   },
   "outputs": [],
   "source": [
    "for (peak_file in list.files(pattern = \"TEs.tsv\")) {\n",
    "\n",
    "  peaks <- fread(peak_file, data.table = FALSE)\n",
    "  peaks <- peaks[,-5]\n",
    "  colnames(peaks) <- c(\n",
    "    \"Chr\", \"Intersect_Start\", \"Intersect_End\",\n",
    "    \"Peak_ID\", \"TE_Start\", \"TE_End\", \"Score\", \n",
    "    \"Divergence\", \"Subclass\", \"Class\"\n",
    "  )\n",
    "  fwrite(peaks, file = gsub(\".tsv\", \".csv\", peak_file))\n",
    "\n",
    "}"
   ]
  },
  {
   "cell_type": "code",
   "execution_count": null,
   "metadata": {
    "vscode": {
     "languageId": "r"
    }
   },
   "outputs": [],
   "source": []
  }
 ],
 "metadata": {
  "kernelspec": {
   "display_name": "R",
   "language": "R",
   "name": "ir"
  },
  "language_info": {
   "codemirror_mode": "r",
   "file_extension": ".r",
   "mimetype": "text/x-r-source",
   "name": "R",
   "pygments_lexer": "r",
   "version": "4.3.2"
  }
 },
 "nbformat": 4,
 "nbformat_minor": 2
}
