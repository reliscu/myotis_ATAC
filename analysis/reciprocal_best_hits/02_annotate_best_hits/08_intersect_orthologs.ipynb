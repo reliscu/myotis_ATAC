{
 "cells": [
  {
   "cell_type": "code",
   "execution_count": 3,
   "metadata": {
    "vscode": {
     "languageId": "r"
    }
   },
   "outputs": [],
   "source": [
    "setwd(\"/Users/rebecca/sudmant/analyses/myotis/analysis/reciprocal_best_hits/02_annotate_best_hits\")\n",
    "\n",
    "library(data.table)\n",
    "\n",
    "myo_meta <- read.csv(\"../../../data/myotis_meta.csv\")\n",
    "ortho_gene_mapping <- fread(\"../../../data/ortholog_mapping.csv\", data.table = FALSE)\n",
    "scaf_col <- grep(\"^yum\", colnames(ortho_gene_mapping))\n",
    "ortho_gene_mapping[,scaf_col] <- gsub(\"SCAF\", \"SUPER\", ortho_gene_mapping[,scaf_col]) "
   ]
  },
  {
   "cell_type": "code",
   "execution_count": 4,
   "metadata": {
    "vscode": {
     "languageId": "r"
    }
   },
   "outputs": [],
   "source": [
    "## Intersect all RBHs with orthologous genes:\n",
    "\n",
    "for (i in seq_along(1:nrow(myo_meta))) {\n",
    "\n",
    "  spec_id <- tolower(gsub(\"Myotis-\", \"\", myo_meta$Field_Name[i]))\n",
    "  best_hit_files <- list.files(path = \"resources/best_hits\", pattern = paste0(\"^\", myo_meta$Abbr[i], \".*_genes.csv\"))\n",
    "\n",
    "  for(j in seq_along(best_hit_files)) {\n",
    "\n",
    "    ## Parse gene column:\n",
    "    spec_best_hits <- fread(file.path(\"resources/best_hits\", best_hit_files[j]), data.table = FALSE)\n",
    "    spec_best_hits <- spec_best_hits[spec_best_hits$Biotype %in% \"gene\",]\n",
    "    spec_best_hits$Gene <- sapply(strsplit(spec_best_hits$Gene, \";\", fixed = TRUE), \"[\", 1)\n",
    "    spec_best_hits$Gene <- gsub(\"ID=\", paste0(spec_id, \"_\"), spec_best_hits$Gene)\n",
    "\n",
    "    ## Intersect best hit genes with orthologous genes:\n",
    "    spec_ortho_hits <- ortho_gene_mapping[,c(1:3, grep(paste0(spec_id, \"_ID\"), colnames(ortho_gene_mapping)))]\n",
    "    colnames(spec_ortho_hits)[4] <- \"Gene\"\n",
    "    spec_ortho_hits <- spec_ortho_hits[spec_ortho_hits$Gene %in% spec_best_hits$Gene,]\n",
    "    spec_ortho_hits <- merge(spec_ortho_hits, spec_best_hits, by = \"Gene\", sort = FALSE)\n",
    "    fwrite(spec_ortho_hits, file = paste0(\n",
    "      \"resources/best_hits/\", gsub(\".csv\", \"_orthologs_only.csv\", best_hit_files[j])\n",
    "    ))\n",
    "\n",
    "  }\n",
    "\n",
    "}"
   ]
  },
  {
   "cell_type": "code",
   "execution_count": null,
   "metadata": {
    "vscode": {
     "languageId": "r"
    }
   },
   "outputs": [],
   "source": [
    "## Intersect peaks in RBHs with orthologous genes:\n",
    "\n",
    "for (i in seq_along(1:nrow(myo_meta))) {\n",
    "\n",
    "  spec_id <- tolower(gsub(\"Myotis-\", \"\", myo_meta$Field_Name[i]))\n",
    "  peak_files <- list.files(path = \"resources/peaks\", pattern = paste0(\"^\", myo_meta$Abbr[i], \".*_genes.csv\"))\n",
    "\n",
    "  for(j in seq_along(peak_files)) {\n",
    "\n",
    "    ## Parse gene column:\n",
    "    spec_peaks <- fread(file.path(\"resources/peaks\", peak_files[j]), data.table = FALSE)\n",
    "    spec_peaks <- spec_peaks[spec_peaks$Biotype %in% \"gene\",]\n",
    "    spec_peaks$Gene <- sapply(strsplit(spec_peaks$Gene, \";\", fixed = TRUE), \"[\", 1)\n",
    "    spec_peaks$Gene <- gsub(\"ID=\", paste0(spec_id, \"_\"), spec_peaks$Gene)\n",
    "\n",
    "    ## Intersect best hit genes with orthologous genes:\n",
    "    spec_ortho_peaks <- ortho_gene_mapping[,c(1:3, grep(paste0(spec_id, \"_ID\"), colnames(ortho_gene_mapping))),]\n",
    "    colnames(spec_ortho_peaks)[4] <- \"Gene\"\n",
    "    spec_ortho_peaks <- spec_ortho_peaks[spec_ortho_peaks$Gene %in% spec_peaks$Gene,]\n",
    "    spec_ortho_peaks <- merge(spec_ortho_peaks, spec_peaks, by = \"Gene\", sort = FALSE)\n",
    "    fwrite(spec_ortho_peaks, file = paste0(\n",
    "      \"resources/peaks/\", gsub(\".csv\", \"_orthologs_only.csv\", peak_files[j])\n",
    "    ))\n",
    "\n",
    "  }\n",
    "\n",
    "}"
   ]
  }
 ],
 "metadata": {
  "kernelspec": {
   "display_name": "R",
   "language": "R",
   "name": "ir"
  },
  "language_info": {
   "codemirror_mode": "r",
   "file_extension": ".r",
   "mimetype": "text/x-r-source",
   "name": "R",
   "pygments_lexer": "r",
   "version": "4.3.2"
  }
 },
 "nbformat": 4,
 "nbformat_minor": 2
}
