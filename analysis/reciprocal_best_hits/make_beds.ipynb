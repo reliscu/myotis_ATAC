{
 "cells": [
  {
   "cell_type": "code",
   "execution_count": 78,
   "metadata": {
    "vscode": {
     "languageId": "r"
    }
   },
   "outputs": [],
   "source": [
    "setwd(\"/Users/rebecca/sudmant/analyses/myotis\")\n",
    "source(\"renv/activate.R\")"
   ]
  },
  {
   "cell_type": "markdown",
   "metadata": {},
   "source": [
    "### Here I create BED files"
   ]
  },
  {
   "cell_type": "code",
   "execution_count": 79,
   "metadata": {
    "vscode": {
     "languageId": "r"
    }
   },
   "outputs": [],
   "source": [
    "setwd(\"/Users/rebecca/sudmant/analyses/myotis/analysis/reciprocal_best_hits\")\n",
    " \n",
    "library(pafr)\n",
    "library(dplyr)\n",
    "\n",
    "options(scipen = 100, digits = 10)\n",
    "\n",
    "myo_meta <- read.csv(\"../../data/myotis_meta.csv\")"
   ]
  },
  {
   "cell_type": "code",
   "execution_count": 80,
   "metadata": {
    "vscode": {
     "languageId": "r"
    }
   },
   "outputs": [],
   "source": [
    "for (i in seq_along(1:length(myo_meta$Abbr))) {\n",
    "\n",
    "    for (j in seq_along(1:length(myo_meta$Abbr))) {\n",
    "\n",
    "       if (i > j) {\n",
    "        \n",
    "            working_paf1 <- read_paf(file.path(\"resources/pafs\", intersect(\n",
    "                list.files(path = \"resources/pafs\", pattern = paste0(\"^\", myo_meta$Abbr[i])),\n",
    "                list.files(path = \"resources/pafs\", pattern = paste0(\"_\", myo_meta$Abbr[j]))\n",
    "            )))\n",
    "            \n",
    "            working_paf2 <- read_paf(file.path(\"resources/pafs\", intersect(\n",
    "                list.files(path = \"resources/pafs\", pattern = paste0(\"^\", myo_meta$Abbr[j])),\n",
    "                list.files(path = \"resources/pafs\", pattern = paste0(\"_\", myo_meta$Abbr[i]))\n",
    "            )))\n",
    "\n",
    "            ## Species 1 positions:\n",
    "\n",
    "            spec1_target <- working_paf1 %>%\n",
    "                dplyr::select(\n",
    "                    qname, qstart, qend, strand,\n",
    "                    nmatch, alen, mapq, id\n",
    "                )\n",
    "            \n",
    "            spec1_query <- working_paf2 %>%\n",
    "                dplyr::select(tname, tstart, tend, id)\n",
    "\n",
    "            write.table(\n",
    "                spec1_target,\n",
    "                file = paste0(\n",
    "                    \"resources/beds/\", myo_meta$Abbr[i], \"_vs_\", myo_meta$Abbr[j],\n",
    "                    \"_\", myo_meta$Abbr[i], \"_positions_target.bed\"\n",
    "                ), sep = \"\\t\", row.names = FALSE, col.names = FALSE, quote = FALSE\n",
    "            )\n",
    "            \n",
    "            write.table(\n",
    "                spec1_target,\n",
    "                file = paste0(\n",
    "                    \"resources/beds/\", myo_meta$Abbr[i], \"_vs_\", myo_meta$Abbr[j],\n",
    "                    \"_\", myo_meta$Abbr[i], \"_positions_query.bed\"\n",
    "                ), sep = \"\\t\", row.names = FALSE, col.names = FALSE, quote = FALSE\n",
    "            )\n",
    "\n",
    "            ## Species 2 positions:\n",
    "\n",
    "            spec2_target <- working_paf2 %>%\n",
    "                dplyr::select(\n",
    "                    qname, qstart, qend, strand,\n",
    "                    nmatch, alen, mapq\n",
    "                )\n",
    "\n",
    "            spec2_query <- working_paf1 %>%\n",
    "                dplyr::select(tname, tstart, tend)\n",
    "\n",
    "            write.table(\n",
    "                spec2_target,\n",
    "                file = paste0(\n",
    "                    \"resources/beds/\", myo_meta$Abbr[i], \"_vs_\", myo_meta$Abbr[j],\n",
    "                    \"_\", myo_meta$Abbr[j], \"_positions_target.bed\"\n",
    "                ), sep = \"\\t\", row.names = FALSE, col.names = FALSE, quote = FALSE\n",
    "            )\n",
    "\n",
    "            write.table(\n",
    "                spec2_target,\n",
    "                file = paste0(\n",
    "                    \"resources/beds/\", myo_meta$Abbr[i], \"_vs_\", myo_meta$Abbr[j],\n",
    "                    \"_\", myo_meta$Abbr[j], \"_positions_query.bed\"\n",
    "                ), sep = \"\\t\", row.names = FALSE, col.names = FALSE, quote = FALSE\n",
    "            )\n",
    "\n",
    "       } \n",
    "\n",
    "    }\n",
    "    \n",
    "}"
   ]
  },
  {
   "cell_type": "code",
   "execution_count": 63,
   "metadata": {
    "vscode": {
     "languageId": "r"
    }
   },
   "outputs": [
    {
     "data": {
      "text/html": [
       "<table class=\"dataframe\">\n",
       "<caption>A pafr: 6 x 13</caption>\n",
       "<thead>\n",
       "\t<tr><th></th><th scope=col>qname</th><th scope=col>qlen</th><th scope=col>qstart</th><th scope=col>qend</th><th scope=col>strand</th><th scope=col>tname</th><th scope=col>tlen</th><th scope=col>tstart</th><th scope=col>tend</th><th scope=col>nmatch</th><th scope=col>alen</th><th scope=col>mapq</th><th scope=col>id</th></tr>\n",
       "\t<tr><th></th><th scope=col>&lt;chr&gt;</th><th scope=col>&lt;dbl&gt;</th><th scope=col>&lt;dbl&gt;</th><th scope=col>&lt;dbl&gt;</th><th scope=col>&lt;chr&gt;</th><th scope=col>&lt;chr&gt;</th><th scope=col>&lt;dbl&gt;</th><th scope=col>&lt;dbl&gt;</th><th scope=col>&lt;dbl&gt;</th><th scope=col>&lt;dbl&gt;</th><th scope=col>&lt;dbl&gt;</th><th scope=col>&lt;dbl&gt;</th><th scope=col>&lt;dbl&gt;</th></tr>\n",
       "</thead>\n",
       "<tbody>\n",
       "\t<tr><th scope=row>1</th><td>mMyoCai1.0.SUPER__1</td><td>234393516</td><td>233250000</td><td>234393516</td><td>-</td><td>mMyoAui1.0.SUPER__1</td><td>234041302</td><td>2095881</td><td> 3236853</td><td>10723</td><td>1143516</td><td>14</td><td>95.9830</td></tr>\n",
       "\t<tr><th scope=row>2</th><td>mMyoCai1.0.SUPER__1</td><td>234393516</td><td>231865000</td><td>231945000</td><td>+</td><td>mMyoAui1.0.SUPER__1</td><td>234041302</td><td>3257751</td><td> 3346903</td><td>  851</td><td>  89152</td><td> 8</td><td>82.8577</td></tr>\n",
       "\t<tr><th scope=row>3</th><td>mMyoCai1.0.SUPER__1</td><td>234393516</td><td>231910000</td><td>231990000</td><td>+</td><td>mMyoAui1.0.SUPER__1</td><td>234041302</td><td>3414111</td><td> 3498921</td><td>  799</td><td>  84810</td><td> 7</td><td>80.0921</td></tr>\n",
       "\t<tr><th scope=row>4</th><td>mMyoCai1.0.SUPER__1</td><td>234393516</td><td>232195000</td><td>232890000</td><td>+</td><td>mMyoAui1.0.SUPER__1</td><td>234041302</td><td>3453707</td><td> 4165946</td><td> 6964</td><td> 712239</td><td>15</td><td>96.5665</td></tr>\n",
       "\t<tr><th scope=row>5</th><td>mMyoCai1.0.SUPER__1</td><td>234393516</td><td>230495000</td><td>231685000</td><td>+</td><td>mMyoAui1.0.SUPER__1</td><td>234041302</td><td>4289627</td><td> 5503974</td><td>11638</td><td>1214347</td><td>14</td><td>95.9911</td></tr>\n",
       "\t<tr><th scope=row>6</th><td>mMyoCai1.0.SUPER__1</td><td>234393516</td><td>225990000</td><td>230280000</td><td>-</td><td>mMyoAui1.0.SUPER__1</td><td>234041302</td><td>5775850</td><td>10061158</td><td>41675</td><td>4290000</td><td>15</td><td>97.0659</td></tr>\n",
       "</tbody>\n",
       "</table>\n"
      ],
      "text/latex": [
       "A pafr: 6 x 13\n",
       "\\begin{tabular}{r|lllllllllllll}\n",
       "  & qname & qlen & qstart & qend & strand & tname & tlen & tstart & tend & nmatch & alen & mapq & id\\\\\n",
       "  & <chr> & <dbl> & <dbl> & <dbl> & <chr> & <chr> & <dbl> & <dbl> & <dbl> & <dbl> & <dbl> & <dbl> & <dbl>\\\\\n",
       "\\hline\n",
       "\t1 & mMyoCai1.0.SUPER\\_\\_1 & 234393516 & 233250000 & 234393516 & - & mMyoAui1.0.SUPER\\_\\_1 & 234041302 & 2095881 &  3236853 & 10723 & 1143516 & 14 & 95.9830\\\\\n",
       "\t2 & mMyoCai1.0.SUPER\\_\\_1 & 234393516 & 231865000 & 231945000 & + & mMyoAui1.0.SUPER\\_\\_1 & 234041302 & 3257751 &  3346903 &   851 &   89152 &  8 & 82.8577\\\\\n",
       "\t3 & mMyoCai1.0.SUPER\\_\\_1 & 234393516 & 231910000 & 231990000 & + & mMyoAui1.0.SUPER\\_\\_1 & 234041302 & 3414111 &  3498921 &   799 &   84810 &  7 & 80.0921\\\\\n",
       "\t4 & mMyoCai1.0.SUPER\\_\\_1 & 234393516 & 232195000 & 232890000 & + & mMyoAui1.0.SUPER\\_\\_1 & 234041302 & 3453707 &  4165946 &  6964 &  712239 & 15 & 96.5665\\\\\n",
       "\t5 & mMyoCai1.0.SUPER\\_\\_1 & 234393516 & 230495000 & 231685000 & + & mMyoAui1.0.SUPER\\_\\_1 & 234041302 & 4289627 &  5503974 & 11638 & 1214347 & 14 & 95.9911\\\\\n",
       "\t6 & mMyoCai1.0.SUPER\\_\\_1 & 234393516 & 225990000 & 230280000 & - & mMyoAui1.0.SUPER\\_\\_1 & 234041302 & 5775850 & 10061158 & 41675 & 4290000 & 15 & 97.0659\\\\\n",
       "\\end{tabular}\n"
      ],
      "text/markdown": [
       "\n",
       "A pafr: 6 x 13\n",
       "\n",
       "| <!--/--> | qname &lt;chr&gt; | qlen &lt;dbl&gt; | qstart &lt;dbl&gt; | qend &lt;dbl&gt; | strand &lt;chr&gt; | tname &lt;chr&gt; | tlen &lt;dbl&gt; | tstart &lt;dbl&gt; | tend &lt;dbl&gt; | nmatch &lt;dbl&gt; | alen &lt;dbl&gt; | mapq &lt;dbl&gt; | id &lt;dbl&gt; |\n",
       "|---|---|---|---|---|---|---|---|---|---|---|---|---|---|\n",
       "| 1 | mMyoCai1.0.SUPER__1 | 234393516 | 233250000 | 234393516 | - | mMyoAui1.0.SUPER__1 | 234041302 | 2095881 |  3236853 | 10723 | 1143516 | 14 | 95.9830 |\n",
       "| 2 | mMyoCai1.0.SUPER__1 | 234393516 | 231865000 | 231945000 | + | mMyoAui1.0.SUPER__1 | 234041302 | 3257751 |  3346903 |   851 |   89152 |  8 | 82.8577 |\n",
       "| 3 | mMyoCai1.0.SUPER__1 | 234393516 | 231910000 | 231990000 | + | mMyoAui1.0.SUPER__1 | 234041302 | 3414111 |  3498921 |   799 |   84810 |  7 | 80.0921 |\n",
       "| 4 | mMyoCai1.0.SUPER__1 | 234393516 | 232195000 | 232890000 | + | mMyoAui1.0.SUPER__1 | 234041302 | 3453707 |  4165946 |  6964 |  712239 | 15 | 96.5665 |\n",
       "| 5 | mMyoCai1.0.SUPER__1 | 234393516 | 230495000 | 231685000 | + | mMyoAui1.0.SUPER__1 | 234041302 | 4289627 |  5503974 | 11638 | 1214347 | 14 | 95.9911 |\n",
       "| 6 | mMyoCai1.0.SUPER__1 | 234393516 | 225990000 | 230280000 | - | mMyoAui1.0.SUPER__1 | 234041302 | 5775850 | 10061158 | 41675 | 4290000 | 15 | 97.0659 |\n",
       "\n"
      ],
      "text/plain": [
       "  qname               qlen      qstart    qend      strand tname              \n",
       "1 mMyoCai1.0.SUPER__1 234393516 233250000 234393516 -      mMyoAui1.0.SUPER__1\n",
       "2 mMyoCai1.0.SUPER__1 234393516 231865000 231945000 +      mMyoAui1.0.SUPER__1\n",
       "3 mMyoCai1.0.SUPER__1 234393516 231910000 231990000 +      mMyoAui1.0.SUPER__1\n",
       "4 mMyoCai1.0.SUPER__1 234393516 232195000 232890000 +      mMyoAui1.0.SUPER__1\n",
       "5 mMyoCai1.0.SUPER__1 234393516 230495000 231685000 +      mMyoAui1.0.SUPER__1\n",
       "6 mMyoCai1.0.SUPER__1 234393516 225990000 230280000 -      mMyoAui1.0.SUPER__1\n",
       "  tlen      tstart  tend     nmatch alen    mapq id     \n",
       "1 234041302 2095881  3236853 10723  1143516 14   95.9830\n",
       "2 234041302 3257751  3346903   851    89152  8   82.8577\n",
       "3 234041302 3414111  3498921   799    84810  7   80.0921\n",
       "4 234041302 3453707  4165946  6964   712239 15   96.5665\n",
       "5 234041302 4289627  5503974 11638  1214347 14   95.9911\n",
       "6 234041302 5775850 10061158 41675  4290000 15   97.0659"
      ]
     },
     "metadata": {},
     "output_type": "display_data"
    },
    {
     "data": {
      "text/html": [
       "<table class=\"dataframe\">\n",
       "<caption>A pafr: 6 x 13</caption>\n",
       "<thead>\n",
       "\t<tr><th></th><th scope=col>qname</th><th scope=col>qlen</th><th scope=col>qstart</th><th scope=col>qend</th><th scope=col>strand</th><th scope=col>tname</th><th scope=col>tlen</th><th scope=col>tstart</th><th scope=col>tend</th><th scope=col>nmatch</th><th scope=col>alen</th><th scope=col>mapq</th><th scope=col>id</th></tr>\n",
       "\t<tr><th></th><th scope=col>&lt;chr&gt;</th><th scope=col>&lt;dbl&gt;</th><th scope=col>&lt;dbl&gt;</th><th scope=col>&lt;dbl&gt;</th><th scope=col>&lt;chr&gt;</th><th scope=col>&lt;chr&gt;</th><th scope=col>&lt;dbl&gt;</th><th scope=col>&lt;dbl&gt;</th><th scope=col>&lt;dbl&gt;</th><th scope=col>&lt;dbl&gt;</th><th scope=col>&lt;dbl&gt;</th><th scope=col>&lt;dbl&gt;</th><th scope=col>&lt;dbl&gt;</th></tr>\n",
       "</thead>\n",
       "<tbody>\n",
       "\t<tr><th scope=row>1</th><td>mMyoAui1.0.SUPER__1</td><td>234041302</td><td> 2095000</td><td> 3225000</td><td>-</td><td>mMyoCai1.0.SUPER__1</td><td>234393516</td><td>233259906</td><td>234393409</td><td>10622</td><td>1133503</td><td>14</td><td>95.9816</td></tr>\n",
       "\t<tr><th scope=row>2</th><td>mMyoAui1.0.SUPER__1</td><td>234041302</td><td> 3520000</td><td> 4110000</td><td>+</td><td>mMyoCai1.0.SUPER__1</td><td>234393516</td><td>232254999</td><td>232839473</td><td> 5717</td><td> 590000</td><td>15</td><td>96.5526</td></tr>\n",
       "\t<tr><th scope=row>3</th><td>mMyoAui1.0.SUPER__1</td><td>234041302</td><td> 4290000</td><td> 5550000</td><td>+</td><td>mMyoCai1.0.SUPER__1</td><td>234393516</td><td>230495325</td><td>231721227</td><td>12146</td><td>1260000</td><td>14</td><td>95.8486</td></tr>\n",
       "\t<tr><th scope=row>4</th><td>mMyoAui1.0.SUPER__1</td><td>234041302</td><td> 5775000</td><td>10090000</td><td>-</td><td>mMyoCai1.0.SUPER__1</td><td>234393516</td><td>225981652</td><td>230279117</td><td>42157</td><td>4315000</td><td>15</td><td>97.0425</td></tr>\n",
       "\t<tr><th scope=row>5</th><td>mMyoAui1.0.SUPER__1</td><td>234041302</td><td>10070000</td><td>11200000</td><td>+</td><td>mMyoCai1.0.SUPER__1</td><td>234393516</td><td>224963021</td><td>226028428</td><td>11050</td><td>1130000</td><td>15</td><td>96.5647</td></tr>\n",
       "\t<tr><th scope=row>6</th><td>mMyoAui1.0.SUPER__1</td><td>234041302</td><td>11200000</td><td>11250000</td><td>+</td><td>mMyoCai1.0.SUPER__1</td><td>234393516</td><td>225982113</td><td>226027391</td><td>  489</td><td>  50000</td><td> 8</td><td>82.4627</td></tr>\n",
       "</tbody>\n",
       "</table>\n"
      ],
      "text/latex": [
       "A pafr: 6 x 13\n",
       "\\begin{tabular}{r|lllllllllllll}\n",
       "  & qname & qlen & qstart & qend & strand & tname & tlen & tstart & tend & nmatch & alen & mapq & id\\\\\n",
       "  & <chr> & <dbl> & <dbl> & <dbl> & <chr> & <chr> & <dbl> & <dbl> & <dbl> & <dbl> & <dbl> & <dbl> & <dbl>\\\\\n",
       "\\hline\n",
       "\t1 & mMyoAui1.0.SUPER\\_\\_1 & 234041302 &  2095000 &  3225000 & - & mMyoCai1.0.SUPER\\_\\_1 & 234393516 & 233259906 & 234393409 & 10622 & 1133503 & 14 & 95.9816\\\\\n",
       "\t2 & mMyoAui1.0.SUPER\\_\\_1 & 234041302 &  3520000 &  4110000 & + & mMyoCai1.0.SUPER\\_\\_1 & 234393516 & 232254999 & 232839473 &  5717 &  590000 & 15 & 96.5526\\\\\n",
       "\t3 & mMyoAui1.0.SUPER\\_\\_1 & 234041302 &  4290000 &  5550000 & + & mMyoCai1.0.SUPER\\_\\_1 & 234393516 & 230495325 & 231721227 & 12146 & 1260000 & 14 & 95.8486\\\\\n",
       "\t4 & mMyoAui1.0.SUPER\\_\\_1 & 234041302 &  5775000 & 10090000 & - & mMyoCai1.0.SUPER\\_\\_1 & 234393516 & 225981652 & 230279117 & 42157 & 4315000 & 15 & 97.0425\\\\\n",
       "\t5 & mMyoAui1.0.SUPER\\_\\_1 & 234041302 & 10070000 & 11200000 & + & mMyoCai1.0.SUPER\\_\\_1 & 234393516 & 224963021 & 226028428 & 11050 & 1130000 & 15 & 96.5647\\\\\n",
       "\t6 & mMyoAui1.0.SUPER\\_\\_1 & 234041302 & 11200000 & 11250000 & + & mMyoCai1.0.SUPER\\_\\_1 & 234393516 & 225982113 & 226027391 &   489 &   50000 &  8 & 82.4627\\\\\n",
       "\\end{tabular}\n"
      ],
      "text/markdown": [
       "\n",
       "A pafr: 6 x 13\n",
       "\n",
       "| <!--/--> | qname &lt;chr&gt; | qlen &lt;dbl&gt; | qstart &lt;dbl&gt; | qend &lt;dbl&gt; | strand &lt;chr&gt; | tname &lt;chr&gt; | tlen &lt;dbl&gt; | tstart &lt;dbl&gt; | tend &lt;dbl&gt; | nmatch &lt;dbl&gt; | alen &lt;dbl&gt; | mapq &lt;dbl&gt; | id &lt;dbl&gt; |\n",
       "|---|---|---|---|---|---|---|---|---|---|---|---|---|---|\n",
       "| 1 | mMyoAui1.0.SUPER__1 | 234041302 |  2095000 |  3225000 | - | mMyoCai1.0.SUPER__1 | 234393516 | 233259906 | 234393409 | 10622 | 1133503 | 14 | 95.9816 |\n",
       "| 2 | mMyoAui1.0.SUPER__1 | 234041302 |  3520000 |  4110000 | + | mMyoCai1.0.SUPER__1 | 234393516 | 232254999 | 232839473 |  5717 |  590000 | 15 | 96.5526 |\n",
       "| 3 | mMyoAui1.0.SUPER__1 | 234041302 |  4290000 |  5550000 | + | mMyoCai1.0.SUPER__1 | 234393516 | 230495325 | 231721227 | 12146 | 1260000 | 14 | 95.8486 |\n",
       "| 4 | mMyoAui1.0.SUPER__1 | 234041302 |  5775000 | 10090000 | - | mMyoCai1.0.SUPER__1 | 234393516 | 225981652 | 230279117 | 42157 | 4315000 | 15 | 97.0425 |\n",
       "| 5 | mMyoAui1.0.SUPER__1 | 234041302 | 10070000 | 11200000 | + | mMyoCai1.0.SUPER__1 | 234393516 | 224963021 | 226028428 | 11050 | 1130000 | 15 | 96.5647 |\n",
       "| 6 | mMyoAui1.0.SUPER__1 | 234041302 | 11200000 | 11250000 | + | mMyoCai1.0.SUPER__1 | 234393516 | 225982113 | 226027391 |   489 |   50000 |  8 | 82.4627 |\n",
       "\n"
      ],
      "text/plain": [
       "  qname               qlen      qstart   qend     strand tname              \n",
       "1 mMyoAui1.0.SUPER__1 234041302  2095000  3225000 -      mMyoCai1.0.SUPER__1\n",
       "2 mMyoAui1.0.SUPER__1 234041302  3520000  4110000 +      mMyoCai1.0.SUPER__1\n",
       "3 mMyoAui1.0.SUPER__1 234041302  4290000  5550000 +      mMyoCai1.0.SUPER__1\n",
       "4 mMyoAui1.0.SUPER__1 234041302  5775000 10090000 -      mMyoCai1.0.SUPER__1\n",
       "5 mMyoAui1.0.SUPER__1 234041302 10070000 11200000 +      mMyoCai1.0.SUPER__1\n",
       "6 mMyoAui1.0.SUPER__1 234041302 11200000 11250000 +      mMyoCai1.0.SUPER__1\n",
       "  tlen      tstart    tend      nmatch alen    mapq id     \n",
       "1 234393516 233259906 234393409 10622  1133503 14   95.9816\n",
       "2 234393516 232254999 232839473  5717   590000 15   96.5526\n",
       "3 234393516 230495325 231721227 12146  1260000 14   95.8486\n",
       "4 234393516 225981652 230279117 42157  4315000 15   97.0425\n",
       "5 234393516 224963021 226028428 11050  1130000 15   96.5647\n",
       "6 234393516 225982113 226027391   489    50000  8   82.4627"
      ]
     },
     "metadata": {},
     "output_type": "display_data"
    }
   ],
   "source": [
    "working_paf1 %>%\n",
    "        arrange(tstart) %>%\n",
    "        filter(qname == \"mMyoCai1.0.SUPER__1\" & tname == \"mMyoAui1.0.SUPER__1\") %>%\n",
    "        head()\n",
    "\n",
    "working_paf2 %>%\n",
    "        arrange(qstart) %>%\n",
    "        filter(tname == \"mMyoCai1.0.SUPER__1\" & qname == \"mMyoAui1.0.SUPER__1\") %>%\n",
    "        head()"
   ]
  }
 ],
 "metadata": {
  "kernelspec": {
   "display_name": "R",
   "language": "R",
   "name": "ir"
  },
  "language_info": {
   "codemirror_mode": "r",
   "file_extension": ".r",
   "mimetype": "text/x-r-source",
   "name": "R",
   "pygments_lexer": "r",
   "version": "4.3.2"
  }
 },
 "nbformat": 4,
 "nbformat_minor": 2
}
