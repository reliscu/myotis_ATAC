{
 "cells": [
  {
   "cell_type": "code",
   "execution_count": 104,
   "metadata": {
    "vscode": {
     "languageId": "r"
    }
   },
   "outputs": [],
   "source": [
    "setwd(\"/Users/rebecca/sudmant/analyses/myotis/analysis/reciprocal_best_hits/01_get_best_hits\")\n",
    "\n",
    "## note: pintersect() is a parallelized intersect\n",
    "\n",
    "library(pafr)\n",
    "library(dplyr)\n",
    "library(tidyr)\n",
    "library(GenomicRanges)\n",
    "\n",
    "source(\"code/rbh_fns.R\")"
   ]
  },
  {
   "cell_type": "code",
   "execution_count": 121,
   "metadata": {
    "vscode": {
     "languageId": "r"
    }
   },
   "outputs": [],
   "source": [
    "paf1 <- read_paf(\"resources/pafs/trimmed/mMyoAui1.cleaned.hapheader_mMyoCai1.cleaned.hapheader.exact_trimmed.paf\", include_tags = FALSE)\n",
    "paf2 <- read_paf(\"resources/pafs/trimmed/mMyoCai1.cleaned.hapheader_mMyoAui1.cleaned.hapheader.exact_trimmed.paf\", include_tags = FALSE)\n",
    "\n",
    "paf1 <- paf1 %>%\n",
    "  dplyr::mutate(\n",
    "    Query_ID = paste(qname, qstart, qend, row_number()),\n",
    "    Subj_ID = paste(tname, tstart, tend, row_number())\n",
    "  )\n",
    "paf2 <- paf2 %>%\n",
    "  dplyr::mutate(\n",
    "    Query_ID = paste(qname, qstart, qend, row_number()),\n",
    "    Subj_ID = paste(tname, tstart, tend, row_number())\n",
    "  )"
   ]
  },
  {
   "cell_type": "code",
   "execution_count": 122,
   "metadata": {
    "vscode": {
     "languageId": "r"
    }
   },
   "outputs": [],
   "source": [
    "## Species 1 data:\n",
    "\n",
    "spec1_subj_paf <- paf1 %>% \n",
    "  dplyr::select(chr = tname,\n",
    "                start = tstart, \n",
    "                end = tend, \n",
    "                name = Subj_ID)\n",
    "\n",
    "spec1_query_paf <- paf2 %>% \n",
    "  dplyr::select(chr = qname, \n",
    "                start = qstart, \n",
    "                end = qend, \n",
    "                name = Query_ID)\n",
    "  \n",
    "## Species 2 data:\n",
    "\n",
    "spec2_subj_paf <- paf2 %>% \n",
    "  dplyr::select(chr = tname,\n",
    "                start = tstart, \n",
    "                end = tend, \n",
    "                name = Subj_ID)\n",
    "  \n",
    "spec2_query_paf <- paf1 %>% \n",
    "  dplyr::select(chr = qname, \n",
    "                start = qstart, \n",
    "                end = qend, \n",
    "                name = Query_ID)"
   ]
  },
  {
   "cell_type": "code",
   "execution_count": 107,
   "metadata": {
    "vscode": {
     "languageId": "r"
    }
   },
   "outputs": [],
   "source": [
    "spec1_intersect <- spec_intersect_fn(spec1_subj_paf,\n",
    "                                     spec1_query_paf,\n",
    "                                     spec.no = 1)\n",
    "spec2_intersect <- spec_intersect_fn(spec2_subj_paf, \n",
    "                                     spec2_query_paf,\n",
    "                                     spec.no = 2)"
   ]
  },
  {
   "cell_type": "code",
   "execution_count": 151,
   "metadata": {
    "vscode": {
     "languageId": "r"
    }
   },
   "outputs": [],
   "source": [
    "paf1_merge <- merge(paf1, spec2_intersect, by.x = \"Query_ID\", by.y = \"Spec2_Query_Name\")\n",
    "paf1_merge <- merge(paf1_merge, spec1_intersect, by.x = \"Subj_ID\", by.y = \"Spec1_Subject_Name\")"
   ]
  },
  {
   "cell_type": "code",
   "execution_count": 180,
   "metadata": {
    "vscode": {
     "languageId": "r"
    }
   },
   "outputs": [],
   "source": [
    "paf2_merge <- merge(paf2, spec1_intersect, by.x = \"Query_ID\", by.y = \"Spec1_Query_Name\")\n",
    "paf2_merge <- merge(paf2_merge, spec2_intersect, by.x = \"Subj_ID\", by.y = \"Spec2_Subject_Name\")"
   ]
  },
  {
   "cell_type": "code",
   "execution_count": 184,
   "metadata": {
    "vscode": {
     "languageId": "r"
    }
   },
   "outputs": [
    {
     "data": {
      "text/html": [
       "<table class=\"dataframe\">\n",
       "<caption>A data.frame: 6 x 24</caption>\n",
       "<thead>\n",
       "\t<tr><th></th><th scope=col>Subj_ID</th><th scope=col>Query_ID</th><th scope=col>qname</th><th scope=col>qlen</th><th scope=col>qstart</th><th scope=col>qend</th><th scope=col>strand</th><th scope=col>tname</th><th scope=col>tlen</th><th scope=col>tstart</th><th scope=col>...</th><th scope=col>Spec2_Subject_Name</th><th scope=col>Chr.x</th><th scope=col>Start.x</th><th scope=col>End.x</th><th scope=col>ID.x</th><th scope=col>Spec1_Query_Name</th><th scope=col>Chr.y</th><th scope=col>Start.y</th><th scope=col>End.y</th><th scope=col>ID.y</th></tr>\n",
       "\t<tr><th></th><th scope=col>&lt;chr&gt;</th><th scope=col>&lt;chr&gt;</th><th scope=col>&lt;chr&gt;</th><th scope=col>&lt;dbl&gt;</th><th scope=col>&lt;dbl&gt;</th><th scope=col>&lt;dbl&gt;</th><th scope=col>&lt;chr&gt;</th><th scope=col>&lt;chr&gt;</th><th scope=col>&lt;dbl&gt;</th><th scope=col>&lt;dbl&gt;</th><th scope=col>...</th><th scope=col>&lt;chr&gt;</th><th scope=col>&lt;chr&gt;</th><th scope=col>&lt;int&gt;</th><th scope=col>&lt;dbl&gt;</th><th scope=col>&lt;chr&gt;</th><th scope=col>&lt;chr&gt;</th><th scope=col>&lt;chr&gt;</th><th scope=col>&lt;int&gt;</th><th scope=col>&lt;dbl&gt;</th><th scope=col>&lt;chr&gt;</th></tr>\n",
       "</thead>\n",
       "<tbody>\n",
       "\t<tr><th scope=row>1</th><td>mMyoAui1.0.SUPER__1 102707193 107775906 46</td><td>mMyoCai1.0.SUPER__1 126459000 131515000 46</td><td>mMyoCai1.0.SUPER__1</td><td>234393516</td><td>126459000</td><td>131515000</td><td>-</td><td>mMyoAui1.0.SUPER__1</td><td>234041302</td><td>102707193</td><td>...</td><td>mMyoCai1.0.SUPER__1 126459924 131512031 54</td><td>SUPER__1</td><td>126459924</td><td>131512031</td><td>SUPER__1 126459924 131512031</td><td>mMyoAui1.0.SUPER__1 102710168 107775000 54</td><td>SUPER__1</td><td>102710168</td><td>107775000</td><td>SUPER__1 102710168 107775000</td></tr>\n",
       "\t<tr><th scope=row>2</th><td>mMyoAui1.0.SUPER__1 107775998 107878130 17</td><td>mMyoCai1.0.SUPER__1 126305912 126394256 17</td><td>mMyoCai1.0.SUPER__1</td><td>234393516</td><td>126305912</td><td>126394256</td><td>-</td><td>mMyoAui1.0.SUPER__1</td><td>234041302</td><td>107775998</td><td>...</td><td>mMyoCai1.0.SUPER__1 126305882 126394256 5 </td><td>SUPER__1</td><td>126305912</td><td>126394256</td><td>SUPER__1 126305912 126394256</td><td>mMyoAui1.0.SUPER__1 107775998 107878160 5 </td><td>SUPER__1</td><td>107775998</td><td>107878130</td><td>SUPER__1 107775998 107878130</td></tr>\n",
       "\t<tr><th scope=row>3</th><td>mMyoAui1.0.SUPER__1 107953644 108596369 34</td><td>mMyoCai1.0.SUPER__1 125693305 126298408 34</td><td>mMyoCai1.0.SUPER__1</td><td>234393516</td><td>125693305</td><td>126298408</td><td>-</td><td>mMyoAui1.0.SUPER__1</td><td>234041302</td><td>107953644</td><td>...</td><td>mMyoCai1.0.SUPER__1 125701245 126298588 39</td><td>SUPER__1</td><td>125701245</td><td>126298408</td><td>SUPER__1 125701245 126298408</td><td>mMyoAui1.0.SUPER__1 107953643 108594471 39</td><td>SUPER__1</td><td>107953644</td><td>108594471</td><td>SUPER__1 107953644 108594471</td></tr>\n",
       "\t<tr><th scope=row>4</th><td>mMyoAui1.0.SUPER__1 11413609 76959936 53  </td><td>mMyoCai1.0.SUPER__1 158860168 224964986 53</td><td>mMyoCai1.0.SUPER__1</td><td>234393516</td><td>158860168</td><td>224964986</td><td>-</td><td>mMyoAui1.0.SUPER__1</td><td>234041302</td><td> 11413609</td><td>...</td><td>mMyoCai1.0.SUPER__1 158860041 224991204 60</td><td>SUPER__1</td><td>158860168</td><td>224964986</td><td>SUPER__1 158860168 224964986</td><td>mMyoAui1.0.SUPER__1 11384389 76960000 60  </td><td>SUPER__1</td><td> 11413609</td><td> 76959936</td><td>SUPER__1 11413609 76959936  </td></tr>\n",
       "\t<tr><th scope=row>5</th><td>mMyoAui1.0.SUPER__1 129590316 129701614 20</td><td>mMyoCai1.0.SUPER__1 104675000 104804997 20</td><td>mMyoCai1.0.SUPER__1</td><td>234393516</td><td>104675000</td><td>104804997</td><td>-</td><td>mMyoAui1.0.SUPER__1</td><td>234041302</td><td>129590316</td><td>...</td><td>mMyoCai1.0.SUPER__1 104717580 104818745 38</td><td>SUPER__1</td><td>104717580</td><td>104804997</td><td>SUPER__1 104717580 104804997</td><td>mMyoAui1.0.SUPER__1 129570000 129660000 38</td><td>SUPER__1</td><td>129590316</td><td>129660000</td><td>SUPER__1 129590316 129660000</td></tr>\n",
       "\t<tr><th scope=row>6</th><td>mMyoAui1.0.SUPER__1 132007348 132041758 22</td><td>mMyoCai1.0.SUPER__1 104300000 104349787 22</td><td>mMyoCai1.0.SUPER__1</td><td>234393516</td><td>104300000</td><td>104349787</td><td>+</td><td>mMyoAui1.0.SUPER__1</td><td>234041302</td><td>132007348</td><td>...</td><td>mMyoCai1.0.SUPER__1 104285961 104370009 28</td><td>SUPER__1</td><td>104300000</td><td>104349787</td><td>SUPER__1 104300000 104349787</td><td>mMyoAui1.0.SUPER__1 131980449 132055000 41</td><td>SUPER__1</td><td>132007348</td><td>132041758</td><td>SUPER__1 132007348 132041758</td></tr>\n",
       "</tbody>\n",
       "</table>\n"
      ],
      "text/latex": [
       "A data.frame: 6 x 24\n",
       "\\begin{tabular}{r|lllllllllllllllllllll}\n",
       "  & Subj\\_ID & Query\\_ID & qname & qlen & qstart & qend & strand & tname & tlen & tstart & ... & Spec2\\_Subject\\_Name & Chr.x & Start.x & End.x & ID.x & Spec1\\_Query\\_Name & Chr.y & Start.y & End.y & ID.y\\\\\n",
       "  & <chr> & <chr> & <chr> & <dbl> & <dbl> & <dbl> & <chr> & <chr> & <dbl> & <dbl> & ... & <chr> & <chr> & <int> & <dbl> & <chr> & <chr> & <chr> & <int> & <dbl> & <chr>\\\\\n",
       "\\hline\n",
       "\t1 & mMyoAui1.0.SUPER\\_\\_1 102707193 107775906 46 & mMyoCai1.0.SUPER\\_\\_1 126459000 131515000 46 & mMyoCai1.0.SUPER\\_\\_1 & 234393516 & 126459000 & 131515000 & - & mMyoAui1.0.SUPER\\_\\_1 & 234041302 & 102707193 & ... & mMyoCai1.0.SUPER\\_\\_1 126459924 131512031 54 & SUPER\\_\\_1 & 126459924 & 131512031 & SUPER\\_\\_1 126459924 131512031 & mMyoAui1.0.SUPER\\_\\_1 102710168 107775000 54 & SUPER\\_\\_1 & 102710168 & 107775000 & SUPER\\_\\_1 102710168 107775000\\\\\n",
       "\t2 & mMyoAui1.0.SUPER\\_\\_1 107775998 107878130 17 & mMyoCai1.0.SUPER\\_\\_1 126305912 126394256 17 & mMyoCai1.0.SUPER\\_\\_1 & 234393516 & 126305912 & 126394256 & - & mMyoAui1.0.SUPER\\_\\_1 & 234041302 & 107775998 & ... & mMyoCai1.0.SUPER\\_\\_1 126305882 126394256 5  & SUPER\\_\\_1 & 126305912 & 126394256 & SUPER\\_\\_1 126305912 126394256 & mMyoAui1.0.SUPER\\_\\_1 107775998 107878160 5  & SUPER\\_\\_1 & 107775998 & 107878130 & SUPER\\_\\_1 107775998 107878130\\\\\n",
       "\t3 & mMyoAui1.0.SUPER\\_\\_1 107953644 108596369 34 & mMyoCai1.0.SUPER\\_\\_1 125693305 126298408 34 & mMyoCai1.0.SUPER\\_\\_1 & 234393516 & 125693305 & 126298408 & - & mMyoAui1.0.SUPER\\_\\_1 & 234041302 & 107953644 & ... & mMyoCai1.0.SUPER\\_\\_1 125701245 126298588 39 & SUPER\\_\\_1 & 125701245 & 126298408 & SUPER\\_\\_1 125701245 126298408 & mMyoAui1.0.SUPER\\_\\_1 107953643 108594471 39 & SUPER\\_\\_1 & 107953644 & 108594471 & SUPER\\_\\_1 107953644 108594471\\\\\n",
       "\t4 & mMyoAui1.0.SUPER\\_\\_1 11413609 76959936 53   & mMyoCai1.0.SUPER\\_\\_1 158860168 224964986 53 & mMyoCai1.0.SUPER\\_\\_1 & 234393516 & 158860168 & 224964986 & - & mMyoAui1.0.SUPER\\_\\_1 & 234041302 &  11413609 & ... & mMyoCai1.0.SUPER\\_\\_1 158860041 224991204 60 & SUPER\\_\\_1 & 158860168 & 224964986 & SUPER\\_\\_1 158860168 224964986 & mMyoAui1.0.SUPER\\_\\_1 11384389 76960000 60   & SUPER\\_\\_1 &  11413609 &  76959936 & SUPER\\_\\_1 11413609 76959936  \\\\\n",
       "\t5 & mMyoAui1.0.SUPER\\_\\_1 129590316 129701614 20 & mMyoCai1.0.SUPER\\_\\_1 104675000 104804997 20 & mMyoCai1.0.SUPER\\_\\_1 & 234393516 & 104675000 & 104804997 & - & mMyoAui1.0.SUPER\\_\\_1 & 234041302 & 129590316 & ... & mMyoCai1.0.SUPER\\_\\_1 104717580 104818745 38 & SUPER\\_\\_1 & 104717580 & 104804997 & SUPER\\_\\_1 104717580 104804997 & mMyoAui1.0.SUPER\\_\\_1 129570000 129660000 38 & SUPER\\_\\_1 & 129590316 & 129660000 & SUPER\\_\\_1 129590316 129660000\\\\\n",
       "\t6 & mMyoAui1.0.SUPER\\_\\_1 132007348 132041758 22 & mMyoCai1.0.SUPER\\_\\_1 104300000 104349787 22 & mMyoCai1.0.SUPER\\_\\_1 & 234393516 & 104300000 & 104349787 & + & mMyoAui1.0.SUPER\\_\\_1 & 234041302 & 132007348 & ... & mMyoCai1.0.SUPER\\_\\_1 104285961 104370009 28 & SUPER\\_\\_1 & 104300000 & 104349787 & SUPER\\_\\_1 104300000 104349787 & mMyoAui1.0.SUPER\\_\\_1 131980449 132055000 41 & SUPER\\_\\_1 & 132007348 & 132041758 & SUPER\\_\\_1 132007348 132041758\\\\\n",
       "\\end{tabular}\n"
      ],
      "text/markdown": [
       "\n",
       "A data.frame: 6 x 24\n",
       "\n",
       "| <!--/--> | Subj_ID &lt;chr&gt; | Query_ID &lt;chr&gt; | qname &lt;chr&gt; | qlen &lt;dbl&gt; | qstart &lt;dbl&gt; | qend &lt;dbl&gt; | strand &lt;chr&gt; | tname &lt;chr&gt; | tlen &lt;dbl&gt; | tstart &lt;dbl&gt; | ... ... | Spec2_Subject_Name &lt;chr&gt; | Chr.x &lt;chr&gt; | Start.x &lt;int&gt; | End.x &lt;dbl&gt; | ID.x &lt;chr&gt; | Spec1_Query_Name &lt;chr&gt; | Chr.y &lt;chr&gt; | Start.y &lt;int&gt; | End.y &lt;dbl&gt; | ID.y &lt;chr&gt; |\n",
       "|---|---|---|---|---|---|---|---|---|---|---|---|---|---|---|---|---|---|---|---|---|---|\n",
       "| 1 | mMyoAui1.0.SUPER__1 102707193 107775906 46 | mMyoCai1.0.SUPER__1 126459000 131515000 46 | mMyoCai1.0.SUPER__1 | 234393516 | 126459000 | 131515000 | - | mMyoAui1.0.SUPER__1 | 234041302 | 102707193 | ... | mMyoCai1.0.SUPER__1 126459924 131512031 54 | SUPER__1 | 126459924 | 131512031 | SUPER__1 126459924 131512031 | mMyoAui1.0.SUPER__1 102710168 107775000 54 | SUPER__1 | 102710168 | 107775000 | SUPER__1 102710168 107775000 |\n",
       "| 2 | mMyoAui1.0.SUPER__1 107775998 107878130 17 | mMyoCai1.0.SUPER__1 126305912 126394256 17 | mMyoCai1.0.SUPER__1 | 234393516 | 126305912 | 126394256 | - | mMyoAui1.0.SUPER__1 | 234041302 | 107775998 | ... | mMyoCai1.0.SUPER__1 126305882 126394256 5  | SUPER__1 | 126305912 | 126394256 | SUPER__1 126305912 126394256 | mMyoAui1.0.SUPER__1 107775998 107878160 5  | SUPER__1 | 107775998 | 107878130 | SUPER__1 107775998 107878130 |\n",
       "| 3 | mMyoAui1.0.SUPER__1 107953644 108596369 34 | mMyoCai1.0.SUPER__1 125693305 126298408 34 | mMyoCai1.0.SUPER__1 | 234393516 | 125693305 | 126298408 | - | mMyoAui1.0.SUPER__1 | 234041302 | 107953644 | ... | mMyoCai1.0.SUPER__1 125701245 126298588 39 | SUPER__1 | 125701245 | 126298408 | SUPER__1 125701245 126298408 | mMyoAui1.0.SUPER__1 107953643 108594471 39 | SUPER__1 | 107953644 | 108594471 | SUPER__1 107953644 108594471 |\n",
       "| 4 | mMyoAui1.0.SUPER__1 11413609 76959936 53   | mMyoCai1.0.SUPER__1 158860168 224964986 53 | mMyoCai1.0.SUPER__1 | 234393516 | 158860168 | 224964986 | - | mMyoAui1.0.SUPER__1 | 234041302 |  11413609 | ... | mMyoCai1.0.SUPER__1 158860041 224991204 60 | SUPER__1 | 158860168 | 224964986 | SUPER__1 158860168 224964986 | mMyoAui1.0.SUPER__1 11384389 76960000 60   | SUPER__1 |  11413609 |  76959936 | SUPER__1 11413609 76959936   |\n",
       "| 5 | mMyoAui1.0.SUPER__1 129590316 129701614 20 | mMyoCai1.0.SUPER__1 104675000 104804997 20 | mMyoCai1.0.SUPER__1 | 234393516 | 104675000 | 104804997 | - | mMyoAui1.0.SUPER__1 | 234041302 | 129590316 | ... | mMyoCai1.0.SUPER__1 104717580 104818745 38 | SUPER__1 | 104717580 | 104804997 | SUPER__1 104717580 104804997 | mMyoAui1.0.SUPER__1 129570000 129660000 38 | SUPER__1 | 129590316 | 129660000 | SUPER__1 129590316 129660000 |\n",
       "| 6 | mMyoAui1.0.SUPER__1 132007348 132041758 22 | mMyoCai1.0.SUPER__1 104300000 104349787 22 | mMyoCai1.0.SUPER__1 | 234393516 | 104300000 | 104349787 | + | mMyoAui1.0.SUPER__1 | 234041302 | 132007348 | ... | mMyoCai1.0.SUPER__1 104285961 104370009 28 | SUPER__1 | 104300000 | 104349787 | SUPER__1 104300000 104349787 | mMyoAui1.0.SUPER__1 131980449 132055000 41 | SUPER__1 | 132007348 | 132041758 | SUPER__1 132007348 132041758 |\n",
       "\n"
      ],
      "text/plain": [
       "  Subj_ID                                   \n",
       "1 mMyoAui1.0.SUPER__1 102707193 107775906 46\n",
       "2 mMyoAui1.0.SUPER__1 107775998 107878130 17\n",
       "3 mMyoAui1.0.SUPER__1 107953644 108596369 34\n",
       "4 mMyoAui1.0.SUPER__1 11413609 76959936 53  \n",
       "5 mMyoAui1.0.SUPER__1 129590316 129701614 20\n",
       "6 mMyoAui1.0.SUPER__1 132007348 132041758 22\n",
       "  Query_ID                                   qname               qlen     \n",
       "1 mMyoCai1.0.SUPER__1 126459000 131515000 46 mMyoCai1.0.SUPER__1 234393516\n",
       "2 mMyoCai1.0.SUPER__1 126305912 126394256 17 mMyoCai1.0.SUPER__1 234393516\n",
       "3 mMyoCai1.0.SUPER__1 125693305 126298408 34 mMyoCai1.0.SUPER__1 234393516\n",
       "4 mMyoCai1.0.SUPER__1 158860168 224964986 53 mMyoCai1.0.SUPER__1 234393516\n",
       "5 mMyoCai1.0.SUPER__1 104675000 104804997 20 mMyoCai1.0.SUPER__1 234393516\n",
       "6 mMyoCai1.0.SUPER__1 104300000 104349787 22 mMyoCai1.0.SUPER__1 234393516\n",
       "  qstart    qend      strand tname               tlen      tstart    ...\n",
       "1 126459000 131515000 -      mMyoAui1.0.SUPER__1 234041302 102707193 ...\n",
       "2 126305912 126394256 -      mMyoAui1.0.SUPER__1 234041302 107775998 ...\n",
       "3 125693305 126298408 -      mMyoAui1.0.SUPER__1 234041302 107953644 ...\n",
       "4 158860168 224964986 -      mMyoAui1.0.SUPER__1 234041302  11413609 ...\n",
       "5 104675000 104804997 -      mMyoAui1.0.SUPER__1 234041302 129590316 ...\n",
       "6 104300000 104349787 +      mMyoAui1.0.SUPER__1 234041302 132007348 ...\n",
       "  Spec2_Subject_Name                         Chr.x    Start.x   End.x    \n",
       "1 mMyoCai1.0.SUPER__1 126459924 131512031 54 SUPER__1 126459924 131512031\n",
       "2 mMyoCai1.0.SUPER__1 126305882 126394256 5  SUPER__1 126305912 126394256\n",
       "3 mMyoCai1.0.SUPER__1 125701245 126298588 39 SUPER__1 125701245 126298408\n",
       "4 mMyoCai1.0.SUPER__1 158860041 224991204 60 SUPER__1 158860168 224964986\n",
       "5 mMyoCai1.0.SUPER__1 104717580 104818745 38 SUPER__1 104717580 104804997\n",
       "6 mMyoCai1.0.SUPER__1 104285961 104370009 28 SUPER__1 104300000 104349787\n",
       "  ID.x                         Spec1_Query_Name                          \n",
       "1 SUPER__1 126459924 131512031 mMyoAui1.0.SUPER__1 102710168 107775000 54\n",
       "2 SUPER__1 126305912 126394256 mMyoAui1.0.SUPER__1 107775998 107878160 5 \n",
       "3 SUPER__1 125701245 126298408 mMyoAui1.0.SUPER__1 107953643 108594471 39\n",
       "4 SUPER__1 158860168 224964986 mMyoAui1.0.SUPER__1 11384389 76960000 60  \n",
       "5 SUPER__1 104717580 104804997 mMyoAui1.0.SUPER__1 129570000 129660000 38\n",
       "6 SUPER__1 104300000 104349787 mMyoAui1.0.SUPER__1 131980449 132055000 41\n",
       "  Chr.y    Start.y   End.y     ID.y                        \n",
       "1 SUPER__1 102710168 107775000 SUPER__1 102710168 107775000\n",
       "2 SUPER__1 107775998 107878130 SUPER__1 107775998 107878130\n",
       "3 SUPER__1 107953644 108594471 SUPER__1 107953644 108594471\n",
       "4 SUPER__1  11413609  76959936 SUPER__1 11413609 76959936  \n",
       "5 SUPER__1 129590316 129660000 SUPER__1 129590316 129660000\n",
       "6 SUPER__1 132007348 132041758 SUPER__1 132007348 132041758"
      ]
     },
     "metadata": {},
     "output_type": "display_data"
    }
   ],
   "source": [
    "head(paf1_merge)"
   ]
  },
  {
   "cell_type": "code",
   "execution_count": 185,
   "metadata": {
    "vscode": {
     "languageId": "r"
    }
   },
   "outputs": [
    {
     "data": {
      "text/html": [
       "<table class=\"dataframe\">\n",
       "<caption>A data.frame: 6 x 24</caption>\n",
       "<thead>\n",
       "\t<tr><th></th><th scope=col>Subj_ID</th><th scope=col>Query_ID</th><th scope=col>qname</th><th scope=col>qlen</th><th scope=col>qstart</th><th scope=col>qend</th><th scope=col>strand</th><th scope=col>tname</th><th scope=col>tlen</th><th scope=col>tstart</th><th scope=col>...</th><th scope=col>Spec1_Subject_Name</th><th scope=col>Chr.x</th><th scope=col>Start.x</th><th scope=col>End.x</th><th scope=col>ID.x</th><th scope=col>Spec2_Query_Name</th><th scope=col>Chr.y</th><th scope=col>Start.y</th><th scope=col>End.y</th><th scope=col>ID.y</th></tr>\n",
       "\t<tr><th></th><th scope=col>&lt;chr&gt;</th><th scope=col>&lt;chr&gt;</th><th scope=col>&lt;chr&gt;</th><th scope=col>&lt;dbl&gt;</th><th scope=col>&lt;dbl&gt;</th><th scope=col>&lt;dbl&gt;</th><th scope=col>&lt;chr&gt;</th><th scope=col>&lt;chr&gt;</th><th scope=col>&lt;dbl&gt;</th><th scope=col>&lt;dbl&gt;</th><th scope=col>...</th><th scope=col>&lt;chr&gt;</th><th scope=col>&lt;chr&gt;</th><th scope=col>&lt;int&gt;</th><th scope=col>&lt;dbl&gt;</th><th scope=col>&lt;chr&gt;</th><th scope=col>&lt;chr&gt;</th><th scope=col>&lt;chr&gt;</th><th scope=col>&lt;int&gt;</th><th scope=col>&lt;dbl&gt;</th><th scope=col>&lt;chr&gt;</th></tr>\n",
       "</thead>\n",
       "<tbody>\n",
       "\t<tr><th scope=row>1</th><td>mMyoCai1.0.SUPER__1 101022157 101060135 14</td><td>mMyoAui1.0.SUPER__1 133915208 133964999 14</td><td>mMyoAui1.0.SUPER__1</td><td>234041302</td><td>133915208</td><td>133964999</td><td>-</td><td>mMyoCai1.0.SUPER__1</td><td>234393516</td><td>101022157</td><td>...</td><td>mMyoAui1.0.SUPER__1 133957795 134066920 12</td><td>SUPER__1</td><td>133957795</td><td>133964999</td><td>SUPER__1 133957795 133964999</td><td>mMyoCai1.0.SUPER__1 100935333 101075000 11</td><td>SUPER__1</td><td>101022157</td><td>101060135</td><td>SUPER__1 101022157 101060135</td></tr>\n",
       "\t<tr><th scope=row>2</th><td>mMyoCai1.0.SUPER__1 101097090 102889262 47</td><td>mMyoAui1.0.SUPER__1 132064304 133790000 47</td><td>mMyoAui1.0.SUPER__1</td><td>234041302</td><td>132064304</td><td>133790000</td><td>-</td><td>mMyoCai1.0.SUPER__1</td><td>234393516</td><td>101097090</td><td>...</td><td>mMyoAui1.0.SUPER__1 133741906 133796011 29</td><td>SUPER__1</td><td>133741906</td><td>133790000</td><td>SUPER__1 133741906 133790000</td><td>mMyoCai1.0.SUPER__1 101212272 102868829 38</td><td>SUPER__1</td><td>101212272</td><td>102868829</td><td>SUPER__1 101212272 102868829</td></tr>\n",
       "\t<tr><th scope=row>3</th><td>mMyoCai1.0.SUPER__1 101097090 102889262 47</td><td>mMyoAui1.0.SUPER__1 132064304 133790000 47</td><td>mMyoAui1.0.SUPER__1</td><td>234041302</td><td>132064304</td><td>133790000</td><td>-</td><td>mMyoCai1.0.SUPER__1</td><td>234393516</td><td>101097090</td><td>...</td><td>mMyoAui1.0.SUPER__1 132071739 133691155 38</td><td>SUPER__1</td><td>132071739</td><td>133691155</td><td>SUPER__1 132071739 133691155</td><td>mMyoCai1.0.SUPER__1 101212272 102868829 38</td><td>SUPER__1</td><td>101212272</td><td>102868829</td><td>SUPER__1 101212272 102868829</td></tr>\n",
       "\t<tr><th scope=row>4</th><td>mMyoCai1.0.SUPER__1 104717580 104818745 38</td><td>mMyoAui1.0.SUPER__1 129570000 129660000 38</td><td>mMyoAui1.0.SUPER__1</td><td>234041302</td><td>129570000</td><td>129660000</td><td>-</td><td>mMyoCai1.0.SUPER__1</td><td>234393516</td><td>104717580</td><td>...</td><td>mMyoAui1.0.SUPER__1 129590316 129701614 20</td><td>SUPER__1</td><td>129590316</td><td>129660000</td><td>SUPER__1 129590316 129660000</td><td>mMyoCai1.0.SUPER__1 104675000 104804997 20</td><td>SUPER__1</td><td>104717580</td><td>104804997</td><td>SUPER__1 104717580 104804997</td></tr>\n",
       "\t<tr><th scope=row>5</th><td>mMyoCai1.0.SUPER__1 125701245 126298588 39</td><td>mMyoAui1.0.SUPER__1 107953643 108594471 39</td><td>mMyoAui1.0.SUPER__1</td><td>234041302</td><td>107953643</td><td>108594471</td><td>-</td><td>mMyoCai1.0.SUPER__1</td><td>234393516</td><td>125701245</td><td>...</td><td>mMyoAui1.0.SUPER__1 107953644 108596369 34</td><td>SUPER__1</td><td>107953644</td><td>108594471</td><td>SUPER__1 107953644 108594471</td><td>mMyoCai1.0.SUPER__1 125693305 126298408 34</td><td>SUPER__1</td><td>125701245</td><td>126298408</td><td>SUPER__1 125701245 126298408</td></tr>\n",
       "\t<tr><th scope=row>6</th><td>mMyoCai1.0.SUPER__1 126305882 126394256 5 </td><td>mMyoAui1.0.SUPER__1 107775998 107878160 5 </td><td>mMyoAui1.0.SUPER__1</td><td>234041302</td><td>107775998</td><td>107878160</td><td>-</td><td>mMyoCai1.0.SUPER__1</td><td>234393516</td><td>126305882</td><td>...</td><td>mMyoAui1.0.SUPER__1 107775998 107878130 17</td><td>SUPER__1</td><td>107775998</td><td>107878130</td><td>SUPER__1 107775998 107878130</td><td>mMyoCai1.0.SUPER__1 126305912 126394256 17</td><td>SUPER__1</td><td>126305912</td><td>126394256</td><td>SUPER__1 126305912 126394256</td></tr>\n",
       "</tbody>\n",
       "</table>\n"
      ],
      "text/latex": [
       "A data.frame: 6 x 24\n",
       "\\begin{tabular}{r|lllllllllllllllllllll}\n",
       "  & Subj\\_ID & Query\\_ID & qname & qlen & qstart & qend & strand & tname & tlen & tstart & ... & Spec1\\_Subject\\_Name & Chr.x & Start.x & End.x & ID.x & Spec2\\_Query\\_Name & Chr.y & Start.y & End.y & ID.y\\\\\n",
       "  & <chr> & <chr> & <chr> & <dbl> & <dbl> & <dbl> & <chr> & <chr> & <dbl> & <dbl> & ... & <chr> & <chr> & <int> & <dbl> & <chr> & <chr> & <chr> & <int> & <dbl> & <chr>\\\\\n",
       "\\hline\n",
       "\t1 & mMyoCai1.0.SUPER\\_\\_1 101022157 101060135 14 & mMyoAui1.0.SUPER\\_\\_1 133915208 133964999 14 & mMyoAui1.0.SUPER\\_\\_1 & 234041302 & 133915208 & 133964999 & - & mMyoCai1.0.SUPER\\_\\_1 & 234393516 & 101022157 & ... & mMyoAui1.0.SUPER\\_\\_1 133957795 134066920 12 & SUPER\\_\\_1 & 133957795 & 133964999 & SUPER\\_\\_1 133957795 133964999 & mMyoCai1.0.SUPER\\_\\_1 100935333 101075000 11 & SUPER\\_\\_1 & 101022157 & 101060135 & SUPER\\_\\_1 101022157 101060135\\\\\n",
       "\t2 & mMyoCai1.0.SUPER\\_\\_1 101097090 102889262 47 & mMyoAui1.0.SUPER\\_\\_1 132064304 133790000 47 & mMyoAui1.0.SUPER\\_\\_1 & 234041302 & 132064304 & 133790000 & - & mMyoCai1.0.SUPER\\_\\_1 & 234393516 & 101097090 & ... & mMyoAui1.0.SUPER\\_\\_1 133741906 133796011 29 & SUPER\\_\\_1 & 133741906 & 133790000 & SUPER\\_\\_1 133741906 133790000 & mMyoCai1.0.SUPER\\_\\_1 101212272 102868829 38 & SUPER\\_\\_1 & 101212272 & 102868829 & SUPER\\_\\_1 101212272 102868829\\\\\n",
       "\t3 & mMyoCai1.0.SUPER\\_\\_1 101097090 102889262 47 & mMyoAui1.0.SUPER\\_\\_1 132064304 133790000 47 & mMyoAui1.0.SUPER\\_\\_1 & 234041302 & 132064304 & 133790000 & - & mMyoCai1.0.SUPER\\_\\_1 & 234393516 & 101097090 & ... & mMyoAui1.0.SUPER\\_\\_1 132071739 133691155 38 & SUPER\\_\\_1 & 132071739 & 133691155 & SUPER\\_\\_1 132071739 133691155 & mMyoCai1.0.SUPER\\_\\_1 101212272 102868829 38 & SUPER\\_\\_1 & 101212272 & 102868829 & SUPER\\_\\_1 101212272 102868829\\\\\n",
       "\t4 & mMyoCai1.0.SUPER\\_\\_1 104717580 104818745 38 & mMyoAui1.0.SUPER\\_\\_1 129570000 129660000 38 & mMyoAui1.0.SUPER\\_\\_1 & 234041302 & 129570000 & 129660000 & - & mMyoCai1.0.SUPER\\_\\_1 & 234393516 & 104717580 & ... & mMyoAui1.0.SUPER\\_\\_1 129590316 129701614 20 & SUPER\\_\\_1 & 129590316 & 129660000 & SUPER\\_\\_1 129590316 129660000 & mMyoCai1.0.SUPER\\_\\_1 104675000 104804997 20 & SUPER\\_\\_1 & 104717580 & 104804997 & SUPER\\_\\_1 104717580 104804997\\\\\n",
       "\t5 & mMyoCai1.0.SUPER\\_\\_1 125701245 126298588 39 & mMyoAui1.0.SUPER\\_\\_1 107953643 108594471 39 & mMyoAui1.0.SUPER\\_\\_1 & 234041302 & 107953643 & 108594471 & - & mMyoCai1.0.SUPER\\_\\_1 & 234393516 & 125701245 & ... & mMyoAui1.0.SUPER\\_\\_1 107953644 108596369 34 & SUPER\\_\\_1 & 107953644 & 108594471 & SUPER\\_\\_1 107953644 108594471 & mMyoCai1.0.SUPER\\_\\_1 125693305 126298408 34 & SUPER\\_\\_1 & 125701245 & 126298408 & SUPER\\_\\_1 125701245 126298408\\\\\n",
       "\t6 & mMyoCai1.0.SUPER\\_\\_1 126305882 126394256 5  & mMyoAui1.0.SUPER\\_\\_1 107775998 107878160 5  & mMyoAui1.0.SUPER\\_\\_1 & 234041302 & 107775998 & 107878160 & - & mMyoCai1.0.SUPER\\_\\_1 & 234393516 & 126305882 & ... & mMyoAui1.0.SUPER\\_\\_1 107775998 107878130 17 & SUPER\\_\\_1 & 107775998 & 107878130 & SUPER\\_\\_1 107775998 107878130 & mMyoCai1.0.SUPER\\_\\_1 126305912 126394256 17 & SUPER\\_\\_1 & 126305912 & 126394256 & SUPER\\_\\_1 126305912 126394256\\\\\n",
       "\\end{tabular}\n"
      ],
      "text/markdown": [
       "\n",
       "A data.frame: 6 x 24\n",
       "\n",
       "| <!--/--> | Subj_ID &lt;chr&gt; | Query_ID &lt;chr&gt; | qname &lt;chr&gt; | qlen &lt;dbl&gt; | qstart &lt;dbl&gt; | qend &lt;dbl&gt; | strand &lt;chr&gt; | tname &lt;chr&gt; | tlen &lt;dbl&gt; | tstart &lt;dbl&gt; | ... ... | Spec1_Subject_Name &lt;chr&gt; | Chr.x &lt;chr&gt; | Start.x &lt;int&gt; | End.x &lt;dbl&gt; | ID.x &lt;chr&gt; | Spec2_Query_Name &lt;chr&gt; | Chr.y &lt;chr&gt; | Start.y &lt;int&gt; | End.y &lt;dbl&gt; | ID.y &lt;chr&gt; |\n",
       "|---|---|---|---|---|---|---|---|---|---|---|---|---|---|---|---|---|---|---|---|---|---|\n",
       "| 1 | mMyoCai1.0.SUPER__1 101022157 101060135 14 | mMyoAui1.0.SUPER__1 133915208 133964999 14 | mMyoAui1.0.SUPER__1 | 234041302 | 133915208 | 133964999 | - | mMyoCai1.0.SUPER__1 | 234393516 | 101022157 | ... | mMyoAui1.0.SUPER__1 133957795 134066920 12 | SUPER__1 | 133957795 | 133964999 | SUPER__1 133957795 133964999 | mMyoCai1.0.SUPER__1 100935333 101075000 11 | SUPER__1 | 101022157 | 101060135 | SUPER__1 101022157 101060135 |\n",
       "| 2 | mMyoCai1.0.SUPER__1 101097090 102889262 47 | mMyoAui1.0.SUPER__1 132064304 133790000 47 | mMyoAui1.0.SUPER__1 | 234041302 | 132064304 | 133790000 | - | mMyoCai1.0.SUPER__1 | 234393516 | 101097090 | ... | mMyoAui1.0.SUPER__1 133741906 133796011 29 | SUPER__1 | 133741906 | 133790000 | SUPER__1 133741906 133790000 | mMyoCai1.0.SUPER__1 101212272 102868829 38 | SUPER__1 | 101212272 | 102868829 | SUPER__1 101212272 102868829 |\n",
       "| 3 | mMyoCai1.0.SUPER__1 101097090 102889262 47 | mMyoAui1.0.SUPER__1 132064304 133790000 47 | mMyoAui1.0.SUPER__1 | 234041302 | 132064304 | 133790000 | - | mMyoCai1.0.SUPER__1 | 234393516 | 101097090 | ... | mMyoAui1.0.SUPER__1 132071739 133691155 38 | SUPER__1 | 132071739 | 133691155 | SUPER__1 132071739 133691155 | mMyoCai1.0.SUPER__1 101212272 102868829 38 | SUPER__1 | 101212272 | 102868829 | SUPER__1 101212272 102868829 |\n",
       "| 4 | mMyoCai1.0.SUPER__1 104717580 104818745 38 | mMyoAui1.0.SUPER__1 129570000 129660000 38 | mMyoAui1.0.SUPER__1 | 234041302 | 129570000 | 129660000 | - | mMyoCai1.0.SUPER__1 | 234393516 | 104717580 | ... | mMyoAui1.0.SUPER__1 129590316 129701614 20 | SUPER__1 | 129590316 | 129660000 | SUPER__1 129590316 129660000 | mMyoCai1.0.SUPER__1 104675000 104804997 20 | SUPER__1 | 104717580 | 104804997 | SUPER__1 104717580 104804997 |\n",
       "| 5 | mMyoCai1.0.SUPER__1 125701245 126298588 39 | mMyoAui1.0.SUPER__1 107953643 108594471 39 | mMyoAui1.0.SUPER__1 | 234041302 | 107953643 | 108594471 | - | mMyoCai1.0.SUPER__1 | 234393516 | 125701245 | ... | mMyoAui1.0.SUPER__1 107953644 108596369 34 | SUPER__1 | 107953644 | 108594471 | SUPER__1 107953644 108594471 | mMyoCai1.0.SUPER__1 125693305 126298408 34 | SUPER__1 | 125701245 | 126298408 | SUPER__1 125701245 126298408 |\n",
       "| 6 | mMyoCai1.0.SUPER__1 126305882 126394256 5  | mMyoAui1.0.SUPER__1 107775998 107878160 5  | mMyoAui1.0.SUPER__1 | 234041302 | 107775998 | 107878160 | - | mMyoCai1.0.SUPER__1 | 234393516 | 126305882 | ... | mMyoAui1.0.SUPER__1 107775998 107878130 17 | SUPER__1 | 107775998 | 107878130 | SUPER__1 107775998 107878130 | mMyoCai1.0.SUPER__1 126305912 126394256 17 | SUPER__1 | 126305912 | 126394256 | SUPER__1 126305912 126394256 |\n",
       "\n"
      ],
      "text/plain": [
       "  Subj_ID                                   \n",
       "1 mMyoCai1.0.SUPER__1 101022157 101060135 14\n",
       "2 mMyoCai1.0.SUPER__1 101097090 102889262 47\n",
       "3 mMyoCai1.0.SUPER__1 101097090 102889262 47\n",
       "4 mMyoCai1.0.SUPER__1 104717580 104818745 38\n",
       "5 mMyoCai1.0.SUPER__1 125701245 126298588 39\n",
       "6 mMyoCai1.0.SUPER__1 126305882 126394256 5 \n",
       "  Query_ID                                   qname               qlen     \n",
       "1 mMyoAui1.0.SUPER__1 133915208 133964999 14 mMyoAui1.0.SUPER__1 234041302\n",
       "2 mMyoAui1.0.SUPER__1 132064304 133790000 47 mMyoAui1.0.SUPER__1 234041302\n",
       "3 mMyoAui1.0.SUPER__1 132064304 133790000 47 mMyoAui1.0.SUPER__1 234041302\n",
       "4 mMyoAui1.0.SUPER__1 129570000 129660000 38 mMyoAui1.0.SUPER__1 234041302\n",
       "5 mMyoAui1.0.SUPER__1 107953643 108594471 39 mMyoAui1.0.SUPER__1 234041302\n",
       "6 mMyoAui1.0.SUPER__1 107775998 107878160 5  mMyoAui1.0.SUPER__1 234041302\n",
       "  qstart    qend      strand tname               tlen      tstart    ...\n",
       "1 133915208 133964999 -      mMyoCai1.0.SUPER__1 234393516 101022157 ...\n",
       "2 132064304 133790000 -      mMyoCai1.0.SUPER__1 234393516 101097090 ...\n",
       "3 132064304 133790000 -      mMyoCai1.0.SUPER__1 234393516 101097090 ...\n",
       "4 129570000 129660000 -      mMyoCai1.0.SUPER__1 234393516 104717580 ...\n",
       "5 107953643 108594471 -      mMyoCai1.0.SUPER__1 234393516 125701245 ...\n",
       "6 107775998 107878160 -      mMyoCai1.0.SUPER__1 234393516 126305882 ...\n",
       "  Spec1_Subject_Name                         Chr.x    Start.x   End.x    \n",
       "1 mMyoAui1.0.SUPER__1 133957795 134066920 12 SUPER__1 133957795 133964999\n",
       "2 mMyoAui1.0.SUPER__1 133741906 133796011 29 SUPER__1 133741906 133790000\n",
       "3 mMyoAui1.0.SUPER__1 132071739 133691155 38 SUPER__1 132071739 133691155\n",
       "4 mMyoAui1.0.SUPER__1 129590316 129701614 20 SUPER__1 129590316 129660000\n",
       "5 mMyoAui1.0.SUPER__1 107953644 108596369 34 SUPER__1 107953644 108594471\n",
       "6 mMyoAui1.0.SUPER__1 107775998 107878130 17 SUPER__1 107775998 107878130\n",
       "  ID.x                         Spec2_Query_Name                          \n",
       "1 SUPER__1 133957795 133964999 mMyoCai1.0.SUPER__1 100935333 101075000 11\n",
       "2 SUPER__1 133741906 133790000 mMyoCai1.0.SUPER__1 101212272 102868829 38\n",
       "3 SUPER__1 132071739 133691155 mMyoCai1.0.SUPER__1 101212272 102868829 38\n",
       "4 SUPER__1 129590316 129660000 mMyoCai1.0.SUPER__1 104675000 104804997 20\n",
       "5 SUPER__1 107953644 108594471 mMyoCai1.0.SUPER__1 125693305 126298408 34\n",
       "6 SUPER__1 107775998 107878130 mMyoCai1.0.SUPER__1 126305912 126394256 17\n",
       "  Chr.y    Start.y   End.y     ID.y                        \n",
       "1 SUPER__1 101022157 101060135 SUPER__1 101022157 101060135\n",
       "2 SUPER__1 101212272 102868829 SUPER__1 101212272 102868829\n",
       "3 SUPER__1 101212272 102868829 SUPER__1 101212272 102868829\n",
       "4 SUPER__1 104717580 104804997 SUPER__1 104717580 104804997\n",
       "5 SUPER__1 125701245 126298408 SUPER__1 125701245 126298408\n",
       "6 SUPER__1 126305912 126394256 SUPER__1 126305912 126394256"
      ]
     },
     "metadata": {},
     "output_type": "display_data"
    }
   ],
   "source": [
    "head(paf2_merge)"
   ]
  },
  {
   "cell_type": "code",
   "execution_count": null,
   "metadata": {
    "vscode": {
     "languageId": "r"
    }
   },
   "outputs": [],
   "source": []
  },
  {
   "cell_type": "code",
   "execution_count": 6,
   "metadata": {
    "vscode": {
     "languageId": "r"
    }
   },
   "outputs": [],
   "source": [
    "# # find the overlaps\n",
    "# my_overlaps <- suppressWarnings(findOverlaps(query = spec2_query_ranges, subject = spec2_subj_ranges))\n",
    " \n",
    "# # create the match\n",
    "# my_query <- queryHits(my_overlaps)\n",
    "# my_subject <- subjectHits(my_overlaps)\n",
    "\n",
    "# overlap_mapping <- data.frame(subject = mcols(spec2_subj_ranges)[my_subject,],\n",
    "#                               query =  mcols(spec2_query_ranges)[my_query,])"
   ]
  }
 ],
 "metadata": {
  "kernelspec": {
   "display_name": "R",
   "language": "R",
   "name": "ir"
  },
  "language_info": {
   "codemirror_mode": "r",
   "file_extension": ".r",
   "mimetype": "text/x-r-source",
   "name": "R",
   "pygments_lexer": "r",
   "version": "4.3.2"
  }
 },
 "nbformat": 4,
 "nbformat_minor": 2
}
