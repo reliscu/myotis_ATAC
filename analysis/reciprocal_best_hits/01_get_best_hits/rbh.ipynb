{
 "cells": [
  {
   "cell_type": "code",
   "execution_count": 127,
   "metadata": {
    "vscode": {
     "languageId": "r"
    }
   },
   "outputs": [],
   "source": [
    "# RBH via iranges \n",
    "\n",
    "## note: pintersect() is a parallelized intersect\n",
    "\n",
    "library(pafr)\n",
    "library(dplyr)\n",
    "library(tidyr)\n",
    "library(GenomicRanges)"
   ]
  },
  {
   "cell_type": "code",
   "execution_count": 128,
   "metadata": {
    "notebookRunGroups": {
     "groupValue": ""
    },
    "vscode": {
     "languageId": "r"
    }
   },
   "outputs": [],
   "source": [
    "\n",
    "## load paf 1 and 2, which are reciprocal\n",
    "# cnames_paf = c(\"qname\", \"qlen\tqstart\tqend\tstrand\ttname\ttlen\ttstart\ttend\tnmatch\talen\tmapq\")\n",
    "# paf1 = read_tsv(\"resources/pafs/mMyoAui1.cleaned.hapheader_mMyoCai1.cleaned.hapheader.exact.paf\", col_names=cnames_paf)\n",
    "# paf2 = read_tsv(\"resources/pafs/mMyoAui1.cleaned.hapheader_mMyoCai1.cleaned.hapheader.exact.paf\", col_names=cnames_paf)\n",
    "\n",
    "paf1 <- read_paf(\"resources/pafs/trimmed/mMyoAui1.cleaned.hapheader_mMyoCai1.cleaned.hapheader.exact_trimmed.paf\", include_tags = FALSE)\n",
    "paf2 <- read_paf(\"resources/pafs/trimmed/mMyoCai1.cleaned.hapheader_mMyoAui1.cleaned.hapheader.exact_trimmed.paf\", include_tags = FALSE)\n"
   ]
  },
  {
   "cell_type": "code",
   "execution_count": 129,
   "metadata": {
    "vscode": {
     "languageId": "r"
    }
   },
   "outputs": [],
   "source": [
    "# ## Species 1: intersecting RBHs\n",
    "\n",
    "# forward_spec1 = paf1 %>% \n",
    "#   mutate(ID = paste(qname, qstart, qend, row_number())) %>%\n",
    "#   select(chr = qname, \n",
    "#          start = qstart, \n",
    "#          end = qend, \n",
    "#          name = ID)\n",
    "\n",
    "# reverse_spec1 = paf2 %>% \n",
    "#   mutate(ID = paste(tname, tstart, tend, row_number())) %>%\n",
    "#   select(chr = tname, \n",
    "#          start = tstart, \n",
    "#          end = tend, \n",
    "#          name = ID)\n",
    "\n",
    "# forward_spec1 <- makeGRangesFromDataFrame(forward_spec1, keep.extra.columns = TRUE)\n",
    "# reverse_spec1 <- makeGRangesFromDataFrame(reverse_spec1, keep.extra.columns = TRUE)"
   ]
  },
  {
   "cell_type": "code",
   "execution_count": 131,
   "metadata": {
    "vscode": {
     "languageId": "r"
    }
   },
   "outputs": [],
   "source": [
    "## Species 2 intersect:\n",
    "\n",
    "subj_spec2 = paf1 %>% \n",
    "  mutate(ID = paste(tname, tstart, tend, row_number())) %>%\n",
    "  select(chr = tname, \n",
    "         start = tstart, \n",
    "         end = tend, \n",
    "         name = ID)\n",
    "\n",
    "query_spec2 = paf2 %>% \n",
    "  mutate(ID = paste(qname, qstart, qend, row_number())) %>%\n",
    "  select(chr = qname, \n",
    "         start = qstart, \n",
    "         end = qend, \n",
    "         name = ID)\n",
    "\n",
    "spec2_tranges <- makeGRangesFromDataFrame(subj_spec2, keep.extra.columns = TRUE)\n",
    "spec2_qranges <- makeGRangesFromDataFrame(query_spec2, keep.extra.columns = TRUE)\n",
    "spec2_intersect <- suppressWarnings(\n",
    "  GenomicRanges::intersect(spec2_tranges, spec2_qranges)\n",
    ")\n"
   ]
  },
  {
   "cell_type": "code",
   "execution_count": 132,
   "metadata": {
    "vscode": {
     "languageId": "r"
    }
   },
   "outputs": [],
   "source": [
    "# # find the overlaps\n",
    "# my_overlaps <- suppressWarnings(findOverlaps(query = spec2_qranges, subject = spec2_tranges))\n",
    " \n",
    "# # create the match\n",
    "# my_query <- queryHits(my_overlaps)\n",
    "# my_subject <- subjectHits(my_overlaps)\n",
    "\n",
    "# overlap_mapping <- data.frame(subject = mcols(spec2_tranges)[my_subject,],\n",
    "#                               query =  mcols(spec2_qranges)[my_query,])"
   ]
  },
  {
   "cell_type": "code",
   "execution_count": 134,
   "metadata": {
    "vscode": {
     "languageId": "r"
    }
   },
   "outputs": [],
   "source": [
    "foo = function(x, y) {\n",
    "     rv = x\n",
    "     start(rv) = max(start(x), start(y))\n",
    "     end(rv) = min(end(x), end(y))\n",
    "     return(rv)\n",
    "## Ref: https://bioinformatics.stackexchange.com/questions/874/intersection-of-two-genomic-ranges-to-keep-metadata\n",
    "}"
   ]
  },
  {
   "cell_type": "code",
   "execution_count": 136,
   "metadata": {
    "vscode": {
     "languageId": "r"
    }
   },
   "outputs": [],
   "source": [
    "o <- findOverlaps(query = spec2_tranges, subject = spec2_intersect)\n",
    "grl1 <- split(spec2_tranges[queryHits(o)], 1:length(o))\n",
    "grl2 <- split(spec2_intersect[subjectHits(o)], 1:length(o))\n",
    "spec2_interesct_subj <- unlist(mendoapply(foo, grl1, y=grl2))"
   ]
  },
  {
   "cell_type": "code",
   "execution_count": 138,
   "metadata": {
    "vscode": {
     "languageId": "r"
    }
   },
   "outputs": [],
   "source": [
    "o <- findOverlaps(query = spec2_qranges, subject = spec2_intersect)\n",
    "grl1 <- split(spec2_qranges[queryHits(o)], 1:length(o))\n",
    "grl2 <- split(spec2_intersect[subjectHits(o)], 1:length(o))\n",
    "spec2_interesct_query <- unlist(mendoapply(foo, grl1, y=grl2))"
   ]
  },
  {
   "cell_type": "code",
   "execution_count": 167,
   "metadata": {
    "vscode": {
     "languageId": "r"
    }
   },
   "outputs": [],
   "source": [
    "temp_query <- data.frame(Name = spec2_interesct_query@elementMetadata$name, \n",
    "                         Chr = sapply(strsplit(spec2_interesct_query@elementMetadata$name, \" \"), \"[\", 1), \n",
    "                         Start = spec2_interesct_query@ranges@start, \n",
    "                         Width = spec2_interesct_query@ranges@width)\n",
    "temp_subj <- data.frame(Name = spec2_interesct_subj@elementMetadata$name, \n",
    "                        Chr = sapply(strsplit(spec2_interesct_subj@elementMetadata$name, \" \"), \"[\", 1), \n",
    "                        Start = spec2_interesct_subj@ranges@start, \n",
    "                        Width = spec2_interesct_subj@ranges@width)\n",
    "temp_query <- temp_query %>%\n",
    "  dplyr::mutate(End = Start + Width-1) %>%\n",
    "  dplyr::select(-Width)\n",
    "temp_subj <- temp_subj %>%\n",
    "  dplyr::mutate(End = Start + Width-1) %>%\n",
    "  dplyr::select(-Width)                                                                 "
   ]
  },
  {
   "cell_type": "code",
   "execution_count": 168,
   "metadata": {
    "vscode": {
     "languageId": "r"
    }
   },
   "outputs": [
    {
     "data": {
      "text/html": [
       "<table class=\"dataframe\">\n",
       "<caption>A data.frame: 6 x 4</caption>\n",
       "<thead>\n",
       "\t<tr><th></th><th scope=col>Name</th><th scope=col>Chr</th><th scope=col>Start</th><th scope=col>End</th></tr>\n",
       "\t<tr><th></th><th scope=col>&lt;chr&gt;</th><th scope=col>&lt;chr&gt;</th><th scope=col>&lt;int&gt;</th><th scope=col>&lt;dbl&gt;</th></tr>\n",
       "</thead>\n",
       "<tbody>\n",
       "\t<tr><th scope=row>10</th><td>mMyoAui1.0.SUPER__1 1880000 2032756 27  </td><td>mMyoAui1.0.SUPER__1</td><td> 1880000</td><td> 2032756</td></tr>\n",
       "\t<tr><th scope=row>20</th><td>mMyoAui1.0.SUPER__1 2096296 3224500 46  </td><td>mMyoAui1.0.SUPER__1</td><td> 2096296</td><td> 3224500</td></tr>\n",
       "\t<tr><th scope=row>11</th><td>mMyoAui1.0.SUPER__1 3520028 4109999 29  </td><td>mMyoAui1.0.SUPER__1</td><td> 3520028</td><td> 4109999</td></tr>\n",
       "\t<tr><th scope=row>19</th><td>mMyoAui1.0.SUPER__1 4290000 5550000 45  </td><td>mMyoAui1.0.SUPER__1</td><td> 4290000</td><td> 5503973</td></tr>\n",
       "\t<tr><th scope=row>23</th><td>mMyoAui1.0.SUPER__1 5776528 10069520 50 </td><td>mMyoAui1.0.SUPER__1</td><td> 5776528</td><td>10051113</td></tr>\n",
       "\t<tr><th scope=row>18</th><td>mMyoAui1.0.SUPER__1 10071189 11199472 44</td><td>mMyoAui1.0.SUPER__1</td><td>10142466</td><td>11172295</td></tr>\n",
       "</tbody>\n",
       "</table>\n"
      ],
      "text/latex": [
       "A data.frame: 6 x 4\n",
       "\\begin{tabular}{r|llll}\n",
       "  & Name & Chr & Start & End\\\\\n",
       "  & <chr> & <chr> & <int> & <dbl>\\\\\n",
       "\\hline\n",
       "\t10 & mMyoAui1.0.SUPER\\_\\_1 1880000 2032756 27   & mMyoAui1.0.SUPER\\_\\_1 &  1880000 &  2032756\\\\\n",
       "\t20 & mMyoAui1.0.SUPER\\_\\_1 2096296 3224500 46   & mMyoAui1.0.SUPER\\_\\_1 &  2096296 &  3224500\\\\\n",
       "\t11 & mMyoAui1.0.SUPER\\_\\_1 3520028 4109999 29   & mMyoAui1.0.SUPER\\_\\_1 &  3520028 &  4109999\\\\\n",
       "\t19 & mMyoAui1.0.SUPER\\_\\_1 4290000 5550000 45   & mMyoAui1.0.SUPER\\_\\_1 &  4290000 &  5503973\\\\\n",
       "\t23 & mMyoAui1.0.SUPER\\_\\_1 5776528 10069520 50  & mMyoAui1.0.SUPER\\_\\_1 &  5776528 & 10051113\\\\\n",
       "\t18 & mMyoAui1.0.SUPER\\_\\_1 10071189 11199472 44 & mMyoAui1.0.SUPER\\_\\_1 & 10142466 & 11172295\\\\\n",
       "\\end{tabular}\n"
      ],
      "text/markdown": [
       "\n",
       "A data.frame: 6 x 4\n",
       "\n",
       "| <!--/--> | Name &lt;chr&gt; | Chr &lt;chr&gt; | Start &lt;int&gt; | End &lt;dbl&gt; |\n",
       "|---|---|---|---|---|\n",
       "| 10 | mMyoAui1.0.SUPER__1 1880000 2032756 27   | mMyoAui1.0.SUPER__1 |  1880000 |  2032756 |\n",
       "| 20 | mMyoAui1.0.SUPER__1 2096296 3224500 46   | mMyoAui1.0.SUPER__1 |  2096296 |  3224500 |\n",
       "| 11 | mMyoAui1.0.SUPER__1 3520028 4109999 29   | mMyoAui1.0.SUPER__1 |  3520028 |  4109999 |\n",
       "| 19 | mMyoAui1.0.SUPER__1 4290000 5550000 45   | mMyoAui1.0.SUPER__1 |  4290000 |  5503973 |\n",
       "| 23 | mMyoAui1.0.SUPER__1 5776528 10069520 50  | mMyoAui1.0.SUPER__1 |  5776528 | 10051113 |\n",
       "| 18 | mMyoAui1.0.SUPER__1 10071189 11199472 44 | mMyoAui1.0.SUPER__1 | 10142466 | 11172295 |\n",
       "\n"
      ],
      "text/plain": [
       "   Name                                     Chr                 Start   \n",
       "10 mMyoAui1.0.SUPER__1 1880000 2032756 27   mMyoAui1.0.SUPER__1  1880000\n",
       "20 mMyoAui1.0.SUPER__1 2096296 3224500 46   mMyoAui1.0.SUPER__1  2096296\n",
       "11 mMyoAui1.0.SUPER__1 3520028 4109999 29   mMyoAui1.0.SUPER__1  3520028\n",
       "19 mMyoAui1.0.SUPER__1 4290000 5550000 45   mMyoAui1.0.SUPER__1  4290000\n",
       "23 mMyoAui1.0.SUPER__1 5776528 10069520 50  mMyoAui1.0.SUPER__1  5776528\n",
       "18 mMyoAui1.0.SUPER__1 10071189 11199472 44 mMyoAui1.0.SUPER__1 10142466\n",
       "   End     \n",
       "10  2032756\n",
       "20  3224500\n",
       "11  4109999\n",
       "19  5503973\n",
       "23 10051113\n",
       "18 11172295"
      ]
     },
     "metadata": {},
     "output_type": "display_data"
    }
   ],
   "source": [
    "head(temp_query[order(temp_query$Chr, temp_query$Start),])"
   ]
  },
  {
   "cell_type": "code",
   "execution_count": 169,
   "metadata": {
    "vscode": {
     "languageId": "r"
    }
   },
   "outputs": [
    {
     "data": {
      "text/html": [
       "<table class=\"dataframe\">\n",
       "<caption>A data.frame: 6 x 4</caption>\n",
       "<thead>\n",
       "\t<tr><th></th><th scope=col>Name</th><th scope=col>Chr</th><th scope=col>Start</th><th scope=col>End</th></tr>\n",
       "\t<tr><th></th><th scope=col>&lt;chr&gt;</th><th scope=col>&lt;chr&gt;</th><th scope=col>&lt;int&gt;</th><th scope=col>&lt;dbl&gt;</th></tr>\n",
       "</thead>\n",
       "<tbody>\n",
       "\t<tr><th scope=row>425</th><td>mMyoAui1.0.SUPER__1 1877450 2032837 404 </td><td>mMyoAui1.0.SUPER__1</td><td> 1880000</td><td> 2032756</td></tr>\n",
       "\t<tr><th scope=row>43</th><td>mMyoAui1.0.SUPER__1 2096096 3236718 41  </td><td>mMyoAui1.0.SUPER__1</td><td> 2096296</td><td> 3224500</td></tr>\n",
       "\t<tr><th scope=row>34</th><td>mMyoAui1.0.SUPER__1 3453615 4165927 31  </td><td>mMyoAui1.0.SUPER__1</td><td> 3520028</td><td> 4109999</td></tr>\n",
       "\t<tr><th scope=row>42</th><td>mMyoAui1.0.SUPER__1 4289594 5503973 40  </td><td>mMyoAui1.0.SUPER__1</td><td> 4290000</td><td> 5503973</td></tr>\n",
       "\t<tr><th scope=row>44</th><td>mMyoAui1.0.SUPER__1 5776192 10051113 42 </td><td>mMyoAui1.0.SUPER__1</td><td> 5776528</td><td>10051113</td></tr>\n",
       "\t<tr><th scope=row>38</th><td>mMyoAui1.0.SUPER__1 10142466 11172295 36</td><td>mMyoAui1.0.SUPER__1</td><td>10142466</td><td>11172295</td></tr>\n",
       "</tbody>\n",
       "</table>\n"
      ],
      "text/latex": [
       "A data.frame: 6 x 4\n",
       "\\begin{tabular}{r|llll}\n",
       "  & Name & Chr & Start & End\\\\\n",
       "  & <chr> & <chr> & <int> & <dbl>\\\\\n",
       "\\hline\n",
       "\t425 & mMyoAui1.0.SUPER\\_\\_1 1877450 2032837 404  & mMyoAui1.0.SUPER\\_\\_1 &  1880000 &  2032756\\\\\n",
       "\t43 & mMyoAui1.0.SUPER\\_\\_1 2096096 3236718 41   & mMyoAui1.0.SUPER\\_\\_1 &  2096296 &  3224500\\\\\n",
       "\t34 & mMyoAui1.0.SUPER\\_\\_1 3453615 4165927 31   & mMyoAui1.0.SUPER\\_\\_1 &  3520028 &  4109999\\\\\n",
       "\t42 & mMyoAui1.0.SUPER\\_\\_1 4289594 5503973 40   & mMyoAui1.0.SUPER\\_\\_1 &  4290000 &  5503973\\\\\n",
       "\t44 & mMyoAui1.0.SUPER\\_\\_1 5776192 10051113 42  & mMyoAui1.0.SUPER\\_\\_1 &  5776528 & 10051113\\\\\n",
       "\t38 & mMyoAui1.0.SUPER\\_\\_1 10142466 11172295 36 & mMyoAui1.0.SUPER\\_\\_1 & 10142466 & 11172295\\\\\n",
       "\\end{tabular}\n"
      ],
      "text/markdown": [
       "\n",
       "A data.frame: 6 x 4\n",
       "\n",
       "| <!--/--> | Name &lt;chr&gt; | Chr &lt;chr&gt; | Start &lt;int&gt; | End &lt;dbl&gt; |\n",
       "|---|---|---|---|---|\n",
       "| 425 | mMyoAui1.0.SUPER__1 1877450 2032837 404  | mMyoAui1.0.SUPER__1 |  1880000 |  2032756 |\n",
       "| 43 | mMyoAui1.0.SUPER__1 2096096 3236718 41   | mMyoAui1.0.SUPER__1 |  2096296 |  3224500 |\n",
       "| 34 | mMyoAui1.0.SUPER__1 3453615 4165927 31   | mMyoAui1.0.SUPER__1 |  3520028 |  4109999 |\n",
       "| 42 | mMyoAui1.0.SUPER__1 4289594 5503973 40   | mMyoAui1.0.SUPER__1 |  4290000 |  5503973 |\n",
       "| 44 | mMyoAui1.0.SUPER__1 5776192 10051113 42  | mMyoAui1.0.SUPER__1 |  5776528 | 10051113 |\n",
       "| 38 | mMyoAui1.0.SUPER__1 10142466 11172295 36 | mMyoAui1.0.SUPER__1 | 10142466 | 11172295 |\n",
       "\n"
      ],
      "text/plain": [
       "    Name                                     Chr                 Start   \n",
       "425 mMyoAui1.0.SUPER__1 1877450 2032837 404  mMyoAui1.0.SUPER__1  1880000\n",
       "43  mMyoAui1.0.SUPER__1 2096096 3236718 41   mMyoAui1.0.SUPER__1  2096296\n",
       "34  mMyoAui1.0.SUPER__1 3453615 4165927 31   mMyoAui1.0.SUPER__1  3520028\n",
       "42  mMyoAui1.0.SUPER__1 4289594 5503973 40   mMyoAui1.0.SUPER__1  4290000\n",
       "44  mMyoAui1.0.SUPER__1 5776192 10051113 42  mMyoAui1.0.SUPER__1  5776528\n",
       "38  mMyoAui1.0.SUPER__1 10142466 11172295 36 mMyoAui1.0.SUPER__1 10142466\n",
       "    End     \n",
       "425  2032756\n",
       "43   3224500\n",
       "34   4109999\n",
       "42   5503973\n",
       "44  10051113\n",
       "38  11172295"
      ]
     },
     "metadata": {},
     "output_type": "display_data"
    }
   ],
   "source": [
    "head(temp_subj[order(temp_subj$Chr, temp_subj$Start),])"
   ]
  },
  {
   "cell_type": "code",
   "execution_count": null,
   "metadata": {
    "vscode": {
     "languageId": "r"
    }
   },
   "outputs": [],
   "source": []
  }
 ],
 "metadata": {
  "kernelspec": {
   "display_name": "R",
   "language": "R",
   "name": "ir"
  },
  "language_info": {
   "codemirror_mode": "r",
   "file_extension": ".r",
   "mimetype": "text/x-r-source",
   "name": "R",
   "pygments_lexer": "r",
   "version": "4.3.2"
  }
 },
 "nbformat": 4,
 "nbformat_minor": 2
}
