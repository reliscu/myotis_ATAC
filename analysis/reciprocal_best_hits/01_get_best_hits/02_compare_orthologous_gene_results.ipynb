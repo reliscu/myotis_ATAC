{
 "cells": [
  {
   "cell_type": "code",
   "execution_count": 6,
   "metadata": {
    "vscode": {
     "languageId": "r"
    }
   },
   "outputs": [],
   "source": [
    "setwd(\"/Users/rebecca/sudmant/analyses/myotis/analysis/reciprocal_best_hits/01_get_best_hits\")\n",
    "\n",
    "library(dplyr, verbose = FALSE)\n",
    "library(pafr)\n",
    "library(tidyr)\n",
    "library(data.table)"
   ]
  },
  {
   "cell_type": "code",
   "execution_count": 7,
   "metadata": {
    "vscode": {
     "languageId": "r"
    }
   },
   "outputs": [],
   "source": [
    "hits_pre <- read_paf(\"resources/pafs/mMyoAui1.cleaned.hapheader_mMyoCai1.cleaned.hapheader.exact.paf\", include_tags = FALSE)\n",
    "hits_post <- fread(\"results/mMyoAui_vs_mMyoCai_best_hits.csv\")\n"
   ]
  },
  {
   "cell_type": "code",
   "execution_count": 9,
   "metadata": {
    "vscode": {
     "languageId": "r"
    }
   },
   "outputs": [],
   "source": [
    "hits_pre <- hits_pre[order(hits_pre$qname, hits_pre$qstart),]\n",
    "hits_post <- hits_post[order(hits_post$qname, hits_post$qstart),]"
   ]
  },
  {
   "cell_type": "code",
   "execution_count": 10,
   "metadata": {
    "vscode": {
     "languageId": "r"
    }
   },
   "outputs": [
    {
     "data": {
      "text/html": [
       "<table class=\"dataframe\">\n",
       "<caption>A pafr: 6 x 12</caption>\n",
       "<thead>\n",
       "\t<tr><th></th><th scope=col>qname</th><th scope=col>qlen</th><th scope=col>qstart</th><th scope=col>qend</th><th scope=col>strand</th><th scope=col>tname</th><th scope=col>tlen</th><th scope=col>tstart</th><th scope=col>tend</th><th scope=col>nmatch</th><th scope=col>alen</th><th scope=col>mapq</th></tr>\n",
       "\t<tr><th></th><th scope=col>&lt;chr&gt;</th><th scope=col>&lt;dbl&gt;</th><th scope=col>&lt;dbl&gt;</th><th scope=col>&lt;dbl&gt;</th><th scope=col>&lt;chr&gt;</th><th scope=col>&lt;chr&gt;</th><th scope=col>&lt;dbl&gt;</th><th scope=col>&lt;dbl&gt;</th><th scope=col>&lt;dbl&gt;</th><th scope=col>&lt;dbl&gt;</th><th scope=col>&lt;dbl&gt;</th><th scope=col>&lt;dbl&gt;</th></tr>\n",
       "</thead>\n",
       "<tbody>\n",
       "\t<tr><th scope=row>102</th><td>mMyoCai1.0.SUPER__1</td><td>234393516</td><td>   26288</td><td> 2856368</td><td>-</td><td>mMyoAui1.0.SUPER__1</td><td>234041302</td><td>231186952</td><td>234012568</td><td> 2452297</td><td> 2830080</td><td>7</td></tr>\n",
       "\t<tr><th scope=row>610</th><td>mMyoCai1.0.SUPER__1</td><td>234393516</td><td> 2911840</td><td>43420000</td><td>-</td><td>mMyoAui1.0.SUPER__1</td><td>234041302</td><td>191040403</td><td>231203767</td><td>36276291</td><td>40508160</td><td>8</td></tr>\n",
       "\t<tr><th scope=row>112</th><td>mMyoCai1.0.SUPER__1</td><td>234393516</td><td>43400400</td><td>48690000</td><td>-</td><td>mMyoAui1.0.SUPER__1</td><td>234041302</td><td>185945380</td><td>191138601</td><td> 4630968</td><td> 5289600</td><td>7</td></tr>\n",
       "\t<tr><th scope=row>301</th><td>mMyoCai1.0.SUPER__1</td><td>234393516</td><td>48740000</td><td>68004616</td><td>-</td><td>mMyoAui1.0.SUPER__1</td><td>234041302</td><td>166989503</td><td>185944909</td><td>16961205</td><td>19264616</td><td>7</td></tr>\n",
       "\t<tr><th scope=row>303</th><td>mMyoCai1.0.SUPER__1</td><td>234393516</td><td>67991176</td><td>88958984</td><td>-</td><td>mMyoAui1.0.SUPER__1</td><td>234041302</td><td>146113880</td><td>166958530</td><td>18568478</td><td>20967808</td><td>7</td></tr>\n",
       "\t<tr><th scope=row>18</th><td>mMyoCai1.0.SUPER__1</td><td>234393516</td><td>88967176</td><td>89124232</td><td>-</td><td>mMyoAui1.0.SUPER__1</td><td>234041302</td><td>144985499</td><td>145168687</td><td>  136315</td><td>  183188</td><td>5</td></tr>\n",
       "</tbody>\n",
       "</table>\n"
      ],
      "text/latex": [
       "A pafr: 6 x 12\n",
       "\\begin{tabular}{r|llllllllllll}\n",
       "  & qname & qlen & qstart & qend & strand & tname & tlen & tstart & tend & nmatch & alen & mapq\\\\\n",
       "  & <chr> & <dbl> & <dbl> & <dbl> & <chr> & <chr> & <dbl> & <dbl> & <dbl> & <dbl> & <dbl> & <dbl>\\\\\n",
       "\\hline\n",
       "\t102 & mMyoCai1.0.SUPER\\_\\_1 & 234393516 &    26288 &  2856368 & - & mMyoAui1.0.SUPER\\_\\_1 & 234041302 & 231186952 & 234012568 &  2452297 &  2830080 & 7\\\\\n",
       "\t610 & mMyoCai1.0.SUPER\\_\\_1 & 234393516 &  2911840 & 43420000 & - & mMyoAui1.0.SUPER\\_\\_1 & 234041302 & 191040403 & 231203767 & 36276291 & 40508160 & 8\\\\\n",
       "\t112 & mMyoCai1.0.SUPER\\_\\_1 & 234393516 & 43400400 & 48690000 & - & mMyoAui1.0.SUPER\\_\\_1 & 234041302 & 185945380 & 191138601 &  4630968 &  5289600 & 7\\\\\n",
       "\t301 & mMyoCai1.0.SUPER\\_\\_1 & 234393516 & 48740000 & 68004616 & - & mMyoAui1.0.SUPER\\_\\_1 & 234041302 & 166989503 & 185944909 & 16961205 & 19264616 & 7\\\\\n",
       "\t303 & mMyoCai1.0.SUPER\\_\\_1 & 234393516 & 67991176 & 88958984 & - & mMyoAui1.0.SUPER\\_\\_1 & 234041302 & 146113880 & 166958530 & 18568478 & 20967808 & 7\\\\\n",
       "\t18 & mMyoCai1.0.SUPER\\_\\_1 & 234393516 & 88967176 & 89124232 & - & mMyoAui1.0.SUPER\\_\\_1 & 234041302 & 144985499 & 145168687 &   136315 &   183188 & 5\\\\\n",
       "\\end{tabular}\n"
      ],
      "text/markdown": [
       "\n",
       "A pafr: 6 x 12\n",
       "\n",
       "| <!--/--> | qname &lt;chr&gt; | qlen &lt;dbl&gt; | qstart &lt;dbl&gt; | qend &lt;dbl&gt; | strand &lt;chr&gt; | tname &lt;chr&gt; | tlen &lt;dbl&gt; | tstart &lt;dbl&gt; | tend &lt;dbl&gt; | nmatch &lt;dbl&gt; | alen &lt;dbl&gt; | mapq &lt;dbl&gt; |\n",
       "|---|---|---|---|---|---|---|---|---|---|---|---|---|\n",
       "| 102 | mMyoCai1.0.SUPER__1 | 234393516 |    26288 |  2856368 | - | mMyoAui1.0.SUPER__1 | 234041302 | 231186952 | 234012568 |  2452297 |  2830080 | 7 |\n",
       "| 610 | mMyoCai1.0.SUPER__1 | 234393516 |  2911840 | 43420000 | - | mMyoAui1.0.SUPER__1 | 234041302 | 191040403 | 231203767 | 36276291 | 40508160 | 8 |\n",
       "| 112 | mMyoCai1.0.SUPER__1 | 234393516 | 43400400 | 48690000 | - | mMyoAui1.0.SUPER__1 | 234041302 | 185945380 | 191138601 |  4630968 |  5289600 | 7 |\n",
       "| 301 | mMyoCai1.0.SUPER__1 | 234393516 | 48740000 | 68004616 | - | mMyoAui1.0.SUPER__1 | 234041302 | 166989503 | 185944909 | 16961205 | 19264616 | 7 |\n",
       "| 303 | mMyoCai1.0.SUPER__1 | 234393516 | 67991176 | 88958984 | - | mMyoAui1.0.SUPER__1 | 234041302 | 146113880 | 166958530 | 18568478 | 20967808 | 7 |\n",
       "| 18 | mMyoCai1.0.SUPER__1 | 234393516 | 88967176 | 89124232 | - | mMyoAui1.0.SUPER__1 | 234041302 | 144985499 | 145168687 |   136315 |   183188 | 5 |\n",
       "\n"
      ],
      "text/plain": [
       "    qname               qlen      qstart   qend     strand tname              \n",
       "102 mMyoCai1.0.SUPER__1 234393516    26288  2856368 -      mMyoAui1.0.SUPER__1\n",
       "610 mMyoCai1.0.SUPER__1 234393516  2911840 43420000 -      mMyoAui1.0.SUPER__1\n",
       "112 mMyoCai1.0.SUPER__1 234393516 43400400 48690000 -      mMyoAui1.0.SUPER__1\n",
       "301 mMyoCai1.0.SUPER__1 234393516 48740000 68004616 -      mMyoAui1.0.SUPER__1\n",
       "303 mMyoCai1.0.SUPER__1 234393516 67991176 88958984 -      mMyoAui1.0.SUPER__1\n",
       "18  mMyoCai1.0.SUPER__1 234393516 88967176 89124232 -      mMyoAui1.0.SUPER__1\n",
       "    tlen      tstart    tend      nmatch   alen     mapq\n",
       "102 234041302 231186952 234012568  2452297  2830080 7   \n",
       "610 234041302 191040403 231203767 36276291 40508160 8   \n",
       "112 234041302 185945380 191138601  4630968  5289600 7   \n",
       "301 234041302 166989503 185944909 16961205 19264616 7   \n",
       "303 234041302 146113880 166958530 18568478 20967808 7   \n",
       "18  234041302 144985499 145168687   136315   183188 5   "
      ]
     },
     "metadata": {},
     "output_type": "display_data"
    }
   ],
   "source": [
    "head(hits_pre)"
   ]
  },
  {
   "cell_type": "code",
   "execution_count": null,
   "metadata": {
    "vscode": {
     "languageId": "r"
    }
   },
   "outputs": [],
   "source": []
  }
 ],
 "metadata": {
  "kernelspec": {
   "display_name": "R",
   "language": "R",
   "name": "ir"
  },
  "language_info": {
   "codemirror_mode": "r",
   "file_extension": ".r",
   "mimetype": "text/x-r-source",
   "name": "R",
   "pygments_lexer": "r",
   "version": "4.3.2"
  }
 },
 "nbformat": 4,
 "nbformat_minor": 2
}
