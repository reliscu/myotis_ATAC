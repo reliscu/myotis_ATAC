{
 "cells": [
  {
   "cell_type": "markdown",
   "metadata": {},
   "source": [
    "### Here I create BED files for each species comparison."
   ]
  },
  {
   "cell_type": "code",
   "execution_count": 18,
   "metadata": {
    "vscode": {
     "languageId": "r"
    }
   },
   "outputs": [
    {
     "data": {
      "text/html": [
       "<table class=\"dataframe\">\n",
       "<caption>A data.frame: 9 x 2</caption>\n",
       "<thead>\n",
       "\t<tr><th scope=col>Field_Name</th><th scope=col>Abbr</th></tr>\n",
       "\t<tr><th scope=col>&lt;chr&gt;</th><th scope=col>&lt;chr&gt;</th></tr>\n",
       "</thead>\n",
       "<tbody>\n",
       "\t<tr><td>Myotis-Auriculus   </td><td>mMyoAui</td></tr>\n",
       "\t<tr><td>Myotis-Californicus</td><td>mMyoCai</td></tr>\n",
       "\t<tr><td>Myotis-Evotis      </td><td>mMyoEvo</td></tr>\n",
       "\t<tr><td>Myotis-Lucifugus   </td><td>mMyoLuc</td></tr>\n",
       "\t<tr><td>Myotis-Occultus    </td><td>mMyoOcc</td></tr>\n",
       "\t<tr><td>Myotis-Thysanodes  </td><td>mMyoThy</td></tr>\n",
       "\t<tr><td>Myotis-Velifer     </td><td>mMyoVel</td></tr>\n",
       "\t<tr><td>Myotis-Volans      </td><td>mMyoVol</td></tr>\n",
       "\t<tr><td>Myotis-Yumanensis  </td><td>mMyoYum</td></tr>\n",
       "</tbody>\n",
       "</table>\n"
      ],
      "text/latex": [
       "A data.frame: 9 x 2\n",
       "\\begin{tabular}{ll}\n",
       " Field\\_Name & Abbr\\\\\n",
       " <chr> & <chr>\\\\\n",
       "\\hline\n",
       "\t Myotis-Auriculus    & mMyoAui\\\\\n",
       "\t Myotis-Californicus & mMyoCai\\\\\n",
       "\t Myotis-Evotis       & mMyoEvo\\\\\n",
       "\t Myotis-Lucifugus    & mMyoLuc\\\\\n",
       "\t Myotis-Occultus     & mMyoOcc\\\\\n",
       "\t Myotis-Thysanodes   & mMyoThy\\\\\n",
       "\t Myotis-Velifer      & mMyoVel\\\\\n",
       "\t Myotis-Volans       & mMyoVol\\\\\n",
       "\t Myotis-Yumanensis   & mMyoYum\\\\\n",
       "\\end{tabular}\n"
      ],
      "text/markdown": [
       "\n",
       "A data.frame: 9 x 2\n",
       "\n",
       "| Field_Name &lt;chr&gt; | Abbr &lt;chr&gt; |\n",
       "|---|---|\n",
       "| Myotis-Auriculus    | mMyoAui |\n",
       "| Myotis-Californicus | mMyoCai |\n",
       "| Myotis-Evotis       | mMyoEvo |\n",
       "| Myotis-Lucifugus    | mMyoLuc |\n",
       "| Myotis-Occultus     | mMyoOcc |\n",
       "| Myotis-Thysanodes   | mMyoThy |\n",
       "| Myotis-Velifer      | mMyoVel |\n",
       "| Myotis-Volans       | mMyoVol |\n",
       "| Myotis-Yumanensis   | mMyoYum |\n",
       "\n"
      ],
      "text/plain": [
       "  Field_Name          Abbr   \n",
       "1 Myotis-Auriculus    mMyoAui\n",
       "2 Myotis-Californicus mMyoCai\n",
       "3 Myotis-Evotis       mMyoEvo\n",
       "4 Myotis-Lucifugus    mMyoLuc\n",
       "5 Myotis-Occultus     mMyoOcc\n",
       "6 Myotis-Thysanodes   mMyoThy\n",
       "7 Myotis-Velifer      mMyoVel\n",
       "8 Myotis-Volans       mMyoVol\n",
       "9 Myotis-Yumanensis   mMyoYum"
      ]
     },
     "metadata": {},
     "output_type": "display_data"
    }
   ],
   "source": [
    "setwd(\"/Users/rebecca/sudmant/analyses/myotis/analysis/reciprocal_best_hits/01_get_best_hits\")\n",
    "\n",
    "library(pafr)\n",
    "library(dplyr, quietly = TRUE)\n",
    "\n",
    "options(scipen = 100, digits = 10)\n",
    "\n",
    "myo_meta <- read.csv(\"../../../data/myotis_meta.csv\")\n",
    "myo_meta"
   ]
  },
  {
   "cell_type": "code",
   "execution_count": 19,
   "metadata": {
    "vscode": {
     "languageId": "r"
    }
   },
   "outputs": [],
   "source": [
    "for (i in seq_along(myo_meta$Abbr)) {\n",
    "  \n",
    "  for (j in seq_along(myo_meta$Abbr)) {\n",
    "\n",
    "    if (i < j) {\n",
    "\n",
    "      # working_paf1 <- read_paf(file.path(\"resources/pafs/trimmed\", intersect(\n",
    "      #   list.files(path = \"resources/pafs/trimmed\", pattern = paste0(\"^\", myo_meta$Abbr[j])),\n",
    "      #   list.files(path = \"resources/pafs/trimmed\", pattern = paste0(\"_\", myo_meta$Abbr[i], \".*_trimmed.paf\"))\n",
    "      # )), include_tags = FALSE)\n",
    "\n",
    "      # working_paf2 <- read_paf(file.path(\"resources/pafs/trimmed\", intersect(\n",
    "      #   list.files(path = \"resources/pafs/trimmed\", pattern = paste0(\"^\", myo_meta$Abbr[i])),\n",
    "      #   list.files(path = \"resources/pafs/trimmed\", pattern = paste0(\"_\", myo_meta$Abbr[j], \".*_trimmed.paf\"))\n",
    "      # )), include_tags = FALSE)\n",
    "      \n",
    "      working_paf1 <- read_paf(file.path(\"resources/pafs\", intersect(\n",
    "        list.files(path = \"resources/pafs\", pattern = paste0(\"^\", myo_meta$Abbr[j])),\n",
    "        list.files(path = \"resources/pafs\", pattern = paste0(\"_\", myo_meta$Abbr[i]))\n",
    "      )), include_tags = FALSE)\n",
    "\n",
    "      working_paf2 <- read_paf(file.path(\"resources/pafs\", intersect(\n",
    "        list.files(path = \"resources/pafs\", pattern = paste0(\"^\", myo_meta$Abbr[i])),\n",
    "        list.files(path = \"resources/pafs\", pattern = paste0(\"_\", myo_meta$Abbr[j]))\n",
    "      )), include_tags = FALSE)\n",
    "\n",
    "      ## Filter sequences with mapq < 10:\n",
    "      ## Sniffles mapping quality threshold to 10\n",
    "      ## Ref: https://arxiv.org/pdf/2108.03515.pdf\n",
    "      \n",
    "      # working_paf1 <- working_paf1[working_paf1$mapq >= 10,]\n",
    "      # working_paf2 <- working_paf2[working_paf2$mapq >= 10,]\n",
    "\n",
    "      ## Make unique ID for each hit:\n",
    "      \n",
    "      working_paf1$Id <- with(working_paf1, paste(qstart, qend, tstart, tend, sep = \"_\"))      \n",
    "      working_paf2$Id <- with(working_paf2, paste(qstart, qend, tstart, tend, sep = \"_\"))      \n",
    "\n",
    "      ## Make BEDs for species 1 positions:\n",
    "\n",
    "      spec1_query <- working_paf1 %>%\n",
    "        dplyr::select(\n",
    "          qname, qstart, qend, strand,\n",
    "          nmatch, alen, mapq, Id\n",
    "        )\n",
    "\n",
    "      spec1_target <- working_paf2 %>%\n",
    "        dplyr::select(\n",
    "          tname, tstart, tend,\n",
    "          nmatch, alen, mapq, Id\n",
    "        )\n",
    "\n",
    "      write.table(\n",
    "        spec1_query,\n",
    "        file = paste0(\n",
    "          \"resources/beds/\", myo_meta$Abbr[i], \"_vs_\", myo_meta$Abbr[j], \"_positions_query.bed\"\n",
    "        ), sep = \"\\t\", row.names = FALSE, col.names = FALSE, quote = FALSE\n",
    "      )\n",
    "\n",
    "      write.table(\n",
    "        spec1_target,\n",
    "        file = paste0(\n",
    "          \"resources/beds/\", myo_meta$Abbr[i], \"_vs_\", myo_meta$Abbr[j], \"_positions_target.bed\"\n",
    "        ), sep = \"\\t\", row.names = FALSE, col.names = FALSE, quote = FALSE\n",
    "      )\n",
    "\n",
    "      ## Species 2 positions:\n",
    "\n",
    "      spec2_query <- working_paf2 %>%\n",
    "        dplyr::select(\n",
    "          qname, qstart, qend, strand,\n",
    "          nmatch, alen, mapq, Id\n",
    "        )\n",
    "\n",
    "      spec2_target <- working_paf1 %>%\n",
    "        dplyr::select(\n",
    "          tname, tstart, tend,\n",
    "          nmatch, alen, mapq, Id\n",
    "        )\n",
    "\n",
    "      write.table(\n",
    "        spec2_query,\n",
    "        file = paste0(\n",
    "          \"resources/beds/\", myo_meta$Abbr[j], \"_vs_\", myo_meta$Abbr[i], \"_positions_query.bed\"\n",
    "        ), sep = \"\\t\", row.names = FALSE, col.names = FALSE, quote = FALSE\n",
    "      )\n",
    "\n",
    "      write.table(\n",
    "        spec2_target,\n",
    "        file = paste0(\n",
    "          \"resources/beds/\", myo_meta$Abbr[j], \"_vs_\", myo_meta$Abbr[i], \"_positions_target.bed\"\n",
    "        ), sep = \"\\t\", row.names = FALSE, col.names = FALSE, quote = FALSE\n",
    "      )\n",
    "\n",
    "    }\n",
    "    \n",
    "  }\n",
    "  \n",
    "}\n"
   ]
  },
  {
   "cell_type": "code",
   "execution_count": null,
   "metadata": {
    "vscode": {
     "languageId": "r"
    }
   },
   "outputs": [],
   "source": []
  }
 ],
 "metadata": {
  "kernelspec": {
   "display_name": "R",
   "language": "R",
   "name": "ir"
  },
  "language_info": {
   "codemirror_mode": "r",
   "file_extension": ".r",
   "mimetype": "text/x-r-source",
   "name": "R",
   "pygments_lexer": "r",
   "version": "4.3.2"
  }
 },
 "nbformat": 4,
 "nbformat_minor": 2
}
