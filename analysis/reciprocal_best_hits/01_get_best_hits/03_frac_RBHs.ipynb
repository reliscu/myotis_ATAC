{
 "cells": [
  {
   "cell_type": "code",
   "execution_count": 1,
   "metadata": {
    "vscode": {
     "languageId": "r"
    }
   },
   "outputs": [
    {
     "name": "stderr",
     "output_type": "stream",
     "text": [
      "Loading required package: ggplot2\n",
      "\n",
      "\n",
      "Attaching package: 'dplyr'\n",
      "\n",
      "\n",
      "The following objects are masked from 'package:stats':\n",
      "\n",
      "    filter, lag\n",
      "\n",
      "\n",
      "The following objects are masked from 'package:base':\n",
      "\n",
      "    intersect, setdiff, setequal, union\n",
      "\n",
      "\n",
      "\n",
      "Attaching package: 'data.table'\n",
      "\n",
      "\n",
      "The following objects are masked from 'package:dplyr':\n",
      "\n",
      "    between, first, last\n",
      "\n",
      "\n",
      "Loading required package: stats4\n",
      "\n",
      "Loading required package: BiocGenerics\n",
      "\n",
      "\n",
      "Attaching package: 'BiocGenerics'\n",
      "\n",
      "\n",
      "The following objects are masked from 'package:dplyr':\n",
      "\n",
      "    combine, intersect, setdiff, union\n",
      "\n",
      "\n",
      "The following objects are masked from 'package:stats':\n",
      "\n",
      "    IQR, mad, sd, var, xtabs\n",
      "\n",
      "\n",
      "The following objects are masked from 'package:base':\n",
      "\n",
      "    Filter, Find, Map, Position, Reduce, anyDuplicated, aperm, append,\n",
      "    as.data.frame, basename, cbind, colnames, dirname, do.call,\n",
      "    duplicated, eval, evalq, get, grep, grepl, intersect, is.unsorted,\n",
      "    lapply, mapply, match, mget, order, paste, pmax, pmax.int, pmin,\n",
      "    pmin.int, rank, rbind, rownames, sapply, setdiff, sort, table,\n",
      "    tapply, union, unique, unsplit, which.max, which.min\n",
      "\n",
      "\n",
      "Loading required package: S4Vectors\n",
      "\n",
      "\n",
      "Attaching package: 'S4Vectors'\n",
      "\n",
      "\n",
      "The following objects are masked from 'package:data.table':\n",
      "\n",
      "    first, second\n",
      "\n",
      "\n",
      "The following objects are masked from 'package:dplyr':\n",
      "\n",
      "    first, rename\n",
      "\n",
      "\n",
      "The following object is masked from 'package:utils':\n",
      "\n",
      "    findMatches\n",
      "\n",
      "\n",
      "The following objects are masked from 'package:base':\n",
      "\n",
      "    I, expand.grid, unname\n",
      "\n",
      "\n",
      "Loading required package: IRanges\n",
      "\n",
      "\n",
      "Attaching package: 'IRanges'\n",
      "\n",
      "\n",
      "The following object is masked from 'package:data.table':\n",
      "\n",
      "    shift\n",
      "\n",
      "\n",
      "The following objects are masked from 'package:dplyr':\n",
      "\n",
      "    collapse, desc, slice\n",
      "\n",
      "\n",
      "Loading required package: GenomeInfoDb\n",
      "\n"
     ]
    }
   ],
   "source": [
    "setwd(\"/Users/rebecca/sudmant/analyses/myotis/analysis/reciprocal_best_hits/01_get_best_hits\")\n",
    "\n",
    "library(pafr)\n",
    "library(ggplot2)\n",
    "library(dplyr, quietly = TRUE)\n",
    "library(data.table)\n",
    "library(GenomicRanges)\n",
    "\n",
    "chromsize <- fread(\"/Users/rebecca/sudmant/analyses/myotis/data/mMyoAui_chromsizes\", data.table = FALSE)\n",
    "colnames(chromsize) <- c(\"Chr\", \"Chr_Length\")"
   ]
  },
  {
   "cell_type": "code",
   "execution_count": 2,
   "metadata": {
    "vscode": {
     "languageId": "r"
    }
   },
   "outputs": [],
   "source": [
    "# hits_rev <- read_paf(\"resources/pafs/trimmed/mMyoAui1.cleaned.hapheader_mMyoCai1.cleaned.hapheader.exact_trimmed.paf\", include_tags = FALSE)\n",
    "# hits_rev[grep(\"SUPER__10$\", hits_rev$tname),] %>% arrange(tstart) %>% head()"
   ]
  },
  {
   "cell_type": "code",
   "execution_count": 3,
   "metadata": {
    "notebookRunGroups": {
     "groupValue": "2"
    },
    "vscode": {
     "languageId": "r"
    }
   },
   "outputs": [
    {
     "data": {
      "text/html": [
       "<table class=\"dataframe\">\n",
       "<caption>A pafr: 6 x 12</caption>\n",
       "<thead>\n",
       "\t<tr><th></th><th scope=col>qname</th><th scope=col>qlen</th><th scope=col>qstart</th><th scope=col>qend</th><th scope=col>strand</th><th scope=col>tname</th><th scope=col>tlen</th><th scope=col>tstart</th><th scope=col>tend</th><th scope=col>nmatch</th><th scope=col>alen</th><th scope=col>mapq</th></tr>\n",
       "\t<tr><th></th><th scope=col>&lt;chr&gt;</th><th scope=col>&lt;dbl&gt;</th><th scope=col>&lt;dbl&gt;</th><th scope=col>&lt;dbl&gt;</th><th scope=col>&lt;chr&gt;</th><th scope=col>&lt;chr&gt;</th><th scope=col>&lt;dbl&gt;</th><th scope=col>&lt;dbl&gt;</th><th scope=col>&lt;dbl&gt;</th><th scope=col>&lt;dbl&gt;</th><th scope=col>&lt;dbl&gt;</th><th scope=col>&lt;dbl&gt;</th></tr>\n",
       "</thead>\n",
       "<tbody>\n",
       "\t<tr><th scope=row>1</th><td>mMyoAui1.0.SUPER__10</td><td>85605049</td><td>   20008</td><td> 3265126</td><td>+</td><td>mMyoCai1.0.SUPER__10</td><td>86584055</td><td>   10992</td><td> 3175158</td><td> 2808052</td><td> 3601232</td><td>6</td></tr>\n",
       "\t<tr><th scope=row>2</th><td>mMyoAui1.0.SUPER__10</td><td>85605049</td><td> 3265126</td><td> 3359232</td><td>-</td><td>mMyoCai1.0.SUPER__10</td><td>86584055</td><td> 3234647</td><td> 3300743</td><td>   54608</td><td>  105594</td><td>3</td></tr>\n",
       "\t<tr><th scope=row>3</th><td>mMyoAui1.0.SUPER__10</td><td>85605049</td><td> 3370017</td><td> 3464480</td><td>-</td><td>mMyoCai1.0.SUPER__10</td><td>86584055</td><td> 3146907</td><td> 3260799</td><td>   77646</td><td>  130709</td><td>4</td></tr>\n",
       "\t<tr><th scope=row>4</th><td>mMyoAui1.0.SUPER__10</td><td>85605049</td><td> 3465822</td><td> 4075390</td><td>+</td><td>mMyoCai1.0.SUPER__10</td><td>86584055</td><td> 3302935</td><td> 3938473</td><td>  551374</td><td>  693732</td><td>5</td></tr>\n",
       "\t<tr><th scope=row>5</th><td>mMyoAui1.0.SUPER__10</td><td>85605049</td><td> 4075390</td><td>29726712</td><td>+</td><td>mMyoCai1.0.SUPER__10</td><td>86584055</td><td> 4005987</td><td>29780137</td><td>23957778</td><td>27467694</td><td>8</td></tr>\n",
       "\t<tr><th scope=row>6</th><td>mMyoAui1.0.SUPER__10</td><td>85605049</td><td>29765477</td><td>30164150</td><td>+</td><td>mMyoCai1.0.SUPER__10</td><td>86584055</td><td>29741303</td><td>30161710</td><td>  359928</td><td>  459152</td><td>6</td></tr>\n",
       "</tbody>\n",
       "</table>\n"
      ],
      "text/latex": [
       "A pafr: 6 x 12\n",
       "\\begin{tabular}{r|llllllllllll}\n",
       "  & qname & qlen & qstart & qend & strand & tname & tlen & tstart & tend & nmatch & alen & mapq\\\\\n",
       "  & <chr> & <dbl> & <dbl> & <dbl> & <chr> & <chr> & <dbl> & <dbl> & <dbl> & <dbl> & <dbl> & <dbl>\\\\\n",
       "\\hline\n",
       "\t1 & mMyoAui1.0.SUPER\\_\\_10 & 85605049 &    20008 &  3265126 & + & mMyoCai1.0.SUPER\\_\\_10 & 86584055 &    10992 &  3175158 &  2808052 &  3601232 & 6\\\\\n",
       "\t2 & mMyoAui1.0.SUPER\\_\\_10 & 85605049 &  3265126 &  3359232 & - & mMyoCai1.0.SUPER\\_\\_10 & 86584055 &  3234647 &  3300743 &    54608 &   105594 & 3\\\\\n",
       "\t3 & mMyoAui1.0.SUPER\\_\\_10 & 85605049 &  3370017 &  3464480 & - & mMyoCai1.0.SUPER\\_\\_10 & 86584055 &  3146907 &  3260799 &    77646 &   130709 & 4\\\\\n",
       "\t4 & mMyoAui1.0.SUPER\\_\\_10 & 85605049 &  3465822 &  4075390 & + & mMyoCai1.0.SUPER\\_\\_10 & 86584055 &  3302935 &  3938473 &   551374 &   693732 & 5\\\\\n",
       "\t5 & mMyoAui1.0.SUPER\\_\\_10 & 85605049 &  4075390 & 29726712 & + & mMyoCai1.0.SUPER\\_\\_10 & 86584055 &  4005987 & 29780137 & 23957778 & 27467694 & 8\\\\\n",
       "\t6 & mMyoAui1.0.SUPER\\_\\_10 & 85605049 & 29765477 & 30164150 & + & mMyoCai1.0.SUPER\\_\\_10 & 86584055 & 29741303 & 30161710 &   359928 &   459152 & 6\\\\\n",
       "\\end{tabular}\n"
      ],
      "text/markdown": [
       "\n",
       "A pafr: 6 x 12\n",
       "\n",
       "| <!--/--> | qname &lt;chr&gt; | qlen &lt;dbl&gt; | qstart &lt;dbl&gt; | qend &lt;dbl&gt; | strand &lt;chr&gt; | tname &lt;chr&gt; | tlen &lt;dbl&gt; | tstart &lt;dbl&gt; | tend &lt;dbl&gt; | nmatch &lt;dbl&gt; | alen &lt;dbl&gt; | mapq &lt;dbl&gt; |\n",
       "|---|---|---|---|---|---|---|---|---|---|---|---|---|\n",
       "| 1 | mMyoAui1.0.SUPER__10 | 85605049 |    20008 |  3265126 | + | mMyoCai1.0.SUPER__10 | 86584055 |    10992 |  3175158 |  2808052 |  3601232 | 6 |\n",
       "| 2 | mMyoAui1.0.SUPER__10 | 85605049 |  3265126 |  3359232 | - | mMyoCai1.0.SUPER__10 | 86584055 |  3234647 |  3300743 |    54608 |   105594 | 3 |\n",
       "| 3 | mMyoAui1.0.SUPER__10 | 85605049 |  3370017 |  3464480 | - | mMyoCai1.0.SUPER__10 | 86584055 |  3146907 |  3260799 |    77646 |   130709 | 4 |\n",
       "| 4 | mMyoAui1.0.SUPER__10 | 85605049 |  3465822 |  4075390 | + | mMyoCai1.0.SUPER__10 | 86584055 |  3302935 |  3938473 |   551374 |   693732 | 5 |\n",
       "| 5 | mMyoAui1.0.SUPER__10 | 85605049 |  4075390 | 29726712 | + | mMyoCai1.0.SUPER__10 | 86584055 |  4005987 | 29780137 | 23957778 | 27467694 | 8 |\n",
       "| 6 | mMyoAui1.0.SUPER__10 | 85605049 | 29765477 | 30164150 | + | mMyoCai1.0.SUPER__10 | 86584055 | 29741303 | 30161710 |   359928 |   459152 | 6 |\n",
       "\n"
      ],
      "text/plain": [
       "  qname                qlen     qstart   qend     strand tname               \n",
       "1 mMyoAui1.0.SUPER__10 85605049    20008  3265126 +      mMyoCai1.0.SUPER__10\n",
       "2 mMyoAui1.0.SUPER__10 85605049  3265126  3359232 -      mMyoCai1.0.SUPER__10\n",
       "3 mMyoAui1.0.SUPER__10 85605049  3370017  3464480 -      mMyoCai1.0.SUPER__10\n",
       "4 mMyoAui1.0.SUPER__10 85605049  3465822  4075390 +      mMyoCai1.0.SUPER__10\n",
       "5 mMyoAui1.0.SUPER__10 85605049  4075390 29726712 +      mMyoCai1.0.SUPER__10\n",
       "6 mMyoAui1.0.SUPER__10 85605049 29765477 30164150 +      mMyoCai1.0.SUPER__10\n",
       "  tlen     tstart   tend     nmatch   alen     mapq\n",
       "1 86584055    10992  3175158  2808052  3601232 6   \n",
       "2 86584055  3234647  3300743    54608   105594 3   \n",
       "3 86584055  3146907  3260799    77646   130709 4   \n",
       "4 86584055  3302935  3938473   551374   693732 5   \n",
       "5 86584055  4005987 29780137 23957778 27467694 8   \n",
       "6 86584055 29741303 30161710   359928   459152 6   "
      ]
     },
     "metadata": {},
     "output_type": "display_data"
    }
   ],
   "source": [
    "hits <- read_paf(\"resources/pafs/trimmed/mMyoCai1.cleaned.hapheader_mMyoAui1.cleaned.hapheader.exact_trimmed.paf\", include_tags = FALSE)\n",
    "hits[grep(\"SUPER__10$\", hits$qname),] %>% arrange(qstart) %>% head()"
   ]
  },
  {
   "cell_type": "code",
   "execution_count": 4,
   "metadata": {
    "vscode": {
     "languageId": "r"
    }
   },
   "outputs": [],
   "source": [
    "hits <- hits %>% arrange(desc(nmatch))\n",
    "hits$seqnames <- hits$qname\n",
    "hits$start <- hits$qstart\n",
    "hits$end <- hits$qend\n",
    "hits_ranges <- GenomicRanges::makeGRangesFromDataFrame(hits, ignore.strand = T)\n",
    "hits_ranges <- hits_ranges[unique(findOverlaps(hits_ranges, type = \"any\", select = \"first\")),]\n",
    "hits <- as.data.frame(hits_ranges)\n",
    "hits$seqnames <- as.character(hits$seqnames)"
   ]
  },
  {
   "cell_type": "code",
   "execution_count": 5,
   "metadata": {
    "vscode": {
     "languageId": "r"
    }
   },
   "outputs": [
    {
     "data": {
      "text/html": [
       "<table class=\"dataframe\">\n",
       "<caption>A data.frame: 17 x 5</caption>\n",
       "<thead>\n",
       "\t<tr><th></th><th scope=col>seqnames</th><th scope=col>start</th><th scope=col>end</th><th scope=col>width</th><th scope=col>strand</th></tr>\n",
       "\t<tr><th></th><th scope=col>&lt;chr&gt;</th><th scope=col>&lt;int&gt;</th><th scope=col>&lt;int&gt;</th><th scope=col>&lt;int&gt;</th><th scope=col>&lt;fct&gt;</th></tr>\n",
       "</thead>\n",
       "<tbody>\n",
       "\t<tr><th scope=row>21</th><td>mMyoAui1.0.SUPER__10</td><td>40614976</td><td>67543232</td><td>26928257</td><td>*</td></tr>\n",
       "\t<tr><th scope=row>22</th><td>mMyoAui1.0.SUPER__10</td><td> 4075390</td><td>29726712</td><td>25651323</td><td>*</td></tr>\n",
       "\t<tr><th scope=row>43</th><td>mMyoAui1.0.SUPER__10</td><td>68275000</td><td>83804472</td><td>15529473</td><td>*</td></tr>\n",
       "\t<tr><th scope=row>62</th><td>mMyoAui1.0.SUPER__10</td><td>30165256</td><td>39294600</td><td> 9129345</td><td>*</td></tr>\n",
       "\t<tr><th scope=row>113</th><td>mMyoAui1.0.SUPER__10</td><td>   20008</td><td> 3265126</td><td> 3245119</td><td>*</td></tr>\n",
       "\t<tr><th scope=row>172</th><td>mMyoAui1.0.SUPER__10</td><td>39620000</td><td>40499616</td><td>  879617</td><td>*</td></tr>\n",
       "\t<tr><th scope=row>206</th><td>mMyoAui1.0.SUPER__10</td><td>29765477</td><td>30164150</td><td>  398674</td><td>*</td></tr>\n",
       "\t<tr><th scope=row>234</th><td>mMyoAui1.0.SUPER__10</td><td>67586041</td><td>67809192</td><td>  223152</td><td>*</td></tr>\n",
       "\t<tr><th scope=row>275</th><td>mMyoAui1.0.SUPER__10</td><td>39340000</td><td>39464998</td><td>  124999</td><td>*</td></tr>\n",
       "\t<tr><th scope=row>277</th><td>mMyoAui1.0.SUPER__10</td><td>39470768</td><td>39618864</td><td>  148097</td><td>*</td></tr>\n",
       "\t<tr><th scope=row>306</th><td>mMyoAui1.0.SUPER__10</td><td> 3370017</td><td> 3464480</td><td>   94464</td><td>*</td></tr>\n",
       "\t<tr><th scope=row>324</th><td>mMyoAui1.0.SUPER__10</td><td>85220001</td><td>85290000</td><td>   70000</td><td>*</td></tr>\n",
       "\t<tr><th scope=row>338</th><td>mMyoAui1.0.SUPER__10</td><td>84691784</td><td>84764861</td><td>   73078</td><td>*</td></tr>\n",
       "\t<tr><th scope=row>404</th><td>mMyoAui1.0.SUPER__10</td><td>85420336</td><td>85469356</td><td>   49021</td><td>*</td></tr>\n",
       "\t<tr><th scope=row>449</th><td>mMyoAui1.0.SUPER__10</td><td>68070512</td><td>68130000</td><td>   59489</td><td>*</td></tr>\n",
       "\t<tr><th scope=row>454</th><td>mMyoAui1.0.SUPER__10</td><td>85470000</td><td>85507952</td><td>   37953</td><td>*</td></tr>\n",
       "\t<tr><th scope=row>511</th><td>mMyoAui1.0.SUPER__10</td><td>39311291</td><td>39334985</td><td>   23695</td><td>*</td></tr>\n",
       "</tbody>\n",
       "</table>\n"
      ],
      "text/latex": [
       "A data.frame: 17 x 5\n",
       "\\begin{tabular}{r|lllll}\n",
       "  & seqnames & start & end & width & strand\\\\\n",
       "  & <chr> & <int> & <int> & <int> & <fct>\\\\\n",
       "\\hline\n",
       "\t21 & mMyoAui1.0.SUPER\\_\\_10 & 40614976 & 67543232 & 26928257 & *\\\\\n",
       "\t22 & mMyoAui1.0.SUPER\\_\\_10 &  4075390 & 29726712 & 25651323 & *\\\\\n",
       "\t43 & mMyoAui1.0.SUPER\\_\\_10 & 68275000 & 83804472 & 15529473 & *\\\\\n",
       "\t62 & mMyoAui1.0.SUPER\\_\\_10 & 30165256 & 39294600 &  9129345 & *\\\\\n",
       "\t113 & mMyoAui1.0.SUPER\\_\\_10 &    20008 &  3265126 &  3245119 & *\\\\\n",
       "\t172 & mMyoAui1.0.SUPER\\_\\_10 & 39620000 & 40499616 &   879617 & *\\\\\n",
       "\t206 & mMyoAui1.0.SUPER\\_\\_10 & 29765477 & 30164150 &   398674 & *\\\\\n",
       "\t234 & mMyoAui1.0.SUPER\\_\\_10 & 67586041 & 67809192 &   223152 & *\\\\\n",
       "\t275 & mMyoAui1.0.SUPER\\_\\_10 & 39340000 & 39464998 &   124999 & *\\\\\n",
       "\t277 & mMyoAui1.0.SUPER\\_\\_10 & 39470768 & 39618864 &   148097 & *\\\\\n",
       "\t306 & mMyoAui1.0.SUPER\\_\\_10 &  3370017 &  3464480 &    94464 & *\\\\\n",
       "\t324 & mMyoAui1.0.SUPER\\_\\_10 & 85220001 & 85290000 &    70000 & *\\\\\n",
       "\t338 & mMyoAui1.0.SUPER\\_\\_10 & 84691784 & 84764861 &    73078 & *\\\\\n",
       "\t404 & mMyoAui1.0.SUPER\\_\\_10 & 85420336 & 85469356 &    49021 & *\\\\\n",
       "\t449 & mMyoAui1.0.SUPER\\_\\_10 & 68070512 & 68130000 &    59489 & *\\\\\n",
       "\t454 & mMyoAui1.0.SUPER\\_\\_10 & 85470000 & 85507952 &    37953 & *\\\\\n",
       "\t511 & mMyoAui1.0.SUPER\\_\\_10 & 39311291 & 39334985 &    23695 & *\\\\\n",
       "\\end{tabular}\n"
      ],
      "text/markdown": [
       "\n",
       "A data.frame: 17 x 5\n",
       "\n",
       "| <!--/--> | seqnames &lt;chr&gt; | start &lt;int&gt; | end &lt;int&gt; | width &lt;int&gt; | strand &lt;fct&gt; |\n",
       "|---|---|---|---|---|---|\n",
       "| 21 | mMyoAui1.0.SUPER__10 | 40614976 | 67543232 | 26928257 | * |\n",
       "| 22 | mMyoAui1.0.SUPER__10 |  4075390 | 29726712 | 25651323 | * |\n",
       "| 43 | mMyoAui1.0.SUPER__10 | 68275000 | 83804472 | 15529473 | * |\n",
       "| 62 | mMyoAui1.0.SUPER__10 | 30165256 | 39294600 |  9129345 | * |\n",
       "| 113 | mMyoAui1.0.SUPER__10 |    20008 |  3265126 |  3245119 | * |\n",
       "| 172 | mMyoAui1.0.SUPER__10 | 39620000 | 40499616 |   879617 | * |\n",
       "| 206 | mMyoAui1.0.SUPER__10 | 29765477 | 30164150 |   398674 | * |\n",
       "| 234 | mMyoAui1.0.SUPER__10 | 67586041 | 67809192 |   223152 | * |\n",
       "| 275 | mMyoAui1.0.SUPER__10 | 39340000 | 39464998 |   124999 | * |\n",
       "| 277 | mMyoAui1.0.SUPER__10 | 39470768 | 39618864 |   148097 | * |\n",
       "| 306 | mMyoAui1.0.SUPER__10 |  3370017 |  3464480 |    94464 | * |\n",
       "| 324 | mMyoAui1.0.SUPER__10 | 85220001 | 85290000 |    70000 | * |\n",
       "| 338 | mMyoAui1.0.SUPER__10 | 84691784 | 84764861 |    73078 | * |\n",
       "| 404 | mMyoAui1.0.SUPER__10 | 85420336 | 85469356 |    49021 | * |\n",
       "| 449 | mMyoAui1.0.SUPER__10 | 68070512 | 68130000 |    59489 | * |\n",
       "| 454 | mMyoAui1.0.SUPER__10 | 85470000 | 85507952 |    37953 | * |\n",
       "| 511 | mMyoAui1.0.SUPER__10 | 39311291 | 39334985 |    23695 | * |\n",
       "\n"
      ],
      "text/plain": [
       "    seqnames             start    end      width    strand\n",
       "21  mMyoAui1.0.SUPER__10 40614976 67543232 26928257 *     \n",
       "22  mMyoAui1.0.SUPER__10  4075390 29726712 25651323 *     \n",
       "43  mMyoAui1.0.SUPER__10 68275000 83804472 15529473 *     \n",
       "62  mMyoAui1.0.SUPER__10 30165256 39294600  9129345 *     \n",
       "113 mMyoAui1.0.SUPER__10    20008  3265126  3245119 *     \n",
       "172 mMyoAui1.0.SUPER__10 39620000 40499616   879617 *     \n",
       "206 mMyoAui1.0.SUPER__10 29765477 30164150   398674 *     \n",
       "234 mMyoAui1.0.SUPER__10 67586041 67809192   223152 *     \n",
       "275 mMyoAui1.0.SUPER__10 39340000 39464998   124999 *     \n",
       "277 mMyoAui1.0.SUPER__10 39470768 39618864   148097 *     \n",
       "306 mMyoAui1.0.SUPER__10  3370017  3464480    94464 *     \n",
       "324 mMyoAui1.0.SUPER__10 85220001 85290000    70000 *     \n",
       "338 mMyoAui1.0.SUPER__10 84691784 84764861    73078 *     \n",
       "404 mMyoAui1.0.SUPER__10 85420336 85469356    49021 *     \n",
       "449 mMyoAui1.0.SUPER__10 68070512 68130000    59489 *     \n",
       "454 mMyoAui1.0.SUPER__10 85470000 85507952    37953 *     \n",
       "511 mMyoAui1.0.SUPER__10 39311291 39334985    23695 *     "
      ]
     },
     "metadata": {},
     "output_type": "display_data"
    }
   ],
   "source": [
    "hits[grep(\"SUPER__10$\", hits$seqnames),]"
   ]
  },
  {
   "cell_type": "code",
   "execution_count": 6,
   "metadata": {
    "vscode": {
     "languageId": "r"
    }
   },
   "outputs": [],
   "source": [
    "hit_length <- hits %>%\n",
    "  dplyr::mutate(\n",
    "    Chr = sapply(strsplit(as.character(hits$seqnames), \".\", fixed = T), function(x) x[length(x)]),\n",
    "    Length = end - start\n",
    "  ) %>%\n",
    "  dplyr::group_by(Chr) %>%\n",
    "  dplyr::summarise(Recip_Length = sum(Length))\n",
    "hit_length <- merge(chromsize, hit_length, by = 1, all = TRUE)\n",
    "hit_length$Recip_Length[is.na(hit_length$Recip_Length)] <- 0\n",
    "hit_length$Frac = with(hit_length, Recip_Length / Chr_Length)\n",
    "hit_length$Frac_Prefilter <- hit_length$Frac\n",
    "hit_prefilter <- hit_length\n",
    "hit_prefilter_paf <- hits"
   ]
  },
  {
   "cell_type": "code",
   "execution_count": 8,
   "metadata": {
    "vscode": {
     "languageId": "r"
    }
   },
   "outputs": [
    {
     "data": {
      "text/html": [
       "<table class=\"dataframe\">\n",
       "<caption>A data.frame: 6 x 5</caption>\n",
       "<thead>\n",
       "\t<tr><th></th><th scope=col>seqnames</th><th scope=col>start</th><th scope=col>end</th><th scope=col>width</th><th scope=col>strand</th></tr>\n",
       "\t<tr><th></th><th scope=col>&lt;chr&gt;</th><th scope=col>&lt;int&gt;</th><th scope=col>&lt;int&gt;</th><th scope=col>&lt;int&gt;</th><th scope=col>&lt;fct&gt;</th></tr>\n",
       "</thead>\n",
       "<tbody>\n",
       "\t<tr><th scope=row>1</th><td>mMyoAui1.0.SUPER__10</td><td>   20008</td><td> 3265126</td><td> 3245119</td><td>*</td></tr>\n",
       "\t<tr><th scope=row>2</th><td>mMyoAui1.0.SUPER__10</td><td> 3370017</td><td> 3464480</td><td>   94464</td><td>*</td></tr>\n",
       "\t<tr><th scope=row>3</th><td>mMyoAui1.0.SUPER__10</td><td> 4075390</td><td>29726712</td><td>25651323</td><td>*</td></tr>\n",
       "\t<tr><th scope=row>4</th><td>mMyoAui1.0.SUPER__10</td><td>29765477</td><td>30164150</td><td>  398674</td><td>*</td></tr>\n",
       "\t<tr><th scope=row>5</th><td>mMyoAui1.0.SUPER__10</td><td>30165256</td><td>39294600</td><td> 9129345</td><td>*</td></tr>\n",
       "\t<tr><th scope=row>6</th><td>mMyoAui1.0.SUPER__10</td><td>39311291</td><td>39334985</td><td>   23695</td><td>*</td></tr>\n",
       "</tbody>\n",
       "</table>\n"
      ],
      "text/latex": [
       "A data.frame: 6 x 5\n",
       "\\begin{tabular}{r|lllll}\n",
       "  & seqnames & start & end & width & strand\\\\\n",
       "  & <chr> & <int> & <int> & <int> & <fct>\\\\\n",
       "\\hline\n",
       "\t1 & mMyoAui1.0.SUPER\\_\\_10 &    20008 &  3265126 &  3245119 & *\\\\\n",
       "\t2 & mMyoAui1.0.SUPER\\_\\_10 &  3370017 &  3464480 &    94464 & *\\\\\n",
       "\t3 & mMyoAui1.0.SUPER\\_\\_10 &  4075390 & 29726712 & 25651323 & *\\\\\n",
       "\t4 & mMyoAui1.0.SUPER\\_\\_10 & 29765477 & 30164150 &   398674 & *\\\\\n",
       "\t5 & mMyoAui1.0.SUPER\\_\\_10 & 30165256 & 39294600 &  9129345 & *\\\\\n",
       "\t6 & mMyoAui1.0.SUPER\\_\\_10 & 39311291 & 39334985 &    23695 & *\\\\\n",
       "\\end{tabular}\n"
      ],
      "text/markdown": [
       "\n",
       "A data.frame: 6 x 5\n",
       "\n",
       "| <!--/--> | seqnames &lt;chr&gt; | start &lt;int&gt; | end &lt;int&gt; | width &lt;int&gt; | strand &lt;fct&gt; |\n",
       "|---|---|---|---|---|---|\n",
       "| 1 | mMyoAui1.0.SUPER__10 |    20008 |  3265126 |  3245119 | * |\n",
       "| 2 | mMyoAui1.0.SUPER__10 |  3370017 |  3464480 |    94464 | * |\n",
       "| 3 | mMyoAui1.0.SUPER__10 |  4075390 | 29726712 | 25651323 | * |\n",
       "| 4 | mMyoAui1.0.SUPER__10 | 29765477 | 30164150 |   398674 | * |\n",
       "| 5 | mMyoAui1.0.SUPER__10 | 30165256 | 39294600 |  9129345 | * |\n",
       "| 6 | mMyoAui1.0.SUPER__10 | 39311291 | 39334985 |    23695 | * |\n",
       "\n"
      ],
      "text/plain": [
       "  seqnames             start    end      width    strand\n",
       "1 mMyoAui1.0.SUPER__10    20008  3265126  3245119 *     \n",
       "2 mMyoAui1.0.SUPER__10  3370017  3464480    94464 *     \n",
       "3 mMyoAui1.0.SUPER__10  4075390 29726712 25651323 *     \n",
       "4 mMyoAui1.0.SUPER__10 29765477 30164150   398674 *     \n",
       "5 mMyoAui1.0.SUPER__10 30165256 39294600  9129345 *     \n",
       "6 mMyoAui1.0.SUPER__10 39311291 39334985    23695 *     "
      ]
     },
     "metadata": {},
     "output_type": "display_data"
    }
   ],
   "source": [
    "hits[grep(\"SUPER__10$\", hits$seqnames),] %>% arrange(start) %>% head()"
   ]
  },
  {
   "cell_type": "code",
   "execution_count": 7,
   "metadata": {
    "vscode": {
     "languageId": "r"
    }
   },
   "outputs": [
    {
     "data": {
      "text/html": [
       "<table class=\"dataframe\">\n",
       "<caption>A data.frame: 6 x 5</caption>\n",
       "<thead>\n",
       "\t<tr><th></th><th scope=col>Chr</th><th scope=col>Chr_Length</th><th scope=col>Recip_Length</th><th scope=col>Frac</th><th scope=col>Frac_Prefilter</th></tr>\n",
       "\t<tr><th></th><th scope=col>&lt;chr&gt;</th><th scope=col>&lt;int&gt;</th><th scope=col>&lt;dbl&gt;</th><th scope=col>&lt;dbl&gt;</th><th scope=col>&lt;dbl&gt;</th></tr>\n",
       "</thead>\n",
       "<tbody>\n",
       "\t<tr><th scope=row>1</th><td>SUPER__112</td><td>22900</td><td>22900</td><td>1</td><td>1</td></tr>\n",
       "\t<tr><th scope=row>2</th><td>SUPER__120</td><td>22269</td><td>22269</td><td>1</td><td>1</td></tr>\n",
       "\t<tr><th scope=row>3</th><td>SUPER__124</td><td>21496</td><td>21496</td><td>1</td><td>1</td></tr>\n",
       "\t<tr><th scope=row>4</th><td>SUPER__141</td><td>12297</td><td>12297</td><td>1</td><td>1</td></tr>\n",
       "\t<tr><th scope=row>5</th><td>SUPER__69 </td><td>46718</td><td>46718</td><td>1</td><td>1</td></tr>\n",
       "\t<tr><th scope=row>6</th><td>SUPER__76 </td><td>32488</td><td>32488</td><td>1</td><td>1</td></tr>\n",
       "</tbody>\n",
       "</table>\n"
      ],
      "text/latex": [
       "A data.frame: 6 x 5\n",
       "\\begin{tabular}{r|lllll}\n",
       "  & Chr & Chr\\_Length & Recip\\_Length & Frac & Frac\\_Prefilter\\\\\n",
       "  & <chr> & <int> & <dbl> & <dbl> & <dbl>\\\\\n",
       "\\hline\n",
       "\t1 & SUPER\\_\\_112 & 22900 & 22900 & 1 & 1\\\\\n",
       "\t2 & SUPER\\_\\_120 & 22269 & 22269 & 1 & 1\\\\\n",
       "\t3 & SUPER\\_\\_124 & 21496 & 21496 & 1 & 1\\\\\n",
       "\t4 & SUPER\\_\\_141 & 12297 & 12297 & 1 & 1\\\\\n",
       "\t5 & SUPER\\_\\_69  & 46718 & 46718 & 1 & 1\\\\\n",
       "\t6 & SUPER\\_\\_76  & 32488 & 32488 & 1 & 1\\\\\n",
       "\\end{tabular}\n"
      ],
      "text/markdown": [
       "\n",
       "A data.frame: 6 x 5\n",
       "\n",
       "| <!--/--> | Chr &lt;chr&gt; | Chr_Length &lt;int&gt; | Recip_Length &lt;dbl&gt; | Frac &lt;dbl&gt; | Frac_Prefilter &lt;dbl&gt; |\n",
       "|---|---|---|---|---|---|\n",
       "| 1 | SUPER__112 | 22900 | 22900 | 1 | 1 |\n",
       "| 2 | SUPER__120 | 22269 | 22269 | 1 | 1 |\n",
       "| 3 | SUPER__124 | 21496 | 21496 | 1 | 1 |\n",
       "| 4 | SUPER__141 | 12297 | 12297 | 1 | 1 |\n",
       "| 5 | SUPER__69  | 46718 | 46718 | 1 | 1 |\n",
       "| 6 | SUPER__76  | 32488 | 32488 | 1 | 1 |\n",
       "\n"
      ],
      "text/plain": [
       "  Chr        Chr_Length Recip_Length Frac Frac_Prefilter\n",
       "1 SUPER__112 22900      22900        1    1             \n",
       "2 SUPER__120 22269      22269        1    1             \n",
       "3 SUPER__124 21496      21496        1    1             \n",
       "4 SUPER__141 12297      12297        1    1             \n",
       "5 SUPER__69  46718      46718        1    1             \n",
       "6 SUPER__76  32488      32488        1    1             "
      ]
     },
     "metadata": {},
     "output_type": "display_data"
    }
   ],
   "source": [
    "head(hit_prefilter %>% arrange(desc(Frac)))"
   ]
  },
  {
   "cell_type": "code",
   "execution_count": 10,
   "metadata": {
    "notebookRunGroups": {
     "groupValue": "1"
    },
    "vscode": {
     "languageId": "r"
    }
   },
   "outputs": [],
   "source": [
    "hits <- fread(\"test.csv\", data.table = FALSE)"
   ]
  },
  {
   "cell_type": "code",
   "execution_count": 472,
   "metadata": {
    "vscode": {
     "languageId": "r"
    }
   },
   "outputs": [
    {
     "data": {
      "text/html": [
       "<table class=\"dataframe\">\n",
       "<caption>A data.frame: 6 x 9</caption>\n",
       "<thead>\n",
       "\t<tr><th></th><th scope=col>Spec1_Subj_ID</th><th scope=col>Spec1_Query_ID</th><th scope=col>Spec1_Chr</th><th scope=col>Spec1_Start</th><th scope=col>Spec1_End</th><th scope=col>Spec2_Subj_ID</th><th scope=col>Paf2_Mapq</th><th scope=col>Spec2_Query_ID</th><th scope=col>Paf1_Mapq</th></tr>\n",
       "\t<tr><th></th><th scope=col>&lt;chr&gt;</th><th scope=col>&lt;chr&gt;</th><th scope=col>&lt;chr&gt;</th><th scope=col>&lt;int&gt;</th><th scope=col>&lt;int&gt;</th><th scope=col>&lt;chr&gt;</th><th scope=col>&lt;int&gt;</th><th scope=col>&lt;chr&gt;</th><th scope=col>&lt;int&gt;</th></tr>\n",
       "</thead>\n",
       "<tbody>\n",
       "\t<tr><th scope=row>1</th><td>mMyoAui1.0.SUPER__1 132071739 133691155 66 </td><td>mMyoAui1.0.SUPER__1 132064304 133790000 78 </td><td>SUPER__1</td><td>132071739</td><td>133691155</td><td>mMyoCai1.0.SUPER__1 101097090 102889262 78 </td><td>7</td><td>mMyoCai1.0.SUPER__1 101212272 102868848 66 </td><td>8</td></tr>\n",
       "\t<tr><th scope=row>2</th><td>mMyoAui1.0.SUPER__1 129590316 129701614 20 </td><td>mMyoAui1.0.SUPER__1 129570000 129660000 41 </td><td>SUPER__1</td><td>129590316</td><td>129660000</td><td>mMyoCai1.0.SUPER__1 104717580 104818745 41 </td><td>5</td><td>mMyoCai1.0.SUPER__1 104675000 104805000 20 </td><td>5</td></tr>\n",
       "\t<tr><th scope=row>3</th><td>mMyoAui1.0.SUPER__1 107953644 108596369 51 </td><td>mMyoAui1.0.SUPER__1 107953464 108594616 47 </td><td>SUPER__1</td><td>107953644</td><td>108594616</td><td>mMyoCai1.0.SUPER__1 125701245 126298588 47 </td><td>5</td><td>mMyoCai1.0.SUPER__1 125693152 126298464 51 </td><td>5</td></tr>\n",
       "\t<tr><th scope=row>4</th><td>mMyoAui1.0.SUPER__1 107775998 107878130 17 </td><td>mMyoAui1.0.SUPER__1 107775936 107878208 5  </td><td>SUPER__1</td><td>107775998</td><td>107878130</td><td>mMyoCai1.0.SUPER__1 126305882 126394334 5  </td><td>6</td><td>mMyoCai1.0.SUPER__1 126305912 126394360 17 </td><td>6</td></tr>\n",
       "\t<tr><th scope=row>5</th><td>mMyoAui1.0.SUPER__1 102707193 107775906 126</td><td>mMyoAui1.0.SUPER__1 102710168 107775000 160</td><td>SUPER__1</td><td>102710168</td><td>107775000</td><td>mMyoCai1.0.SUPER__1 126459924 131512031 160</td><td>5</td><td>mMyoCai1.0.SUPER__1 126459000 131515000 126</td><td>5</td></tr>\n",
       "\t<tr><th scope=row>6</th><td>mMyoAui1.0.SUPER__1 77396642 80722081 95   </td><td>mMyoAui1.0.SUPER__1 77385136 80828208 111  </td><td>SUPER__1</td><td> 77396642</td><td> 80722081</td><td>mMyoCai1.0.SUPER__1 154784786 158172564 111</td><td>6</td><td>mMyoCai1.0.SUPER__1 154900000 158169232 95 </td><td>6</td></tr>\n",
       "</tbody>\n",
       "</table>\n"
      ],
      "text/latex": [
       "A data.frame: 6 x 9\n",
       "\\begin{tabular}{r|lllllllll}\n",
       "  & Spec1\\_Subj\\_ID & Spec1\\_Query\\_ID & Spec1\\_Chr & Spec1\\_Start & Spec1\\_End & Spec2\\_Subj\\_ID & Paf2\\_Mapq & Spec2\\_Query\\_ID & Paf1\\_Mapq\\\\\n",
       "  & <chr> & <chr> & <chr> & <int> & <int> & <chr> & <int> & <chr> & <int>\\\\\n",
       "\\hline\n",
       "\t1 & mMyoAui1.0.SUPER\\_\\_1 132071739 133691155 66  & mMyoAui1.0.SUPER\\_\\_1 132064304 133790000 78  & SUPER\\_\\_1 & 132071739 & 133691155 & mMyoCai1.0.SUPER\\_\\_1 101097090 102889262 78  & 7 & mMyoCai1.0.SUPER\\_\\_1 101212272 102868848 66  & 8\\\\\n",
       "\t2 & mMyoAui1.0.SUPER\\_\\_1 129590316 129701614 20  & mMyoAui1.0.SUPER\\_\\_1 129570000 129660000 41  & SUPER\\_\\_1 & 129590316 & 129660000 & mMyoCai1.0.SUPER\\_\\_1 104717580 104818745 41  & 5 & mMyoCai1.0.SUPER\\_\\_1 104675000 104805000 20  & 5\\\\\n",
       "\t3 & mMyoAui1.0.SUPER\\_\\_1 107953644 108596369 51  & mMyoAui1.0.SUPER\\_\\_1 107953464 108594616 47  & SUPER\\_\\_1 & 107953644 & 108594616 & mMyoCai1.0.SUPER\\_\\_1 125701245 126298588 47  & 5 & mMyoCai1.0.SUPER\\_\\_1 125693152 126298464 51  & 5\\\\\n",
       "\t4 & mMyoAui1.0.SUPER\\_\\_1 107775998 107878130 17  & mMyoAui1.0.SUPER\\_\\_1 107775936 107878208 5   & SUPER\\_\\_1 & 107775998 & 107878130 & mMyoCai1.0.SUPER\\_\\_1 126305882 126394334 5   & 6 & mMyoCai1.0.SUPER\\_\\_1 126305912 126394360 17  & 6\\\\\n",
       "\t5 & mMyoAui1.0.SUPER\\_\\_1 102707193 107775906 126 & mMyoAui1.0.SUPER\\_\\_1 102710168 107775000 160 & SUPER\\_\\_1 & 102710168 & 107775000 & mMyoCai1.0.SUPER\\_\\_1 126459924 131512031 160 & 5 & mMyoCai1.0.SUPER\\_\\_1 126459000 131515000 126 & 5\\\\\n",
       "\t6 & mMyoAui1.0.SUPER\\_\\_1 77396642 80722081 95    & mMyoAui1.0.SUPER\\_\\_1 77385136 80828208 111   & SUPER\\_\\_1 &  77396642 &  80722081 & mMyoCai1.0.SUPER\\_\\_1 154784786 158172564 111 & 6 & mMyoCai1.0.SUPER\\_\\_1 154900000 158169232 95  & 6\\\\\n",
       "\\end{tabular}\n"
      ],
      "text/markdown": [
       "\n",
       "A data.frame: 6 x 9\n",
       "\n",
       "| <!--/--> | Spec1_Subj_ID &lt;chr&gt; | Spec1_Query_ID &lt;chr&gt; | Spec1_Chr &lt;chr&gt; | Spec1_Start &lt;int&gt; | Spec1_End &lt;int&gt; | Spec2_Subj_ID &lt;chr&gt; | Paf2_Mapq &lt;int&gt; | Spec2_Query_ID &lt;chr&gt; | Paf1_Mapq &lt;int&gt; |\n",
       "|---|---|---|---|---|---|---|---|---|---|\n",
       "| 1 | mMyoAui1.0.SUPER__1 132071739 133691155 66  | mMyoAui1.0.SUPER__1 132064304 133790000 78  | SUPER__1 | 132071739 | 133691155 | mMyoCai1.0.SUPER__1 101097090 102889262 78  | 7 | mMyoCai1.0.SUPER__1 101212272 102868848 66  | 8 |\n",
       "| 2 | mMyoAui1.0.SUPER__1 129590316 129701614 20  | mMyoAui1.0.SUPER__1 129570000 129660000 41  | SUPER__1 | 129590316 | 129660000 | mMyoCai1.0.SUPER__1 104717580 104818745 41  | 5 | mMyoCai1.0.SUPER__1 104675000 104805000 20  | 5 |\n",
       "| 3 | mMyoAui1.0.SUPER__1 107953644 108596369 51  | mMyoAui1.0.SUPER__1 107953464 108594616 47  | SUPER__1 | 107953644 | 108594616 | mMyoCai1.0.SUPER__1 125701245 126298588 47  | 5 | mMyoCai1.0.SUPER__1 125693152 126298464 51  | 5 |\n",
       "| 4 | mMyoAui1.0.SUPER__1 107775998 107878130 17  | mMyoAui1.0.SUPER__1 107775936 107878208 5   | SUPER__1 | 107775998 | 107878130 | mMyoCai1.0.SUPER__1 126305882 126394334 5   | 6 | mMyoCai1.0.SUPER__1 126305912 126394360 17  | 6 |\n",
       "| 5 | mMyoAui1.0.SUPER__1 102707193 107775906 126 | mMyoAui1.0.SUPER__1 102710168 107775000 160 | SUPER__1 | 102710168 | 107775000 | mMyoCai1.0.SUPER__1 126459924 131512031 160 | 5 | mMyoCai1.0.SUPER__1 126459000 131515000 126 | 5 |\n",
       "| 6 | mMyoAui1.0.SUPER__1 77396642 80722081 95    | mMyoAui1.0.SUPER__1 77385136 80828208 111   | SUPER__1 |  77396642 |  80722081 | mMyoCai1.0.SUPER__1 154784786 158172564 111 | 6 | mMyoCai1.0.SUPER__1 154900000 158169232 95  | 6 |\n",
       "\n"
      ],
      "text/plain": [
       "  Spec1_Subj_ID                              \n",
       "1 mMyoAui1.0.SUPER__1 132071739 133691155 66 \n",
       "2 mMyoAui1.0.SUPER__1 129590316 129701614 20 \n",
       "3 mMyoAui1.0.SUPER__1 107953644 108596369 51 \n",
       "4 mMyoAui1.0.SUPER__1 107775998 107878130 17 \n",
       "5 mMyoAui1.0.SUPER__1 102707193 107775906 126\n",
       "6 mMyoAui1.0.SUPER__1 77396642 80722081 95   \n",
       "  Spec1_Query_ID                              Spec1_Chr Spec1_Start Spec1_End\n",
       "1 mMyoAui1.0.SUPER__1 132064304 133790000 78  SUPER__1  132071739   133691155\n",
       "2 mMyoAui1.0.SUPER__1 129570000 129660000 41  SUPER__1  129590316   129660000\n",
       "3 mMyoAui1.0.SUPER__1 107953464 108594616 47  SUPER__1  107953644   108594616\n",
       "4 mMyoAui1.0.SUPER__1 107775936 107878208 5   SUPER__1  107775998   107878130\n",
       "5 mMyoAui1.0.SUPER__1 102710168 107775000 160 SUPER__1  102710168   107775000\n",
       "6 mMyoAui1.0.SUPER__1 77385136 80828208 111   SUPER__1   77396642    80722081\n",
       "  Spec2_Subj_ID                               Paf2_Mapq\n",
       "1 mMyoCai1.0.SUPER__1 101097090 102889262 78  7        \n",
       "2 mMyoCai1.0.SUPER__1 104717580 104818745 41  5        \n",
       "3 mMyoCai1.0.SUPER__1 125701245 126298588 47  5        \n",
       "4 mMyoCai1.0.SUPER__1 126305882 126394334 5   6        \n",
       "5 mMyoCai1.0.SUPER__1 126459924 131512031 160 5        \n",
       "6 mMyoCai1.0.SUPER__1 154784786 158172564 111 6        \n",
       "  Spec2_Query_ID                              Paf1_Mapq\n",
       "1 mMyoCai1.0.SUPER__1 101212272 102868848 66  8        \n",
       "2 mMyoCai1.0.SUPER__1 104675000 104805000 20  5        \n",
       "3 mMyoCai1.0.SUPER__1 125693152 126298464 51  5        \n",
       "4 mMyoCai1.0.SUPER__1 126305912 126394360 17  6        \n",
       "5 mMyoCai1.0.SUPER__1 126459000 131515000 126 5        \n",
       "6 mMyoCai1.0.SUPER__1 154900000 158169232 95  6        "
      ]
     },
     "metadata": {},
     "output_type": "display_data"
    },
    {
     "data": {
      "text/html": [
       "<style>\n",
       ".list-inline {list-style: none; margin:0; padding: 0}\n",
       ".list-inline>li {display: inline-block}\n",
       ".list-inline>li:not(:last-child)::after {content: \"\\00b7\"; padding: 0 .5ex}\n",
       "</style>\n",
       "<ol class=list-inline><li>181</li><li>9</li></ol>\n"
      ],
      "text/latex": [
       "\\begin{enumerate*}\n",
       "\\item 181\n",
       "\\item 9\n",
       "\\end{enumerate*}\n"
      ],
      "text/markdown": [
       "1. 181\n",
       "2. 9\n",
       "\n",
       "\n"
      ],
      "text/plain": [
       "[1] 181   9"
      ]
     },
     "metadata": {},
     "output_type": "display_data"
    }
   ],
   "source": [
    "head(hits)\n",
    "dim(hits)"
   ]
  },
  {
   "cell_type": "code",
   "execution_count": 473,
   "metadata": {
    "vscode": {
     "languageId": "r"
    }
   },
   "outputs": [
    {
     "data": {
      "text/html": [
       "<style>\n",
       ".list-inline {list-style: none; margin:0; padding: 0}\n",
       ".list-inline>li {display: inline-block}\n",
       ".list-inline>li:not(:last-child)::after {content: \"\\00b7\"; padding: 0 .5ex}\n",
       "</style>\n",
       "<ol class=list-inline><li>181</li><li>5</li></ol>\n"
      ],
      "text/latex": [
       "\\begin{enumerate*}\n",
       "\\item 181\n",
       "\\item 5\n",
       "\\end{enumerate*}\n"
      ],
      "text/markdown": [
       "1. 181\n",
       "2. 5\n",
       "\n",
       "\n"
      ],
      "text/plain": [
       "[1] 181   5"
      ]
     },
     "metadata": {},
     "output_type": "display_data"
    }
   ],
   "source": [
    "hits$seqnames <- hits$Spec1_Chr\n",
    "hits$start <- hits$Spec1_Start\n",
    "hits$end <- hits$Spec1_End\n",
    "hits_ranges <- GenomicRanges::makeGRangesFromDataFrame(hits, ignore.strand = T)\n",
    "hits_ranges <- hits_ranges[unique(findOverlaps(hits_ranges, type = \"any\", select = \"first\")),]\n",
    "hits <- as.data.frame(hits_ranges)\n",
    "hit_filter_paf <- hits\n",
    "dim(hits)"
   ]
  },
  {
   "cell_type": "code",
   "execution_count": 474,
   "metadata": {
    "vscode": {
     "languageId": "r"
    }
   },
   "outputs": [],
   "source": [
    "hit_length <- hits %>%\n",
    "  dplyr::mutate(\n",
    "    Chr = sapply(strsplit(as.character(hits$seqnames), \".\", fixed = T), function(x) x[length(x)]),\n",
    "    Length = end - start\n",
    "  ) %>%\n",
    "  dplyr::group_by(Chr) %>%\n",
    "  dplyr::summarise(Recip_Length = sum(Length))\n",
    "hit_length <- merge(chromsize, hit_length, by = 1, all = TRUE)\n",
    "hit_length$Recip_Length[is.na(hit_length$Recip_Length)] <- 0\n",
    "hit_length$Frac = with(hit_length, Recip_Length / Chr_Length)\n",
    "hit_length$Frac_Filter <- hit_length$Frac\n",
    "hit_length$Frac_Total <- sum(hit_length$Recip_Length)/sum(hit_length$Chr_Length)\n",
    "hit_filter <- hit_length"
   ]
  },
  {
   "cell_type": "code",
   "execution_count": 477,
   "metadata": {
    "vscode": {
     "languageId": "r"
    }
   },
   "outputs": [
    {
     "data": {
      "text/html": [
       "<table class=\"dataframe\">\n",
       "<caption>A data.frame: 6 x 6</caption>\n",
       "<thead>\n",
       "\t<tr><th></th><th scope=col>Chr</th><th scope=col>Chr_Length</th><th scope=col>Recip_Length</th><th scope=col>Frac</th><th scope=col>Frac_Filter</th><th scope=col>Frac_Total</th></tr>\n",
       "\t<tr><th></th><th scope=col>&lt;chr&gt;</th><th scope=col>&lt;int&gt;</th><th scope=col>&lt;dbl&gt;</th><th scope=col>&lt;dbl&gt;</th><th scope=col>&lt;dbl&gt;</th><th scope=col>&lt;dbl&gt;</th></tr>\n",
       "</thead>\n",
       "<tbody>\n",
       "\t<tr><th scope=row>1</th><td>SUPER__15</td><td> 60666348</td><td>58580475</td><td>0.9656173</td><td>0.9656173</td><td>0.3999165</td></tr>\n",
       "\t<tr><th scope=row>2</th><td>SUPER__19</td><td> 46704236</td><td>43207985</td><td>0.9251406</td><td>0.9251406</td><td>0.3999165</td></tr>\n",
       "\t<tr><th scope=row>3</th><td>SUPER__5 </td><td>115173812</td><td>81807881</td><td>0.7102993</td><td>0.7102993</td><td>0.3999165</td></tr>\n",
       "\t<tr><th scope=row>4</th><td>SUPER__12</td><td> 82922506</td><td>56535693</td><td>0.6817895</td><td>0.6817895</td><td>0.3999165</td></tr>\n",
       "\t<tr><th scope=row>5</th><td>SUPER__17</td><td> 55938631</td><td>35397959</td><td>0.6327999</td><td>0.6327999</td><td>0.3999165</td></tr>\n",
       "\t<tr><th scope=row>6</th><td>SUPER__9 </td><td> 94826544</td><td>59160990</td><td>0.6238864</td><td>0.6238864</td><td>0.3999165</td></tr>\n",
       "</tbody>\n",
       "</table>\n"
      ],
      "text/latex": [
       "A data.frame: 6 x 6\n",
       "\\begin{tabular}{r|llllll}\n",
       "  & Chr & Chr\\_Length & Recip\\_Length & Frac & Frac\\_Filter & Frac\\_Total\\\\\n",
       "  & <chr> & <int> & <dbl> & <dbl> & <dbl> & <dbl>\\\\\n",
       "\\hline\n",
       "\t1 & SUPER\\_\\_15 &  60666348 & 58580475 & 0.9656173 & 0.9656173 & 0.3999165\\\\\n",
       "\t2 & SUPER\\_\\_19 &  46704236 & 43207985 & 0.9251406 & 0.9251406 & 0.3999165\\\\\n",
       "\t3 & SUPER\\_\\_5  & 115173812 & 81807881 & 0.7102993 & 0.7102993 & 0.3999165\\\\\n",
       "\t4 & SUPER\\_\\_12 &  82922506 & 56535693 & 0.6817895 & 0.6817895 & 0.3999165\\\\\n",
       "\t5 & SUPER\\_\\_17 &  55938631 & 35397959 & 0.6327999 & 0.6327999 & 0.3999165\\\\\n",
       "\t6 & SUPER\\_\\_9  &  94826544 & 59160990 & 0.6238864 & 0.6238864 & 0.3999165\\\\\n",
       "\\end{tabular}\n"
      ],
      "text/markdown": [
       "\n",
       "A data.frame: 6 x 6\n",
       "\n",
       "| <!--/--> | Chr &lt;chr&gt; | Chr_Length &lt;int&gt; | Recip_Length &lt;dbl&gt; | Frac &lt;dbl&gt; | Frac_Filter &lt;dbl&gt; | Frac_Total &lt;dbl&gt; |\n",
       "|---|---|---|---|---|---|---|\n",
       "| 1 | SUPER__15 |  60666348 | 58580475 | 0.9656173 | 0.9656173 | 0.3999165 |\n",
       "| 2 | SUPER__19 |  46704236 | 43207985 | 0.9251406 | 0.9251406 | 0.3999165 |\n",
       "| 3 | SUPER__5  | 115173812 | 81807881 | 0.7102993 | 0.7102993 | 0.3999165 |\n",
       "| 4 | SUPER__12 |  82922506 | 56535693 | 0.6817895 | 0.6817895 | 0.3999165 |\n",
       "| 5 | SUPER__17 |  55938631 | 35397959 | 0.6327999 | 0.6327999 | 0.3999165 |\n",
       "| 6 | SUPER__9  |  94826544 | 59160990 | 0.6238864 | 0.6238864 | 0.3999165 |\n",
       "\n"
      ],
      "text/plain": [
       "  Chr       Chr_Length Recip_Length Frac      Frac_Filter Frac_Total\n",
       "1 SUPER__15  60666348  58580475     0.9656173 0.9656173   0.3999165 \n",
       "2 SUPER__19  46704236  43207985     0.9251406 0.9251406   0.3999165 \n",
       "3 SUPER__5  115173812  81807881     0.7102993 0.7102993   0.3999165 \n",
       "4 SUPER__12  82922506  56535693     0.6817895 0.6817895   0.3999165 \n",
       "5 SUPER__17  55938631  35397959     0.6327999 0.6327999   0.3999165 \n",
       "6 SUPER__9   94826544  59160990     0.6238864 0.6238864   0.3999165 "
      ]
     },
     "metadata": {},
     "output_type": "display_data"
    }
   ],
   "source": [
    "head(hit_filter %>% arrange(desc(Frac_Filter)))"
   ]
  },
  {
   "cell_type": "code",
   "execution_count": 478,
   "metadata": {
    "vscode": {
     "languageId": "r"
    }
   },
   "outputs": [],
   "source": [
    "hits <- merge(hit_prefilter, hit_filter, by = \"Chr\")"
   ]
  },
  {
   "cell_type": "code",
   "execution_count": 479,
   "metadata": {
    "vscode": {
     "languageId": "r"
    }
   },
   "outputs": [
    {
     "data": {
      "image/png": "[encoded data removed]",
      "text/plain": [
       "plot without title"
      ]
     },
     "metadata": {
      "image/png": {
       "height": 420,
       "width": 420
      }
     },
     "output_type": "display_data"
    }
   ],
   "source": [
    "ggplot(hits, aes(x = Frac_Prefilter, y = Frac_Filter)) +\n",
    "  geom_point() +\n",
    "  geom_text(data = hits, aes(label = Chr))"
   ]
  },
  {
   "cell_type": "code",
   "execution_count": 14,
   "metadata": {
    "vscode": {
     "languageId": "r"
    }
   },
   "outputs": [
    {
     "data": {
      "text/html": [
       "<table class=\"dataframe\">\n",
       "<caption>A data.frame: 4 x 9</caption>\n",
       "<thead>\n",
       "\t<tr><th scope=col>Spec1_Subj_ID</th><th scope=col>Spec1_Query_ID</th><th scope=col>Spec1_Chr</th><th scope=col>Spec1_Start</th><th scope=col>Spec1_End</th><th scope=col>Spec2_Subj_ID</th><th scope=col>Paf2_Mapq</th><th scope=col>Spec2_Query_ID</th><th scope=col>Paf1_Mapq</th></tr>\n",
       "\t<tr><th scope=col>&lt;chr&gt;</th><th scope=col>&lt;chr&gt;</th><th scope=col>&lt;chr&gt;</th><th scope=col>&lt;int&gt;</th><th scope=col>&lt;int&gt;</th><th scope=col>&lt;chr&gt;</th><th scope=col>&lt;int&gt;</th><th scope=col>&lt;chr&gt;</th><th scope=col>&lt;int&gt;</th></tr>\n",
       "</thead>\n",
       "<tbody>\n",
       "\t<tr><td>mMyoAui1.0.SUPER__10 30165329 39051904 323</td><td>mMyoAui1.0.SUPER__10 30165256 39294600 361</td><td>SUPER__10</td><td>30165329</td><td>39051904</td><td>mMyoCai1.0.SUPER__10 30229927 39367010 361</td><td>9</td><td>mMyoCai1.0.SUPER__10 30230000 39125000 323</td><td>9</td></tr>\n",
       "\t<tr><td>mMyoAui1.0.SUPER__10 39086244 39343842 272</td><td>mMyoAui1.0.SUPER__10 30165256 39294600 361</td><td>SUPER__10</td><td>39086244</td><td>39294600</td><td>mMyoCai1.0.SUPER__10 30229927 39367010 361</td><td>9</td><td>mMyoCai1.0.SUPER__10 39165192 39420680 272</td><td>4</td></tr>\n",
       "\t<tr><td>mMyoAui1.0.SUPER__10 39416703 39490798 258</td><td>mMyoAui1.0.SUPER__10 39470768 39618864 309</td><td>SUPER__10</td><td>39470768</td><td>39490798</td><td>mMyoCai1.0.SUPER__10 39573912 39755084 309</td><td>2</td><td>mMyoCai1.0.SUPER__10 39536280 39603736 258</td><td>2</td></tr>\n",
       "\t<tr><td>mMyoAui1.0.SUPER__10 39610830 40498616 249</td><td>mMyoAui1.0.SUPER__10 39620000 40499616 307</td><td>SUPER__10</td><td>39620000</td><td>40498616</td><td>mMyoCai1.0.SUPER__10 39986409 40865779 307</td><td>7</td><td>mMyoCai1.0.SUPER__10 39975384 40864856 249</td><td>7</td></tr>\n",
       "</tbody>\n",
       "</table>\n"
      ],
      "text/latex": [
       "A data.frame: 4 x 9\n",
       "\\begin{tabular}{lllllllll}\n",
       " Spec1\\_Subj\\_ID & Spec1\\_Query\\_ID & Spec1\\_Chr & Spec1\\_Start & Spec1\\_End & Spec2\\_Subj\\_ID & Paf2\\_Mapq & Spec2\\_Query\\_ID & Paf1\\_Mapq\\\\\n",
       " <chr> & <chr> & <chr> & <int> & <int> & <chr> & <int> & <chr> & <int>\\\\\n",
       "\\hline\n",
       "\t mMyoAui1.0.SUPER\\_\\_10 30165329 39051904 323 & mMyoAui1.0.SUPER\\_\\_10 30165256 39294600 361 & SUPER\\_\\_10 & 30165329 & 39051904 & mMyoCai1.0.SUPER\\_\\_10 30229927 39367010 361 & 9 & mMyoCai1.0.SUPER\\_\\_10 30230000 39125000 323 & 9\\\\\n",
       "\t mMyoAui1.0.SUPER\\_\\_10 39086244 39343842 272 & mMyoAui1.0.SUPER\\_\\_10 30165256 39294600 361 & SUPER\\_\\_10 & 39086244 & 39294600 & mMyoCai1.0.SUPER\\_\\_10 30229927 39367010 361 & 9 & mMyoCai1.0.SUPER\\_\\_10 39165192 39420680 272 & 4\\\\\n",
       "\t mMyoAui1.0.SUPER\\_\\_10 39416703 39490798 258 & mMyoAui1.0.SUPER\\_\\_10 39470768 39618864 309 & SUPER\\_\\_10 & 39470768 & 39490798 & mMyoCai1.0.SUPER\\_\\_10 39573912 39755084 309 & 2 & mMyoCai1.0.SUPER\\_\\_10 39536280 39603736 258 & 2\\\\\n",
       "\t mMyoAui1.0.SUPER\\_\\_10 39610830 40498616 249 & mMyoAui1.0.SUPER\\_\\_10 39620000 40499616 307 & SUPER\\_\\_10 & 39620000 & 40498616 & mMyoCai1.0.SUPER\\_\\_10 39986409 40865779 307 & 7 & mMyoCai1.0.SUPER\\_\\_10 39975384 40864856 249 & 7\\\\\n",
       "\\end{tabular}\n"
      ],
      "text/markdown": [
       "\n",
       "A data.frame: 4 x 9\n",
       "\n",
       "| Spec1_Subj_ID &lt;chr&gt; | Spec1_Query_ID &lt;chr&gt; | Spec1_Chr &lt;chr&gt; | Spec1_Start &lt;int&gt; | Spec1_End &lt;int&gt; | Spec2_Subj_ID &lt;chr&gt; | Paf2_Mapq &lt;int&gt; | Spec2_Query_ID &lt;chr&gt; | Paf1_Mapq &lt;int&gt; |\n",
       "|---|---|---|---|---|---|---|---|---|\n",
       "| mMyoAui1.0.SUPER__10 30165329 39051904 323 | mMyoAui1.0.SUPER__10 30165256 39294600 361 | SUPER__10 | 30165329 | 39051904 | mMyoCai1.0.SUPER__10 30229927 39367010 361 | 9 | mMyoCai1.0.SUPER__10 30230000 39125000 323 | 9 |\n",
       "| mMyoAui1.0.SUPER__10 39086244 39343842 272 | mMyoAui1.0.SUPER__10 30165256 39294600 361 | SUPER__10 | 39086244 | 39294600 | mMyoCai1.0.SUPER__10 30229927 39367010 361 | 9 | mMyoCai1.0.SUPER__10 39165192 39420680 272 | 4 |\n",
       "| mMyoAui1.0.SUPER__10 39416703 39490798 258 | mMyoAui1.0.SUPER__10 39470768 39618864 309 | SUPER__10 | 39470768 | 39490798 | mMyoCai1.0.SUPER__10 39573912 39755084 309 | 2 | mMyoCai1.0.SUPER__10 39536280 39603736 258 | 2 |\n",
       "| mMyoAui1.0.SUPER__10 39610830 40498616 249 | mMyoAui1.0.SUPER__10 39620000 40499616 307 | SUPER__10 | 39620000 | 40498616 | mMyoCai1.0.SUPER__10 39986409 40865779 307 | 7 | mMyoCai1.0.SUPER__10 39975384 40864856 249 | 7 |\n",
       "\n"
      ],
      "text/plain": [
       "  Spec1_Subj_ID                             \n",
       "1 mMyoAui1.0.SUPER__10 30165329 39051904 323\n",
       "2 mMyoAui1.0.SUPER__10 39086244 39343842 272\n",
       "3 mMyoAui1.0.SUPER__10 39416703 39490798 258\n",
       "4 mMyoAui1.0.SUPER__10 39610830 40498616 249\n",
       "  Spec1_Query_ID                             Spec1_Chr Spec1_Start Spec1_End\n",
       "1 mMyoAui1.0.SUPER__10 30165256 39294600 361 SUPER__10 30165329    39051904 \n",
       "2 mMyoAui1.0.SUPER__10 30165256 39294600 361 SUPER__10 39086244    39294600 \n",
       "3 mMyoAui1.0.SUPER__10 39470768 39618864 309 SUPER__10 39470768    39490798 \n",
       "4 mMyoAui1.0.SUPER__10 39620000 40499616 307 SUPER__10 39620000    40498616 \n",
       "  Spec2_Subj_ID                              Paf2_Mapq\n",
       "1 mMyoCai1.0.SUPER__10 30229927 39367010 361 9        \n",
       "2 mMyoCai1.0.SUPER__10 30229927 39367010 361 9        \n",
       "3 mMyoCai1.0.SUPER__10 39573912 39755084 309 2        \n",
       "4 mMyoCai1.0.SUPER__10 39986409 40865779 307 7        \n",
       "  Spec2_Query_ID                             Paf1_Mapq\n",
       "1 mMyoCai1.0.SUPER__10 30230000 39125000 323 9        \n",
       "2 mMyoCai1.0.SUPER__10 39165192 39420680 272 4        \n",
       "3 mMyoCai1.0.SUPER__10 39536280 39603736 258 2        \n",
       "4 mMyoCai1.0.SUPER__10 39975384 40864856 249 7        "
      ]
     },
     "metadata": {},
     "output_type": "display_data"
    }
   ],
   "source": [
    "hits[grep(\"SUPER__10$\", hits$Spec1_Chr),] %>% arrange(Spec1_Start)"
   ]
  },
  {
   "cell_type": "code",
   "execution_count": 485,
   "metadata": {
    "vscode": {
     "languageId": "r"
    }
   },
   "outputs": [
    {
     "data": {
      "text/html": [
       "<table class=\"dataframe\">\n",
       "<caption>A data.frame: 17 x 5</caption>\n",
       "<thead>\n",
       "\t<tr><th scope=col>seqnames</th><th scope=col>start</th><th scope=col>end</th><th scope=col>width</th><th scope=col>strand</th></tr>\n",
       "\t<tr><th scope=col>&lt;chr&gt;</th><th scope=col>&lt;int&gt;</th><th scope=col>&lt;int&gt;</th><th scope=col>&lt;int&gt;</th><th scope=col>&lt;fct&gt;</th></tr>\n",
       "</thead>\n",
       "<tbody>\n",
       "\t<tr><td>mMyoAui1.0.SUPER__10</td><td>   20008</td><td> 3265126</td><td> 3245119</td><td>*</td></tr>\n",
       "\t<tr><td>mMyoAui1.0.SUPER__10</td><td> 3370017</td><td> 3464480</td><td>   94464</td><td>*</td></tr>\n",
       "\t<tr><td>mMyoAui1.0.SUPER__10</td><td> 4075390</td><td>29726712</td><td>25651323</td><td>*</td></tr>\n",
       "\t<tr><td>mMyoAui1.0.SUPER__10</td><td>29765477</td><td>30164150</td><td>  398674</td><td>*</td></tr>\n",
       "\t<tr><td>mMyoAui1.0.SUPER__10</td><td>30165256</td><td>39294600</td><td> 9129345</td><td>*</td></tr>\n",
       "\t<tr><td>mMyoAui1.0.SUPER__10</td><td>39311291</td><td>39334985</td><td>   23695</td><td>*</td></tr>\n",
       "\t<tr><td>mMyoAui1.0.SUPER__10</td><td>39340000</td><td>39464998</td><td>  124999</td><td>*</td></tr>\n",
       "\t<tr><td>mMyoAui1.0.SUPER__10</td><td>39470768</td><td>39618864</td><td>  148097</td><td>*</td></tr>\n",
       "\t<tr><td>mMyoAui1.0.SUPER__10</td><td>39620000</td><td>40499616</td><td>  879617</td><td>*</td></tr>\n",
       "\t<tr><td>mMyoAui1.0.SUPER__10</td><td>40614976</td><td>67543232</td><td>26928257</td><td>*</td></tr>\n",
       "\t<tr><td>mMyoAui1.0.SUPER__10</td><td>67586041</td><td>67809192</td><td>  223152</td><td>*</td></tr>\n",
       "\t<tr><td>mMyoAui1.0.SUPER__10</td><td>68070512</td><td>68130000</td><td>   59489</td><td>*</td></tr>\n",
       "\t<tr><td>mMyoAui1.0.SUPER__10</td><td>68275000</td><td>83804472</td><td>15529473</td><td>*</td></tr>\n",
       "\t<tr><td>mMyoAui1.0.SUPER__10</td><td>84691784</td><td>84764861</td><td>   73078</td><td>*</td></tr>\n",
       "\t<tr><td>mMyoAui1.0.SUPER__10</td><td>85220001</td><td>85290000</td><td>   70000</td><td>*</td></tr>\n",
       "\t<tr><td>mMyoAui1.0.SUPER__10</td><td>85420336</td><td>85469356</td><td>   49021</td><td>*</td></tr>\n",
       "\t<tr><td>mMyoAui1.0.SUPER__10</td><td>85470000</td><td>85507952</td><td>   37953</td><td>*</td></tr>\n",
       "</tbody>\n",
       "</table>\n"
      ],
      "text/latex": [
       "A data.frame: 17 x 5\n",
       "\\begin{tabular}{lllll}\n",
       " seqnames & start & end & width & strand\\\\\n",
       " <chr> & <int> & <int> & <int> & <fct>\\\\\n",
       "\\hline\n",
       "\t mMyoAui1.0.SUPER\\_\\_10 &    20008 &  3265126 &  3245119 & *\\\\\n",
       "\t mMyoAui1.0.SUPER\\_\\_10 &  3370017 &  3464480 &    94464 & *\\\\\n",
       "\t mMyoAui1.0.SUPER\\_\\_10 &  4075390 & 29726712 & 25651323 & *\\\\\n",
       "\t mMyoAui1.0.SUPER\\_\\_10 & 29765477 & 30164150 &   398674 & *\\\\\n",
       "\t mMyoAui1.0.SUPER\\_\\_10 & 30165256 & 39294600 &  9129345 & *\\\\\n",
       "\t mMyoAui1.0.SUPER\\_\\_10 & 39311291 & 39334985 &    23695 & *\\\\\n",
       "\t mMyoAui1.0.SUPER\\_\\_10 & 39340000 & 39464998 &   124999 & *\\\\\n",
       "\t mMyoAui1.0.SUPER\\_\\_10 & 39470768 & 39618864 &   148097 & *\\\\\n",
       "\t mMyoAui1.0.SUPER\\_\\_10 & 39620000 & 40499616 &   879617 & *\\\\\n",
       "\t mMyoAui1.0.SUPER\\_\\_10 & 40614976 & 67543232 & 26928257 & *\\\\\n",
       "\t mMyoAui1.0.SUPER\\_\\_10 & 67586041 & 67809192 &   223152 & *\\\\\n",
       "\t mMyoAui1.0.SUPER\\_\\_10 & 68070512 & 68130000 &    59489 & *\\\\\n",
       "\t mMyoAui1.0.SUPER\\_\\_10 & 68275000 & 83804472 & 15529473 & *\\\\\n",
       "\t mMyoAui1.0.SUPER\\_\\_10 & 84691784 & 84764861 &    73078 & *\\\\\n",
       "\t mMyoAui1.0.SUPER\\_\\_10 & 85220001 & 85290000 &    70000 & *\\\\\n",
       "\t mMyoAui1.0.SUPER\\_\\_10 & 85420336 & 85469356 &    49021 & *\\\\\n",
       "\t mMyoAui1.0.SUPER\\_\\_10 & 85470000 & 85507952 &    37953 & *\\\\\n",
       "\\end{tabular}\n"
      ],
      "text/markdown": [
       "\n",
       "A data.frame: 17 x 5\n",
       "\n",
       "| seqnames &lt;chr&gt; | start &lt;int&gt; | end &lt;int&gt; | width &lt;int&gt; | strand &lt;fct&gt; |\n",
       "|---|---|---|---|---|\n",
       "| mMyoAui1.0.SUPER__10 |    20008 |  3265126 |  3245119 | * |\n",
       "| mMyoAui1.0.SUPER__10 |  3370017 |  3464480 |    94464 | * |\n",
       "| mMyoAui1.0.SUPER__10 |  4075390 | 29726712 | 25651323 | * |\n",
       "| mMyoAui1.0.SUPER__10 | 29765477 | 30164150 |   398674 | * |\n",
       "| mMyoAui1.0.SUPER__10 | 30165256 | 39294600 |  9129345 | * |\n",
       "| mMyoAui1.0.SUPER__10 | 39311291 | 39334985 |    23695 | * |\n",
       "| mMyoAui1.0.SUPER__10 | 39340000 | 39464998 |   124999 | * |\n",
       "| mMyoAui1.0.SUPER__10 | 39470768 | 39618864 |   148097 | * |\n",
       "| mMyoAui1.0.SUPER__10 | 39620000 | 40499616 |   879617 | * |\n",
       "| mMyoAui1.0.SUPER__10 | 40614976 | 67543232 | 26928257 | * |\n",
       "| mMyoAui1.0.SUPER__10 | 67586041 | 67809192 |   223152 | * |\n",
       "| mMyoAui1.0.SUPER__10 | 68070512 | 68130000 |    59489 | * |\n",
       "| mMyoAui1.0.SUPER__10 | 68275000 | 83804472 | 15529473 | * |\n",
       "| mMyoAui1.0.SUPER__10 | 84691784 | 84764861 |    73078 | * |\n",
       "| mMyoAui1.0.SUPER__10 | 85220001 | 85290000 |    70000 | * |\n",
       "| mMyoAui1.0.SUPER__10 | 85420336 | 85469356 |    49021 | * |\n",
       "| mMyoAui1.0.SUPER__10 | 85470000 | 85507952 |    37953 | * |\n",
       "\n"
      ],
      "text/plain": [
       "   seqnames             start    end      width    strand\n",
       "1  mMyoAui1.0.SUPER__10    20008  3265126  3245119 *     \n",
       "2  mMyoAui1.0.SUPER__10  3370017  3464480    94464 *     \n",
       "3  mMyoAui1.0.SUPER__10  4075390 29726712 25651323 *     \n",
       "4  mMyoAui1.0.SUPER__10 29765477 30164150   398674 *     \n",
       "5  mMyoAui1.0.SUPER__10 30165256 39294600  9129345 *     \n",
       "6  mMyoAui1.0.SUPER__10 39311291 39334985    23695 *     \n",
       "7  mMyoAui1.0.SUPER__10 39340000 39464998   124999 *     \n",
       "8  mMyoAui1.0.SUPER__10 39470768 39618864   148097 *     \n",
       "9  mMyoAui1.0.SUPER__10 39620000 40499616   879617 *     \n",
       "10 mMyoAui1.0.SUPER__10 40614976 67543232 26928257 *     \n",
       "11 mMyoAui1.0.SUPER__10 67586041 67809192   223152 *     \n",
       "12 mMyoAui1.0.SUPER__10 68070512 68130000    59489 *     \n",
       "13 mMyoAui1.0.SUPER__10 68275000 83804472 15529473 *     \n",
       "14 mMyoAui1.0.SUPER__10 84691784 84764861    73078 *     \n",
       "15 mMyoAui1.0.SUPER__10 85220001 85290000    70000 *     \n",
       "16 mMyoAui1.0.SUPER__10 85420336 85469356    49021 *     \n",
       "17 mMyoAui1.0.SUPER__10 85470000 85507952    37953 *     "
      ]
     },
     "metadata": {},
     "output_type": "display_data"
    }
   ],
   "source": [
    "hit_prefilter_paf[grep(\"SUPER__10$\", hit_prefilter_paf$seqnames),] %>% arrange(start)"
   ]
  },
  {
   "cell_type": "code",
   "execution_count": null,
   "metadata": {
    "vscode": {
     "languageId": "r"
    }
   },
   "outputs": [],
   "source": []
  }
 ],
 "metadata": {
  "kernelspec": {
   "display_name": "R",
   "language": "R",
   "name": "ir"
  },
  "language_info": {
   "codemirror_mode": "r",
   "file_extension": ".r",
   "mimetype": "text/x-r-source",
   "name": "R",
   "pygments_lexer": "r",
   "version": "4.3.2"
  }
 },
 "nbformat": 4,
 "nbformat_minor": 2
}
