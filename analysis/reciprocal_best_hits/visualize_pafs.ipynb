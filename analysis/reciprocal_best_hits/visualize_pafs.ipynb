{
 "cells": [
  {
   "cell_type": "markdown",
   "metadata": {},
   "source": [
    "## Exploring some PAF files"
   ]
  },
  {
   "cell_type": "code",
   "execution_count": null,
   "metadata": {
    "vscode": {
     "languageId": "r"
    }
   },
   "outputs": [],
   "source": [
    "setwd(\"/Users/rebecca/sudmant/analyses/myotis/analysis/reciprocal_best_hits\")\n",
    "\n",
    "library(pafr)\n",
    "\n",
    "working_paf <- read_paf(list.files(\"data\", pattern = \".paf$\", full.names = TRUE)[1])\n",
    "dotplot(working_paf)\n"
   ]
  }
 ],
 "metadata": {
  "language_info": {
   "name": "python"
  }
 },
 "nbformat": 4,
 "nbformat_minor": 2
}
