{
 "cells": [
  {
   "cell_type": "code",
   "execution_count": 1,
   "metadata": {
    "vscode": {
     "languageId": "r"
    }
   },
   "outputs": [],
   "source": [
    "setwd(\"/Users/rebecca/sudmant/analyses/myotis/analysis/reciprocal_best_hits/contextualize_best_hits/resources/genes/peaks\")\n",
    "\n",
    "library(data.table)"
   ]
  },
  {
   "cell_type": "code",
   "execution_count": null,
   "metadata": {
    "vscode": {
     "languageId": "r"
    }
   },
   "outputs": [],
   "source": [
    "## Add column names to annotated peak data for clarity:\n",
    "\n",
    "for (peak_file in list.files(pattern = \"genes.tsv\")) {\n",
    "\n",
    "  peaks <- fread(peak_file, data.table = FALSE)\n",
    "  peaks <- peaks[,-5]\n",
    "  colnames(peaks) <- c(\n",
    "    \"Chr\", \"Intersect_Start\", \"Intersect_End\",\n",
    "    \"Peak_ID\", \"Peak_Start\", \"Peak_End\", \n",
    "    \"Biotype\", \"Gene_Start\", \"Gene_End\", \"Gene\"\n",
    "  )\n",
    "  fwrite(peaks, file = gsub(\".tsv\", \".csv\", peak_file))\n",
    "\n",
    "}"
   ]
  },
  {
   "cell_type": "code",
   "execution_count": 3,
   "metadata": {
    "vscode": {
     "languageId": "r"
    }
   },
   "outputs": [],
   "source": [
    "for (peak_file in list.files(pattern = \"peaks.tsv\")) {\n",
    "\n",
    "  peaks <- fread(peak_file, data.table = FALSE)\n",
    "  peaks <- peaks[,-5]\n",
    "  colnames(peaks) <- c(\n",
    "    \"Chr\", \"Peak_Start\", \"Peak_End\",\n",
    "    \"Peak_ID\", \"Reciprocal_Start\", \"Reciprocal_End\"\n",
    "  )\n",
    "  fwrite(peaks, file = gsub(\".tsv\", \".csv\", peak_file))\n",
    "\n",
    "}"
   ]
  }
 ],
 "metadata": {
  "kernelspec": {
   "display_name": "R",
   "language": "R",
   "name": "ir"
  },
  "language_info": {
   "codemirror_mode": "r",
   "file_extension": ".r",
   "mimetype": "text/x-r-source",
   "name": "R",
   "pygments_lexer": "r",
   "version": "4.3.2"
  }
 },
 "nbformat": 4,
 "nbformat_minor": 2
}
