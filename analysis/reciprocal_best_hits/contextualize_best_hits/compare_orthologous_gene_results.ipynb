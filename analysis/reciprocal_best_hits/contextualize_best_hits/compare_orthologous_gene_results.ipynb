{
 "cells": [
  {
   "cell_type": "code",
   "execution_count": 1,
   "metadata": {
    "vscode": {
     "languageId": "r"
    }
   },
   "outputs": [
    {
     "name": "stderr",
     "output_type": "stream",
     "text": [
      "\n",
      "Attaching package: 'dplyr'\n",
      "\n",
      "\n",
      "The following objects are masked from 'package:stats':\n",
      "\n",
      "    filter, lag\n",
      "\n",
      "\n",
      "The following objects are masked from 'package:base':\n",
      "\n",
      "    intersect, setdiff, setequal, union\n",
      "\n",
      "\n",
      "Loading required package: ggplot2\n",
      "\n",
      "\n",
      "Attaching package: 'data.table'\n",
      "\n",
      "\n",
      "The following objects are masked from 'package:dplyr':\n",
      "\n",
      "    between, first, last\n",
      "\n",
      "\n"
     ]
    }
   ],
   "source": [
    "setwd(\"/Users/rebecca/sudmant/analyses/myotis/analysis/reciprocal_best_hits/contextualize_best_hits\")\n",
    "\n",
    "library(dplyr, verbose = FALSE)\n",
    "library(pafr)\n",
    "library(tidyr)\n",
    "library(data.table)\n",
    "\n",
    "spec_genes <- fread(\"/Users/rebecca/sudmant/analyses/myotis/data/ortholog_mapping.csv\", data.table = FALSE)"
   ]
  },
  {
   "cell_type": "code",
   "execution_count": 2,
   "metadata": {
    "vscode": {
     "languageId": "r"
    }
   },
   "outputs": [
    {
     "data": {
      "text/html": [
       "9388"
      ],
      "text/latex": [
       "9388"
      ],
      "text/markdown": [
       "9388"
      ],
      "text/plain": [
       "[1] 9388"
      ]
     },
     "metadata": {},
     "output_type": "display_data"
    }
   ],
   "source": [
    "## Compare makeup of orthologous genes between species reciprocal regions:\n",
    "\n",
    "spec1_hits <- fread(\"resources/genes/mMyoAui_vs_mMyoCai_best_hits_genes_orthologs_only.csv\", data.table = FALSE)\n",
    "spec2_hits <- fread(\"resources/genes/mMyoCai_vs_mMyoAui_best_hits_genes_orthologs_only.csv\", data.table = FALSE)\n",
    "spec_hit_intersect <- intersect(unique(spec1_hits$myotis_ali_fn), unique(spec2_hits$myotis_ali_fn))\n",
    "n_distinct(spec_hit_intersect)"
   ]
  },
  {
   "cell_type": "code",
   "execution_count": 3,
   "metadata": {
    "vscode": {
     "languageId": "r"
    }
   },
   "outputs": [
    {
     "data": {
      "text/html": [
       "18490"
      ],
      "text/latex": [
       "18490"
      ],
      "text/markdown": [
       "18490"
      ],
      "text/plain": [
       "[1] 18490"
      ]
     },
     "metadata": {},
     "output_type": "display_data"
    }
   ],
   "source": [
    "## Compare makeup of orthologous genes between species found another way:\n",
    "\n",
    "spec_genes <- fread(\"/Users/rebecca/sudmant/analyses/myotis/data/ortholog_mapping.csv\", data.table = FALSE)\n",
    "spec_genes <- spec_genes[c(1:6, grep(\"auriculus|californicus\", colnames(spec_genes)))]\n",
    "spec_genes <- spec_genes[!(spec_genes$auriculus_ID %in% \"NA\" | spec_genes$californicus_ID %in% \"NA\")  ,]\n",
    "\n",
    "n_distinct(spec_genes$myotis_ali_fn)"
   ]
  },
  {
   "cell_type": "code",
   "execution_count": 4,
   "metadata": {
    "vscode": {
     "languageId": "r"
    }
   },
   "outputs": [
    {
     "data": {
      "text/html": [
       "9388"
      ],
      "text/latex": [
       "9388"
      ],
      "text/markdown": [
       "9388"
      ],
      "text/plain": [
       "[1] 9388"
      ]
     },
     "metadata": {},
     "output_type": "display_data"
    }
   ],
   "source": [
    "sum(spec_hit_intersect %in% spec_genes$myotis_ali_fn)"
   ]
  },
  {
   "cell_type": "code",
   "execution_count": 5,
   "metadata": {
    "vscode": {
     "languageId": "r"
    }
   },
   "outputs": [
    {
     "data": {
      "text/html": [
       "<table class=\"dataframe\">\n",
       "<caption>A data.frame: 6 x 8</caption>\n",
       "<thead>\n",
       "\t<tr><th></th><th scope=col>human_ID</th><th scope=col>human_gene_name</th><th scope=col>myotis_ali_fn</th><th scope=col>nb_myotis_sp</th><th scope=col>velifer_human_onetoone</th><th scope=col>velifer_human_strongblast</th><th scope=col>auriculus_ID</th><th scope=col>californicus_ID</th></tr>\n",
       "\t<tr><th></th><th scope=col>&lt;chr&gt;</th><th scope=col>&lt;chr&gt;</th><th scope=col>&lt;chr&gt;</th><th scope=col>&lt;int&gt;</th><th scope=col>&lt;lgl&gt;</th><th scope=col>&lt;lgl&gt;</th><th scope=col>&lt;chr&gt;</th><th scope=col>&lt;chr&gt;</th></tr>\n",
       "</thead>\n",
       "<tbody>\n",
       "\t<tr><th scope=row>3</th><td>ENSG00000000419.1</td><td>DPM1  </td><td>gene_3 </td><td>10</td><td>TRUE</td><td>FALSE</td><td>auriculus_evm.TU.SUPER__9.1131  </td><td>ENST00000371588.18-reg_1032-ENSG00000000419.0</td></tr>\n",
       "\t<tr><th scope=row>7</th><td>ENSG00000000938.1</td><td>FGR   </td><td>gene_7 </td><td>10</td><td>TRUE</td><td>FALSE</td><td>auriculus_evm.TU.SUPER__2.422   </td><td>californicus_evm.TU.SUPER__3.405             </td></tr>\n",
       "\t<tr><th scope=row>14</th><td>ENSG00000001460.1</td><td>STPG1 </td><td>gene_14</td><td>10</td><td>TRUE</td><td> TRUE</td><td>ENSG00000001460.1-blat-auriculus</td><td>ENSG00000001460.1-blat-californicus          </td></tr>\n",
       "\t<tr><th scope=row>15</th><td>ENSG00000001461.1</td><td>NIPAL3</td><td>gene_15</td><td>10</td><td>TRUE</td><td> TRUE</td><td>auriculus_evm.TU.SUPER__2.351   </td><td>californicus_evm.TU.SUPER__3.331             </td></tr>\n",
       "\t<tr><th scope=row>16</th><td>ENSG00000001497.1</td><td>LAS1L </td><td>gene_16</td><td> 9</td><td>TRUE</td><td> TRUE</td><td>auriculus_evm.TU.SUPER__4.1008  </td><td>californicus_evm.TU.SUPER__4.1036            </td></tr>\n",
       "\t<tr><th scope=row>20</th><td>ENSG00000001626.1</td><td>CFTR  </td><td>gene_20</td><td>10</td><td>TRUE</td><td> TRUE</td><td>auriculus_evm.TU.SUPER__11.822  </td><td>californicus_evm.TU.SUPER__11.795            </td></tr>\n",
       "</tbody>\n",
       "</table>\n"
      ],
      "text/latex": [
       "A data.frame: 6 x 8\n",
       "\\begin{tabular}{r|llllllll}\n",
       "  & human\\_ID & human\\_gene\\_name & myotis\\_ali\\_fn & nb\\_myotis\\_sp & velifer\\_human\\_onetoone & velifer\\_human\\_strongblast & auriculus\\_ID & californicus\\_ID\\\\\n",
       "  & <chr> & <chr> & <chr> & <int> & <lgl> & <lgl> & <chr> & <chr>\\\\\n",
       "\\hline\n",
       "\t3 & ENSG00000000419.1 & DPM1   & gene\\_3  & 10 & TRUE & FALSE & auriculus\\_evm.TU.SUPER\\_\\_9.1131   & ENST00000371588.18-reg\\_1032-ENSG00000000419.0\\\\\n",
       "\t7 & ENSG00000000938.1 & FGR    & gene\\_7  & 10 & TRUE & FALSE & auriculus\\_evm.TU.SUPER\\_\\_2.422    & californicus\\_evm.TU.SUPER\\_\\_3.405             \\\\\n",
       "\t14 & ENSG00000001460.1 & STPG1  & gene\\_14 & 10 & TRUE &  TRUE & ENSG00000001460.1-blat-auriculus & ENSG00000001460.1-blat-californicus          \\\\\n",
       "\t15 & ENSG00000001461.1 & NIPAL3 & gene\\_15 & 10 & TRUE &  TRUE & auriculus\\_evm.TU.SUPER\\_\\_2.351    & californicus\\_evm.TU.SUPER\\_\\_3.331             \\\\\n",
       "\t16 & ENSG00000001497.1 & LAS1L  & gene\\_16 &  9 & TRUE &  TRUE & auriculus\\_evm.TU.SUPER\\_\\_4.1008   & californicus\\_evm.TU.SUPER\\_\\_4.1036            \\\\\n",
       "\t20 & ENSG00000001626.1 & CFTR   & gene\\_20 & 10 & TRUE &  TRUE & auriculus\\_evm.TU.SUPER\\_\\_11.822   & californicus\\_evm.TU.SUPER\\_\\_11.795            \\\\\n",
       "\\end{tabular}\n"
      ],
      "text/markdown": [
       "\n",
       "A data.frame: 6 x 8\n",
       "\n",
       "| <!--/--> | human_ID &lt;chr&gt; | human_gene_name &lt;chr&gt; | myotis_ali_fn &lt;chr&gt; | nb_myotis_sp &lt;int&gt; | velifer_human_onetoone &lt;lgl&gt; | velifer_human_strongblast &lt;lgl&gt; | auriculus_ID &lt;chr&gt; | californicus_ID &lt;chr&gt; |\n",
       "|---|---|---|---|---|---|---|---|---|\n",
       "| 3 | ENSG00000000419.1 | DPM1   | gene_3  | 10 | TRUE | FALSE | auriculus_evm.TU.SUPER__9.1131   | ENST00000371588.18-reg_1032-ENSG00000000419.0 |\n",
       "| 7 | ENSG00000000938.1 | FGR    | gene_7  | 10 | TRUE | FALSE | auriculus_evm.TU.SUPER__2.422    | californicus_evm.TU.SUPER__3.405              |\n",
       "| 14 | ENSG00000001460.1 | STPG1  | gene_14 | 10 | TRUE |  TRUE | ENSG00000001460.1-blat-auriculus | ENSG00000001460.1-blat-californicus           |\n",
       "| 15 | ENSG00000001461.1 | NIPAL3 | gene_15 | 10 | TRUE |  TRUE | auriculus_evm.TU.SUPER__2.351    | californicus_evm.TU.SUPER__3.331              |\n",
       "| 16 | ENSG00000001497.1 | LAS1L  | gene_16 |  9 | TRUE |  TRUE | auriculus_evm.TU.SUPER__4.1008   | californicus_evm.TU.SUPER__4.1036             |\n",
       "| 20 | ENSG00000001626.1 | CFTR   | gene_20 | 10 | TRUE |  TRUE | auriculus_evm.TU.SUPER__11.822   | californicus_evm.TU.SUPER__11.795             |\n",
       "\n"
      ],
      "text/plain": [
       "   human_ID          human_gene_name myotis_ali_fn nb_myotis_sp\n",
       "3  ENSG00000000419.1 DPM1            gene_3        10          \n",
       "7  ENSG00000000938.1 FGR             gene_7        10          \n",
       "14 ENSG00000001460.1 STPG1           gene_14       10          \n",
       "15 ENSG00000001461.1 NIPAL3          gene_15       10          \n",
       "16 ENSG00000001497.1 LAS1L           gene_16        9          \n",
       "20 ENSG00000001626.1 CFTR            gene_20       10          \n",
       "   velifer_human_onetoone velifer_human_strongblast\n",
       "3  TRUE                   FALSE                    \n",
       "7  TRUE                   FALSE                    \n",
       "14 TRUE                    TRUE                    \n",
       "15 TRUE                    TRUE                    \n",
       "16 TRUE                    TRUE                    \n",
       "20 TRUE                    TRUE                    \n",
       "   auriculus_ID                    \n",
       "3  auriculus_evm.TU.SUPER__9.1131  \n",
       "7  auriculus_evm.TU.SUPER__2.422   \n",
       "14 ENSG00000001460.1-blat-auriculus\n",
       "15 auriculus_evm.TU.SUPER__2.351   \n",
       "16 auriculus_evm.TU.SUPER__4.1008  \n",
       "20 auriculus_evm.TU.SUPER__11.822  \n",
       "   californicus_ID                              \n",
       "3  ENST00000371588.18-reg_1032-ENSG00000000419.0\n",
       "7  californicus_evm.TU.SUPER__3.405             \n",
       "14 ENSG00000001460.1-blat-californicus          \n",
       "15 californicus_evm.TU.SUPER__3.331             \n",
       "16 californicus_evm.TU.SUPER__4.1036            \n",
       "20 californicus_evm.TU.SUPER__11.795            "
      ]
     },
     "metadata": {},
     "output_type": "display_data"
    }
   ],
   "source": [
    "head(spec_genes[!spec_genes$myotis_ali_fn %in% spec_hit_intersect,])"
   ]
  },
  {
   "cell_type": "code",
   "execution_count": 9,
   "metadata": {
    "vscode": {
     "languageId": "r"
    }
   },
   "outputs": [
    {
     "data": {
      "text/html": [
       "<table class=\"dataframe\">\n",
       "<caption>A data.frame: 2 x 9</caption>\n",
       "<thead>\n",
       "\t<tr><th></th><th scope=col>V1</th><th scope=col>V2</th><th scope=col>V3</th><th scope=col>V4</th><th scope=col>V5</th><th scope=col>V6</th><th scope=col>V7</th><th scope=col>V8</th><th scope=col>V9</th></tr>\n",
       "\t<tr><th></th><th scope=col>&lt;chr&gt;</th><th scope=col>&lt;chr&gt;</th><th scope=col>&lt;chr&gt;</th><th scope=col>&lt;int&gt;</th><th scope=col>&lt;int&gt;</th><th scope=col>&lt;chr&gt;</th><th scope=col>&lt;chr&gt;</th><th scope=col>&lt;chr&gt;</th><th scope=col>&lt;chr&gt;</th></tr>\n",
       "</thead>\n",
       "<tbody>\n",
       "\t<tr><th scope=row>169494</th><td>SUPER__4</td><td>EVM</td><td>gene</td><td>87358994</td><td>87390675</td><td>.</td><td>+</td><td>.</td><td>ID=evm.TU.SUPER__4.1008;Name=EVM prediction SUPER__4.1008                               </td></tr>\n",
       "\t<tr><th scope=row>169495</th><td>SUPER__4</td><td>EVM</td><td>mRNA</td><td>87358994</td><td>87390675</td><td>.</td><td>+</td><td>.</td><td>ID=evm.model.SUPER__4.1008;Parent=evm.TU.SUPER__4.1008;Name=EVM prediction SUPER__4.1008</td></tr>\n",
       "</tbody>\n",
       "</table>\n"
      ],
      "text/latex": [
       "A data.frame: 2 x 9\n",
       "\\begin{tabular}{r|lllllllll}\n",
       "  & V1 & V2 & V3 & V4 & V5 & V6 & V7 & V8 & V9\\\\\n",
       "  & <chr> & <chr> & <chr> & <int> & <int> & <chr> & <chr> & <chr> & <chr>\\\\\n",
       "\\hline\n",
       "\t169494 & SUPER\\_\\_4 & EVM & gene & 87358994 & 87390675 & . & + & . & ID=evm.TU.SUPER\\_\\_4.1008;Name=EVM prediction SUPER\\_\\_4.1008                               \\\\\n",
       "\t169495 & SUPER\\_\\_4 & EVM & mRNA & 87358994 & 87390675 & . & + & . & ID=evm.model.SUPER\\_\\_4.1008;Parent=evm.TU.SUPER\\_\\_4.1008;Name=EVM prediction SUPER\\_\\_4.1008\\\\\n",
       "\\end{tabular}\n"
      ],
      "text/markdown": [
       "\n",
       "A data.frame: 2 x 9\n",
       "\n",
       "| <!--/--> | V1 &lt;chr&gt; | V2 &lt;chr&gt; | V3 &lt;chr&gt; | V4 &lt;int&gt; | V5 &lt;int&gt; | V6 &lt;chr&gt; | V7 &lt;chr&gt; | V8 &lt;chr&gt; | V9 &lt;chr&gt; |\n",
       "|---|---|---|---|---|---|---|---|---|---|\n",
       "| 169494 | SUPER__4 | EVM | gene | 87358994 | 87390675 | . | + | . | ID=evm.TU.SUPER__4.1008;Name=EVM prediction SUPER__4.1008                                |\n",
       "| 169495 | SUPER__4 | EVM | mRNA | 87358994 | 87390675 | . | + | . | ID=evm.model.SUPER__4.1008;Parent=evm.TU.SUPER__4.1008;Name=EVM prediction SUPER__4.1008 |\n",
       "\n"
      ],
      "text/plain": [
       "       V1       V2  V3   V4       V5       V6 V7 V8\n",
       "169494 SUPER__4 EVM gene 87358994 87390675 .  +  . \n",
       "169495 SUPER__4 EVM mRNA 87358994 87390675 .  +  . \n",
       "       V9                                                                                      \n",
       "169494 ID=evm.TU.SUPER__4.1008;Name=EVM prediction SUPER__4.1008                               \n",
       "169495 ID=evm.model.SUPER__4.1008;Parent=evm.TU.SUPER__4.1008;Name=EVM prediction SUPER__4.1008"
      ]
     },
     "metadata": {},
     "output_type": "display_data"
    }
   ],
   "source": [
    "## Where is gene_16 in Auriculus genome?\n",
    "\n",
    "auric_gene <- \"evm.TU.SUPER__4.1008\"\n",
    "auric_genome <- fread(\"/Users/rebecca/sudmant/analyses/myotis/data/genomes/bat_genomes/gff_final_curated/mMyoAui1_finalAnnotation.gff3\", data.table = FALSE, skip = 1)\n",
    "auric_genome[grep(auric_gene, auric_genome$V9),]"
   ]
  },
  {
   "cell_type": "code",
   "execution_count": 10,
   "metadata": {
    "vscode": {
     "languageId": "r"
    }
   },
   "outputs": [
    {
     "data": {
      "text/html": [
       "<table class=\"dataframe\">\n",
       "<caption>A data.frame: 2 x 9</caption>\n",
       "<thead>\n",
       "\t<tr><th></th><th scope=col>V1</th><th scope=col>V2</th><th scope=col>V3</th><th scope=col>V4</th><th scope=col>V5</th><th scope=col>V6</th><th scope=col>V7</th><th scope=col>V8</th><th scope=col>V9</th></tr>\n",
       "\t<tr><th></th><th scope=col>&lt;chr&gt;</th><th scope=col>&lt;chr&gt;</th><th scope=col>&lt;chr&gt;</th><th scope=col>&lt;int&gt;</th><th scope=col>&lt;int&gt;</th><th scope=col>&lt;chr&gt;</th><th scope=col>&lt;chr&gt;</th><th scope=col>&lt;chr&gt;</th><th scope=col>&lt;chr&gt;</th></tr>\n",
       "</thead>\n",
       "<tbody>\n",
       "\t<tr><th scope=row>182633</th><td>SUPER__4</td><td>EVM</td><td>gene</td><td>88158666</td><td>88182283</td><td>.</td><td>+</td><td>.</td><td>ID=evm.TU.SUPER__4.1036;Name=EVM prediction SUPER__4.1036                               </td></tr>\n",
       "\t<tr><th scope=row>182634</th><td>SUPER__4</td><td>EVM</td><td>mRNA</td><td>88158666</td><td>88182283</td><td>.</td><td>+</td><td>.</td><td>ID=evm.model.SUPER__4.1036;Parent=evm.TU.SUPER__4.1036;Name=EVM prediction SUPER__4.1036</td></tr>\n",
       "</tbody>\n",
       "</table>\n"
      ],
      "text/latex": [
       "A data.frame: 2 x 9\n",
       "\\begin{tabular}{r|lllllllll}\n",
       "  & V1 & V2 & V3 & V4 & V5 & V6 & V7 & V8 & V9\\\\\n",
       "  & <chr> & <chr> & <chr> & <int> & <int> & <chr> & <chr> & <chr> & <chr>\\\\\n",
       "\\hline\n",
       "\t182633 & SUPER\\_\\_4 & EVM & gene & 88158666 & 88182283 & . & + & . & ID=evm.TU.SUPER\\_\\_4.1036;Name=EVM prediction SUPER\\_\\_4.1036                               \\\\\n",
       "\t182634 & SUPER\\_\\_4 & EVM & mRNA & 88158666 & 88182283 & . & + & . & ID=evm.model.SUPER\\_\\_4.1036;Parent=evm.TU.SUPER\\_\\_4.1036;Name=EVM prediction SUPER\\_\\_4.1036\\\\\n",
       "\\end{tabular}\n"
      ],
      "text/markdown": [
       "\n",
       "A data.frame: 2 x 9\n",
       "\n",
       "| <!--/--> | V1 &lt;chr&gt; | V2 &lt;chr&gt; | V3 &lt;chr&gt; | V4 &lt;int&gt; | V5 &lt;int&gt; | V6 &lt;chr&gt; | V7 &lt;chr&gt; | V8 &lt;chr&gt; | V9 &lt;chr&gt; |\n",
       "|---|---|---|---|---|---|---|---|---|---|\n",
       "| 182633 | SUPER__4 | EVM | gene | 88158666 | 88182283 | . | + | . | ID=evm.TU.SUPER__4.1036;Name=EVM prediction SUPER__4.1036                                |\n",
       "| 182634 | SUPER__4 | EVM | mRNA | 88158666 | 88182283 | . | + | . | ID=evm.model.SUPER__4.1036;Parent=evm.TU.SUPER__4.1036;Name=EVM prediction SUPER__4.1036 |\n",
       "\n"
      ],
      "text/plain": [
       "       V1       V2  V3   V4       V5       V6 V7 V8\n",
       "182633 SUPER__4 EVM gene 88158666 88182283 .  +  . \n",
       "182634 SUPER__4 EVM mRNA 88158666 88182283 .  +  . \n",
       "       V9                                                                                      \n",
       "182633 ID=evm.TU.SUPER__4.1036;Name=EVM prediction SUPER__4.1036                               \n",
       "182634 ID=evm.model.SUPER__4.1036;Parent=evm.TU.SUPER__4.1036;Name=EVM prediction SUPER__4.1036"
      ]
     },
     "metadata": {},
     "output_type": "display_data"
    }
   ],
   "source": [
    "## Where is gene_16 in Californiacus genome?\n",
    "\n",
    "calif_gene <- \"evm.TU.SUPER__4.1036\"\n",
    "calif_genome <- fread(\"/Users/rebecca/sudmant/analyses/myotis/data/genomes/bat_genomes/gff_final_curated/mMyoCai1_finalAnnotation.gff3\", data.table = FALSE, skip = 1)\n",
    "calif_genome[grep(calif_gene, calif_genome$V9),]"
   ]
  },
  {
   "cell_type": "code",
   "execution_count": null,
   "metadata": {
    "vscode": {
     "languageId": "r"
    }
   },
   "outputs": [],
   "source": [
    "## Does this region appear as a hit in the Californicus --> Auriculus PAF?"
   ]
  },
  {
   "cell_type": "code",
   "execution_count": 17,
   "metadata": {
    "vscode": {
     "languageId": "r"
    }
   },
   "outputs": [
    {
     "data": {
      "text/html": [
       "<table class=\"dataframe\">\n",
       "<caption>A pafr: 1 x 13</caption>\n",
       "<thead>\n",
       "\t<tr><th></th><th scope=col>qname</th><th scope=col>qlen</th><th scope=col>qstart</th><th scope=col>qend</th><th scope=col>strand</th><th scope=col>tname</th><th scope=col>tlen</th><th scope=col>tstart</th><th scope=col>tend</th><th scope=col>nmatch</th><th scope=col>alen</th><th scope=col>mapq</th><th scope=col>id</th></tr>\n",
       "\t<tr><th></th><th scope=col>&lt;chr&gt;</th><th scope=col>&lt;dbl&gt;</th><th scope=col>&lt;dbl&gt;</th><th scope=col>&lt;dbl&gt;</th><th scope=col>&lt;chr&gt;</th><th scope=col>&lt;chr&gt;</th><th scope=col>&lt;dbl&gt;</th><th scope=col>&lt;dbl&gt;</th><th scope=col>&lt;dbl&gt;</th><th scope=col>&lt;dbl&gt;</th><th scope=col>&lt;dbl&gt;</th><th scope=col>&lt;dbl&gt;</th><th scope=col>&lt;dbl&gt;</th></tr>\n",
       "</thead>\n",
       "<tbody>\n",
       "\t<tr><th scope=row>176</th><td>mMyoCai1.0.SUPER__4</td><td>126198552</td><td>86460000</td><td>90120000</td><td>+</td><td>mMyoAui1.0.SUPER__4</td><td>125946359</td><td>85697024</td><td>89405456</td><td>35326</td><td>3708432</td><td>16</td><td>97.3958</td></tr>\n",
       "</tbody>\n",
       "</table>\n"
      ],
      "text/latex": [
       "A pafr: 1 x 13\n",
       "\\begin{tabular}{r|lllllllllllll}\n",
       "  & qname & qlen & qstart & qend & strand & tname & tlen & tstart & tend & nmatch & alen & mapq & id\\\\\n",
       "  & <chr> & <dbl> & <dbl> & <dbl> & <chr> & <chr> & <dbl> & <dbl> & <dbl> & <dbl> & <dbl> & <dbl> & <dbl>\\\\\n",
       "\\hline\n",
       "\t176 & mMyoCai1.0.SUPER\\_\\_4 & 126198552 & 86460000 & 90120000 & + & mMyoAui1.0.SUPER\\_\\_4 & 125946359 & 85697024 & 89405456 & 35326 & 3708432 & 16 & 97.3958\\\\\n",
       "\\end{tabular}\n"
      ],
      "text/markdown": [
       "\n",
       "A pafr: 1 x 13\n",
       "\n",
       "| <!--/--> | qname &lt;chr&gt; | qlen &lt;dbl&gt; | qstart &lt;dbl&gt; | qend &lt;dbl&gt; | strand &lt;chr&gt; | tname &lt;chr&gt; | tlen &lt;dbl&gt; | tstart &lt;dbl&gt; | tend &lt;dbl&gt; | nmatch &lt;dbl&gt; | alen &lt;dbl&gt; | mapq &lt;dbl&gt; | id &lt;dbl&gt; |\n",
       "|---|---|---|---|---|---|---|---|---|---|---|---|---|---|\n",
       "| 176 | mMyoCai1.0.SUPER__4 | 126198552 | 86460000 | 90120000 | + | mMyoAui1.0.SUPER__4 | 125946359 | 85697024 | 89405456 | 35326 | 3708432 | 16 | 97.3958 |\n",
       "\n"
      ],
      "text/plain": [
       "    qname               qlen      qstart   qend     strand tname              \n",
       "176 mMyoCai1.0.SUPER__4 126198552 86460000 90120000 +      mMyoAui1.0.SUPER__4\n",
       "    tlen      tstart   tend     nmatch alen    mapq id     \n",
       "176 125946359 85697024 89405456 35326  3708432 16   97.3958"
      ]
     },
     "metadata": {},
     "output_type": "display_data"
    }
   ],
   "source": [
    "auric_paf <- read_paf(\"../get_best_hits/resources/pafs/mMyoAui1.cleaned.hapheader_mMyoCai1.cleaned.hapheader.approx.paf\")\n",
    "auric_paf <- auric_paf[grep(\"SUPER__4$\", auric_paf$tname),]\n",
    "auric_paf <- auric_paf[order(auric_paf$tstart),]\n",
    "auric_paf[auric_paf$tstart >= 84e6,][2,]"
   ]
  },
  {
   "cell_type": "code",
   "execution_count": 20,
   "metadata": {
    "vscode": {
     "languageId": "r"
    }
   },
   "outputs": [
    {
     "data": {
      "text/html": [
       "<table class=\"dataframe\">\n",
       "<caption>A pafr: 1 x 13</caption>\n",
       "<thead>\n",
       "\t<tr><th></th><th scope=col>qname</th><th scope=col>qlen</th><th scope=col>qstart</th><th scope=col>qend</th><th scope=col>strand</th><th scope=col>tname</th><th scope=col>tlen</th><th scope=col>tstart</th><th scope=col>tend</th><th scope=col>nmatch</th><th scope=col>alen</th><th scope=col>mapq</th><th scope=col>id</th></tr>\n",
       "\t<tr><th></th><th scope=col>&lt;chr&gt;</th><th scope=col>&lt;dbl&gt;</th><th scope=col>&lt;dbl&gt;</th><th scope=col>&lt;dbl&gt;</th><th scope=col>&lt;chr&gt;</th><th scope=col>&lt;chr&gt;</th><th scope=col>&lt;dbl&gt;</th><th scope=col>&lt;dbl&gt;</th><th scope=col>&lt;dbl&gt;</th><th scope=col>&lt;dbl&gt;</th><th scope=col>&lt;dbl&gt;</th><th scope=col>&lt;dbl&gt;</th><th scope=col>&lt;dbl&gt;</th></tr>\n",
       "</thead>\n",
       "<tbody>\n",
       "\t<tr><th scope=row>203</th><td>mMyoAui1.0.SUPER__4</td><td>125946359</td><td>85700000</td><td>89415000</td><td>+</td><td>mMyoCai1.0.SUPER__4</td><td>126198552</td><td>86463588</td><td>90130511</td><td>35625</td><td>3715000</td><td>16</td><td>97.4089</td></tr>\n",
       "</tbody>\n",
       "</table>\n"
      ],
      "text/latex": [
       "A pafr: 1 x 13\n",
       "\\begin{tabular}{r|lllllllllllll}\n",
       "  & qname & qlen & qstart & qend & strand & tname & tlen & tstart & tend & nmatch & alen & mapq & id\\\\\n",
       "  & <chr> & <dbl> & <dbl> & <dbl> & <chr> & <chr> & <dbl> & <dbl> & <dbl> & <dbl> & <dbl> & <dbl> & <dbl>\\\\\n",
       "\\hline\n",
       "\t203 & mMyoAui1.0.SUPER\\_\\_4 & 125946359 & 85700000 & 89415000 & + & mMyoCai1.0.SUPER\\_\\_4 & 126198552 & 86463588 & 90130511 & 35625 & 3715000 & 16 & 97.4089\\\\\n",
       "\\end{tabular}\n"
      ],
      "text/markdown": [
       "\n",
       "A pafr: 1 x 13\n",
       "\n",
       "| <!--/--> | qname &lt;chr&gt; | qlen &lt;dbl&gt; | qstart &lt;dbl&gt; | qend &lt;dbl&gt; | strand &lt;chr&gt; | tname &lt;chr&gt; | tlen &lt;dbl&gt; | tstart &lt;dbl&gt; | tend &lt;dbl&gt; | nmatch &lt;dbl&gt; | alen &lt;dbl&gt; | mapq &lt;dbl&gt; | id &lt;dbl&gt; |\n",
       "|---|---|---|---|---|---|---|---|---|---|---|---|---|---|\n",
       "| 203 | mMyoAui1.0.SUPER__4 | 125946359 | 85700000 | 89415000 | + | mMyoCai1.0.SUPER__4 | 126198552 | 86463588 | 90130511 | 35625 | 3715000 | 16 | 97.4089 |\n",
       "\n"
      ],
      "text/plain": [
       "    qname               qlen      qstart   qend     strand tname              \n",
       "203 mMyoAui1.0.SUPER__4 125946359 85700000 89415000 +      mMyoCai1.0.SUPER__4\n",
       "    tlen      tstart   tend     nmatch alen    mapq id     \n",
       "203 126198552 86463588 90130511 35625  3715000 16   97.4089"
      ]
     },
     "metadata": {},
     "output_type": "display_data"
    }
   ],
   "source": [
    "## Does this region appear as a hit in the Auriculus --> Californicus PAF?\n",
    "calif_paf <- read_paf(\"../get_best_hits/resources/pafs/mMyoCai1.cleaned.hapheader_mMyoAui1.cleaned.hapheader.approx.paf\")\n",
    "calif_paf <- calif_paf[grep(\"SUPER__4$\", calif_paf$tname),]\n",
    "calif_paf <- calif_paf[order(calif_paf$tstart),]\n",
    "calif_paf[calif_paf$tstart >= 84e6,][2,]"
   ]
  },
  {
   "cell_type": "code",
   "execution_count": 23,
   "metadata": {
    "vscode": {
     "languageId": "r"
    }
   },
   "outputs": [
    {
     "data": {
      "text/html": [
       "<table class=\"dataframe\">\n",
       "<caption>A data.frame: 11 x 14</caption>\n",
       "<thead>\n",
       "\t<tr><th></th><th scope=col>qname</th><th scope=col>qlen</th><th scope=col>qstart</th><th scope=col>qend</th><th scope=col>strand</th><th scope=col>tname</th><th scope=col>tlen</th><th scope=col>tstart</th><th scope=col>tend</th><th scope=col>nmatch</th><th scope=col>alen</th><th scope=col>mapq</th><th scope=col>id</th><th scope=col>seq</th></tr>\n",
       "\t<tr><th></th><th scope=col>&lt;chr&gt;</th><th scope=col>&lt;int&gt;</th><th scope=col>&lt;int&gt;</th><th scope=col>&lt;int&gt;</th><th scope=col>&lt;chr&gt;</th><th scope=col>&lt;chr&gt;</th><th scope=col>&lt;int&gt;</th><th scope=col>&lt;int&gt;</th><th scope=col>&lt;int&gt;</th><th scope=col>&lt;int&gt;</th><th scope=col>&lt;int&gt;</th><th scope=col>&lt;int&gt;</th><th scope=col>&lt;chr&gt;</th><th scope=col>&lt;chr&gt;</th></tr>\n",
       "</thead>\n",
       "<tbody>\n",
       "\t<tr><th scope=row>41</th><td>mMyoAui1.0.SUPER__4</td><td>125946359</td><td> 84262514</td><td> 85608488</td><td>+</td><td>mMyoCai1.0.SUPER__4</td><td>126198552</td><td> 84885000</td><td> 86300000</td><td>13887</td><td>1417233</td><td>16</td><td>SUPER__4 97.3449</td><td>84885000 86300000 84262514 85608488    </td></tr>\n",
       "\t<tr><th scope=row>42</th><td>mMyoAui1.0.SUPER__4</td><td>125946359</td><td> 89471798</td><td> 98164241</td><td>+</td><td>mMyoCai1.0.SUPER__4</td><td>126198552</td><td> 90190000</td><td> 98995000</td><td>86653</td><td>8850032</td><td>15</td><td>SUPER__4 97.1541</td><td>90190000 98995000 89471798 98164241    </td></tr>\n",
       "\t<tr><th scope=row>43</th><td>mMyoAui1.0.SUPER__4</td><td>125946359</td><td> 98215000</td><td> 98601596</td><td>+</td><td>mMyoCai1.0.SUPER__4</td><td>126198552</td><td> 99095674</td><td> 99450000</td><td> 3623</td><td> 390000</td><td>14</td><td>SUPER__4 95.5404</td><td>99095674 99450000 98215000 98601596    </td></tr>\n",
       "\t<tr><th scope=row>44</th><td>mMyoAui1.0.SUPER__4</td><td>125946359</td><td> 98615000</td><td> 98680000</td><td>+</td><td>mMyoCai1.0.SUPER__4</td><td>126198552</td><td> 99774243</td><td> 99837031</td><td>  630</td><td>  65000</td><td>10</td><td>SUPER__4 89.4701</td><td>99774243 99837031 98615000 98680000    </td></tr>\n",
       "\t<tr><th scope=row>45</th><td>mMyoAui1.0.SUPER__4</td><td>125946359</td><td> 98785000</td><td> 98911962</td><td>+</td><td>mMyoCai1.0.SUPER__4</td><td>126198552</td><td>100020168</td><td>100125000</td><td> 1298</td><td> 135000</td><td>11</td><td>SUPER__4 91.9553</td><td>100020168 100125000 98785000 98911962  </td></tr>\n",
       "\t<tr><th scope=row>46</th><td>mMyoAui1.0.SUPER__4</td><td>125946359</td><td>100760000</td><td>100998749</td><td>+</td><td>mMyoCai1.0.SUPER__4</td><td>126198552</td><td>101919726</td><td>102145000</td><td> 2322</td><td> 240000</td><td>13</td><td>SUPER__4 95.185 </td><td>101919726 102145000 100760000 100998749</td></tr>\n",
       "\t<tr><th scope=row>47</th><td>mMyoAui1.0.SUPER__4</td><td>125946359</td><td>101005674</td><td>101149408</td><td>+</td><td>mMyoCai1.0.SUPER__4</td><td>126198552</td><td>102210000</td><td>102355000</td><td> 1425</td><td> 146869</td><td>12</td><td>SUPER__4 94.0923</td><td>102210000 102355000 101005674 101149408</td></tr>\n",
       "\t<tr><th scope=row>48</th><td>mMyoAui1.0.SUPER__4</td><td>125946359</td><td>101380000</td><td>105770000</td><td>+</td><td>mMyoCai1.0.SUPER__4</td><td>126198552</td><td>102535296</td><td>106908403</td><td>43399</td><td>4390000</td><td>16</td><td>SUPER__4 97.472 </td><td>102535296 106908403 101380000 105770000</td></tr>\n",
       "\t<tr><th scope=row>49</th><td>mMyoAui1.0.SUPER__4</td><td>125946359</td><td>105770000</td><td>111547482</td><td>+</td><td>mMyoCai1.0.SUPER__4</td><td>126198552</td><td>107046313</td><td>112760000</td><td>56462</td><td>5815000</td><td>16</td><td>SUPER__4 97.5343</td><td>107046313 112760000 105770000 111547482</td></tr>\n",
       "\t<tr><th scope=row>50</th><td>mMyoAui1.0.SUPER__4</td><td>125946359</td><td>111818638</td><td>116370000</td><td>+</td><td>mMyoCai1.0.SUPER__4</td><td>126198552</td><td>112960000</td><td>117410624</td><td>45633</td><td>4655000</td><td>16</td><td>SUPER__4 97.7209</td><td>112960000 117410624 111818638 116370000</td></tr>\n",
       "\t<tr><th scope=row>51</th><td>mMyoAui1.0.SUPER__4</td><td>125946359</td><td>116566031</td><td>120574647</td><td>+</td><td>mMyoCai1.0.SUPER__4</td><td>126198552</td><td>117540000</td><td>121615000</td><td>40892</td><td>4140000</td><td>17</td><td>SUPER__4 97.768 </td><td>117540000 121615000 116566031 120574647</td></tr>\n",
       "</tbody>\n",
       "</table>\n"
      ],
      "text/latex": [
       "A data.frame: 11 x 14\n",
       "\\begin{tabular}{r|llllllllllllll}\n",
       "  & qname & qlen & qstart & qend & strand & tname & tlen & tstart & tend & nmatch & alen & mapq & id & seq\\\\\n",
       "  & <chr> & <int> & <int> & <int> & <chr> & <chr> & <int> & <int> & <int> & <int> & <int> & <int> & <chr> & <chr>\\\\\n",
       "\\hline\n",
       "\t41 & mMyoAui1.0.SUPER\\_\\_4 & 125946359 &  84262514 &  85608488 & + & mMyoCai1.0.SUPER\\_\\_4 & 126198552 &  84885000 &  86300000 & 13887 & 1417233 & 16 & SUPER\\_\\_4 97.3449 & 84885000 86300000 84262514 85608488    \\\\\n",
       "\t42 & mMyoAui1.0.SUPER\\_\\_4 & 125946359 &  89471798 &  98164241 & + & mMyoCai1.0.SUPER\\_\\_4 & 126198552 &  90190000 &  98995000 & 86653 & 8850032 & 15 & SUPER\\_\\_4 97.1541 & 90190000 98995000 89471798 98164241    \\\\\n",
       "\t43 & mMyoAui1.0.SUPER\\_\\_4 & 125946359 &  98215000 &  98601596 & + & mMyoCai1.0.SUPER\\_\\_4 & 126198552 &  99095674 &  99450000 &  3623 &  390000 & 14 & SUPER\\_\\_4 95.5404 & 99095674 99450000 98215000 98601596    \\\\\n",
       "\t44 & mMyoAui1.0.SUPER\\_\\_4 & 125946359 &  98615000 &  98680000 & + & mMyoCai1.0.SUPER\\_\\_4 & 126198552 &  99774243 &  99837031 &   630 &   65000 & 10 & SUPER\\_\\_4 89.4701 & 99774243 99837031 98615000 98680000    \\\\\n",
       "\t45 & mMyoAui1.0.SUPER\\_\\_4 & 125946359 &  98785000 &  98911962 & + & mMyoCai1.0.SUPER\\_\\_4 & 126198552 & 100020168 & 100125000 &  1298 &  135000 & 11 & SUPER\\_\\_4 91.9553 & 100020168 100125000 98785000 98911962  \\\\\n",
       "\t46 & mMyoAui1.0.SUPER\\_\\_4 & 125946359 & 100760000 & 100998749 & + & mMyoCai1.0.SUPER\\_\\_4 & 126198552 & 101919726 & 102145000 &  2322 &  240000 & 13 & SUPER\\_\\_4 95.185  & 101919726 102145000 100760000 100998749\\\\\n",
       "\t47 & mMyoAui1.0.SUPER\\_\\_4 & 125946359 & 101005674 & 101149408 & + & mMyoCai1.0.SUPER\\_\\_4 & 126198552 & 102210000 & 102355000 &  1425 &  146869 & 12 & SUPER\\_\\_4 94.0923 & 102210000 102355000 101005674 101149408\\\\\n",
       "\t48 & mMyoAui1.0.SUPER\\_\\_4 & 125946359 & 101380000 & 105770000 & + & mMyoCai1.0.SUPER\\_\\_4 & 126198552 & 102535296 & 106908403 & 43399 & 4390000 & 16 & SUPER\\_\\_4 97.472  & 102535296 106908403 101380000 105770000\\\\\n",
       "\t49 & mMyoAui1.0.SUPER\\_\\_4 & 125946359 & 105770000 & 111547482 & + & mMyoCai1.0.SUPER\\_\\_4 & 126198552 & 107046313 & 112760000 & 56462 & 5815000 & 16 & SUPER\\_\\_4 97.5343 & 107046313 112760000 105770000 111547482\\\\\n",
       "\t50 & mMyoAui1.0.SUPER\\_\\_4 & 125946359 & 111818638 & 116370000 & + & mMyoCai1.0.SUPER\\_\\_4 & 126198552 & 112960000 & 117410624 & 45633 & 4655000 & 16 & SUPER\\_\\_4 97.7209 & 112960000 117410624 111818638 116370000\\\\\n",
       "\t51 & mMyoAui1.0.SUPER\\_\\_4 & 125946359 & 116566031 & 120574647 & + & mMyoCai1.0.SUPER\\_\\_4 & 126198552 & 117540000 & 121615000 & 40892 & 4140000 & 17 & SUPER\\_\\_4 97.768  & 117540000 121615000 116566031 120574647\\\\\n",
       "\\end{tabular}\n"
      ],
      "text/markdown": [
       "\n",
       "A data.frame: 11 x 14\n",
       "\n",
       "| <!--/--> | qname &lt;chr&gt; | qlen &lt;int&gt; | qstart &lt;int&gt; | qend &lt;int&gt; | strand &lt;chr&gt; | tname &lt;chr&gt; | tlen &lt;int&gt; | tstart &lt;int&gt; | tend &lt;int&gt; | nmatch &lt;int&gt; | alen &lt;int&gt; | mapq &lt;int&gt; | id &lt;chr&gt; | seq &lt;chr&gt; |\n",
       "|---|---|---|---|---|---|---|---|---|---|---|---|---|---|---|\n",
       "| 41 | mMyoAui1.0.SUPER__4 | 125946359 |  84262514 |  85608488 | + | mMyoCai1.0.SUPER__4 | 126198552 |  84885000 |  86300000 | 13887 | 1417233 | 16 | SUPER__4 97.3449 | 84885000 86300000 84262514 85608488     |\n",
       "| 42 | mMyoAui1.0.SUPER__4 | 125946359 |  89471798 |  98164241 | + | mMyoCai1.0.SUPER__4 | 126198552 |  90190000 |  98995000 | 86653 | 8850032 | 15 | SUPER__4 97.1541 | 90190000 98995000 89471798 98164241     |\n",
       "| 43 | mMyoAui1.0.SUPER__4 | 125946359 |  98215000 |  98601596 | + | mMyoCai1.0.SUPER__4 | 126198552 |  99095674 |  99450000 |  3623 |  390000 | 14 | SUPER__4 95.5404 | 99095674 99450000 98215000 98601596     |\n",
       "| 44 | mMyoAui1.0.SUPER__4 | 125946359 |  98615000 |  98680000 | + | mMyoCai1.0.SUPER__4 | 126198552 |  99774243 |  99837031 |   630 |   65000 | 10 | SUPER__4 89.4701 | 99774243 99837031 98615000 98680000     |\n",
       "| 45 | mMyoAui1.0.SUPER__4 | 125946359 |  98785000 |  98911962 | + | mMyoCai1.0.SUPER__4 | 126198552 | 100020168 | 100125000 |  1298 |  135000 | 11 | SUPER__4 91.9553 | 100020168 100125000 98785000 98911962   |\n",
       "| 46 | mMyoAui1.0.SUPER__4 | 125946359 | 100760000 | 100998749 | + | mMyoCai1.0.SUPER__4 | 126198552 | 101919726 | 102145000 |  2322 |  240000 | 13 | SUPER__4 95.185  | 101919726 102145000 100760000 100998749 |\n",
       "| 47 | mMyoAui1.0.SUPER__4 | 125946359 | 101005674 | 101149408 | + | mMyoCai1.0.SUPER__4 | 126198552 | 102210000 | 102355000 |  1425 |  146869 | 12 | SUPER__4 94.0923 | 102210000 102355000 101005674 101149408 |\n",
       "| 48 | mMyoAui1.0.SUPER__4 | 125946359 | 101380000 | 105770000 | + | mMyoCai1.0.SUPER__4 | 126198552 | 102535296 | 106908403 | 43399 | 4390000 | 16 | SUPER__4 97.472  | 102535296 106908403 101380000 105770000 |\n",
       "| 49 | mMyoAui1.0.SUPER__4 | 125946359 | 105770000 | 111547482 | + | mMyoCai1.0.SUPER__4 | 126198552 | 107046313 | 112760000 | 56462 | 5815000 | 16 | SUPER__4 97.5343 | 107046313 112760000 105770000 111547482 |\n",
       "| 50 | mMyoAui1.0.SUPER__4 | 125946359 | 111818638 | 116370000 | + | mMyoCai1.0.SUPER__4 | 126198552 | 112960000 | 117410624 | 45633 | 4655000 | 16 | SUPER__4 97.7209 | 112960000 117410624 111818638 116370000 |\n",
       "| 51 | mMyoAui1.0.SUPER__4 | 125946359 | 116566031 | 120574647 | + | mMyoCai1.0.SUPER__4 | 126198552 | 117540000 | 121615000 | 40892 | 4140000 | 17 | SUPER__4 97.768  | 117540000 121615000 116566031 120574647 |\n",
       "\n"
      ],
      "text/plain": [
       "   qname               qlen      qstart    qend      strand tname              \n",
       "41 mMyoAui1.0.SUPER__4 125946359  84262514  85608488 +      mMyoCai1.0.SUPER__4\n",
       "42 mMyoAui1.0.SUPER__4 125946359  89471798  98164241 +      mMyoCai1.0.SUPER__4\n",
       "43 mMyoAui1.0.SUPER__4 125946359  98215000  98601596 +      mMyoCai1.0.SUPER__4\n",
       "44 mMyoAui1.0.SUPER__4 125946359  98615000  98680000 +      mMyoCai1.0.SUPER__4\n",
       "45 mMyoAui1.0.SUPER__4 125946359  98785000  98911962 +      mMyoCai1.0.SUPER__4\n",
       "46 mMyoAui1.0.SUPER__4 125946359 100760000 100998749 +      mMyoCai1.0.SUPER__4\n",
       "47 mMyoAui1.0.SUPER__4 125946359 101005674 101149408 +      mMyoCai1.0.SUPER__4\n",
       "48 mMyoAui1.0.SUPER__4 125946359 101380000 105770000 +      mMyoCai1.0.SUPER__4\n",
       "49 mMyoAui1.0.SUPER__4 125946359 105770000 111547482 +      mMyoCai1.0.SUPER__4\n",
       "50 mMyoAui1.0.SUPER__4 125946359 111818638 116370000 +      mMyoCai1.0.SUPER__4\n",
       "51 mMyoAui1.0.SUPER__4 125946359 116566031 120574647 +      mMyoCai1.0.SUPER__4\n",
       "   tlen      tstart    tend      nmatch alen    mapq id              \n",
       "41 126198552  84885000  86300000 13887  1417233 16   SUPER__4 97.3449\n",
       "42 126198552  90190000  98995000 86653  8850032 15   SUPER__4 97.1541\n",
       "43 126198552  99095674  99450000  3623   390000 14   SUPER__4 95.5404\n",
       "44 126198552  99774243  99837031   630    65000 10   SUPER__4 89.4701\n",
       "45 126198552 100020168 100125000  1298   135000 11   SUPER__4 91.9553\n",
       "46 126198552 101919726 102145000  2322   240000 13   SUPER__4 95.185 \n",
       "47 126198552 102210000 102355000  1425   146869 12   SUPER__4 94.0923\n",
       "48 126198552 102535296 106908403 43399  4390000 16   SUPER__4 97.472 \n",
       "49 126198552 107046313 112760000 56462  5815000 16   SUPER__4 97.5343\n",
       "50 126198552 112960000 117410624 45633  4655000 16   SUPER__4 97.7209\n",
       "51 126198552 117540000 121615000 40892  4140000 17   SUPER__4 97.768 \n",
       "   seq                                    \n",
       "41 84885000 86300000 84262514 85608488    \n",
       "42 90190000 98995000 89471798 98164241    \n",
       "43 99095674 99450000 98215000 98601596    \n",
       "44 99774243 99837031 98615000 98680000    \n",
       "45 100020168 100125000 98785000 98911962  \n",
       "46 101919726 102145000 100760000 100998749\n",
       "47 102210000 102355000 101005674 101149408\n",
       "48 102535296 106908403 101380000 105770000\n",
       "49 107046313 112760000 105770000 111547482\n",
       "50 112960000 117410624 111818638 116370000\n",
       "51 117540000 121615000 116566031 120574647"
      ]
     },
     "metadata": {},
     "output_type": "display_data"
    }
   ],
   "source": [
    "## Why didn't this region show up in my reciprocal hits?\n",
    "\n",
    "auric_best_hits <- fread(\"../get_best_hits/results/mMyoAui_vs_mMyoCai_best_hits.csv\", data.table = FALSE)\n",
    "auric_best_hits <- auric_best_hits[grep(\"SUPER__4$\", auric_best_hits$tname),]\n",
    "auric_best_hits <- auric_best_hits[order(auric_best_hits$tstart),]\n",
    "auric_best_hits[auric_best_hits$tstart >= 84e6,]"
   ]
  },
  {
   "cell_type": "code",
   "execution_count": 32,
   "metadata": {
    "vscode": {
     "languageId": "r"
    }
   },
   "outputs": [
    {
     "data": {
      "text/html": [
       "<table class=\"dataframe\">\n",
       "<caption>A data.frame: 1 x 15</caption>\n",
       "<thead>\n",
       "\t<tr><th></th><th scope=col>V1</th><th scope=col>V2</th><th scope=col>V3</th><th scope=col>V4</th><th scope=col>V5</th><th scope=col>V6</th><th scope=col>V7</th><th scope=col>V8</th><th scope=col>V9</th><th scope=col>V10</th><th scope=col>V11</th><th scope=col>V12</th><th scope=col>V13</th><th scope=col>V14</th><th scope=col>V15</th></tr>\n",
       "\t<tr><th></th><th scope=col>&lt;chr&gt;</th><th scope=col>&lt;int&gt;</th><th scope=col>&lt;int&gt;</th><th scope=col>&lt;int&gt;</th><th scope=col>&lt;int&gt;</th><th scope=col>&lt;int&gt;</th><th scope=col>&lt;dbl&gt;</th><th scope=col>&lt;chr&gt;</th><th scope=col>&lt;int&gt;</th><th scope=col>&lt;int&gt;</th><th scope=col>&lt;chr&gt;</th><th scope=col>&lt;int&gt;</th><th scope=col>&lt;int&gt;</th><th scope=col>&lt;int&gt;</th><th scope=col>&lt;dbl&gt;</th></tr>\n",
       "</thead>\n",
       "<tbody>\n",
       "\t<tr><th scope=row>78</th><td>mMyoAui1.0.SUPER__4</td><td>89360011</td><td>89415000</td><td>1217</td><td>125000</td><td>11</td><td>92.6009</td><td>mMyoAui1.0.SUPER__4</td><td>85700000</td><td>89415000</td><td>+</td><td>35625</td><td>3715000</td><td>16</td><td>97.4089</td></tr>\n",
       "</tbody>\n",
       "</table>\n"
      ],
      "text/latex": [
       "A data.frame: 1 x 15\n",
       "\\begin{tabular}{r|lllllllllllllll}\n",
       "  & V1 & V2 & V3 & V4 & V5 & V6 & V7 & V8 & V9 & V10 & V11 & V12 & V13 & V14 & V15\\\\\n",
       "  & <chr> & <int> & <int> & <int> & <int> & <int> & <dbl> & <chr> & <int> & <int> & <chr> & <int> & <int> & <int> & <dbl>\\\\\n",
       "\\hline\n",
       "\t78 & mMyoAui1.0.SUPER\\_\\_4 & 89360011 & 89415000 & 1217 & 125000 & 11 & 92.6009 & mMyoAui1.0.SUPER\\_\\_4 & 85700000 & 89415000 & + & 35625 & 3715000 & 16 & 97.4089\\\\\n",
       "\\end{tabular}\n"
      ],
      "text/markdown": [
       "\n",
       "A data.frame: 1 x 15\n",
       "\n",
       "| <!--/--> | V1 &lt;chr&gt; | V2 &lt;int&gt; | V3 &lt;int&gt; | V4 &lt;int&gt; | V5 &lt;int&gt; | V6 &lt;int&gt; | V7 &lt;dbl&gt; | V8 &lt;chr&gt; | V9 &lt;int&gt; | V10 &lt;int&gt; | V11 &lt;chr&gt; | V12 &lt;int&gt; | V13 &lt;int&gt; | V14 &lt;int&gt; | V15 &lt;dbl&gt; |\n",
       "|---|---|---|---|---|---|---|---|---|---|---|---|---|---|---|---|\n",
       "| 78 | mMyoAui1.0.SUPER__4 | 89360011 | 89415000 | 1217 | 125000 | 11 | 92.6009 | mMyoAui1.0.SUPER__4 | 85700000 | 89415000 | + | 35625 | 3715000 | 16 | 97.4089 |\n",
       "\n"
      ],
      "text/plain": [
       "   V1                  V2       V3       V4   V5     V6 V7     \n",
       "78 mMyoAui1.0.SUPER__4 89360011 89415000 1217 125000 11 92.6009\n",
       "   V8                  V9       V10      V11 V12   V13     V14 V15    \n",
       "78 mMyoAui1.0.SUPER__4 85700000 89415000 +   35625 3715000 16  97.4089"
      ]
     },
     "metadata": {},
     "output_type": "display_data"
    },
    {
     "data": {
      "text/html": [
       "<table class=\"dataframe\">\n",
       "<caption>A data.frame: 1 x 15</caption>\n",
       "<thead>\n",
       "\t<tr><th></th><th scope=col>V1</th><th scope=col>V2</th><th scope=col>V3</th><th scope=col>V4</th><th scope=col>V5</th><th scope=col>V6</th><th scope=col>V7</th><th scope=col>V8</th><th scope=col>V9</th><th scope=col>V10</th><th scope=col>V11</th><th scope=col>V12</th><th scope=col>V13</th><th scope=col>V14</th><th scope=col>V15</th></tr>\n",
       "\t<tr><th></th><th scope=col>&lt;chr&gt;</th><th scope=col>&lt;int&gt;</th><th scope=col>&lt;int&gt;</th><th scope=col>&lt;int&gt;</th><th scope=col>&lt;int&gt;</th><th scope=col>&lt;int&gt;</th><th scope=col>&lt;dbl&gt;</th><th scope=col>&lt;chr&gt;</th><th scope=col>&lt;int&gt;</th><th scope=col>&lt;int&gt;</th><th scope=col>&lt;chr&gt;</th><th scope=col>&lt;int&gt;</th><th scope=col>&lt;int&gt;</th><th scope=col>&lt;int&gt;</th><th scope=col>&lt;dbl&gt;</th></tr>\n",
       "</thead>\n",
       "<tbody>\n",
       "\t<tr><th scope=row>422</th><td>mMyoAui1.0.SUPER__2</td><td>158875171</td><td>171269524</td><td>121408</td><td>12420000</td><td>16</td><td>97.3958</td><td>mMyoAui1.0.SUPER__2</td><td>158875000</td><td>171270000</td><td>+</td><td>120755</td><td>12419263</td><td>16</td><td>97.4118</td></tr>\n",
       "</tbody>\n",
       "</table>\n"
      ],
      "text/latex": [
       "A data.frame: 1 x 15\n",
       "\\begin{tabular}{r|lllllllllllllll}\n",
       "  & V1 & V2 & V3 & V4 & V5 & V6 & V7 & V8 & V9 & V10 & V11 & V12 & V13 & V14 & V15\\\\\n",
       "  & <chr> & <int> & <int> & <int> & <int> & <int> & <dbl> & <chr> & <int> & <int> & <chr> & <int> & <int> & <int> & <dbl>\\\\\n",
       "\\hline\n",
       "\t422 & mMyoAui1.0.SUPER\\_\\_2 & 158875171 & 171269524 & 121408 & 12420000 & 16 & 97.3958 & mMyoAui1.0.SUPER\\_\\_2 & 158875000 & 171270000 & + & 120755 & 12419263 & 16 & 97.4118\\\\\n",
       "\\end{tabular}\n"
      ],
      "text/markdown": [
       "\n",
       "A data.frame: 1 x 15\n",
       "\n",
       "| <!--/--> | V1 &lt;chr&gt; | V2 &lt;int&gt; | V3 &lt;int&gt; | V4 &lt;int&gt; | V5 &lt;int&gt; | V6 &lt;int&gt; | V7 &lt;dbl&gt; | V8 &lt;chr&gt; | V9 &lt;int&gt; | V10 &lt;int&gt; | V11 &lt;chr&gt; | V12 &lt;int&gt; | V13 &lt;int&gt; | V14 &lt;int&gt; | V15 &lt;dbl&gt; |\n",
       "|---|---|---|---|---|---|---|---|---|---|---|---|---|---|---|---|\n",
       "| 422 | mMyoAui1.0.SUPER__2 | 158875171 | 171269524 | 121408 | 12420000 | 16 | 97.3958 | mMyoAui1.0.SUPER__2 | 158875000 | 171270000 | + | 120755 | 12419263 | 16 | 97.4118 |\n",
       "\n"
      ],
      "text/plain": [
       "    V1                  V2        V3        V4     V5       V6 V7     \n",
       "422 mMyoAui1.0.SUPER__2 158875171 171269524 121408 12420000 16 97.3958\n",
       "    V8                  V9        V10       V11 V12    V13      V14 V15    \n",
       "422 mMyoAui1.0.SUPER__2 158875000 171270000 +   120755 12419263 16  97.4118"
      ]
     },
     "metadata": {},
     "output_type": "display_data"
    }
   ],
   "source": [
    "auric_intersect <- fread(\"../get_best_hits/resources/beds/mMyoAui_vs_mMyoCai_positions_intersect.bed\", data.table = FALSE)\n",
    "auric_intersect[grep(\"97.4089\", auric_intersect[,ncol(auric_intersect)]),]\n",
    "auric_intersect[grep(\"97.3958\", auric_intersect$V7),]"
   ]
  },
  {
   "cell_type": "code",
   "execution_count": 34,
   "metadata": {
    "vscode": {
     "languageId": "r"
    }
   },
   "outputs": [
    {
     "data": {
      "text/html": [
       "<table class=\"dataframe\">\n",
       "<caption>A data.frame: 1 x 15</caption>\n",
       "<thead>\n",
       "\t<tr><th></th><th scope=col>V1</th><th scope=col>V2</th><th scope=col>V3</th><th scope=col>V4</th><th scope=col>V5</th><th scope=col>V6</th><th scope=col>V7</th><th scope=col>V8</th><th scope=col>V9</th><th scope=col>V10</th><th scope=col>V11</th><th scope=col>V12</th><th scope=col>V13</th><th scope=col>V14</th><th scope=col>V15</th></tr>\n",
       "\t<tr><th></th><th scope=col>&lt;chr&gt;</th><th scope=col>&lt;int&gt;</th><th scope=col>&lt;int&gt;</th><th scope=col>&lt;int&gt;</th><th scope=col>&lt;int&gt;</th><th scope=col>&lt;int&gt;</th><th scope=col>&lt;dbl&gt;</th><th scope=col>&lt;chr&gt;</th><th scope=col>&lt;int&gt;</th><th scope=col>&lt;int&gt;</th><th scope=col>&lt;chr&gt;</th><th scope=col>&lt;int&gt;</th><th scope=col>&lt;int&gt;</th><th scope=col>&lt;int&gt;</th><th scope=col>&lt;dbl&gt;</th></tr>\n",
       "</thead>\n",
       "<tbody>\n",
       "\t<tr><th scope=row>452</th><td>mMyoCai1.0.SUPER__3</td><td>159910387</td><td>172329650</td><td>120755</td><td>12419263</td><td>16</td><td>97.4118</td><td>mMyoCai1.0.SUPER__3</td><td>159910000</td><td>172330000</td><td>+</td><td>121408</td><td>12420000</td><td>16</td><td>97.3958</td></tr>\n",
       "</tbody>\n",
       "</table>\n"
      ],
      "text/latex": [
       "A data.frame: 1 x 15\n",
       "\\begin{tabular}{r|lllllllllllllll}\n",
       "  & V1 & V2 & V3 & V4 & V5 & V6 & V7 & V8 & V9 & V10 & V11 & V12 & V13 & V14 & V15\\\\\n",
       "  & <chr> & <int> & <int> & <int> & <int> & <int> & <dbl> & <chr> & <int> & <int> & <chr> & <int> & <int> & <int> & <dbl>\\\\\n",
       "\\hline\n",
       "\t452 & mMyoCai1.0.SUPER\\_\\_3 & 159910387 & 172329650 & 120755 & 12419263 & 16 & 97.4118 & mMyoCai1.0.SUPER\\_\\_3 & 159910000 & 172330000 & + & 121408 & 12420000 & 16 & 97.3958\\\\\n",
       "\\end{tabular}\n"
      ],
      "text/markdown": [
       "\n",
       "A data.frame: 1 x 15\n",
       "\n",
       "| <!--/--> | V1 &lt;chr&gt; | V2 &lt;int&gt; | V3 &lt;int&gt; | V4 &lt;int&gt; | V5 &lt;int&gt; | V6 &lt;int&gt; | V7 &lt;dbl&gt; | V8 &lt;chr&gt; | V9 &lt;int&gt; | V10 &lt;int&gt; | V11 &lt;chr&gt; | V12 &lt;int&gt; | V13 &lt;int&gt; | V14 &lt;int&gt; | V15 &lt;dbl&gt; |\n",
       "|---|---|---|---|---|---|---|---|---|---|---|---|---|---|---|---|\n",
       "| 452 | mMyoCai1.0.SUPER__3 | 159910387 | 172329650 | 120755 | 12419263 | 16 | 97.4118 | mMyoCai1.0.SUPER__3 | 159910000 | 172330000 | + | 121408 | 12420000 | 16 | 97.3958 |\n",
       "\n"
      ],
      "text/plain": [
       "    V1                  V2        V3        V4     V5       V6 V7     \n",
       "452 mMyoCai1.0.SUPER__3 159910387 172329650 120755 12419263 16 97.4118\n",
       "    V8                  V9        V10       V11 V12    V13      V14 V15    \n",
       "452 mMyoCai1.0.SUPER__3 159910000 172330000 +   121408 12420000 16  97.3958"
      ]
     },
     "metadata": {},
     "output_type": "display_data"
    },
    {
     "data": {
      "text/html": [
       "<table class=\"dataframe\">\n",
       "<caption>A data.frame: 1 x 15</caption>\n",
       "<thead>\n",
       "\t<tr><th></th><th scope=col>V1</th><th scope=col>V2</th><th scope=col>V3</th><th scope=col>V4</th><th scope=col>V5</th><th scope=col>V6</th><th scope=col>V7</th><th scope=col>V8</th><th scope=col>V9</th><th scope=col>V10</th><th scope=col>V11</th><th scope=col>V12</th><th scope=col>V13</th><th scope=col>V14</th><th scope=col>V15</th></tr>\n",
       "\t<tr><th></th><th scope=col>&lt;chr&gt;</th><th scope=col>&lt;int&gt;</th><th scope=col>&lt;int&gt;</th><th scope=col>&lt;int&gt;</th><th scope=col>&lt;int&gt;</th><th scope=col>&lt;int&gt;</th><th scope=col>&lt;dbl&gt;</th><th scope=col>&lt;chr&gt;</th><th scope=col>&lt;int&gt;</th><th scope=col>&lt;int&gt;</th><th scope=col>&lt;chr&gt;</th><th scope=col>&lt;int&gt;</th><th scope=col>&lt;int&gt;</th><th scope=col>&lt;int&gt;</th><th scope=col>&lt;dbl&gt;</th></tr>\n",
       "</thead>\n",
       "<tbody>\n",
       "\t<tr><th scope=row>451</th><td>mMyoCai1.0.SUPER__4</td><td>90100000</td><td>90130511</td><td>35625</td><td>3715000</td><td>16</td><td>97.4089</td><td>mMyoCai1.0.SUPER__4</td><td>90100000</td><td>90225000</td><td>-</td><td>1217</td><td>125000</td><td>11</td><td>92.6009</td></tr>\n",
       "</tbody>\n",
       "</table>\n"
      ],
      "text/latex": [
       "A data.frame: 1 x 15\n",
       "\\begin{tabular}{r|lllllllllllllll}\n",
       "  & V1 & V2 & V3 & V4 & V5 & V6 & V7 & V8 & V9 & V10 & V11 & V12 & V13 & V14 & V15\\\\\n",
       "  & <chr> & <int> & <int> & <int> & <int> & <int> & <dbl> & <chr> & <int> & <int> & <chr> & <int> & <int> & <int> & <dbl>\\\\\n",
       "\\hline\n",
       "\t451 & mMyoCai1.0.SUPER\\_\\_4 & 90100000 & 90130511 & 35625 & 3715000 & 16 & 97.4089 & mMyoCai1.0.SUPER\\_\\_4 & 90100000 & 90225000 & - & 1217 & 125000 & 11 & 92.6009\\\\\n",
       "\\end{tabular}\n"
      ],
      "text/markdown": [
       "\n",
       "A data.frame: 1 x 15\n",
       "\n",
       "| <!--/--> | V1 &lt;chr&gt; | V2 &lt;int&gt; | V3 &lt;int&gt; | V4 &lt;int&gt; | V5 &lt;int&gt; | V6 &lt;int&gt; | V7 &lt;dbl&gt; | V8 &lt;chr&gt; | V9 &lt;int&gt; | V10 &lt;int&gt; | V11 &lt;chr&gt; | V12 &lt;int&gt; | V13 &lt;int&gt; | V14 &lt;int&gt; | V15 &lt;dbl&gt; |\n",
       "|---|---|---|---|---|---|---|---|---|---|---|---|---|---|---|---|\n",
       "| 451 | mMyoCai1.0.SUPER__4 | 90100000 | 90130511 | 35625 | 3715000 | 16 | 97.4089 | mMyoCai1.0.SUPER__4 | 90100000 | 90225000 | - | 1217 | 125000 | 11 | 92.6009 |\n",
       "\n"
      ],
      "text/plain": [
       "    V1                  V2       V3       V4    V5      V6 V7     \n",
       "451 mMyoCai1.0.SUPER__4 90100000 90130511 35625 3715000 16 97.4089\n",
       "    V8                  V9       V10      V11 V12  V13    V14 V15    \n",
       "451 mMyoCai1.0.SUPER__4 90100000 90225000 -   1217 125000 11  92.6009"
      ]
     },
     "metadata": {},
     "output_type": "display_data"
    }
   ],
   "source": [
    "calif_intersect <- fread(\"../get_best_hits/resources/beds/mMyoCai_vs_mMyoAui_positions_intersect.bed\", data.table = FALSE)\n",
    "calif_intersect[grep(\"97.3958\", calif_intersect[,ncol(calif_intersect)]),]\n",
    "calif_intersect[grep(\"97.4089\", calif_intersect$V7),]\n"
   ]
  },
  {
   "cell_type": "code",
   "execution_count": null,
   "metadata": {
    "vscode": {
     "languageId": "r"
    }
   },
   "outputs": [],
   "source": []
  }
 ],
 "metadata": {
  "kernelspec": {
   "display_name": "R",
   "language": "R",
   "name": "ir"
  },
  "language_info": {
   "codemirror_mode": "r",
   "file_extension": ".r",
   "mimetype": "text/x-r-source",
   "name": "R",
   "pygments_lexer": "r",
   "version": "4.3.2"
  }
 },
 "nbformat": 4,
 "nbformat_minor": 2
}
