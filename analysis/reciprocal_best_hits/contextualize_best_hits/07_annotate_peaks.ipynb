{
 "cells": [
  {
   "cell_type": "code",
   "execution_count": 1,
   "metadata": {
    "vscode": {
     "languageId": "r"
    }
   },
   "outputs": [],
   "source": [
    "setwd(\"/Users/rebecca/sudmant/analyses/myotis/analysis/reciprocal_best_hits/contextualize_best_hits/resources/peaks\")\n",
    "\n",
    "library(data.table)\n",
    "\n",
    "## Add column names to annotated peaks for clarity:\n",
    "\n",
    "for (peak_file in list.files(pattern = \"genes.tsv\")) {\n",
    "\n",
    "  anno_peaks <- fread(peak_file, data.table = FALSE)\n",
    "  anno_peaks <- anno_peaks[,-5]\n",
    "  colnames(anno_peaks) <- c(\n",
    "    \"Chr\", \"Intersect_Start\", \"Intersect_End\",\n",
    "    \"Peak_ID\", \"Peak_Start\", \"Peak_End\", \n",
    "    \"Biotype\", \"Gene_Start\", \"Gene_End\", \"Gene\"\n",
    "  )\n",
    "  fwrite(anno_peaks, file = gsub(\".tsv\", \".csv\", peak_file))\n",
    "\n",
    "}"
   ]
  }
 ],
 "metadata": {
  "kernelspec": {
   "display_name": "R",
   "language": "R",
   "name": "ir"
  },
  "language_info": {
   "codemirror_mode": "r",
   "file_extension": ".r",
   "mimetype": "text/x-r-source",
   "name": "R",
   "pygments_lexer": "r",
   "version": "4.3.2"
  }
 },
 "nbformat": 4,
 "nbformat_minor": 2
}
