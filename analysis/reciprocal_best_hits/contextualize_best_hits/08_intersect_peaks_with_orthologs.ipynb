{
 "cells": [
  {
   "cell_type": "code",
   "execution_count": 19,
   "metadata": {
    "vscode": {
     "languageId": "r"
    }
   },
   "outputs": [],
   "source": [
    "setwd(\"/Users/rebecca/sudmant/analyses/myotis/analysis/reciprocal_best_hits/contextualize_best_hits\")\n",
    "\n",
    "library(data.table)\n",
    "\n",
    "myo_meta <- read.csv(\"../../../data/myotis_meta.csv\")\n",
    "ortho_gene_mapping <- fread(\"../../../data/ortholog_mapping.csv\", data.table = FALSE)\n",
    "scaf_col <- grep(\"^yum\", colnames(ortho_gene_mapping))\n",
    "ortho_gene_mapping[,scaf_col] <- gsub(\"SCAF\", \"SUPER\", ortho_gene_mapping[,scaf_col]) "
   ]
  },
  {
   "cell_type": "code",
   "execution_count": 20,
   "metadata": {
    "vscode": {
     "languageId": "r"
    }
   },
   "outputs": [],
   "source": [
    "for (i in seq_along(1:nrow(myo_meta))) {\n",
    "\n",
    "  spec_id <- tolower(gsub(\"Myotis-\", \"\", myo_meta$Field_Name[i]))\n",
    "  peak_files <- list.files(path = \"resources/peaks\", pattern = paste0(\"^\", myo_meta$Abbr[i], \".*_genes.csv\"))\n",
    "\n",
    "  for(j in seq_along(peak_files)) {\n",
    "\n",
    "    ## Parse gene column:\n",
    "    spec_peaks <- fread(file.path(\"resources/peaks\", peak_files[j]), data.table = FALSE)\n",
    "    spec_peaks <- spec_peaks[spec_peaks$Biotype %in% \"gene\",]\n",
    "    spec_peaks$Gene <- sapply(strsplit(spec_peaks$Gene, \";\", fixed = TRUE), \"[\", 1)\n",
    "    spec_peaks$Gene <- gsub(\"ID=\", paste0(spec_id, \"_\"), spec_peaks$Gene)\n",
    "\n",
    "    ## Intersect best hit genes with orthologous genes:\n",
    "    spec_ortho_peaks <- ortho_gene_mapping[,c(1:3, grep(spec_id, colnames(ortho_gene_mapping))),]\n",
    "    colnames(spec_ortho_peaks)[4] <- \"Gene\"\n",
    "    spec_ortho_peaks <- spec_ortho_peaks[spec_ortho_peaks$Gene %in% spec_peaks$Gene,]\n",
    "    spec_ortho_peaks <- merge(spec_ortho_peaks, spec_peaks, by = \"Gene\", sort = FALSE)\n",
    "    fwrite(spec_ortho_peaks, file = paste0(\n",
    "      \"resources/peaks/\", gsub(\".csv\", \"_orthologs_only.csv\", peak_files[j])\n",
    "    ))\n",
    "\n",
    "  }\n",
    "\n",
    "}"
   ]
  }
 ],
 "metadata": {
  "kernelspec": {
   "display_name": "R",
   "language": "R",
   "name": "ir"
  },
  "language_info": {
   "codemirror_mode": "r",
   "file_extension": ".r",
   "mimetype": "text/x-r-source",
   "name": "R",
   "pygments_lexer": "r",
   "version": "4.3.2"
  }
 },
 "nbformat": 4,
 "nbformat_minor": 2
}
