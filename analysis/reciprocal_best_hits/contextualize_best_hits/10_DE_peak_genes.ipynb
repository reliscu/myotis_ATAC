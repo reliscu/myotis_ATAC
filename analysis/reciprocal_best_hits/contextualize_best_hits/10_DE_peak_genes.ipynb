{
 "cells": [
  {
   "cell_type": "code",
   "execution_count": 1,
   "metadata": {
    "vscode": {
     "languageId": "r"
    }
   },
   "outputs": [
    {
     "name": "stderr",
     "output_type": "stream",
     "text": [
      "\n",
      "Attaching package: 'dplyr'\n",
      "\n",
      "\n",
      "The following objects are masked from 'package:stats':\n",
      "\n",
      "    filter, lag\n",
      "\n",
      "\n",
      "The following objects are masked from 'package:base':\n",
      "\n",
      "    intersect, setdiff, setequal, union\n",
      "\n",
      "\n",
      "\n",
      "Attaching package: 'data.table'\n",
      "\n",
      "\n",
      "The following objects are masked from 'package:dplyr':\n",
      "\n",
      "    between, first, last\n",
      "\n",
      "\n"
     ]
    }
   ],
   "source": [
    "setwd(\"/Users/rebecca/sudmant/analyses/myotis/analysis/reciprocal_best_hits/contextualize_best_hits\")\n",
    "\n",
    "library(dplyr, verbose = FALSE)\n",
    "library(tidyr)\n",
    "library(data.table)\n",
    "\n",
    "myo_meta <- read.csv(\"../../../data/myotis_meta.csv\")"
   ]
  },
  {
   "cell_type": "code",
   "execution_count": 2,
   "metadata": {
    "vscode": {
     "languageId": "r"
    }
   },
   "outputs": [
    {
     "name": "stdout",
     "output_type": "stream",
     "text": [
      "[1] \"Myotis-Auriculus\"\n"
     ]
    }
   ],
   "source": [
    "## How do the genes with differential peaks compare?\n",
    "\n",
    "i = 1\n",
    "# for (i in seq_along(myo_meta$Abbr)) {\n",
    "\n",
    "  print(myo_meta$Field_Name[i])\n",
    "  \n",
    "  inds <- seq_along(myo_meta$Abbr)\n",
    "\n",
    "  spec2_data <- suppressMessages(lapply(inds[inds != i], function(j) {\n",
    "\n",
    "    ## Load in peak data for species 1: \n",
    "    ## peaks in reciprocal regions that intersect orthologous genes\n",
    "    peaks1_genes <- fread(\n",
    "      file.path(\"resources/genes/peaks\", \n",
    "      list.files(path = \"resources/genes/peaks\", pattern = paste0(myo_meta$Abbr[i], \"_vs_\", myo_meta$Abbr[j], \".*_only.csv\"))),\n",
    "      data.table = FALSE\n",
    "    )\n",
    "    peaks1_genes <- peaks1_genes %>%\n",
    "    dplyr::group_by(myotis_ali_fn) %>%\n",
    "    dplyr::slice_max(as.numeric(Intersect_Start)) %>%\n",
    "    dplyr::select(myotis_ali_fn, Peak_ID)\n",
    "\n",
    "    ## Load in gene data for species 1: \n",
    "    ## Species 1 orthologous genes in reciprocal best hit regions\n",
    "    hits1_genes <- fread(\n",
    "      file.path(\"resources/genes\", \n",
    "      list.files(path = \"resources/genes\", pattern = paste0(myo_meta$Abbr[i], \"_vs_\", myo_meta$Abbr[j], \".*_only.csv\"))),\n",
    "      data.table = FALSE\n",
    "    )\n",
    "    hits1_genes <- hits1_genes %>%\n",
    "      dplyr::mutate(Reciprocal_Seq = paste(Chr, Reciprocal_Start, Reciprocal_End)) %>%\n",
    "      dplyr::group_by(Chr, myotis_ali_fn, Reciprocal_Seq) %>%\n",
    "      dplyr::summarise(human_gene_name = unique(human_gene_name))\n",
    "\n",
    "    ## Load in peak data for species 2: \n",
    "    ## peaks in reciprocal regions that intersect orthologous genes\n",
    "    peaks2_genes <- fread(\n",
    "      file.path(\"resources/genes/peaks\", \n",
    "      list.files(path = \"resources/genes/peaks\", pattern = paste0(myo_meta$Abbr[j], \"_vs_\", myo_meta$Abbr[i], \".*_only.csv\"))),\n",
    "      data.table = FALSE\n",
    "    )\n",
    "    peaks2_genes <- peaks2_genes %>%\n",
    "      dplyr::group_by(myotis_ali_fn) %>%\n",
    "      dplyr::slice_max(as.numeric(Intersect_Start)) %>%\n",
    "      dplyr::select(Peak_ID)\n",
    "\n",
    "    ## Load in gene data for species 2: \n",
    "    ## Species 1 orthologous genes in reciprocal best hit regions\n",
    "    hits2_genes <- fread(\n",
    "      file.path(\"resources/genes\", \n",
    "      list.files(path = \"resources/genes\", pattern = paste0(myo_meta$Abbr[j], \"_vs_\", myo_meta$Abbr[i], \".*_only.csv\"))),\n",
    "      data.table = FALSE\n",
    "    )\n",
    "    hits2_genes <- hits2_genes %>%\n",
    "      dplyr::mutate(Reciprocal_Seq = paste(Chr, Reciprocal_Start, Reciprocal_End)) %>%\n",
    "      dplyr::group_by(Chr, myotis_ali_fn, Reciprocal_Seq) %>%\n",
    "      dplyr::summarise(human_gene_name = unique(human_gene_name))\n",
    "\n",
    "    ## Genes not present in peak file implies no peak at that location:\n",
    "    hits1_status <- merge(hits1_genes, peaks1_genes, by = \"myotis_ali_fn\", all.x = TRUE)\n",
    "    hits1_status$Peak <- TRUE\n",
    "    hits1_status$Peak[is.na(hits1_status$Peak_ID)] <- FALSE\n",
    "    hits2_status <- merge(hits2_genes, peaks2_genes, by = \"myotis_ali_fn\", all.x = TRUE)\n",
    "    hits2_status$Peak <- TRUE\n",
    "    hits2_status$Peak[is.na(hits2_status$Peak_ID)] <- FALSE\n",
    "\n",
    "    ## Subset to orthologous genes present in both species:\n",
    "    hits1_status <- hits1_status[hits1_status$myotis_ali_fn %in% hits2_status$myotis_ali_fn,]\n",
    "    hits2_status <- hits2_status[match(hits1_status$myotis_ali_fn, hits2_status$myotis_ali_fn),]\n",
    "    if (!identical(hits2_status$myotis_ali_fn, hits1_status$myotis_ali_fn)) {\n",
    "      print(paste(i, j))\n",
    "      stop(\"Genes do not match between species\")\n",
    "    }\n",
    "\n",
    "    ## What genes are differentially accessible?\n",
    "    return(unique(hits1_status$human_gene_name))\n",
    "    \n",
    "  }))\n",
    "\n",
    "names(spec2_data) <- myo_meta$Abbr[inds[inds != i]]"
   ]
  },
  {
   "cell_type": "code",
   "execution_count": null,
   "metadata": {
    "vscode": {
     "languageId": "r"
    }
   },
   "outputs": [],
   "source": [
    "# jaccard_index <- function(x, y) {\n",
    "  \n",
    "#   intrsct <- length(intersect(x, y))\n",
    "#   union <- length(x) + length(y) - intrsct\n",
    "#   return(intrsct/union)\n",
    "  \n",
    "# }\n",
    "# jac_idx <- lapply(list, function(x) unlist(lapply(list, function(y){jaccard_index(x, y)*100})))\n",
    "# mat <- do.call(cbind, jac_idx)"
   ]
  },
  {
   "cell_type": "code",
   "execution_count": 15,
   "metadata": {
    "vscode": {
     "languageId": "r"
    }
   },
   "outputs": [
    {
     "data": {
      "text/plain": [
       "         ind\n",
       "values    mMyoCai mMyoEvo mMyoLuc mMyoOcc mMyoThy mMyoVel mMyoVol mMyoYum\n",
       "  A1BG          1       0       0       0       1       1       0       0\n",
       "  A1CF          1       1       0       0       1       1       1       0\n",
       "  A2M           0       1       0       0       1       1       0       0\n",
       "  A2ML1         0       1       0       0       1       1       0       0\n",
       "  A3GALT2       0       1       1       1       1       1       0       1\n",
       "  A4GALT        0       1       1       0       1       1       0       0"
      ]
     },
     "metadata": {},
     "output_type": "display_data"
    }
   ],
   "source": [
    "head(table(stack(spec2_data)))"
   ]
  },
  {
   "cell_type": "code",
   "execution_count": null,
   "metadata": {
    "vscode": {
     "languageId": "r"
    }
   },
   "outputs": [],
   "source": [
    "  df <- do.call(rbind, spec2_data)\n",
    "  df$Species <- gsub(\"Myotis-\", \"\", df$Species)\n",
    "  df$Is_Peak_Shared <- factor(df$Is_Peak_Shared, levels = c(TRUE, FALSE))\n",
    "\n",
    "  pdf(file = paste0(\"results/\", myo_meta$Abbr[i], \"_orthologous_gene_differential_peaks.pdf\"), width = 7, height = 7)\n",
    "\n",
    "  spec_order <- df %>%\n",
    "    dplyr::filter(Is_Peak_Shared == FALSE) %>%\n",
    "    dplyr::arrange(desc(Frac_Peaks))  \n",
    "\n",
    "  df$Species <- factor(df$Species, levels = spec_order$Species)\n",
    "\n",
    "  print(\n",
    "    ggplot(df, aes(x = Species, y = Frac_Peaks, fill = Is_Peak_Shared)) +\n",
    "    geom_bar(stat = \"identity\", color = \"black\") +\n",
    "    theme_minimal() +\n",
    "    theme(plot.subtitle = element_text(margin = margin(b = 10)), \n",
    "          axis.title.x = element_blank(),\n",
    "          axis.text.x = element_text(margin = margin(t = -10, b = 10), size = 11, angle = 45, hjust = 1),\n",
    "          axis.title.y = element_text(margin = margin(r = 15)),\n",
    "          axis.text.y = element_text(size = 11),\n",
    "          axis.ticks.y = element_line(color = \"black\"),\n",
    "          legend.position = \"bottom\",\n",
    "          legend.direction = \"horizontal\",\n",
    "          panel.grid = element_blank(),\n",
    "          plot.margin = unit(c(1, 1, 1, 1), \"cm\")) +\n",
    "    labs(title = myo_meta$Field_Name[i], subtitle = \"Peak status in orthologous genes\") +\n",
    "    ylab(paste(\"Fraction of genes\\n(present in both species)\")) +\n",
    "    scale_fill_manual(name = \"Is peak conserved between species?\", values = brewer.pal(3, \"Paired\"))\n",
    "  )\n",
    "  \n",
    "  spec_order <- df %>%\n",
    "    dplyr::filter(Is_Peak_Shared == TRUE) %>%\n",
    "    dplyr::arrange(desc(No.Peaks))  \n",
    "\n",
    "  df$Species <- factor(df$Species, levels = spec_order$Species)\n",
    "\n",
    "  print(\n",
    "    ggplot(df, aes(x = Species, y = No.Peaks, fill = Is_Peak_Shared)) +\n",
    "    geom_bar(stat = \"identity\", position = \"dodge\", color = \"black\") +\n",
    "    theme_minimal() +\n",
    "    theme(plot.subtitle = element_text(margin = margin(b = 10)), \n",
    "          axis.title.x = element_blank(),\n",
    "          axis.text.x = element_text(margin = margin(t = -10, b = 10), size = 11, angle = 45, hjust = 1),\n",
    "          axis.title.y = element_text(margin = margin(r = 15)),\n",
    "          axis.text.y = element_text(size = 11),\n",
    "          axis.ticks.y = element_line(color = \"black\"),\n",
    "          legend.position = \"bottom\",\n",
    "          legend.direction = \"horizontal\",\n",
    "          panel.grid = element_blank(),\n",
    "          plot.margin = unit(c(1, 1, 1, 1), \"cm\")) +\n",
    "    labs(title = myo_meta$Field_Name[i], subtitle = \"Peak status in orthologous genes\") +\n",
    "    ylab(paste(\"# genes\")) +\n",
    "    scale_y_continuous(labels = comma) +\n",
    "    scale_fill_manual(name = \"Is peak conserved between species?\", values = brewer.pal(3, \"Paired\"))\n",
    "  )  \n",
    "\n",
    "  df <- df[df$Is_Peak_Shared == FALSE,]\n",
    "\n",
    "  print(\n",
    "    ggplot(df, aes(x = Frac_Peaks, y = Cor)) +\n",
    "    geom_point() +\n",
    "    geom_text_repel(aes(label = Species), size = 4) +\n",
    "    theme_minimal() +\n",
    "    theme(axis.title.x = element_text(size = 12, margin = margin(t = 15)),\n",
    "          axis.text.x = element_text(size = 11),\n",
    "          axis.title.y = element_text(size = 12, margin = margin(r = 15)),\n",
    "          axis.text.y = element_text(size = 11),\n",
    "          axis.ticks.y = element_line(color = \"black\"),\n",
    "          legend.position = \"bottom\",\n",
    "          legend.direction = \"horizontal\",\n",
    "          plot.margin = unit(c(1, 1, 1, 1), \"cm\")) +\n",
    "    labs(title = myo_meta$Field_Name[i], subtitle = \"Peak status in orthologous genes\") +\n",
    "    xlab(\"Fraction of genes with differential peak status\") +\n",
    "    ylab(\"Correlation between peaks status\")\n",
    "  )\n",
    "\n",
    "  dev.off()\n",
    "\n",
    "# }"
   ]
  }
 ],
 "metadata": {
  "kernelspec": {
   "display_name": "R",
   "language": "R",
   "name": "ir"
  },
  "language_info": {
   "codemirror_mode": "r",
   "file_extension": ".r",
   "mimetype": "text/x-r-source",
   "name": "R",
   "pygments_lexer": "r",
   "version": "4.3.2"
  }
 },
 "nbformat": 4,
 "nbformat_minor": 2
}
