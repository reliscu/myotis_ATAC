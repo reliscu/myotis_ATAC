{
 "cells": [
  {
   "cell_type": "code",
   "execution_count": 65,
   "metadata": {
    "vscode": {
     "languageId": "r"
    }
   },
   "outputs": [],
   "source": [
    "setwd(\"/Users/rebecca/sudmant/analyses/myotis/analysis/reciprocal_best_hits/contextualize_best_hits\")\n",
    "\n",
    "library(data.table)\n",
    "\n",
    "myo_meta <- read.csv(\"../../../data/myotis_meta.csv\")\n",
    "ortho_gene_mapping <- fread(\"../../../data/ortholog_mapping.csv\", data.table = FALSE)\n",
    "scaf_col <- grep(\"^yum\", colnames(ortho_gene_mapping))\n",
    "ortho_gene_mapping[,scaf_col] <- gsub(\"SCAF\", \"SUPER\", ortho_gene_mapping[,scaf_col]) "
   ]
  },
  {
   "cell_type": "code",
   "execution_count": 66,
   "metadata": {
    "vscode": {
     "languageId": "r"
    }
   },
   "outputs": [
    {
     "name": "stdout",
     "output_type": "stream",
     "text": [
      "[1] \"Myotis-Auriculus\"\n",
      "[1] \"Myotis-Lucifugus\"\n",
      "[1] \"Myotis-Velifer\"\n",
      "[1] \"Myotis-Californicus\"\n",
      "[1] \"Myotis-Occultus\"\n",
      "[1] \"Myotis-Volans\"\n",
      "[1] \"Myotis-Evotis\"\n",
      "[1] \"Myotis-Thysanodes\"\n",
      "[1] \"Myotis-Yumanensis\"\n"
     ]
    }
   ],
   "source": [
    "for (i in seq_along(1:nrow(myo_meta))) {\n",
    "\n",
    "  spec_id <- tolower(gsub(\"Myotis-\", \"\", myo_meta$Field_Name[i]))\n",
    "  species_files <- list.files(path = \"resources\", pattern = paste0(\"^\", myo_meta$Abbr[i], \"gene_annotations\"))\n",
    "\n",
    "  for(j in seq_along(species_files)) {\n",
    "\n",
    "    species_genes <- fread(file.path(\"resources\", species_files[j]), data.table = FALSE)\n",
    "    species_genes <- species_genes[species_genes$V3 %in% \"gene\",]\n",
    "    species_genes$Gene <- sapply(strsplit(species_genes$V9, \";\", fixed = TRUE), \"[\", 1)\n",
    "    species_genes$Gene <- gsub(\"ID=\", paste0(spec_id, \"_\"), species_genes$Gene)\n",
    "\n",
    "    species_gene_mapping <- ortho_gene_mapping[,c(1:3, grep(spec_id, colnames(ortho_gene_mapping))),]\n",
    "    colnames(species_gene_mapping)[4] <- \"Gene\"\n",
    "    species_gene_mapping <- species_gene_mapping[species_gene_mapping$Gene %in% species_genes$Gene,]\n",
    "    species_gene_mapping <- merge(species_gene_mapping, species_genes, by = \"Gene\", sort = FALSE)\n",
    "    fwrite(species_gene_mapping, file = paste0(\n",
    "      \"resources/\", gsub(\"best_hits_gene_annotations.tsv\", \"best_hit_orthologous_genes.csv\", species_files[j])\n",
    "    ))\n",
    "\n",
    "  }\n",
    "\n",
    "}"
   ]
  }
 ],
 "metadata": {
  "kernelspec": {
   "display_name": "R",
   "language": "R",
   "name": "ir"
  },
  "language_info": {
   "codemirror_mode": "r",
   "file_extension": ".r",
   "mimetype": "text/x-r-source",
   "name": "R",
   "pygments_lexer": "r",
   "version": "4.3.2"
  }
 },
 "nbformat": 4,
 "nbformat_minor": 2
}
